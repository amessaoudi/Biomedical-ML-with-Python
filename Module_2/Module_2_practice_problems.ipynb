{
 "cells": [
  {
   "cell_type": "markdown",
   "id": "e66446ff",
   "metadata": {},
   "source": [
    "# Module \\#2 Practice Problems"
   ]
  },
  {
   "cell_type": "markdown",
   "id": "c4ec4620",
   "metadata": {},
   "source": [
    "## Challenge problems\n",
    "\n",
    "These problems will test the depth of your knowledge on the concepts covered in the course so far, and give you an opportunity to troubleshoot semi-realistic coding scenarios. They are designed to be difficult. It is not expected that you will be able to solve them all, but you will learn a lot by trying. \n",
    "\n",
    "*Hint*: When you get stuck, Google is your friend!"
   ]
  },
  {
   "cell_type": "markdown",
   "id": "34ddeb49",
   "metadata": {},
   "source": [
    "1. Fix the following code so that it no longer produces a `TypeError`:"
   ]
  },
  {
   "cell_type": "code",
   "execution_count": null,
   "id": "91bdb983",
   "metadata": {},
   "outputs": [],
   "source": [
    "def print_age(age):\n",
    "    print(\"You are \" + age + \" years young!\")\n",
    "    \n",
    "print_age(29)"
   ]
  },
  {
   "cell_type": "markdown",
   "id": "0b34b93a",
   "metadata": {},
   "source": [
    "2. Write a function that returns the 3 largest and 2 smallest values in a list. **Hint:** Remember `.sort()` "
   ]
  },
  {
   "cell_type": "code",
   "execution_count": null,
   "id": "c251d543",
   "metadata": {},
   "outputs": [],
   "source": [
    "# Complete the function\n",
    "def large3_small2(lst):\n",
    "    ____________________\n",
    "    ____________________\n",
    "\n",
    "# Test the function on some data\n",
    "my_lst = [5**3, 7**2**3, 2**-1, 7**2**-1**3, 8**2, 3**4, 9*2, 1888*.5, 8383*.25, 28*1.15, 29*-2**4]\n",
    "result = large3_small2(my_lst)  # Should return three largest and two smallest values\n",
    "print(result)"
   ]
  },
  {
   "cell_type": "markdown",
   "id": "de35a7eb",
   "metadata": {},
   "source": [
    "3. What value for `a` will cause `if_function()` to return `\"Hello world!\"`? *Hint*: Experiment with the code and see if you can figure it out!"
   ]
  },
  {
   "cell_type": "code",
   "execution_count": null,
   "id": "a5689473",
   "metadata": {},
   "outputs": [],
   "source": [
    "def if_function(a):\n",
    "    \n",
    "    # This part is checking whether 'a' is an int and returning a TypeError if not\n",
    "    if type(a) != int:\n",
    "        raise TypeError(\"Oh No! 'a' is not an 'int'!! What will you do?\")\n",
    "    \n",
    "    # If `a` is `int`, continue\n",
    "    if a > 20:\n",
    "        result = \"'a' greater than 20\"\n",
    "    elif a in range(0, 20):  \n",
    "        result = \"'a' between 0 and 20!\"\n",
    "    elif a < 0:\n",
    "        result = \"'a' is less than 0!\"\n",
    "    else:\n",
    "        result = \"Hello world!\"\n",
    "    \n",
    "    return result\n"
   ]
  },
  {
   "cell_type": "code",
   "execution_count": null,
   "id": "c53cf4be",
   "metadata": {},
   "outputs": [],
   "source": [
    "a = ____  # Choose a value of 'a' that will return 'Hello World!' from if_function()\n",
    "if_function(a)  "
   ]
  },
  {
   "cell_type": "markdown",
   "id": "2931dda5",
   "metadata": {},
   "source": [
    "4. Given the radius of a circle, write a function, `analyze_circle()`, which returns the circumference and area in a dictionary."
   ]
  },
  {
   "cell_type": "markdown",
   "id": "97a7aef6",
   "metadata": {},
   "source": [
    "5. Given the text of Jane Austen's \"Pride and Prejudice\" novel (`pride_and_prejudice.txt`), determine the number of times the word `the` appears."
   ]
  },
  {
   "cell_type": "code",
   "execution_count": null,
   "id": "ce733240",
   "metadata": {},
   "outputs": [],
   "source": [
    "file = open(\"pride_and_prejudicetxt.txt\", \"r\", encoding=\"utf8\")\n",
    "text = file.read()\n",
    "words = text.split()\n",
    "\n",
    "# A list containing all the words in the novel\n",
    "words\n",
    "\n",
    "# How many times does \"the\" appear?"
   ]
  },
  {
   "cell_type": "markdown",
   "id": "80594b2c",
   "metadata": {},
   "source": [
    "6. (Continuing from \\#5) Construct a frequency table as a DataFrame for all words in the novel. It should have two columns \"word\" and \"count\" and should include every word in the novel. It should also be sorted by \"count\" so that the most frequent word appears first. "
   ]
  }
 ],
 "metadata": {
  "kernelspec": {
   "display_name": "Python 3",
   "language": "python",
   "name": "python3"
  },
  "language_info": {
   "codemirror_mode": {
    "name": "ipython",
    "version": 3
   },
   "file_extension": ".py",
   "mimetype": "text/x-python",
   "name": "python",
   "nbconvert_exporter": "python",
   "pygments_lexer": "ipython3",
   "version": "3.8.8"
  }
 },
 "nbformat": 4,
 "nbformat_minor": 5
}
