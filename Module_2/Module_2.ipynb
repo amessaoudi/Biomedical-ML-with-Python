{
 "cells": [
  {
   "cell_type": "markdown",
   "id": "554dc169",
   "metadata": {},
   "source": [
    "# Module \\#2 - Intermediate Python"
   ]
  },
  {
   "cell_type": "markdown",
   "id": "60502a15",
   "metadata": {},
   "source": [
    "## Dictionaries\n",
    "\n",
    "Dictionaries are the core data type of the python language. Unlike lists, dictionaries are **unordered** and accessed using keys rather than using numerical indices. This workshop will not describe dictionaries in detail, but you can refer to the W3 schools guide [here](https://www.w3schools.com/python/python_dictionaries.asp) for more info. "
   ]
  },
  {
   "cell_type": "code",
   "execution_count": 112,
   "id": "ef5675d8",
   "metadata": {},
   "outputs": [
    {
     "data": {
      "text/plain": [
       "{'hello': 1}"
      ]
     },
     "execution_count": 112,
     "metadata": {},
     "output_type": "execute_result"
    }
   ],
   "source": [
    "# Create a dict using key-value pairs between {}\n",
    "my_dict = {\n",
    "    'hello': 1\n",
    "}\n",
    "my_dict"
   ]
  },
  {
   "cell_type": "code",
   "execution_count": 113,
   "id": "af09d5c1",
   "metadata": {},
   "outputs": [
    {
     "data": {
      "text/plain": [
       "1"
      ]
     },
     "execution_count": 113,
     "metadata": {},
     "output_type": "execute_result"
    }
   ],
   "source": [
    "# Access the value in a dict using keys\n",
    "my_dict['hello']"
   ]
  },
  {
   "cell_type": "code",
   "execution_count": 114,
   "id": "9318faa0",
   "metadata": {},
   "outputs": [
    {
     "data": {
      "text/plain": [
       "{'hello': 1, 'world': True, 123: [1, 2, ['Hello world']], True: {'New': True}}"
      ]
     },
     "execution_count": 114,
     "metadata": {},
     "output_type": "execute_result"
    }
   ],
   "source": [
    "# Dictionaries can have numerical, string, and boolean keys. They can hold any number of arbitrary object types.\n",
    "my_dict = {\n",
    "    'hello': 1,\n",
    "    'world': True,\n",
    "    123: [1, 2, [\"Hello world\"]],\n",
    "    True: {\n",
    "        \"New\": True\n",
    "    }\n",
    "}\n",
    "my_dict"
   ]
  },
  {
   "cell_type": "code",
   "execution_count": 115,
   "id": "75b22e97",
   "metadata": {},
   "outputs": [
    {
     "data": {
      "text/plain": [
       "{'New': True}"
      ]
     },
     "execution_count": 115,
     "metadata": {},
     "output_type": "execute_result"
    }
   ],
   "source": [
    "my_dict[True]"
   ]
  },
  {
   "cell_type": "markdown",
   "id": "09d90bd3",
   "metadata": {},
   "source": [
    "## Sets and Tuples\n",
    "\n",
    "Sets and tuples are also used in python. Discussing them is outside the scope of this workshop. For more information please refer to the following:\n",
    "\n",
    "1. Sets - [here](https://www.w3schools.com/python/python_sets.asp)\n",
    "2. Tuples - [here]()"
   ]
  },
  {
   "cell_type": "markdown",
   "id": "e89f7e36",
   "metadata": {},
   "source": [
    "## Numpy arrays\n",
    "\n",
    "`numpy` is a python package that provides complex data types for performing mathematical operations. In particular, numpy provides the `array` data type which is similar to the `matrix` in R. \n",
    "\n",
    "Before arrays can be constructed it is necessary to load the numpy library in Python. We can accomplish this using an import statement (below). This loads the `numpy` library as an object called `np` into python. "
   ]
  },
  {
   "cell_type": "code",
   "execution_count": 80,
   "id": "51a94b8c",
   "metadata": {},
   "outputs": [
    {
     "name": "stdout",
     "output_type": "stream",
     "text": [
      "Requirement already satisfied: numpy in c:\\users\\mille\\anaconda3\\lib\\site-packages (1.20.1)\n"
     ]
    }
   ],
   "source": [
    "!pip install numpy"
   ]
  },
  {
   "cell_type": "code",
   "execution_count": 118,
   "id": "30cc9861",
   "metadata": {},
   "outputs": [],
   "source": [
    "import numpy"
   ]
  },
  {
   "cell_type": "markdown",
   "id": "e2bcf008",
   "metadata": {},
   "source": [
    "Libraries (aka \"packages\") in python are actually a type of object called a `module`."
   ]
  },
  {
   "cell_type": "code",
   "execution_count": 119,
   "id": "04249eff",
   "metadata": {},
   "outputs": [
    {
     "data": {
      "text/plain": [
       "module"
      ]
     },
     "execution_count": 119,
     "metadata": {},
     "output_type": "execute_result"
    }
   ],
   "source": [
    "type(numpy)"
   ]
  },
  {
   "cell_type": "markdown",
   "id": "d4baa02e",
   "metadata": {},
   "source": [
    "Just like other objects, they have properties and methods. We typically load modules into python because we want to use the methods they contain. As a reminder, you can access an object's methods using the `<object>.<method>()` notation. For the `numpy` module, the method we are most interested is the `array()` method -- this is what we can use to construct an `array` object."
   ]
  },
  {
   "cell_type": "code",
   "execution_count": 120,
   "id": "3f992f4b",
   "metadata": {},
   "outputs": [
    {
     "data": {
      "text/plain": [
       "array([1, 2, 3])"
      ]
     },
     "execution_count": 120,
     "metadata": {},
     "output_type": "execute_result"
    }
   ],
   "source": [
    "# Create a 1-dimensional (1d) array holding the values 1, 2, and 3\n",
    "numpy.array([1, 2, 3])"
   ]
  },
  {
   "cell_type": "markdown",
   "id": "9990e327",
   "metadata": {},
   "source": [
    "We can create 2-dimensional arrays by adding lists of lists:"
   ]
  },
  {
   "cell_type": "code",
   "execution_count": 122,
   "id": "8a42af0b",
   "metadata": {},
   "outputs": [
    {
     "data": {
      "text/plain": [
       "array([[1, 2, 3],\n",
       "       [4, 5, 6]])"
      ]
     },
     "execution_count": 122,
     "metadata": {},
     "output_type": "execute_result"
    }
   ],
   "source": [
    "# Construct a 2d array\n",
    "numpy.array([\n",
    "    [1, 2, 3],\n",
    "    [4, 5, 6]\n",
    "])"
   ]
  },
  {
   "cell_type": "markdown",
   "id": "e2a3fff4",
   "metadata": {},
   "source": [
    "We can even create a 3-dimension array (and beyond) using lists of lists of lists (etc). "
   ]
  },
  {
   "cell_type": "code",
   "execution_count": 123,
   "id": "617d4702",
   "metadata": {},
   "outputs": [
    {
     "data": {
      "text/plain": [
       "array([[[ 1,  2,  3],\n",
       "        [ 4,  5,  6]],\n",
       "\n",
       "       [[ 7,  8,  9],\n",
       "        [10, 11, 12]]])"
      ]
     },
     "execution_count": 123,
     "metadata": {},
     "output_type": "execute_result"
    }
   ],
   "source": [
    "# Construct a 3d array\n",
    "numpy.array([\n",
    "    [\n",
    "        [1, 2, 3],\n",
    "        [4, 5, 6]\n",
    "    ],\n",
    "    [\n",
    "        [7, 8, 9],\n",
    "        [10, 11, 12]\n",
    "    ]\n",
    "])"
   ]
  },
  {
   "cell_type": "code",
   "execution_count": 125,
   "id": "006cc718",
   "metadata": {},
   "outputs": [
    {
     "data": {
      "text/plain": [
       "array([1, 2, 3])"
      ]
     },
     "execution_count": 125,
     "metadata": {},
     "output_type": "execute_result"
    }
   ],
   "source": [
    "import numpy as np\n",
    "np.array([1, 2, 3])"
   ]
  },
  {
   "cell_type": "code",
   "execution_count": 126,
   "id": "a0351193",
   "metadata": {},
   "outputs": [
    {
     "data": {
      "text/plain": [
       "array([1, 2, 3])"
      ]
     },
     "execution_count": 126,
     "metadata": {},
     "output_type": "execute_result"
    }
   ],
   "source": [
    "from numpy import array\n",
    "array([1, 2, 3])"
   ]
  },
  {
   "cell_type": "markdown",
   "id": "f0cc2850",
   "metadata": {},
   "source": [
    "### Numpy array methods\n",
    "\n",
    "Many methods are available for `array` objects. An exhaustive reference is available [here](https://numpy.org/doc/stable/reference/index.html). For now, we will discuss a few key methods:\n",
    "\n",
    "1. Creation\n",
    "2. Shape and dimensions\n",
    "3. Accessing elements\n",
    "4. Setting elements\n",
    "5. any / all \n",
    "6. Mathematical operations"
   ]
  },
  {
   "cell_type": "markdown",
   "id": "3b5e6d39",
   "metadata": {},
   "source": [
    "TODO: Include short section on using magic blocks"
   ]
  },
  {
   "cell_type": "markdown",
   "id": "4130dd53",
   "metadata": {},
   "source": [
    "#### Creation\n",
    "\n",
    "Numpy arrays are created in multiple ways. The simplest invovles the use of lists (shown above):"
   ]
  },
  {
   "cell_type": "code",
   "execution_count": 127,
   "id": "05317312",
   "metadata": {},
   "outputs": [
    {
     "data": {
      "text/plain": [
       "array([[ True, False, False],\n",
       "       [False,  True, False]])"
      ]
     },
     "execution_count": 127,
     "metadata": {},
     "output_type": "execute_result"
    }
   ],
   "source": [
    "my_arr = np.array([\n",
    "    [True, False, False],\n",
    "    [False, True, False]\n",
    "])\n",
    "my_arr"
   ]
  },
  {
   "cell_type": "code",
   "execution_count": 128,
   "id": "643496ef",
   "metadata": {},
   "outputs": [
    {
     "data": {
      "text/plain": [
       "numpy.ndarray"
      ]
     },
     "execution_count": 128,
     "metadata": {},
     "output_type": "execute_result"
    }
   ],
   "source": [
    "type(my_arr)"
   ]
  },
  {
   "cell_type": "markdown",
   "id": "13ee0484",
   "metadata": {},
   "source": [
    "Arrays can also be created using the `arange()` method. This method creates a sequential `array` given the max element specified:"
   ]
  },
  {
   "cell_type": "code",
   "execution_count": 132,
   "id": "2e02a26c",
   "metadata": {},
   "outputs": [
    {
     "data": {
      "text/plain": [
       "array([0, 1, 2, 3, 4, 5, 6, 7, 8, 9])"
      ]
     },
     "execution_count": 132,
     "metadata": {},
     "output_type": "execute_result"
    }
   ],
   "source": [
    "# Create a 1d integer array from 0-9\n",
    "my_arr = np.arange(10)\n",
    "my_arr"
   ]
  },
  {
   "cell_type": "code",
   "execution_count": 131,
   "id": "b98d98e7",
   "metadata": {},
   "outputs": [
    {
     "data": {
      "text/plain": [
       "array([10, 11, 12, 13, 14, 15, 16, 17, 18, 19])"
      ]
     },
     "execution_count": 131,
     "metadata": {},
     "output_type": "execute_result"
    }
   ],
   "source": [
    "# Create a 1d integer array from 0-9\n",
    "my_arr = np.arange(10, 20)\n",
    "my_arr"
   ]
  },
  {
   "cell_type": "code",
   "execution_count": 134,
   "id": "708f3760",
   "metadata": {},
   "outputs": [
    {
     "data": {
      "text/plain": [
       "array([10, 15, 20, 25, 30, 35, 40, 45, 50, 55, 60, 65, 70, 75, 80, 85, 90,\n",
       "       95])"
      ]
     },
     "execution_count": 134,
     "metadata": {},
     "output_type": "execute_result"
    }
   ],
   "source": [
    "# Create a 1d integer array from 0-9\n",
    "my_arr = np.arange(10, 100, 5)\n",
    "my_arr"
   ]
  },
  {
   "cell_type": "code",
   "execution_count": 133,
   "id": "231db9ba",
   "metadata": {},
   "outputs": [
    {
     "data": {
      "text/plain": [
       "array([0., 1., 2., 3., 4., 5., 6., 7., 8., 9.])"
      ]
     },
     "execution_count": 133,
     "metadata": {},
     "output_type": "execute_result"
    }
   ],
   "source": [
    "# Create a 1d float array from 0.0-9.0\n",
    "my_arr = np.arange(10.0)\n",
    "my_arr"
   ]
  },
  {
   "cell_type": "markdown",
   "id": "038f59f8",
   "metadata": {},
   "source": [
    "#### Shape and dimensions\n",
    "\n",
    "`numpy` arrays have a number of dimensions and a shape. Note that these are properties, not methods. They are accessed using this pattern: `<object>.<property_name>` as follows:"
   ]
  },
  {
   "cell_type": "code",
   "execution_count": 135,
   "id": "8110c782",
   "metadata": {},
   "outputs": [],
   "source": [
    "# Construct 2d array\n",
    "my_arr = np.array([\n",
    "    [True, False, False],\n",
    "    [False, True, False]\n",
    "])"
   ]
  },
  {
   "cell_type": "code",
   "execution_count": 136,
   "id": "3d591455",
   "metadata": {},
   "outputs": [
    {
     "data": {
      "text/plain": [
       "2"
      ]
     },
     "execution_count": 136,
     "metadata": {},
     "output_type": "execute_result"
    }
   ],
   "source": [
    "# Get number of dimensions property\n",
    "my_arr.ndim"
   ]
  },
  {
   "cell_type": "code",
   "execution_count": 137,
   "id": "63f04958",
   "metadata": {},
   "outputs": [
    {
     "data": {
      "text/plain": [
       "(2, 3)"
      ]
     },
     "execution_count": 137,
     "metadata": {},
     "output_type": "execute_result"
    }
   ],
   "source": [
    "# Get the shape property (number of rows, number of columns)\n",
    "my_arr.shape"
   ]
  },
  {
   "cell_type": "code",
   "execution_count": 139,
   "id": "299a1009",
   "metadata": {},
   "outputs": [
    {
     "data": {
      "text/plain": [
       "(2, 2, 3)"
      ]
     },
     "execution_count": 139,
     "metadata": {},
     "output_type": "execute_result"
    }
   ],
   "source": [
    "# Construct a 3d array\n",
    "arr_3d = np.array([\n",
    "    [\n",
    "        [1, 2, 3],\n",
    "        [4, 5, 6]\n",
    "    ],\n",
    "    [\n",
    "        [7, 8, 9],\n",
    "        [10, 11, 12]\n",
    "    ]\n",
    "])\n",
    "\n",
    "# Get the shape (number of 2d arrays, number of rows, number of columns)\n",
    "arr_3d.shape"
   ]
  },
  {
   "cell_type": "markdown",
   "id": "1ec20a86",
   "metadata": {},
   "source": [
    "Finally, the shape of an array can be altered using the `reshape()` method. This is particularly useful for quickly constructing arrays of a desired shape:"
   ]
  },
  {
   "cell_type": "code",
   "execution_count": 140,
   "id": "17474d7d",
   "metadata": {},
   "outputs": [],
   "source": [
    "my_arr = np.arange(15)\n",
    "my_arr = my_arr.reshape((5, 3))  # Note that this does NOT overwrite the my_arr object until you re-assign using '='"
   ]
  },
  {
   "cell_type": "code",
   "execution_count": 141,
   "id": "92116fa0",
   "metadata": {},
   "outputs": [
    {
     "data": {
      "text/plain": [
       "array([[ 0,  1,  2],\n",
       "       [ 3,  4,  5],\n",
       "       [ 6,  7,  8],\n",
       "       [ 9, 10, 11],\n",
       "       [12, 13, 14]])"
      ]
     },
     "execution_count": 141,
     "metadata": {},
     "output_type": "execute_result"
    }
   ],
   "source": [
    "my_arr"
   ]
  },
  {
   "cell_type": "markdown",
   "id": "8962b07d",
   "metadata": {},
   "source": [
    "The above can be simplified in 1 line of code:"
   ]
  },
  {
   "cell_type": "code",
   "execution_count": 142,
   "id": "938d4e6b",
   "metadata": {},
   "outputs": [
    {
     "data": {
      "text/plain": [
       "array([[ 0,  1,  2],\n",
       "       [ 3,  4,  5],\n",
       "       [ 6,  7,  8],\n",
       "       [ 9, 10, 11],\n",
       "       [12, 13, 14]])"
      ]
     },
     "execution_count": 142,
     "metadata": {},
     "output_type": "execute_result"
    }
   ],
   "source": [
    "my_arr = np.arange(15).reshape((5, 3))\n",
    "my_arr"
   ]
  },
  {
   "cell_type": "markdown",
   "id": "73aa7989",
   "metadata": {},
   "source": [
    "#### Accessing elements\n",
    "\n",
    "Elements can be accessed using several approaches. \n",
    "\n",
    "1. Numerical\n",
    "2. Logical\n",
    "\n",
    "For the **Numerical** approach, numerical indices are utilized using the pattern suited to their shape:"
   ]
  },
  {
   "cell_type": "code",
   "execution_count": 143,
   "id": "070ef544",
   "metadata": {},
   "outputs": [
    {
     "name": "stdout",
     "output_type": "stream",
     "text": [
      "[3 8 1 5]\n"
     ]
    },
    {
     "data": {
      "text/plain": [
       "8"
      ]
     },
     "execution_count": 143,
     "metadata": {},
     "output_type": "execute_result"
    }
   ],
   "source": [
    "# For a 1D array, similar to list\n",
    "my_arr = np.array([3, 8, 1, 5])\n",
    "print(my_arr)\n",
    "my_arr[1]  # Get the 2nd element of the first (and only) dimension"
   ]
  },
  {
   "cell_type": "code",
   "execution_count": 144,
   "id": "5ab90f62",
   "metadata": {},
   "outputs": [
    {
     "name": "stdout",
     "output_type": "stream",
     "text": [
      "[[5 7 4 6]\n",
      " [2 1 9 8]]\n"
     ]
    },
    {
     "data": {
      "text/plain": [
       "7"
      ]
     },
     "execution_count": 144,
     "metadata": {},
     "output_type": "execute_result"
    }
   ],
   "source": [
    "# For a 2D array, the pattern is array[dim2_index, dim1_index]\n",
    "my_arr = np.array([\n",
    "    [5, 7, 4, 6],\n",
    "    [2, 1, 9, 8]\n",
    "])\n",
    "print(my_arr)\n",
    "my_arr[0, 1]  # First element in dim 2 (row 0) and second element in dim 1 (column 2)"
   ]
  },
  {
   "cell_type": "code",
   "execution_count": 176,
   "id": "759d0ae8",
   "metadata": {},
   "outputs": [
    {
     "name": "stdout",
     "output_type": "stream",
     "text": [
      "[[[  0   1   2   3   4]\n",
      "  [  5   6   7   8   9]\n",
      "  [ 10  11  12  13  14]\n",
      "  [ 15  16  17  18  19]\n",
      "  [ 20  21  22  23  24]]\n",
      "\n",
      " [[ 25  26  27  28  29]\n",
      "  [ 30  31  32  33  34]\n",
      "  [ 35  36  37  38  39]\n",
      "  [ 40  41  42  43  44]\n",
      "  [ 45  46  47  48  49]]\n",
      "\n",
      " [[ 50  51  52  53  54]\n",
      "  [ 55  56  57  58  59]\n",
      "  [ 60  61  62  63  64]\n",
      "  [ 65  66  67  68  69]\n",
      "  [ 70  71  72  73  74]]\n",
      "\n",
      " [[ 75  76  77  78  79]\n",
      "  [ 80  81  82  83  84]\n",
      "  [ 85  86  87  88  89]\n",
      "  [ 90  91  92  93  94]\n",
      "  [ 95  96  97  98  99]]\n",
      "\n",
      " [[100 101 102 103 104]\n",
      "  [105 106 107 108 109]\n",
      "  [110 111 112 113 114]\n",
      "  [115 116 117 118 119]\n",
      "  [120 121 122 123 124]]]\n"
     ]
    },
    {
     "data": {
      "text/plain": [
       "66"
      ]
     },
     "execution_count": 176,
     "metadata": {},
     "output_type": "execute_result"
    }
   ],
   "source": [
    "# For an n-dimensional array, the pattern is the same: array[dimN_index, dimN-1_index, dimN-2_index..., dim1_index]\n",
    "my_arr = np.arange(125).reshape((5, 5, 5))\n",
    "print(my_arr)\n",
    "my_arr[2, 3, 1]  # 3rd element in dim 1 (matrix 3), 4th element in dim 2 (row 4), 2nd element in dim 3 (column 2)"
   ]
  },
  {
   "cell_type": "markdown",
   "id": "287898c0",
   "metadata": {},
   "source": [
    "For the **Logical** approach, we can use a boolean array to extract the element(s) of interest:"
   ]
  },
  {
   "cell_type": "code",
   "execution_count": 147,
   "id": "aefcc306",
   "metadata": {},
   "outputs": [
    {
     "data": {
      "text/plain": [
       "array([3])"
      ]
     },
     "execution_count": 147,
     "metadata": {},
     "output_type": "execute_result"
    }
   ],
   "source": [
    "num_arr = np.array([1, 2, 3])\n",
    "bool_arr = np.array([False, False, True])\n",
    "num_arr[bool_arr]  #  We access the element of num_arr for which bool_arr is True"
   ]
  },
  {
   "cell_type": "markdown",
   "id": "b355c75a",
   "metadata": {},
   "source": [
    "This approach is extremely powerful when you can use logical operations to create a boolean array:"
   ]
  },
  {
   "cell_type": "code",
   "execution_count": 148,
   "id": "878ce2e2",
   "metadata": {},
   "outputs": [
    {
     "name": "stdout",
     "output_type": "stream",
     "text": [
      "[[ 1  2  3  4  5]\n",
      " [ 6  7  8  9 10]]\n"
     ]
    }
   ],
   "source": [
    "# Create a 2D matrix\n",
    "dataset = np.array([\n",
    "    [1, 2, 3, 4, 5],\n",
    "    [6, 7, 8, 9, 10]\n",
    "])\n",
    "print(dataset)"
   ]
  },
  {
   "cell_type": "code",
   "execution_count": 149,
   "id": "e7e3f0c9",
   "metadata": {},
   "outputs": [
    {
     "name": "stdout",
     "output_type": "stream",
     "text": [
      "[[False False False  True  True]\n",
      " [ True  True  True  True  True]]\n"
     ]
    }
   ],
   "source": [
    "# Create a boolean matrix for this dataset to test where values are greater than 3\n",
    "bools = dataset > 3\n",
    "print(bools)"
   ]
  },
  {
   "cell_type": "code",
   "execution_count": 150,
   "id": "d59e12ef",
   "metadata": {},
   "outputs": [
    {
     "data": {
      "text/plain": [
       "array([ 4,  5,  6,  7,  8,  9, 10])"
      ]
     },
     "execution_count": 150,
     "metadata": {},
     "output_type": "execute_result"
    }
   ],
   "source": [
    "# Extract the value(s) which satisfy this logical operation\n",
    "dataset[bools]"
   ]
  },
  {
   "cell_type": "code",
   "execution_count": 151,
   "id": "3bf20a35",
   "metadata": {},
   "outputs": [
    {
     "name": "stdout",
     "output_type": "stream",
     "text": [
      "[[False False False False  True]\n",
      " [False False False False False]]\n"
     ]
    }
   ],
   "source": [
    "# Create a boolean matrix for this dataset to test where values are equal to 5 using np.equals()\n",
    "bools = np.equal(dataset, 5)\n",
    "print(bools)"
   ]
  },
  {
   "cell_type": "code",
   "execution_count": 152,
   "id": "f0b9b1d3",
   "metadata": {},
   "outputs": [
    {
     "data": {
      "text/plain": [
       "array([5])"
      ]
     },
     "execution_count": 152,
     "metadata": {},
     "output_type": "execute_result"
    }
   ],
   "source": [
    "# Extract the value(s) which satisfy this logical operation\n",
    "dataset[bools]"
   ]
  },
  {
   "cell_type": "code",
   "execution_count": 153,
   "id": "936f80a3",
   "metadata": {},
   "outputs": [
    {
     "name": "stdout",
     "output_type": "stream",
     "text": [
      "[[ True  True False False False]\n",
      " [False False False  True  True]]\n"
     ]
    },
    {
     "data": {
      "text/plain": [
       "array([ 1,  2,  9, 10])"
      ]
     },
     "execution_count": 153,
     "metadata": {},
     "output_type": "execute_result"
    }
   ],
   "source": [
    "# Create a boolean matrix for this dataset to test where values are > 8 or < 3\n",
    "bools = np.logical_or(dataset > 8, dataset < 3)\n",
    "print(bools)\n",
    "# Subset the data using these booleans\n",
    "dataset[bools]"
   ]
  },
  {
   "cell_type": "markdown",
   "id": "8c53e524",
   "metadata": {},
   "source": [
    "Finally, we can use the **where** approach that is a hybrid of these two methods. "
   ]
  },
  {
   "cell_type": "code",
   "execution_count": 154,
   "id": "dd5e4651",
   "metadata": {},
   "outputs": [
    {
     "name": "stdout",
     "output_type": "stream",
     "text": [
      "(array([1, 1, 1, 1], dtype=int64), array([1, 2, 3, 4], dtype=int64))\n"
     ]
    },
    {
     "data": {
      "text/plain": [
       "array([ 7,  8,  9, 10])"
      ]
     },
     "execution_count": 154,
     "metadata": {},
     "output_type": "execute_result"
    }
   ],
   "source": [
    "# Find the numerical indices for values in the dataset > 6\n",
    "indices = np.where(dataset > 6)\n",
    "print(indices)\n",
    "# Subset the data using these indices\n",
    "dataset[indices]"
   ]
  },
  {
   "cell_type": "markdown",
   "id": "0b0ee513",
   "metadata": {},
   "source": [
    "#### Setting elements\n",
    "\n",
    "Just as you can access elements of an array, you can also set them. This can be done with integer and logical indexing. \n",
    "\n",
    "Here is an example with simple integer indexing:"
   ]
  },
  {
   "cell_type": "code",
   "execution_count": 155,
   "id": "a991b6ac",
   "metadata": {},
   "outputs": [
    {
     "name": "stdout",
     "output_type": "stream",
     "text": [
      "[[ 1  2  3  4  5]\n",
      " [ 6  7  8  9 10]]\n"
     ]
    }
   ],
   "source": [
    "# Create a 2D matrix\n",
    "dataset = np.array([\n",
    "    [1, 2, 3, 4, 5],\n",
    "    [6, 7, 8, 9, 10]\n",
    "])\n",
    "print(dataset)"
   ]
  },
  {
   "cell_type": "code",
   "execution_count": 156,
   "id": "179451c0",
   "metadata": {},
   "outputs": [
    {
     "data": {
      "text/plain": [
       "array([[  1,   2,   3,   4,   5],\n",
       "       [  6,   7,   8,   9, 100]])"
      ]
     },
     "execution_count": 156,
     "metadata": {},
     "output_type": "execute_result"
    }
   ],
   "source": [
    "# Change row 2, column 5 to the value 100\n",
    "dataset[1, 4] = 100\n",
    "dataset"
   ]
  },
  {
   "cell_type": "markdown",
   "id": "3afb71ef",
   "metadata": {},
   "source": [
    "You can also use logical indexing to set array values:"
   ]
  },
  {
   "cell_type": "code",
   "execution_count": 157,
   "id": "b94ab152",
   "metadata": {},
   "outputs": [
    {
     "data": {
      "text/plain": [
       "array([[1, 2, 3, 0, 0],\n",
       "       [0, 0, 0, 0, 0]])"
      ]
     },
     "execution_count": 157,
     "metadata": {},
     "output_type": "execute_result"
    }
   ],
   "source": [
    "# Set every value > 3 to 0\n",
    "dataset = np.array([\n",
    "    [1, 2, 3, 4, 5],\n",
    "    [6, 7, 8, 9, 10]\n",
    "])\n",
    "dataset[dataset > 3] = 0 \n",
    "dataset"
   ]
  },
  {
   "cell_type": "markdown",
   "id": "51b0158e",
   "metadata": {},
   "source": [
    "And, finally, you can use the `where()` method:"
   ]
  },
  {
   "cell_type": "code",
   "execution_count": 158,
   "id": "670f37bd",
   "metadata": {},
   "outputs": [
    {
     "data": {
      "text/plain": [
       "array([[-1, -1, -1, -1, -1],\n",
       "       [-1,  7,  8,  9, 10]])"
      ]
     },
     "execution_count": 158,
     "metadata": {},
     "output_type": "execute_result"
    }
   ],
   "source": [
    "# Set all value < 7 to -1\n",
    "dataset = np.array([\n",
    "    [1, 2, 3, 4, 5],\n",
    "    [6, 7, 8, 9, 10]\n",
    "])\n",
    "dataset[np.where(dataset < 7)] = -1\n",
    "dataset"
   ]
  },
  {
   "cell_type": "markdown",
   "id": "f1dae061",
   "metadata": {},
   "source": [
    "#### Any / All\n",
    "\n",
    "`any()` and `all()` are two methods which determine whether an array satisfies a logical condition. `any()` is `True` if any element in the array satisfies the condition. `all()` is `True` if all elements of the array satisfy the condition. Examples:"
   ]
  },
  {
   "cell_type": "code",
   "execution_count": 159,
   "id": "5f9c430e",
   "metadata": {},
   "outputs": [],
   "source": [
    "dataset = np.array([\n",
    "    [1, 2, 3, 4, 5],\n",
    "    [6, 7, 8, 9, 10]\n",
    "])"
   ]
  },
  {
   "cell_type": "code",
   "execution_count": 160,
   "id": "45f6efbb",
   "metadata": {},
   "outputs": [
    {
     "data": {
      "text/plain": [
       "False"
      ]
     },
     "execution_count": 160,
     "metadata": {},
     "output_type": "execute_result"
    }
   ],
   "source": [
    "# Any values equal to 0?\n",
    "np.any(dataset == 0)"
   ]
  },
  {
   "cell_type": "code",
   "execution_count": 161,
   "id": "6fc339db",
   "metadata": {},
   "outputs": [
    {
     "data": {
      "text/plain": [
       "True"
      ]
     },
     "execution_count": 161,
     "metadata": {},
     "output_type": "execute_result"
    }
   ],
   "source": [
    "# All values NOT equal to 0?\n",
    "np.all(dataset != 0)"
   ]
  },
  {
   "cell_type": "markdown",
   "id": "ef5a33cf",
   "metadata": {},
   "source": [
    "#### Mathematical methods\n",
    "\n",
    "Arrays have a large number of built-in mathematic methods. Examples include `sum()` and `mean()`. They can also be used for multi-dimensional algebraic operations, such as matrix multiplication and dot products. Here are a small number of examples:"
   ]
  },
  {
   "cell_type": "code",
   "execution_count": 162,
   "id": "e6853d0c",
   "metadata": {},
   "outputs": [
    {
     "data": {
      "text/plain": [
       "array([[0, 1, 2],\n",
       "       [3, 4, 5],\n",
       "       [6, 7, 8]])"
      ]
     },
     "execution_count": 162,
     "metadata": {},
     "output_type": "execute_result"
    }
   ],
   "source": [
    "my_data = np.arange(9).reshape((3,3))\n",
    "my_data"
   ]
  },
  {
   "cell_type": "code",
   "execution_count": null,
   "id": "566a37fb",
   "metadata": {},
   "outputs": [],
   "source": [
    "# Multiplication by scalar\n",
    "my_data * 3"
   ]
  },
  {
   "cell_type": "code",
   "execution_count": null,
   "id": "3a11c5c7",
   "metadata": {},
   "outputs": [],
   "source": [
    "# Addition by vector\n",
    "my_vector = np.array([5, 10, 20])\n",
    "my_data + my_vector"
   ]
  },
  {
   "cell_type": "code",
   "execution_count": null,
   "id": "ea004b86",
   "metadata": {},
   "outputs": [],
   "source": [
    "# Sum of values\n",
    "my_data.sum()"
   ]
  },
  {
   "cell_type": "code",
   "execution_count": 163,
   "id": "a68da23f",
   "metadata": {},
   "outputs": [
    {
     "data": {
      "text/plain": [
       "array([1., 4., 7.])"
      ]
     },
     "execution_count": 163,
     "metadata": {},
     "output_type": "execute_result"
    }
   ],
   "source": [
    "# Mean of values within dimension 2 (rows) -- \"axis\" specificies the dimension index\n",
    "my_data.mean(axis=1)"
   ]
  },
  {
   "cell_type": "code",
   "execution_count": 166,
   "id": "09f3bdd2",
   "metadata": {},
   "outputs": [
    {
     "data": {
      "text/plain": [
       "array([6, 7, 8])"
      ]
     },
     "execution_count": 166,
     "metadata": {},
     "output_type": "execute_result"
    }
   ],
   "source": [
    "# Max values within dimension 1 (columns)\n",
    "my_data.max(axis=0)"
   ]
  },
  {
   "cell_type": "code",
   "execution_count": 167,
   "id": "1600b82c",
   "metadata": {},
   "outputs": [
    {
     "data": {
      "text/plain": [
       "array([[0, 3, 6],\n",
       "       [1, 4, 7],\n",
       "       [2, 5, 8]])"
      ]
     },
     "execution_count": 167,
     "metadata": {},
     "output_type": "execute_result"
    }
   ],
   "source": [
    "# Transposition\n",
    "my_data.transpose()"
   ]
  },
  {
   "cell_type": "code",
   "execution_count": 168,
   "id": "530170ab",
   "metadata": {},
   "outputs": [
    {
     "data": {
      "text/plain": [
       "array([[ 315,  318,  321],\n",
       "       [1242, 1254, 1266],\n",
       "       [2169, 2190, 2211]])"
      ]
     },
     "execution_count": 168,
     "metadata": {},
     "output_type": "execute_result"
    }
   ],
   "source": [
    "# Make new dataset\n",
    "my_data2 = np.arange(100, 109).reshape((3,3))  # 3x3 matrix of 100:109\n",
    "\n",
    "# Compute dot product\n",
    "dot_prod = np.dot(my_data, my_data2)\n",
    "dot_prod"
   ]
  },
  {
   "cell_type": "code",
   "execution_count": 177,
   "id": "7b46041a",
   "metadata": {},
   "outputs": [
    {
     "data": {
      "text/plain": [
       "array([[1.        , 0.80873372],\n",
       "       [0.80873372, 1.        ]])"
      ]
     },
     "execution_count": 177,
     "metadata": {},
     "output_type": "execute_result"
    }
   ],
   "source": [
    "# Compute the pearson correlation of two 1d arrays\n",
    "arr1 = np.array([1, 5, 6, 6, 7, 10])\n",
    "arr2 = np.array([3, 3, 4, 3, 6, 9])\n",
    "np.corrcoef(arr1, arr2)  # Correlation is ~.809"
   ]
  },
  {
   "cell_type": "markdown",
   "id": "855b0eb9",
   "metadata": {},
   "source": [
    "## Pandas Series and DataFrame\n",
    "\n",
    "`pandas` is arguably the most important library for data science in python. It provides both the `Series` and `DataFrame` objects, along with a large number of methods for working with them. Under the hood, it uses `numpy` so many `array` methods work with `pandas` objects. In this section, we will discuss the `Series` object and the `DataFrame` object, then introduce some core methods for working with them.\n",
    "\n",
    "### Pandas `Series`"
   ]
  },
  {
   "cell_type": "markdown",
   "id": "0111d1ea",
   "metadata": {},
   "source": [
    "Similar to the 1D array, a pandas `Series` is an array where every element can have a name. See this example:"
   ]
  },
  {
   "cell_type": "code",
   "execution_count": 183,
   "id": "1eabf482",
   "metadata": {},
   "outputs": [
    {
     "name": "stdout",
     "output_type": "stream",
     "text": [
      "Requirement already satisfied: pandas in c:\\users\\mille\\anaconda3\\lib\\site-packages (1.2.4)\n",
      "Requirement already satisfied: python-dateutil>=2.7.3 in c:\\users\\mille\\anaconda3\\lib\\site-packages (from pandas) (2.8.1)\n",
      "Requirement already satisfied: numpy>=1.16.5 in c:\\users\\mille\\anaconda3\\lib\\site-packages (from pandas) (1.20.1)\n",
      "Requirement already satisfied: pytz>=2017.3 in c:\\users\\mille\\anaconda3\\lib\\site-packages (from pandas) (2021.1)\n",
      "Requirement already satisfied: six>=1.5 in c:\\users\\mille\\anaconda3\\lib\\site-packages (from python-dateutil>=2.7.3->pandas) (1.15.0)\n"
     ]
    }
   ],
   "source": [
    "!pip install pandas"
   ]
  },
  {
   "cell_type": "code",
   "execution_count": 184,
   "id": "87ba327e",
   "metadata": {},
   "outputs": [],
   "source": [
    "import pandas as pd"
   ]
  },
  {
   "cell_type": "code",
   "execution_count": 185,
   "id": "ffde400e",
   "metadata": {},
   "outputs": [
    {
     "data": {
      "text/plain": [
       "one      1\n",
       "two      2\n",
       "three    3\n",
       "dtype: int64"
      ]
     },
     "execution_count": 185,
     "metadata": {},
     "output_type": "execute_result"
    }
   ],
   "source": [
    "my_data = pd.Series(data={\n",
    "    'one': 1,\n",
    "    'two': 2,\n",
    "    'three': 3\n",
    "})\n",
    "my_data"
   ]
  },
  {
   "cell_type": "markdown",
   "id": "e6bbc220",
   "metadata": {},
   "source": [
    "Similar to a dictionary, the values can be accessed using the names:"
   ]
  },
  {
   "cell_type": "code",
   "execution_count": 181,
   "id": "3f4ba4f4",
   "metadata": {},
   "outputs": [
    {
     "data": {
      "text/plain": [
       "2"
      ]
     },
     "execution_count": 181,
     "metadata": {},
     "output_type": "execute_result"
    }
   ],
   "source": [
    "my_data['two']"
   ]
  },
  {
   "cell_type": "markdown",
   "id": "dfa9c82a",
   "metadata": {},
   "source": [
    "And similar to an `array`, the values can also be accessed using numbers and booleans:"
   ]
  },
  {
   "cell_type": "code",
   "execution_count": 186,
   "id": "8c28465e",
   "metadata": {},
   "outputs": [
    {
     "data": {
      "text/plain": [
       "1"
      ]
     },
     "execution_count": 186,
     "metadata": {},
     "output_type": "execute_result"
    }
   ],
   "source": [
    "# Access element 1\n",
    "my_data[0]"
   ]
  },
  {
   "cell_type": "code",
   "execution_count": 187,
   "id": "8e4cce0a",
   "metadata": {},
   "outputs": [
    {
     "data": {
      "text/plain": [
       "three    3\n",
       "dtype: int64"
      ]
     },
     "execution_count": 187,
     "metadata": {},
     "output_type": "execute_result"
    }
   ],
   "source": [
    "# Access the element(s) which equals 3\n",
    "my_data[my_data == 3]"
   ]
  },
  {
   "cell_type": "markdown",
   "id": "d8aee21e",
   "metadata": {},
   "source": [
    "### Pandas `DataFrame`\n",
    "\n",
    "The `DataFrame` is an extremely powerful datatype in python, and it is used ubiquitously throughout pythonic data science. A `DataFrame` is always a 2-dimensional `array` which contains named columns and rows. "
   ]
  },
  {
   "cell_type": "code",
   "execution_count": 188,
   "id": "423f52f6",
   "metadata": {},
   "outputs": [
    {
     "data": {
      "text/html": [
       "<div>\n",
       "<style scoped>\n",
       "    .dataframe tbody tr th:only-of-type {\n",
       "        vertical-align: middle;\n",
       "    }\n",
       "\n",
       "    .dataframe tbody tr th {\n",
       "        vertical-align: top;\n",
       "    }\n",
       "\n",
       "    .dataframe thead th {\n",
       "        text-align: right;\n",
       "    }\n",
       "</style>\n",
       "<table border=\"1\" class=\"dataframe\">\n",
       "  <thead>\n",
       "    <tr style=\"text-align: right;\">\n",
       "      <th></th>\n",
       "      <th>col_one</th>\n",
       "      <th>col_two</th>\n",
       "      <th>col_three</th>\n",
       "    </tr>\n",
       "  </thead>\n",
       "  <tbody>\n",
       "    <tr>\n",
       "      <th>row_one</th>\n",
       "      <td>1</td>\n",
       "      <td>11</td>\n",
       "      <td>21</td>\n",
       "    </tr>\n",
       "    <tr>\n",
       "      <th>row_two</th>\n",
       "      <td>2</td>\n",
       "      <td>12</td>\n",
       "      <td>22</td>\n",
       "    </tr>\n",
       "    <tr>\n",
       "      <th>row_three</th>\n",
       "      <td>3</td>\n",
       "      <td>13</td>\n",
       "      <td>23</td>\n",
       "    </tr>\n",
       "    <tr>\n",
       "      <th>row_four</th>\n",
       "      <td>4</td>\n",
       "      <td>14</td>\n",
       "      <td>24</td>\n",
       "    </tr>\n",
       "  </tbody>\n",
       "</table>\n",
       "</div>"
      ],
      "text/plain": [
       "           col_one  col_two  col_three\n",
       "row_one          1       11         21\n",
       "row_two          2       12         22\n",
       "row_three        3       13         23\n",
       "row_four         4       14         24"
      ]
     },
     "execution_count": 188,
     "metadata": {},
     "output_type": "execute_result"
    }
   ],
   "source": [
    "my_df = pd.DataFrame(data={\n",
    "    'col_one': range(1, 5),\n",
    "    'col_two': range(11, 15),\n",
    "    'col_three': range(21, 25)\n",
    "}, index = [\n",
    "    'row_one', 'row_two', 'row_three', 'row_four'\n",
    "])\n",
    "my_df"
   ]
  },
  {
   "cell_type": "markdown",
   "id": "9ffbe538",
   "metadata": {},
   "source": [
    "Methods for `DataFrame` objects are numerous and can be found [here](https://pandas.pydata.org/pandas-docs/stable/reference/frame.html). In this module, we will only discuss the following:\n",
    "\n",
    "1. Difference between this and numpy array\n",
    "2. Indexing / naming\n",
    "3. Accessing data (iloc vs loc vs []) / setting data\n",
    "4. Basic plotting\n",
    "5. Reading / Writing to file"
   ]
  },
  {
   "cell_type": "markdown",
   "id": "fefe2800",
   "metadata": {},
   "source": [
    "<hr>\n",
    "\n",
    "# Other programming concepts in Python\n",
    "\n",
    "We will also briefly discuss control flow and functions in python. While these are useful techniques for python programming, they are not necessary for most typical data science activities in python. These are the topics which we will now summarize:\n",
    "\n",
    "1. If...elif...else\n",
    "2. Loops\n",
    "3. Function definitions"
   ]
  },
  {
   "cell_type": "markdown",
   "id": "c16ff4b6",
   "metadata": {},
   "source": [
    "## If...elif...else\n",
    "\n",
    "These statements indicate code blocks that will only be executed given that a logical condition is met."
   ]
  },
  {
   "cell_type": "markdown",
   "id": "11944b52",
   "metadata": {},
   "source": [
    "### If statements\n",
    "\n",
    "`if` statements in python create a logic gate, such that some code will only execute if a logical condition is met. See an example here:"
   ]
  },
  {
   "cell_type": "code",
   "execution_count": 191,
   "id": "f97306f4",
   "metadata": {},
   "outputs": [
    {
     "name": "stdout",
     "output_type": "stream",
     "text": [
      "a is equal to b!\n"
     ]
    }
   ],
   "source": [
    "a = 1\n",
    "b = 1\n",
    "\n",
    "if a == b:\n",
    "    # Execute this code only if a == b is True\n",
    "    print(\"a is equal to b!\")"
   ]
  },
  {
   "cell_type": "markdown",
   "id": "3c8d3e1b",
   "metadata": {},
   "source": [
    "The above example shows an `if` statement. The code in this statement only executes which the condition (`a == b`) is `True`. **Challenge:** Can you modify the above block so that the code will not execute?"
   ]
  },
  {
   "cell_type": "markdown",
   "id": "728638aa",
   "metadata": {},
   "source": [
    "### If...else statements\n",
    "\n",
    "`else` statements are executed if no previous conditions are satisfied. In other words, if not of the `if` statements execute, only then will the `else` statement execute."
   ]
  },
  {
   "cell_type": "code",
   "execution_count": 192,
   "id": "90cb0174",
   "metadata": {},
   "outputs": [
    {
     "name": "stdout",
     "output_type": "stream",
     "text": [
      "a is NOT equal to b!\n"
     ]
    }
   ],
   "source": [
    "a = 1\n",
    "b = 2\n",
    "\n",
    "if a == b:\n",
    "    print(\"a is equal to b!\")\n",
    "else:\n",
    "    print(\"a is NOT equal to b!\")"
   ]
  },
  {
   "cell_type": "markdown",
   "id": "85c5983d",
   "metadata": {},
   "source": [
    "### If...elif...else statements\n",
    "\n",
    "`elif` is a phrase that means \"else if\". This means that if the preceeding logical conditions are not satisfied, only then is this statement tested. "
   ]
  },
  {
   "cell_type": "code",
   "execution_count": 193,
   "id": "83401bda",
   "metadata": {},
   "outputs": [
    {
     "name": "stdout",
     "output_type": "stream",
     "text": [
      "Student earned a grade of D\n"
     ]
    }
   ],
   "source": [
    "grade = 68\n",
    "\n",
    "if grade > 90:\n",
    "    # Only executes if grade > 90\n",
    "    letter_grade = \"A\"\n",
    "elif grade > 80:\n",
    "    # Only executes if grade > 80 and grade <= 90\n",
    "    letter_grade = \"B\"\n",
    "elif grade > 70:\n",
    "    # Only executes if grade > 70 and grade <= 80\n",
    "    letter_grade = \"C\"\n",
    "elif grade >= 60:\n",
    "    # Only executes if grade > 60 and grade <= 70\n",
    "    letter_grade = \"D\"\n",
    "else:\n",
    "    # Only executes if grade < 60\n",
    "    letter_grade = \"F\"\n",
    "    \n",
    "print(\"Student earned a grade of \" + letter_grade)"
   ]
  },
  {
   "cell_type": "markdown",
   "id": "e13cadfd",
   "metadata": {},
   "source": [
    "In the above example, each logical condition is tested in sequence. Only when a condition is not met is the next one tested. If a student has a grade of `68`, then every `elif` statement will be tested. If the student had a `96`, then no `elif` statements would have been tested."
   ]
  },
  {
   "cell_type": "markdown",
   "id": "84d99504",
   "metadata": {},
   "source": [
    "## Loops\n",
    "\n",
    "Loops allow for some code to be applied to every element of an iterable object, such as a list. "
   ]
  },
  {
   "cell_type": "markdown",
   "id": "26c54846",
   "metadata": {},
   "source": [
    "### For loops\n",
    "\n",
    "For loops are a type of finite loop in python (as opposed to `while` loops which we will not discuss here). A for loop iterates over an iterable object, such as a `list` or `tuple`. For every element of the object, code will be executed in succession. Here is an example:"
   ]
  },
  {
   "cell_type": "code",
   "execution_count": 194,
   "id": "3d552d2c",
   "metadata": {},
   "outputs": [
    {
     "name": "stdout",
     "output_type": "stream",
     "text": [
      "Student earned a grade of B\n",
      "Student earned a grade of A\n",
      "Student earned a grade of F\n",
      "Student earned a grade of C\n"
     ]
    }
   ],
   "source": [
    "grades = [85, 98, 45, 73]\n",
    "\n",
    "# Loop over list of grades and print letter grade\n",
    "for grade in grades:\n",
    "    if grade > 90:\n",
    "        # Only executes if grade > 90\n",
    "        letter_grade = \"A\"\n",
    "    elif grade > 80:\n",
    "        # Only executes if grade > 80 and grade <= 90\n",
    "        letter_grade = \"B\"\n",
    "    elif grade > 70:\n",
    "        # Only executes if grade > 70 and grade <= 80\n",
    "        letter_grade = \"C\"\n",
    "    elif grade >= 60:\n",
    "        # Only executes if grade > 60 and grade <= 70\n",
    "        letter_grade = \"D\"\n",
    "    else:\n",
    "        # Only executes if grade < 60\n",
    "        letter_grade = \"F\"\n",
    "\n",
    "    print(\"Student earned a grade of \" + letter_grade)\n"
   ]
  },
  {
   "cell_type": "markdown",
   "id": "840d5538",
   "metadata": {},
   "source": [
    "Rather than using the list of grades directly, it may be useful to use the numerical indices of list elements. For example:"
   ]
  },
  {
   "cell_type": "code",
   "execution_count": 198,
   "id": "9d4bb046",
   "metadata": {},
   "outputs": [
    {
     "name": "stdout",
     "output_type": "stream",
     "text": [
      "alice earned a grade of B\n",
      "kevin earned a grade of A\n",
      "sara earned a grade of F\n",
      "tim earned a grade of C\n"
     ]
    }
   ],
   "source": [
    "students = ['alice', 'kevin', 'sara', 'tim']\n",
    "grades = [85, 98, 45, 73]\n",
    "\n",
    "for i in range(len(grades)):\n",
    "    \n",
    "    grade = grades[i]\n",
    "    student = students[i]\n",
    "    \n",
    "    if grade > 90:\n",
    "        # Only executes if grade > 90\n",
    "        letter_grade = \"A\"\n",
    "    elif grade > 80:\n",
    "        # Only executes if grade > 80 and grade <= 90\n",
    "        letter_grade = \"B\"\n",
    "    elif grade > 70:\n",
    "        # Only executes if grade > 70 and grade <= 80\n",
    "        letter_grade = \"C\"\n",
    "    elif grade >= 60:\n",
    "        # Only executes if grade > 60 and grade <= 70\n",
    "        letter_grade = \"D\"\n",
    "    else:\n",
    "        # Only executes if grade < 60\n",
    "        letter_grade = \"F\"\n",
    "\n",
    "    print(student + \" earned a grade of \" + letter_grade)\n"
   ]
  },
  {
   "cell_type": "markdown",
   "id": "af690417",
   "metadata": {},
   "source": [
    "## Functions\n",
    "\n",
    "Functions (aka \"methods\") are objects in python which take an input, perform computations, and return an output. Functions have arguments that help the function operate correctly"
   ]
  },
  {
   "cell_type": "code",
   "execution_count": 199,
   "id": "fbc75efb",
   "metadata": {},
   "outputs": [
    {
     "name": "stdout",
     "output_type": "stream",
     "text": [
      "25\n"
     ]
    }
   ],
   "source": [
    "def square_it(x):\n",
    "    print(x ** 2)\n",
    "    \n",
    "square_it(5)"
   ]
  },
  {
   "cell_type": "markdown",
   "id": "2dfc1773",
   "metadata": {},
   "source": [
    "Functions can also return a value. This is more common in python programming than simply printing the value:"
   ]
  },
  {
   "cell_type": "code",
   "execution_count": 200,
   "id": "ae02142e",
   "metadata": {},
   "outputs": [
    {
     "name": "stdout",
     "output_type": "stream",
     "text": [
      "25\n"
     ]
    }
   ],
   "source": [
    "def square_it(x):\n",
    "    return x ** 2\n",
    "    \n",
    "result = square_it(5)\n",
    "print(result)"
   ]
  },
  {
   "cell_type": "markdown",
   "id": "e117cc2b",
   "metadata": {},
   "source": [
    "**Challenge problem:** create a function with one argument, `grade`. The argument should convert `grade` to a letter grade and return this to the user. Then, use this function to simplify the for loop from earlier. "
   ]
  },
  {
   "cell_type": "markdown",
   "id": "44843f22",
   "metadata": {},
   "source": [
    "**Challenge problem 2** create a function with one argument, `grades`, that is a list of numerical grades. The argument should convert all elements of `grades` to letter grades and return this to the user.  "
   ]
  },
  {
   "cell_type": "markdown",
   "id": "01932628",
   "metadata": {},
   "source": [
    "TODO: Maybe list comprehension goes here"
   ]
  }
 ],
 "metadata": {
  "kernelspec": {
   "display_name": "Python 3",
   "language": "python",
   "name": "python3"
  },
  "language_info": {
   "codemirror_mode": {
    "name": "ipython",
    "version": 3
   },
   "file_extension": ".py",
   "mimetype": "text/x-python",
   "name": "python",
   "nbconvert_exporter": "python",
   "pygments_lexer": "ipython3",
   "version": "3.8.8"
  }
 },
 "nbformat": 4,
 "nbformat_minor": 5
}
