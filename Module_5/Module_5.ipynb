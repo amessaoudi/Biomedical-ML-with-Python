{
 "cells": [
  {
   "cell_type": "markdown",
   "id": "1ace58e3-d3d7-4743-a14c-21a4f6e2aa21",
   "metadata": {},
   "source": [
    "# Module 5 - Getting to know your data"
   ]
  },
  {
   "cell_type": "markdown",
   "id": "2f3c5bdf-2ad0-4cd2-89e5-c9b4a01b141b",
   "metadata": {},
   "source": [
    "Hello, and welcome to this introductory course in Machine Learning for Biomedical applications. To kick things off, I'd like to introduce you to [Weka](https://waikato.github.io/weka-wiki/downloading_weka/) one of the first Machine Learning platforms I used when I started out learning ML. Please take a minute and checkout [this great Weka video tutorial](https://waikato.github.io/weka-wiki/downloading_weka/)by Google. I think Weka is a great gateway platform that will undoubtedly take you a long way down these first steps into the ML ecosystem. In fact, Weka is still my goto platform for exploratory data analysis (EDA) which is the topic of today. Follow along the Weka example in the accompanying Lecture slides as we get to know the autism dataset distributed along with this notebook."
   ]
  },
  {
   "cell_type": "markdown",
   "id": "9c9c0e58-1d2a-4bf7-892a-dbc2f216828f",
   "metadata": {},
   "source": [
    " ## What we learned about the autism dataset using Weka\n",
    " 1. We have 292 observations and 21 features\n",
    " 2. The authors have developed a model using Demographics and 10 Yes/No questions to score patients for autism.\n",
    " 3. Some features contain missing values.\n",
    " 4. Appears the \"relation\" categorical variable was filled in by hand and has typos.\n",
    " 5. Ethinicity for example is not uniformly sampled. Most patients are white.\n",
    " 6. Most patients are 4yrs old or 11 with few patients in between.\n",
    " 7. 2/3 of patients are Male.\n",
    " 8. We can train a model with 100% accuracy using only the 10 yes/no questions."
   ]
  },
  {
   "cell_type": "markdown",
   "id": "87be1a47-2f03-466e-85d3-1099f3bbd707",
   "metadata": {},
   "source": [
    "**Questions**\n",
    "+ How would you interpret the value of author's score metric? \n",
    "+ What is the precision and sensitivity of the author's model?\n",
    "+ In our trained model using only the 10 yes/no questions, What score does a patient start off with before we start considering the answers to the 10 yes/no questions?\n",
    "+ What score would a new patient get if they answers yes for all 10 question? "
   ]
  },
  {
   "cell_type": "markdown",
   "id": "790bd5b1-61c0-435a-b1ae-3047d3519bae",
   "metadata": {},
   "source": [
    "## What question am I answering?"
   ]
  },
  {
   "cell_type": "markdown",
   "id": "0f714fe5-0bba-4f7f-9adb-33a05946aca2",
   "metadata": {},
   "source": [
    "When getting to know new data try to think about the following questions:\n",
    "+ Why was the data collected? \n",
    "+ How the data was intended to be used?\n",
    "+ Who was the author? This can inform your understanding of the data’s purpose.\n",
    "+ What does the literature say?\n",
    "    + Cohorts and datasets are often well studied.\n",
    "    + What seem to be the important features, the clinical need they focus on.\n",
    "+ What do the values in the data represent?\n",
    "+ What are the values trying to represent?\n",
    "+ **What potential added value does this data have for the greater clinical need?** \n",
    "\n",
    "A lot of this preliminary work is going to be done by hand and driven by your understanding of the subject matter. It is easy to underestimate how much effort this will take especially if the subject is outside of your wheelhouse. Only after you complete this critical step should you begin to formulate your central question. Skipping this due diligence is a common pitfall leading poor or at the very least unimpactful science. So, it is not enough to ask\n",
    "*\"What relationship can I demonstrate with this data?\"*, rather, you should have a benchmark in mind you want to overcome __*because*__ you have this data.\n",
    "\n",
    "For example, let's say the clinical standard for diagnosing some disease is through a biopsy. A well accepted rubric exists that quantifies the level of pathology in the tissue sample based on some histological metrics. But, you have accompanying urine analysis data not utilized by the benchmark model and also have evidence suggesting it has some prognostic potential.\n",
    "\n",
    "You can:\n",
    "1. Demonstrate a gain in prognostic strength by adding urine markers to the benchmark model.\n",
    "2. Demonstrate the urine analysis is a more cost effective predictor than the invasive biopsy.\n",
    "3. Demonstrate a relationship between the urine markers and the underlying histological features to improve the decision makeing process dictating when a biopsy is performed.\n",
    "4. Inferr a causal relationship between the urine markers and histological features to make statements about the pathology progression.\n",
    "\n",
    "Each analysis will require the data to be formatted in its own way."
   ]
  },
  {
   "cell_type": "markdown",
   "id": "89bdc85a-2a23-41b6-915b-971891e31115",
   "metadata": {},
   "source": [
    "# Exercise"
   ]
  },
  {
   "cell_type": "markdown",
   "id": "d917f0f0-0106-405d-8825-4f40107a8c07",
   "metadata": {},
   "source": [
    "In this excercise we will tidy up the 21 variables in Autism data. We will then build a predictive model to predict the binary YES/NO Autism diagnosis. To format we will:\n",
    "+ Load the autism data in .arff format to a pandas dataframe\n",
    "+ Check all categorical features have consistent annotations - ie. no typos\n",
    "+ Have no missing values\n",
    "+ Remove uninformative features\n",
    "+ Report a \"table 1\" of patient characteristics"
   ]
  },
  {
   "cell_type": "markdown",
   "id": "2fcec51e-4a59-4ce0-8abc-639dac60325a",
   "metadata": {},
   "source": [
    "## Requirements\n",
    "Let's begin by installing all the packages we'll need for this excercise. It's also good to set the random number seed first thing too so we can reproduce the results."
   ]
  },
  {
   "cell_type": "code",
   "execution_count": 1,
   "id": "806ab830-3757-45fe-a814-d2dbf394ac43",
   "metadata": {},
   "outputs": [
    {
     "name": "stdout",
     "output_type": "stream",
     "text": [
      "Requirement already satisfied: scipy in /Users/daniel00/miniconda3/envs/condasandbox/lib/python3.9/site-packages (1.7.0)\n",
      "Requirement already satisfied: numpy<1.23.0,>=1.16.5 in /Users/daniel00/miniconda3/envs/condasandbox/lib/python3.9/site-packages (from scipy) (1.20.2)\n",
      "Requirement already satisfied: pandas in /Users/daniel00/miniconda3/envs/condasandbox/lib/python3.9/site-packages (1.2.4)\n",
      "Requirement already satisfied: python-dateutil>=2.7.3 in /Users/daniel00/miniconda3/envs/condasandbox/lib/python3.9/site-packages (from pandas) (2.8.1)\n",
      "Requirement already satisfied: pytz>=2017.3 in /Users/daniel00/miniconda3/envs/condasandbox/lib/python3.9/site-packages (from pandas) (2021.1)\n",
      "Requirement already satisfied: numpy>=1.16.5 in /Users/daniel00/miniconda3/envs/condasandbox/lib/python3.9/site-packages (from pandas) (1.20.2)\n",
      "Requirement already satisfied: six>=1.5 in /Users/daniel00/miniconda3/envs/condasandbox/lib/python3.9/site-packages (from python-dateutil>=2.7.3->pandas) (1.16.0)\n",
      "Requirement already satisfied: numpy in /Users/daniel00/miniconda3/envs/condasandbox/lib/python3.9/site-packages (1.20.2)\n",
      "Requirement already satisfied: tableone in /Users/daniel00/miniconda3/envs/condasandbox/lib/python3.9/site-packages (0.7.10)\n",
      "Requirement already satisfied: pandas>=0.22.0 in /Users/daniel00/miniconda3/envs/condasandbox/lib/python3.9/site-packages (from tableone) (1.2.4)\n",
      "Requirement already satisfied: scipy>=0.18.1 in /Users/daniel00/miniconda3/envs/condasandbox/lib/python3.9/site-packages (from tableone) (1.7.0)\n",
      "Requirement already satisfied: tabulate>=0.8.2 in /Users/daniel00/miniconda3/envs/condasandbox/lib/python3.9/site-packages (from tableone) (0.8.9)\n",
      "Requirement already satisfied: statsmodels>=0.8.0 in /Users/daniel00/miniconda3/envs/condasandbox/lib/python3.9/site-packages (from tableone) (0.12.2)\n",
      "Requirement already satisfied: numpy>=1.12.1 in /Users/daniel00/miniconda3/envs/condasandbox/lib/python3.9/site-packages (from tableone) (1.20.2)\n",
      "Requirement already satisfied: python-dateutil>=2.7.3 in /Users/daniel00/miniconda3/envs/condasandbox/lib/python3.9/site-packages (from pandas>=0.22.0->tableone) (2.8.1)\n",
      "Requirement already satisfied: pytz>=2017.3 in /Users/daniel00/miniconda3/envs/condasandbox/lib/python3.9/site-packages (from pandas>=0.22.0->tableone) (2021.1)\n",
      "Requirement already satisfied: six>=1.5 in /Users/daniel00/miniconda3/envs/condasandbox/lib/python3.9/site-packages (from python-dateutil>=2.7.3->pandas>=0.22.0->tableone) (1.16.0)\n",
      "Requirement already satisfied: patsy>=0.5 in /Users/daniel00/miniconda3/envs/condasandbox/lib/python3.9/site-packages (from statsmodels>=0.8.0->tableone) (0.5.1)\n",
      "Requirement already satisfied: matplotlib in /Users/daniel00/miniconda3/envs/condasandbox/lib/python3.9/site-packages (3.4.2)\n",
      "Requirement already satisfied: python-dateutil>=2.7 in /Users/daniel00/miniconda3/envs/condasandbox/lib/python3.9/site-packages (from matplotlib) (2.8.1)\n",
      "Requirement already satisfied: pyparsing>=2.2.1 in /Users/daniel00/miniconda3/envs/condasandbox/lib/python3.9/site-packages (from matplotlib) (2.4.7)\n",
      "Requirement already satisfied: kiwisolver>=1.0.1 in /Users/daniel00/miniconda3/envs/condasandbox/lib/python3.9/site-packages (from matplotlib) (1.3.1)\n",
      "Requirement already satisfied: pillow>=6.2.0 in /Users/daniel00/miniconda3/envs/condasandbox/lib/python3.9/site-packages (from matplotlib) (8.3.0)\n",
      "Requirement already satisfied: cycler>=0.10 in /Users/daniel00/miniconda3/envs/condasandbox/lib/python3.9/site-packages (from matplotlib) (0.10.0)\n",
      "Requirement already satisfied: numpy>=1.16 in /Users/daniel00/miniconda3/envs/condasandbox/lib/python3.9/site-packages (from matplotlib) (1.20.2)\n",
      "Requirement already satisfied: six in /Users/daniel00/miniconda3/envs/condasandbox/lib/python3.9/site-packages (from cycler>=0.10->matplotlib) (1.16.0)\n"
     ]
    }
   ],
   "source": [
    "# requirements\n",
    "!pip install scipy\n",
    "!pip install pandas\n",
    "!pip install numpy\n",
    "!pip install tableone\n",
    "!pip install matplotlib\n",
    "\n",
    "# Globals\n",
    "seed = 1017"
   ]
  },
  {
   "cell_type": "markdown",
   "id": "fc0d9a24-132d-4bcc-a75e-d9a6ae12e5e9",
   "metadata": {},
   "source": [
    "## Load the data\n",
    "Ideally, data should be loaded from a repostitory and acceced programmatically for the sake of transparancy and reproducibility. The best analyses are totally divorced from the source data. We don't have that here. Today we will be reading a data file distributed allong with this excercise.  "
   ]
  },
  {
   "cell_type": "code",
   "execution_count": 2,
   "id": "e18d2216-1491-4620-b1a6-77ede558737b",
   "metadata": {},
   "outputs": [],
   "source": [
    "from scipy.io import arff\n",
    "\n",
    "#Read the arff file with scipy.io.arrff.loadarrf which returns the data and metadata\n",
    "data, meta = arff.loadarff('data/Autism-Child-Data.arff')\n",
    "\n",
    "#the metadata contains information such as name and type of attributes along with value ranges"
   ]
  },
  {
   "cell_type": "code",
   "execution_count": 3,
   "id": "58b289e8-933c-43c7-93b1-96318ea9cf14",
   "metadata": {},
   "outputs": [
    {
     "data": {
      "text/plain": [
       "Dataset: child\n",
       "\tA1_Score's type is nominal, range is ('0', '1')\n",
       "\tA2_Score's type is nominal, range is ('0', '1')\n",
       "\tA3_Score's type is nominal, range is ('0', '1')\n",
       "\tA4_Score's type is nominal, range is ('0', '1')\n",
       "\tA5_Score's type is nominal, range is ('0', '1')\n",
       "\tA6_Score's type is nominal, range is ('0', '1')\n",
       "\tA7_Score's type is nominal, range is ('0', '1')\n",
       "\tA8_Score's type is nominal, range is ('0', '1')\n",
       "\tA9_Score's type is nominal, range is ('0', '1')\n",
       "\tA10_Score's type is nominal, range is ('0', '1')\n",
       "\tage's type is numeric\n",
       "\tgender's type is nominal, range is ('m', 'f')\n",
       "\tethnicity's type is nominal, range is ('Others', 'Middle Eastern ', 'White-European', 'Black', 'South Asian', 'Asian', 'Pasifika', 'Hispanic', 'Turkish', 'Latino')\n",
       "\tjundice's type is nominal, range is ('no', 'yes')\n",
       "\taustim's type is nominal, range is ('no', 'yes')\n",
       "\tcontry_of_res's type is nominal, range is ('Jordan', 'United States', 'Egypt', 'United Kingdom', 'Bahrain', 'Austria', 'Kuwait', 'United Arab Emirates', 'Europe', 'Malta', 'Bulgaria', 'South Africa', 'India', 'Afghanistan', 'Georgia', 'New Zealand', 'Syria', 'Iraq', 'Australia', 'Saudi Arabia', 'Armenia', 'Turkey', 'Pakistan', 'Canada', 'Oman', 'Brazil', 'South Korea', 'Costa Rica', 'Sweden', 'Philippines', 'Malaysia', 'Argentina', 'Japan', 'Bangladesh', 'Qatar', 'Ireland', 'Romania', 'Netherlands', 'Lebanon', 'Germany', 'Latvia', 'Russia', 'Italy', 'China', 'Nigeria', 'U.S. Outlying Islands', 'Nepal', 'Mexico', 'Isle of Man', 'Libya', 'Ghana', 'Bhutan')\n",
       "\tused_app_before's type is nominal, range is ('no', 'yes')\n",
       "\tresult's type is numeric\n",
       "\tage_desc's type is nominal, range is ('4-11 years',)\n",
       "\trelation's type is nominal, range is ('Parent', 'Self', 'Relative', 'Health care professional', 'self')\n",
       "\tClass/ASD's type is nominal, range is ('NO', 'YES')"
      ]
     },
     "metadata": {},
     "output_type": "display_data"
    }
   ],
   "source": [
    "#let's look at the meta data\n",
    "display(meta)"
   ]
  },
  {
   "cell_type": "code",
   "execution_count": 4,
   "id": "5a993b24-dfce-49bd-9ce7-ad0dc95bee23",
   "metadata": {},
   "outputs": [
    {
     "data": {
      "text/plain": [
       "['A1_Score',\n",
       " 'A2_Score',\n",
       " 'A3_Score',\n",
       " 'A4_Score',\n",
       " 'A5_Score',\n",
       " 'A6_Score',\n",
       " 'A7_Score',\n",
       " 'A8_Score',\n",
       " 'A9_Score',\n",
       " 'A10_Score',\n",
       " 'age',\n",
       " 'gender',\n",
       " 'ethnicity',\n",
       " 'jundice',\n",
       " 'austim',\n",
       " 'contry_of_res',\n",
       " 'used_app_before',\n",
       " 'result',\n",
       " 'age_desc',\n",
       " 'relation',\n",
       " 'Class/ASD']"
      ]
     },
     "metadata": {},
     "output_type": "display_data"
    },
    {
     "data": {
      "text/plain": [
       "['nominal',\n",
       " 'nominal',\n",
       " 'nominal',\n",
       " 'nominal',\n",
       " 'nominal',\n",
       " 'nominal',\n",
       " 'nominal',\n",
       " 'nominal',\n",
       " 'nominal',\n",
       " 'nominal',\n",
       " 'numeric',\n",
       " 'nominal',\n",
       " 'nominal',\n",
       " 'nominal',\n",
       " 'nominal',\n",
       " 'nominal',\n",
       " 'nominal',\n",
       " 'numeric',\n",
       " 'nominal',\n",
       " 'nominal',\n",
       " 'nominal']"
      ]
     },
     "metadata": {},
     "output_type": "display_data"
    }
   ],
   "source": [
    "#the feature names and types can also be accessed as arrays\n",
    "display(meta.names())\n",
    "display(meta.types())"
   ]
  },
  {
   "cell_type": "code",
   "execution_count": 5,
   "id": "a01fe44e-eeab-41a3-a447-92796e52a0c7",
   "metadata": {},
   "outputs": [],
   "source": [
    "#the data is loaded as a record array accessible by attribute names\n",
    "#but it might be more convenient to convert it to a pandas dataframe \n",
    "import pandas as pd\n",
    "import numpy as np\n",
    "df = pd.DataFrame(data)"
   ]
  },
  {
   "cell_type": "code",
   "execution_count": 6,
   "id": "f523ae75-4cc6-413c-9eb4-c8549388430c",
   "metadata": {},
   "outputs": [
    {
     "data": {
      "text/html": [
       "<div>\n",
       "<style scoped>\n",
       "    .dataframe tbody tr th:only-of-type {\n",
       "        vertical-align: middle;\n",
       "    }\n",
       "\n",
       "    .dataframe tbody tr th {\n",
       "        vertical-align: top;\n",
       "    }\n",
       "\n",
       "    .dataframe thead th {\n",
       "        text-align: right;\n",
       "    }\n",
       "</style>\n",
       "<table border=\"1\" class=\"dataframe\">\n",
       "  <thead>\n",
       "    <tr style=\"text-align: right;\">\n",
       "      <th></th>\n",
       "      <th>A1_Score</th>\n",
       "      <th>A2_Score</th>\n",
       "      <th>A3_Score</th>\n",
       "      <th>A4_Score</th>\n",
       "      <th>A5_Score</th>\n",
       "      <th>A6_Score</th>\n",
       "      <th>A7_Score</th>\n",
       "      <th>A8_Score</th>\n",
       "      <th>A9_Score</th>\n",
       "      <th>A10_Score</th>\n",
       "      <th>...</th>\n",
       "      <th>gender</th>\n",
       "      <th>ethnicity</th>\n",
       "      <th>jundice</th>\n",
       "      <th>austim</th>\n",
       "      <th>contry_of_res</th>\n",
       "      <th>used_app_before</th>\n",
       "      <th>result</th>\n",
       "      <th>age_desc</th>\n",
       "      <th>relation</th>\n",
       "      <th>Class/ASD</th>\n",
       "    </tr>\n",
       "  </thead>\n",
       "  <tbody>\n",
       "    <tr>\n",
       "      <th>0</th>\n",
       "      <td>b'1'</td>\n",
       "      <td>b'1'</td>\n",
       "      <td>b'0'</td>\n",
       "      <td>b'0'</td>\n",
       "      <td>b'1'</td>\n",
       "      <td>b'1'</td>\n",
       "      <td>b'0'</td>\n",
       "      <td>b'1'</td>\n",
       "      <td>b'0'</td>\n",
       "      <td>b'0'</td>\n",
       "      <td>...</td>\n",
       "      <td>b'm'</td>\n",
       "      <td>b'Others'</td>\n",
       "      <td>b'no'</td>\n",
       "      <td>b'no'</td>\n",
       "      <td>b'Jordan'</td>\n",
       "      <td>b'no'</td>\n",
       "      <td>5.0</td>\n",
       "      <td>b'4-11 years'</td>\n",
       "      <td>b'Parent'</td>\n",
       "      <td>b'NO'</td>\n",
       "    </tr>\n",
       "    <tr>\n",
       "      <th>1</th>\n",
       "      <td>b'1'</td>\n",
       "      <td>b'1'</td>\n",
       "      <td>b'0'</td>\n",
       "      <td>b'0'</td>\n",
       "      <td>b'1'</td>\n",
       "      <td>b'1'</td>\n",
       "      <td>b'0'</td>\n",
       "      <td>b'1'</td>\n",
       "      <td>b'0'</td>\n",
       "      <td>b'0'</td>\n",
       "      <td>...</td>\n",
       "      <td>b'm'</td>\n",
       "      <td>b'Middle Eastern '</td>\n",
       "      <td>b'no'</td>\n",
       "      <td>b'no'</td>\n",
       "      <td>b'Jordan'</td>\n",
       "      <td>b'no'</td>\n",
       "      <td>5.0</td>\n",
       "      <td>b'4-11 years'</td>\n",
       "      <td>b'Parent'</td>\n",
       "      <td>b'NO'</td>\n",
       "    </tr>\n",
       "    <tr>\n",
       "      <th>2</th>\n",
       "      <td>b'1'</td>\n",
       "      <td>b'1'</td>\n",
       "      <td>b'0'</td>\n",
       "      <td>b'0'</td>\n",
       "      <td>b'0'</td>\n",
       "      <td>b'1'</td>\n",
       "      <td>b'1'</td>\n",
       "      <td>b'1'</td>\n",
       "      <td>b'0'</td>\n",
       "      <td>b'0'</td>\n",
       "      <td>...</td>\n",
       "      <td>b'm'</td>\n",
       "      <td>b'?'</td>\n",
       "      <td>b'no'</td>\n",
       "      <td>b'no'</td>\n",
       "      <td>b'Jordan'</td>\n",
       "      <td>b'yes'</td>\n",
       "      <td>5.0</td>\n",
       "      <td>b'4-11 years'</td>\n",
       "      <td>b'?'</td>\n",
       "      <td>b'NO'</td>\n",
       "    </tr>\n",
       "    <tr>\n",
       "      <th>3</th>\n",
       "      <td>b'0'</td>\n",
       "      <td>b'1'</td>\n",
       "      <td>b'0'</td>\n",
       "      <td>b'0'</td>\n",
       "      <td>b'1'</td>\n",
       "      <td>b'1'</td>\n",
       "      <td>b'0'</td>\n",
       "      <td>b'0'</td>\n",
       "      <td>b'0'</td>\n",
       "      <td>b'1'</td>\n",
       "      <td>...</td>\n",
       "      <td>b'f'</td>\n",
       "      <td>b'?'</td>\n",
       "      <td>b'yes'</td>\n",
       "      <td>b'no'</td>\n",
       "      <td>b'Jordan'</td>\n",
       "      <td>b'no'</td>\n",
       "      <td>4.0</td>\n",
       "      <td>b'4-11 years'</td>\n",
       "      <td>b'?'</td>\n",
       "      <td>b'NO'</td>\n",
       "    </tr>\n",
       "    <tr>\n",
       "      <th>4</th>\n",
       "      <td>b'1'</td>\n",
       "      <td>b'1'</td>\n",
       "      <td>b'1'</td>\n",
       "      <td>b'1'</td>\n",
       "      <td>b'1'</td>\n",
       "      <td>b'1'</td>\n",
       "      <td>b'1'</td>\n",
       "      <td>b'1'</td>\n",
       "      <td>b'1'</td>\n",
       "      <td>b'1'</td>\n",
       "      <td>...</td>\n",
       "      <td>b'm'</td>\n",
       "      <td>b'Others'</td>\n",
       "      <td>b'yes'</td>\n",
       "      <td>b'no'</td>\n",
       "      <td>b'United States'</td>\n",
       "      <td>b'no'</td>\n",
       "      <td>10.0</td>\n",
       "      <td>b'4-11 years'</td>\n",
       "      <td>b'Parent'</td>\n",
       "      <td>b'YES'</td>\n",
       "    </tr>\n",
       "    <tr>\n",
       "      <th>...</th>\n",
       "      <td>...</td>\n",
       "      <td>...</td>\n",
       "      <td>...</td>\n",
       "      <td>...</td>\n",
       "      <td>...</td>\n",
       "      <td>...</td>\n",
       "      <td>...</td>\n",
       "      <td>...</td>\n",
       "      <td>...</td>\n",
       "      <td>...</td>\n",
       "      <td>...</td>\n",
       "      <td>...</td>\n",
       "      <td>...</td>\n",
       "      <td>...</td>\n",
       "      <td>...</td>\n",
       "      <td>...</td>\n",
       "      <td>...</td>\n",
       "      <td>...</td>\n",
       "      <td>...</td>\n",
       "      <td>...</td>\n",
       "      <td>...</td>\n",
       "    </tr>\n",
       "    <tr>\n",
       "      <th>287</th>\n",
       "      <td>b'1'</td>\n",
       "      <td>b'1'</td>\n",
       "      <td>b'1'</td>\n",
       "      <td>b'1'</td>\n",
       "      <td>b'1'</td>\n",
       "      <td>b'1'</td>\n",
       "      <td>b'1'</td>\n",
       "      <td>b'1'</td>\n",
       "      <td>b'1'</td>\n",
       "      <td>b'1'</td>\n",
       "      <td>...</td>\n",
       "      <td>b'f'</td>\n",
       "      <td>b'White-European'</td>\n",
       "      <td>b'yes'</td>\n",
       "      <td>b'yes'</td>\n",
       "      <td>b'United Kingdom'</td>\n",
       "      <td>b'no'</td>\n",
       "      <td>10.0</td>\n",
       "      <td>b'4-11 years'</td>\n",
       "      <td>b'Parent'</td>\n",
       "      <td>b'YES'</td>\n",
       "    </tr>\n",
       "    <tr>\n",
       "      <th>288</th>\n",
       "      <td>b'1'</td>\n",
       "      <td>b'0'</td>\n",
       "      <td>b'0'</td>\n",
       "      <td>b'0'</td>\n",
       "      <td>b'1'</td>\n",
       "      <td>b'0'</td>\n",
       "      <td>b'1'</td>\n",
       "      <td>b'0'</td>\n",
       "      <td>b'0'</td>\n",
       "      <td>b'1'</td>\n",
       "      <td>...</td>\n",
       "      <td>b'f'</td>\n",
       "      <td>b'White-European'</td>\n",
       "      <td>b'yes'</td>\n",
       "      <td>b'yes'</td>\n",
       "      <td>b'Australia'</td>\n",
       "      <td>b'no'</td>\n",
       "      <td>4.0</td>\n",
       "      <td>b'4-11 years'</td>\n",
       "      <td>b'Parent'</td>\n",
       "      <td>b'NO'</td>\n",
       "    </tr>\n",
       "    <tr>\n",
       "      <th>289</th>\n",
       "      <td>b'1'</td>\n",
       "      <td>b'0'</td>\n",
       "      <td>b'1'</td>\n",
       "      <td>b'1'</td>\n",
       "      <td>b'1'</td>\n",
       "      <td>b'1'</td>\n",
       "      <td>b'1'</td>\n",
       "      <td>b'0'</td>\n",
       "      <td>b'0'</td>\n",
       "      <td>b'1'</td>\n",
       "      <td>...</td>\n",
       "      <td>b'm'</td>\n",
       "      <td>b'Latino'</td>\n",
       "      <td>b'no'</td>\n",
       "      <td>b'no'</td>\n",
       "      <td>b'Brazil'</td>\n",
       "      <td>b'no'</td>\n",
       "      <td>7.0</td>\n",
       "      <td>b'4-11 years'</td>\n",
       "      <td>b'Parent'</td>\n",
       "      <td>b'YES'</td>\n",
       "    </tr>\n",
       "    <tr>\n",
       "      <th>290</th>\n",
       "      <td>b'1'</td>\n",
       "      <td>b'1'</td>\n",
       "      <td>b'1'</td>\n",
       "      <td>b'0'</td>\n",
       "      <td>b'1'</td>\n",
       "      <td>b'1'</td>\n",
       "      <td>b'1'</td>\n",
       "      <td>b'1'</td>\n",
       "      <td>b'1'</td>\n",
       "      <td>b'1'</td>\n",
       "      <td>...</td>\n",
       "      <td>b'm'</td>\n",
       "      <td>b'South Asian'</td>\n",
       "      <td>b'no'</td>\n",
       "      <td>b'no'</td>\n",
       "      <td>b'India'</td>\n",
       "      <td>b'no'</td>\n",
       "      <td>9.0</td>\n",
       "      <td>b'4-11 years'</td>\n",
       "      <td>b'Parent'</td>\n",
       "      <td>b'YES'</td>\n",
       "    </tr>\n",
       "    <tr>\n",
       "      <th>291</th>\n",
       "      <td>b'0'</td>\n",
       "      <td>b'0'</td>\n",
       "      <td>b'1'</td>\n",
       "      <td>b'0'</td>\n",
       "      <td>b'1'</td>\n",
       "      <td>b'0'</td>\n",
       "      <td>b'1'</td>\n",
       "      <td>b'0'</td>\n",
       "      <td>b'0'</td>\n",
       "      <td>b'0'</td>\n",
       "      <td>...</td>\n",
       "      <td>b'f'</td>\n",
       "      <td>b'South Asian'</td>\n",
       "      <td>b'no'</td>\n",
       "      <td>b'no'</td>\n",
       "      <td>b'India'</td>\n",
       "      <td>b'no'</td>\n",
       "      <td>3.0</td>\n",
       "      <td>b'4-11 years'</td>\n",
       "      <td>b'Parent'</td>\n",
       "      <td>b'NO'</td>\n",
       "    </tr>\n",
       "  </tbody>\n",
       "</table>\n",
       "<p>292 rows × 21 columns</p>\n",
       "</div>"
      ],
      "text/plain": [
       "    A1_Score A2_Score A3_Score A4_Score A5_Score A6_Score A7_Score A8_Score  \\\n",
       "0       b'1'     b'1'     b'0'     b'0'     b'1'     b'1'     b'0'     b'1'   \n",
       "1       b'1'     b'1'     b'0'     b'0'     b'1'     b'1'     b'0'     b'1'   \n",
       "2       b'1'     b'1'     b'0'     b'0'     b'0'     b'1'     b'1'     b'1'   \n",
       "3       b'0'     b'1'     b'0'     b'0'     b'1'     b'1'     b'0'     b'0'   \n",
       "4       b'1'     b'1'     b'1'     b'1'     b'1'     b'1'     b'1'     b'1'   \n",
       "..       ...      ...      ...      ...      ...      ...      ...      ...   \n",
       "287     b'1'     b'1'     b'1'     b'1'     b'1'     b'1'     b'1'     b'1'   \n",
       "288     b'1'     b'0'     b'0'     b'0'     b'1'     b'0'     b'1'     b'0'   \n",
       "289     b'1'     b'0'     b'1'     b'1'     b'1'     b'1'     b'1'     b'0'   \n",
       "290     b'1'     b'1'     b'1'     b'0'     b'1'     b'1'     b'1'     b'1'   \n",
       "291     b'0'     b'0'     b'1'     b'0'     b'1'     b'0'     b'1'     b'0'   \n",
       "\n",
       "    A9_Score A10_Score  ...  gender           ethnicity jundice  austim  \\\n",
       "0       b'0'      b'0'  ...    b'm'           b'Others'   b'no'   b'no'   \n",
       "1       b'0'      b'0'  ...    b'm'  b'Middle Eastern '   b'no'   b'no'   \n",
       "2       b'0'      b'0'  ...    b'm'                b'?'   b'no'   b'no'   \n",
       "3       b'0'      b'1'  ...    b'f'                b'?'  b'yes'   b'no'   \n",
       "4       b'1'      b'1'  ...    b'm'           b'Others'  b'yes'   b'no'   \n",
       "..       ...       ...  ...     ...                 ...     ...     ...   \n",
       "287     b'1'      b'1'  ...    b'f'   b'White-European'  b'yes'  b'yes'   \n",
       "288     b'0'      b'1'  ...    b'f'   b'White-European'  b'yes'  b'yes'   \n",
       "289     b'0'      b'1'  ...    b'm'           b'Latino'   b'no'   b'no'   \n",
       "290     b'1'      b'1'  ...    b'm'      b'South Asian'   b'no'   b'no'   \n",
       "291     b'0'      b'0'  ...    b'f'      b'South Asian'   b'no'   b'no'   \n",
       "\n",
       "         contry_of_res used_app_before result       age_desc   relation  \\\n",
       "0            b'Jordan'           b'no'    5.0  b'4-11 years'  b'Parent'   \n",
       "1            b'Jordan'           b'no'    5.0  b'4-11 years'  b'Parent'   \n",
       "2            b'Jordan'          b'yes'    5.0  b'4-11 years'       b'?'   \n",
       "3            b'Jordan'           b'no'    4.0  b'4-11 years'       b'?'   \n",
       "4     b'United States'           b'no'   10.0  b'4-11 years'  b'Parent'   \n",
       "..                 ...             ...    ...            ...        ...   \n",
       "287  b'United Kingdom'           b'no'   10.0  b'4-11 years'  b'Parent'   \n",
       "288       b'Australia'           b'no'    4.0  b'4-11 years'  b'Parent'   \n",
       "289          b'Brazil'           b'no'    7.0  b'4-11 years'  b'Parent'   \n",
       "290           b'India'           b'no'    9.0  b'4-11 years'  b'Parent'   \n",
       "291           b'India'           b'no'    3.0  b'4-11 years'  b'Parent'   \n",
       "\n",
       "    Class/ASD  \n",
       "0       b'NO'  \n",
       "1       b'NO'  \n",
       "2       b'NO'  \n",
       "3       b'NO'  \n",
       "4      b'YES'  \n",
       "..        ...  \n",
       "287    b'YES'  \n",
       "288     b'NO'  \n",
       "289    b'YES'  \n",
       "290    b'YES'  \n",
       "291     b'NO'  \n",
       "\n",
       "[292 rows x 21 columns]"
      ]
     },
     "metadata": {},
     "output_type": "display_data"
    }
   ],
   "source": [
    "#Let's look at the data\n",
    "display(df)"
   ]
  },
  {
   "cell_type": "code",
   "execution_count": 7,
   "id": "b040853b-8a2b-4879-903a-7e872a997d41",
   "metadata": {},
   "outputs": [],
   "source": [
    "#Those 'b' are python's way of displaying a bytes array and are not part of the data\n",
    "#They indicate you're treating a byte string, litterally a sequence of octets, which are ASCII cahracters.\n",
    "#They will appear only in nominal features. The numeric features \"age\" and \"result\" will not have them.\n",
    "#You can decode them using .decode(\"utf-8\")\n",
    "\n",
    "#Let's decode only the nominal features\n",
    "for i in range(len(meta.types())):\n",
    "    if meta.types()[i] == 'nominal':\n",
    "        df[meta.names()[i]] = df[meta.names()[i]].str.decode('utf-8')    \n"
   ]
  },
  {
   "cell_type": "code",
   "execution_count": 8,
   "id": "9992e1f2-7577-41e7-af58-6d5a0ced9a9b",
   "metadata": {},
   "outputs": [
    {
     "data": {
      "text/html": [
       "<div>\n",
       "<style scoped>\n",
       "    .dataframe tbody tr th:only-of-type {\n",
       "        vertical-align: middle;\n",
       "    }\n",
       "\n",
       "    .dataframe tbody tr th {\n",
       "        vertical-align: top;\n",
       "    }\n",
       "\n",
       "    .dataframe thead th {\n",
       "        text-align: right;\n",
       "    }\n",
       "</style>\n",
       "<table border=\"1\" class=\"dataframe\">\n",
       "  <thead>\n",
       "    <tr style=\"text-align: right;\">\n",
       "      <th></th>\n",
       "      <th>A1_Score</th>\n",
       "      <th>A2_Score</th>\n",
       "      <th>A3_Score</th>\n",
       "      <th>A4_Score</th>\n",
       "      <th>A5_Score</th>\n",
       "      <th>A6_Score</th>\n",
       "      <th>A7_Score</th>\n",
       "      <th>A8_Score</th>\n",
       "      <th>A9_Score</th>\n",
       "      <th>A10_Score</th>\n",
       "      <th>...</th>\n",
       "      <th>gender</th>\n",
       "      <th>ethnicity</th>\n",
       "      <th>jundice</th>\n",
       "      <th>austim</th>\n",
       "      <th>contry_of_res</th>\n",
       "      <th>used_app_before</th>\n",
       "      <th>result</th>\n",
       "      <th>age_desc</th>\n",
       "      <th>relation</th>\n",
       "      <th>Class/ASD</th>\n",
       "    </tr>\n",
       "  </thead>\n",
       "  <tbody>\n",
       "    <tr>\n",
       "      <th>0</th>\n",
       "      <td>1</td>\n",
       "      <td>1</td>\n",
       "      <td>0</td>\n",
       "      <td>0</td>\n",
       "      <td>1</td>\n",
       "      <td>1</td>\n",
       "      <td>0</td>\n",
       "      <td>1</td>\n",
       "      <td>0</td>\n",
       "      <td>0</td>\n",
       "      <td>...</td>\n",
       "      <td>m</td>\n",
       "      <td>Others</td>\n",
       "      <td>no</td>\n",
       "      <td>no</td>\n",
       "      <td>Jordan</td>\n",
       "      <td>no</td>\n",
       "      <td>5.0</td>\n",
       "      <td>4-11 years</td>\n",
       "      <td>Parent</td>\n",
       "      <td>NO</td>\n",
       "    </tr>\n",
       "    <tr>\n",
       "      <th>1</th>\n",
       "      <td>1</td>\n",
       "      <td>1</td>\n",
       "      <td>0</td>\n",
       "      <td>0</td>\n",
       "      <td>1</td>\n",
       "      <td>1</td>\n",
       "      <td>0</td>\n",
       "      <td>1</td>\n",
       "      <td>0</td>\n",
       "      <td>0</td>\n",
       "      <td>...</td>\n",
       "      <td>m</td>\n",
       "      <td>Middle Eastern</td>\n",
       "      <td>no</td>\n",
       "      <td>no</td>\n",
       "      <td>Jordan</td>\n",
       "      <td>no</td>\n",
       "      <td>5.0</td>\n",
       "      <td>4-11 years</td>\n",
       "      <td>Parent</td>\n",
       "      <td>NO</td>\n",
       "    </tr>\n",
       "    <tr>\n",
       "      <th>2</th>\n",
       "      <td>1</td>\n",
       "      <td>1</td>\n",
       "      <td>0</td>\n",
       "      <td>0</td>\n",
       "      <td>0</td>\n",
       "      <td>1</td>\n",
       "      <td>1</td>\n",
       "      <td>1</td>\n",
       "      <td>0</td>\n",
       "      <td>0</td>\n",
       "      <td>...</td>\n",
       "      <td>m</td>\n",
       "      <td>?</td>\n",
       "      <td>no</td>\n",
       "      <td>no</td>\n",
       "      <td>Jordan</td>\n",
       "      <td>yes</td>\n",
       "      <td>5.0</td>\n",
       "      <td>4-11 years</td>\n",
       "      <td>?</td>\n",
       "      <td>NO</td>\n",
       "    </tr>\n",
       "    <tr>\n",
       "      <th>3</th>\n",
       "      <td>0</td>\n",
       "      <td>1</td>\n",
       "      <td>0</td>\n",
       "      <td>0</td>\n",
       "      <td>1</td>\n",
       "      <td>1</td>\n",
       "      <td>0</td>\n",
       "      <td>0</td>\n",
       "      <td>0</td>\n",
       "      <td>1</td>\n",
       "      <td>...</td>\n",
       "      <td>f</td>\n",
       "      <td>?</td>\n",
       "      <td>yes</td>\n",
       "      <td>no</td>\n",
       "      <td>Jordan</td>\n",
       "      <td>no</td>\n",
       "      <td>4.0</td>\n",
       "      <td>4-11 years</td>\n",
       "      <td>?</td>\n",
       "      <td>NO</td>\n",
       "    </tr>\n",
       "    <tr>\n",
       "      <th>4</th>\n",
       "      <td>1</td>\n",
       "      <td>1</td>\n",
       "      <td>1</td>\n",
       "      <td>1</td>\n",
       "      <td>1</td>\n",
       "      <td>1</td>\n",
       "      <td>1</td>\n",
       "      <td>1</td>\n",
       "      <td>1</td>\n",
       "      <td>1</td>\n",
       "      <td>...</td>\n",
       "      <td>m</td>\n",
       "      <td>Others</td>\n",
       "      <td>yes</td>\n",
       "      <td>no</td>\n",
       "      <td>United States</td>\n",
       "      <td>no</td>\n",
       "      <td>10.0</td>\n",
       "      <td>4-11 years</td>\n",
       "      <td>Parent</td>\n",
       "      <td>YES</td>\n",
       "    </tr>\n",
       "    <tr>\n",
       "      <th>...</th>\n",
       "      <td>...</td>\n",
       "      <td>...</td>\n",
       "      <td>...</td>\n",
       "      <td>...</td>\n",
       "      <td>...</td>\n",
       "      <td>...</td>\n",
       "      <td>...</td>\n",
       "      <td>...</td>\n",
       "      <td>...</td>\n",
       "      <td>...</td>\n",
       "      <td>...</td>\n",
       "      <td>...</td>\n",
       "      <td>...</td>\n",
       "      <td>...</td>\n",
       "      <td>...</td>\n",
       "      <td>...</td>\n",
       "      <td>...</td>\n",
       "      <td>...</td>\n",
       "      <td>...</td>\n",
       "      <td>...</td>\n",
       "      <td>...</td>\n",
       "    </tr>\n",
       "    <tr>\n",
       "      <th>287</th>\n",
       "      <td>1</td>\n",
       "      <td>1</td>\n",
       "      <td>1</td>\n",
       "      <td>1</td>\n",
       "      <td>1</td>\n",
       "      <td>1</td>\n",
       "      <td>1</td>\n",
       "      <td>1</td>\n",
       "      <td>1</td>\n",
       "      <td>1</td>\n",
       "      <td>...</td>\n",
       "      <td>f</td>\n",
       "      <td>White-European</td>\n",
       "      <td>yes</td>\n",
       "      <td>yes</td>\n",
       "      <td>United Kingdom</td>\n",
       "      <td>no</td>\n",
       "      <td>10.0</td>\n",
       "      <td>4-11 years</td>\n",
       "      <td>Parent</td>\n",
       "      <td>YES</td>\n",
       "    </tr>\n",
       "    <tr>\n",
       "      <th>288</th>\n",
       "      <td>1</td>\n",
       "      <td>0</td>\n",
       "      <td>0</td>\n",
       "      <td>0</td>\n",
       "      <td>1</td>\n",
       "      <td>0</td>\n",
       "      <td>1</td>\n",
       "      <td>0</td>\n",
       "      <td>0</td>\n",
       "      <td>1</td>\n",
       "      <td>...</td>\n",
       "      <td>f</td>\n",
       "      <td>White-European</td>\n",
       "      <td>yes</td>\n",
       "      <td>yes</td>\n",
       "      <td>Australia</td>\n",
       "      <td>no</td>\n",
       "      <td>4.0</td>\n",
       "      <td>4-11 years</td>\n",
       "      <td>Parent</td>\n",
       "      <td>NO</td>\n",
       "    </tr>\n",
       "    <tr>\n",
       "      <th>289</th>\n",
       "      <td>1</td>\n",
       "      <td>0</td>\n",
       "      <td>1</td>\n",
       "      <td>1</td>\n",
       "      <td>1</td>\n",
       "      <td>1</td>\n",
       "      <td>1</td>\n",
       "      <td>0</td>\n",
       "      <td>0</td>\n",
       "      <td>1</td>\n",
       "      <td>...</td>\n",
       "      <td>m</td>\n",
       "      <td>Latino</td>\n",
       "      <td>no</td>\n",
       "      <td>no</td>\n",
       "      <td>Brazil</td>\n",
       "      <td>no</td>\n",
       "      <td>7.0</td>\n",
       "      <td>4-11 years</td>\n",
       "      <td>Parent</td>\n",
       "      <td>YES</td>\n",
       "    </tr>\n",
       "    <tr>\n",
       "      <th>290</th>\n",
       "      <td>1</td>\n",
       "      <td>1</td>\n",
       "      <td>1</td>\n",
       "      <td>0</td>\n",
       "      <td>1</td>\n",
       "      <td>1</td>\n",
       "      <td>1</td>\n",
       "      <td>1</td>\n",
       "      <td>1</td>\n",
       "      <td>1</td>\n",
       "      <td>...</td>\n",
       "      <td>m</td>\n",
       "      <td>South Asian</td>\n",
       "      <td>no</td>\n",
       "      <td>no</td>\n",
       "      <td>India</td>\n",
       "      <td>no</td>\n",
       "      <td>9.0</td>\n",
       "      <td>4-11 years</td>\n",
       "      <td>Parent</td>\n",
       "      <td>YES</td>\n",
       "    </tr>\n",
       "    <tr>\n",
       "      <th>291</th>\n",
       "      <td>0</td>\n",
       "      <td>0</td>\n",
       "      <td>1</td>\n",
       "      <td>0</td>\n",
       "      <td>1</td>\n",
       "      <td>0</td>\n",
       "      <td>1</td>\n",
       "      <td>0</td>\n",
       "      <td>0</td>\n",
       "      <td>0</td>\n",
       "      <td>...</td>\n",
       "      <td>f</td>\n",
       "      <td>South Asian</td>\n",
       "      <td>no</td>\n",
       "      <td>no</td>\n",
       "      <td>India</td>\n",
       "      <td>no</td>\n",
       "      <td>3.0</td>\n",
       "      <td>4-11 years</td>\n",
       "      <td>Parent</td>\n",
       "      <td>NO</td>\n",
       "    </tr>\n",
       "  </tbody>\n",
       "</table>\n",
       "<p>292 rows × 21 columns</p>\n",
       "</div>"
      ],
      "text/plain": [
       "    A1_Score A2_Score A3_Score A4_Score A5_Score A6_Score A7_Score A8_Score  \\\n",
       "0          1        1        0        0        1        1        0        1   \n",
       "1          1        1        0        0        1        1        0        1   \n",
       "2          1        1        0        0        0        1        1        1   \n",
       "3          0        1        0        0        1        1        0        0   \n",
       "4          1        1        1        1        1        1        1        1   \n",
       "..       ...      ...      ...      ...      ...      ...      ...      ...   \n",
       "287        1        1        1        1        1        1        1        1   \n",
       "288        1        0        0        0        1        0        1        0   \n",
       "289        1        0        1        1        1        1        1        0   \n",
       "290        1        1        1        0        1        1        1        1   \n",
       "291        0        0        1        0        1        0        1        0   \n",
       "\n",
       "    A9_Score A10_Score  ...  gender        ethnicity jundice austim  \\\n",
       "0          0         0  ...       m           Others      no     no   \n",
       "1          0         0  ...       m  Middle Eastern       no     no   \n",
       "2          0         0  ...       m                ?      no     no   \n",
       "3          0         1  ...       f                ?     yes     no   \n",
       "4          1         1  ...       m           Others     yes     no   \n",
       "..       ...       ...  ...     ...              ...     ...    ...   \n",
       "287        1         1  ...       f   White-European     yes    yes   \n",
       "288        0         1  ...       f   White-European     yes    yes   \n",
       "289        0         1  ...       m           Latino      no     no   \n",
       "290        1         1  ...       m      South Asian      no     no   \n",
       "291        0         0  ...       f      South Asian      no     no   \n",
       "\n",
       "      contry_of_res used_app_before result    age_desc relation Class/ASD  \n",
       "0            Jordan              no    5.0  4-11 years   Parent        NO  \n",
       "1            Jordan              no    5.0  4-11 years   Parent        NO  \n",
       "2            Jordan             yes    5.0  4-11 years        ?        NO  \n",
       "3            Jordan              no    4.0  4-11 years        ?        NO  \n",
       "4     United States              no   10.0  4-11 years   Parent       YES  \n",
       "..              ...             ...    ...         ...      ...       ...  \n",
       "287  United Kingdom              no   10.0  4-11 years   Parent       YES  \n",
       "288       Australia              no    4.0  4-11 years   Parent        NO  \n",
       "289          Brazil              no    7.0  4-11 years   Parent       YES  \n",
       "290           India              no    9.0  4-11 years   Parent       YES  \n",
       "291           India              no    3.0  4-11 years   Parent        NO  \n",
       "\n",
       "[292 rows x 21 columns]"
      ]
     },
     "metadata": {},
     "output_type": "display_data"
    }
   ],
   "source": [
    "#let's look at the data now\n",
    "display(df)"
   ]
  },
  {
   "cell_type": "markdown",
   "id": "9faeede0-a9db-418c-a4d4-c33993fbd0c6",
   "metadata": {},
   "source": [
    "## Heal annotations\n",
    "\n",
    "Recall the 'Self' vs 'self' typo for the 'relation' variable.\n",
    "One easy fix is to convert all strings to lowercase."
   ]
  },
  {
   "cell_type": "code",
   "execution_count": 9,
   "id": "4356450b-c5c6-4eaf-ac3d-14e772d06c6d",
   "metadata": {},
   "outputs": [
    {
     "data": {
      "text/html": [
       "<div>\n",
       "<style scoped>\n",
       "    .dataframe tbody tr th:only-of-type {\n",
       "        vertical-align: middle;\n",
       "    }\n",
       "\n",
       "    .dataframe tbody tr th {\n",
       "        vertical-align: top;\n",
       "    }\n",
       "\n",
       "    .dataframe thead th {\n",
       "        text-align: right;\n",
       "    }\n",
       "</style>\n",
       "<table border=\"1\" class=\"dataframe\">\n",
       "  <thead>\n",
       "    <tr style=\"text-align: right;\">\n",
       "      <th></th>\n",
       "      <th>A1_Score</th>\n",
       "      <th>A2_Score</th>\n",
       "      <th>A3_Score</th>\n",
       "      <th>A4_Score</th>\n",
       "      <th>A5_Score</th>\n",
       "      <th>A6_Score</th>\n",
       "      <th>A7_Score</th>\n",
       "      <th>A8_Score</th>\n",
       "      <th>A9_Score</th>\n",
       "      <th>A10_Score</th>\n",
       "      <th>...</th>\n",
       "      <th>gender</th>\n",
       "      <th>ethnicity</th>\n",
       "      <th>jundice</th>\n",
       "      <th>austim</th>\n",
       "      <th>contry_of_res</th>\n",
       "      <th>used_app_before</th>\n",
       "      <th>result</th>\n",
       "      <th>age_desc</th>\n",
       "      <th>relation</th>\n",
       "      <th>Class/ASD</th>\n",
       "    </tr>\n",
       "  </thead>\n",
       "  <tbody>\n",
       "    <tr>\n",
       "      <th>0</th>\n",
       "      <td>1</td>\n",
       "      <td>1</td>\n",
       "      <td>0</td>\n",
       "      <td>0</td>\n",
       "      <td>1</td>\n",
       "      <td>1</td>\n",
       "      <td>0</td>\n",
       "      <td>1</td>\n",
       "      <td>0</td>\n",
       "      <td>0</td>\n",
       "      <td>...</td>\n",
       "      <td>m</td>\n",
       "      <td>others</td>\n",
       "      <td>no</td>\n",
       "      <td>no</td>\n",
       "      <td>jordan</td>\n",
       "      <td>no</td>\n",
       "      <td>5.0</td>\n",
       "      <td>4-11 years</td>\n",
       "      <td>parent</td>\n",
       "      <td>no</td>\n",
       "    </tr>\n",
       "    <tr>\n",
       "      <th>1</th>\n",
       "      <td>1</td>\n",
       "      <td>1</td>\n",
       "      <td>0</td>\n",
       "      <td>0</td>\n",
       "      <td>1</td>\n",
       "      <td>1</td>\n",
       "      <td>0</td>\n",
       "      <td>1</td>\n",
       "      <td>0</td>\n",
       "      <td>0</td>\n",
       "      <td>...</td>\n",
       "      <td>m</td>\n",
       "      <td>middle eastern</td>\n",
       "      <td>no</td>\n",
       "      <td>no</td>\n",
       "      <td>jordan</td>\n",
       "      <td>no</td>\n",
       "      <td>5.0</td>\n",
       "      <td>4-11 years</td>\n",
       "      <td>parent</td>\n",
       "      <td>no</td>\n",
       "    </tr>\n",
       "    <tr>\n",
       "      <th>2</th>\n",
       "      <td>1</td>\n",
       "      <td>1</td>\n",
       "      <td>0</td>\n",
       "      <td>0</td>\n",
       "      <td>0</td>\n",
       "      <td>1</td>\n",
       "      <td>1</td>\n",
       "      <td>1</td>\n",
       "      <td>0</td>\n",
       "      <td>0</td>\n",
       "      <td>...</td>\n",
       "      <td>m</td>\n",
       "      <td>?</td>\n",
       "      <td>no</td>\n",
       "      <td>no</td>\n",
       "      <td>jordan</td>\n",
       "      <td>yes</td>\n",
       "      <td>5.0</td>\n",
       "      <td>4-11 years</td>\n",
       "      <td>?</td>\n",
       "      <td>no</td>\n",
       "    </tr>\n",
       "    <tr>\n",
       "      <th>3</th>\n",
       "      <td>0</td>\n",
       "      <td>1</td>\n",
       "      <td>0</td>\n",
       "      <td>0</td>\n",
       "      <td>1</td>\n",
       "      <td>1</td>\n",
       "      <td>0</td>\n",
       "      <td>0</td>\n",
       "      <td>0</td>\n",
       "      <td>1</td>\n",
       "      <td>...</td>\n",
       "      <td>f</td>\n",
       "      <td>?</td>\n",
       "      <td>yes</td>\n",
       "      <td>no</td>\n",
       "      <td>jordan</td>\n",
       "      <td>no</td>\n",
       "      <td>4.0</td>\n",
       "      <td>4-11 years</td>\n",
       "      <td>?</td>\n",
       "      <td>no</td>\n",
       "    </tr>\n",
       "    <tr>\n",
       "      <th>4</th>\n",
       "      <td>1</td>\n",
       "      <td>1</td>\n",
       "      <td>1</td>\n",
       "      <td>1</td>\n",
       "      <td>1</td>\n",
       "      <td>1</td>\n",
       "      <td>1</td>\n",
       "      <td>1</td>\n",
       "      <td>1</td>\n",
       "      <td>1</td>\n",
       "      <td>...</td>\n",
       "      <td>m</td>\n",
       "      <td>others</td>\n",
       "      <td>yes</td>\n",
       "      <td>no</td>\n",
       "      <td>united states</td>\n",
       "      <td>no</td>\n",
       "      <td>10.0</td>\n",
       "      <td>4-11 years</td>\n",
       "      <td>parent</td>\n",
       "      <td>yes</td>\n",
       "    </tr>\n",
       "    <tr>\n",
       "      <th>...</th>\n",
       "      <td>...</td>\n",
       "      <td>...</td>\n",
       "      <td>...</td>\n",
       "      <td>...</td>\n",
       "      <td>...</td>\n",
       "      <td>...</td>\n",
       "      <td>...</td>\n",
       "      <td>...</td>\n",
       "      <td>...</td>\n",
       "      <td>...</td>\n",
       "      <td>...</td>\n",
       "      <td>...</td>\n",
       "      <td>...</td>\n",
       "      <td>...</td>\n",
       "      <td>...</td>\n",
       "      <td>...</td>\n",
       "      <td>...</td>\n",
       "      <td>...</td>\n",
       "      <td>...</td>\n",
       "      <td>...</td>\n",
       "      <td>...</td>\n",
       "    </tr>\n",
       "    <tr>\n",
       "      <th>287</th>\n",
       "      <td>1</td>\n",
       "      <td>1</td>\n",
       "      <td>1</td>\n",
       "      <td>1</td>\n",
       "      <td>1</td>\n",
       "      <td>1</td>\n",
       "      <td>1</td>\n",
       "      <td>1</td>\n",
       "      <td>1</td>\n",
       "      <td>1</td>\n",
       "      <td>...</td>\n",
       "      <td>f</td>\n",
       "      <td>white-european</td>\n",
       "      <td>yes</td>\n",
       "      <td>yes</td>\n",
       "      <td>united kingdom</td>\n",
       "      <td>no</td>\n",
       "      <td>10.0</td>\n",
       "      <td>4-11 years</td>\n",
       "      <td>parent</td>\n",
       "      <td>yes</td>\n",
       "    </tr>\n",
       "    <tr>\n",
       "      <th>288</th>\n",
       "      <td>1</td>\n",
       "      <td>0</td>\n",
       "      <td>0</td>\n",
       "      <td>0</td>\n",
       "      <td>1</td>\n",
       "      <td>0</td>\n",
       "      <td>1</td>\n",
       "      <td>0</td>\n",
       "      <td>0</td>\n",
       "      <td>1</td>\n",
       "      <td>...</td>\n",
       "      <td>f</td>\n",
       "      <td>white-european</td>\n",
       "      <td>yes</td>\n",
       "      <td>yes</td>\n",
       "      <td>australia</td>\n",
       "      <td>no</td>\n",
       "      <td>4.0</td>\n",
       "      <td>4-11 years</td>\n",
       "      <td>parent</td>\n",
       "      <td>no</td>\n",
       "    </tr>\n",
       "    <tr>\n",
       "      <th>289</th>\n",
       "      <td>1</td>\n",
       "      <td>0</td>\n",
       "      <td>1</td>\n",
       "      <td>1</td>\n",
       "      <td>1</td>\n",
       "      <td>1</td>\n",
       "      <td>1</td>\n",
       "      <td>0</td>\n",
       "      <td>0</td>\n",
       "      <td>1</td>\n",
       "      <td>...</td>\n",
       "      <td>m</td>\n",
       "      <td>latino</td>\n",
       "      <td>no</td>\n",
       "      <td>no</td>\n",
       "      <td>brazil</td>\n",
       "      <td>no</td>\n",
       "      <td>7.0</td>\n",
       "      <td>4-11 years</td>\n",
       "      <td>parent</td>\n",
       "      <td>yes</td>\n",
       "    </tr>\n",
       "    <tr>\n",
       "      <th>290</th>\n",
       "      <td>1</td>\n",
       "      <td>1</td>\n",
       "      <td>1</td>\n",
       "      <td>0</td>\n",
       "      <td>1</td>\n",
       "      <td>1</td>\n",
       "      <td>1</td>\n",
       "      <td>1</td>\n",
       "      <td>1</td>\n",
       "      <td>1</td>\n",
       "      <td>...</td>\n",
       "      <td>m</td>\n",
       "      <td>south asian</td>\n",
       "      <td>no</td>\n",
       "      <td>no</td>\n",
       "      <td>india</td>\n",
       "      <td>no</td>\n",
       "      <td>9.0</td>\n",
       "      <td>4-11 years</td>\n",
       "      <td>parent</td>\n",
       "      <td>yes</td>\n",
       "    </tr>\n",
       "    <tr>\n",
       "      <th>291</th>\n",
       "      <td>0</td>\n",
       "      <td>0</td>\n",
       "      <td>1</td>\n",
       "      <td>0</td>\n",
       "      <td>1</td>\n",
       "      <td>0</td>\n",
       "      <td>1</td>\n",
       "      <td>0</td>\n",
       "      <td>0</td>\n",
       "      <td>0</td>\n",
       "      <td>...</td>\n",
       "      <td>f</td>\n",
       "      <td>south asian</td>\n",
       "      <td>no</td>\n",
       "      <td>no</td>\n",
       "      <td>india</td>\n",
       "      <td>no</td>\n",
       "      <td>3.0</td>\n",
       "      <td>4-11 years</td>\n",
       "      <td>parent</td>\n",
       "      <td>no</td>\n",
       "    </tr>\n",
       "  </tbody>\n",
       "</table>\n",
       "<p>292 rows × 21 columns</p>\n",
       "</div>"
      ],
      "text/plain": [
       "    A1_Score A2_Score A3_Score A4_Score A5_Score A6_Score A7_Score A8_Score  \\\n",
       "0          1        1        0        0        1        1        0        1   \n",
       "1          1        1        0        0        1        1        0        1   \n",
       "2          1        1        0        0        0        1        1        1   \n",
       "3          0        1        0        0        1        1        0        0   \n",
       "4          1        1        1        1        1        1        1        1   \n",
       "..       ...      ...      ...      ...      ...      ...      ...      ...   \n",
       "287        1        1        1        1        1        1        1        1   \n",
       "288        1        0        0        0        1        0        1        0   \n",
       "289        1        0        1        1        1        1        1        0   \n",
       "290        1        1        1        0        1        1        1        1   \n",
       "291        0        0        1        0        1        0        1        0   \n",
       "\n",
       "    A9_Score A10_Score  ...  gender        ethnicity jundice austim  \\\n",
       "0          0         0  ...       m           others      no     no   \n",
       "1          0         0  ...       m  middle eastern       no     no   \n",
       "2          0         0  ...       m                ?      no     no   \n",
       "3          0         1  ...       f                ?     yes     no   \n",
       "4          1         1  ...       m           others     yes     no   \n",
       "..       ...       ...  ...     ...              ...     ...    ...   \n",
       "287        1         1  ...       f   white-european     yes    yes   \n",
       "288        0         1  ...       f   white-european     yes    yes   \n",
       "289        0         1  ...       m           latino      no     no   \n",
       "290        1         1  ...       m      south asian      no     no   \n",
       "291        0         0  ...       f      south asian      no     no   \n",
       "\n",
       "      contry_of_res used_app_before result    age_desc relation Class/ASD  \n",
       "0            jordan              no    5.0  4-11 years   parent        no  \n",
       "1            jordan              no    5.0  4-11 years   parent        no  \n",
       "2            jordan             yes    5.0  4-11 years        ?        no  \n",
       "3            jordan              no    4.0  4-11 years        ?        no  \n",
       "4     united states              no   10.0  4-11 years   parent       yes  \n",
       "..              ...             ...    ...         ...      ...       ...  \n",
       "287  united kingdom              no   10.0  4-11 years   parent       yes  \n",
       "288       australia              no    4.0  4-11 years   parent        no  \n",
       "289          brazil              no    7.0  4-11 years   parent       yes  \n",
       "290           india              no    9.0  4-11 years   parent       yes  \n",
       "291           india              no    3.0  4-11 years   parent        no  \n",
       "\n",
       "[292 rows x 21 columns]"
      ]
     },
     "metadata": {},
     "output_type": "display_data"
    }
   ],
   "source": [
    "# convert all nominal variable string elements to lowercase.\n",
    "for i in range(len(meta.types())):\n",
    "    if meta.types()[i] == 'nominal':\n",
    "        df[meta.names()[i]] = df[meta.names()[i]].str.lower()    \n",
    "\n",
    "#let's look at the data now\n",
    "display(df)"
   ]
  },
  {
   "cell_type": "markdown",
   "id": "9223dd93-6cb0-4305-a5a6-715385fe6785",
   "metadata": {},
   "source": [
    "## Treat Missing\n",
    "\n",
    "Treating missing values generally falls into one of two strategies:\n",
    "1. A mask that globally indicates missing values.\n",
    "2. A sentinel value that indicates a missing entry.\n",
    "\n",
    "In the **mask** approach, it might be a same-sized Boolean array representation or use one bit to represent the local state of missing entry. This requires allocations of an additional Boolean array which adds memory and computational overhead. This \n",
    "\n",
    "In the **sentinel** value approach, a tag value is used for indicating the missing value, such as NaN (Not a Number), null or a special value which is part of the programming language. This limits the range of valid values that can be represented and may require extra logic in CPU and GPU arithmetic.\n",
    "\n",
    "Here we will use the sentinel approach but later we will use masks for image processing in the computer vision project. Pandas use sentinels to handle missing values, specifically Pandas use two already-existing Python null values:\n",
    "+ the python None object\n",
    "+ the floating-point NaN value\n",
    "\n",
    "None is a Python ‘object’ data that is often used for missing data. Because it is a Python object, None cannot be used in any arbitrary NumPy/Pandas array, but only in arrays with data type ‘object’. Notice the dtype in following integer numpy array created with a None element. "
   ]
  },
  {
   "cell_type": "code",
   "execution_count": 10,
   "id": "16213957-49e6-45d5-9362-bb4e0cc856cc",
   "metadata": {},
   "outputs": [
    {
     "data": {
      "text/plain": [
       "array([[1, 2, 3],\n",
       "       [4, None, 6]], dtype=object)"
      ]
     },
     "execution_count": 10,
     "metadata": {},
     "output_type": "execute_result"
    }
   ],
   "source": [
    "arr1 = np.array([[1,2,3],\n",
    "                [4,None,6]])\n",
    "arr1\n"
   ]
  },
  {
   "cell_type": "markdown",
   "id": "866b1188-deab-4992-acba-cb4a78e2d603",
   "metadata": {},
   "source": [
    "Because the array is of type object you will generally get an error if you perform aggregations like sum() or min()."
   ]
  },
  {
   "cell_type": "code",
   "execution_count": 11,
   "id": "e59e34b5-46ce-4960-9f52-bffd1f3ba1d5",
   "metadata": {},
   "outputs": [],
   "source": [
    "#uncomment to show error\n",
    "#np.sum(arr1, axis = 0)"
   ]
  },
  {
   "cell_type": "markdown",
   "id": "7e8c9d40-a542-4d0f-a915-8e3957d4803f",
   "metadata": {},
   "source": [
    "NaN is an acronym for 'Not a Number' and a special floating-point value in the standard IEEE floating-point representation. Notice the type of the array if initialize it with a NaN instead of None."
   ]
  },
  {
   "cell_type": "code",
   "execution_count": 12,
   "id": "bbf4ee69-356d-410a-8ed8-109ca0b320d8",
   "metadata": {},
   "outputs": [
    {
     "data": {
      "text/plain": [
       "dtype('float64')"
      ]
     },
     "execution_count": 12,
     "metadata": {},
     "output_type": "execute_result"
    }
   ],
   "source": [
    "arr2 = np.array([[1,2,3],\n",
    "                [4,np.nan,6]])\n",
    "arr2.dtype\n"
   ]
  },
  {
   "cell_type": "markdown",
   "id": "2421f7bd-8898-4254-8a9e-6932183514d7",
   "metadata": {},
   "source": [
    "NaN is specifically a floating-point value; there is no such thing for integers, strings or other types. Also, be aware that regardless of the operations, the result of arithmetic with NaN will be another NaN. For example,"
   ]
  },
  {
   "cell_type": "code",
   "execution_count": 13,
   "id": "7f138070-4e0b-482d-bd50-330feff99b9a",
   "metadata": {},
   "outputs": [
    {
     "data": {
      "text/plain": [
       "array([ 5., nan,  9.])"
      ]
     },
     "execution_count": 13,
     "metadata": {},
     "output_type": "execute_result"
    }
   ],
   "source": [
    "#aggreating arrays with np.nan elements\n",
    "np.sum(arr2, axis = 0)"
   ]
  },
  {
   "cell_type": "markdown",
   "id": "b096cbcd-448d-4b41-92ab-4beaf759e738",
   "metadata": {},
   "source": [
    "Pandas is built to handle the None and NaN nearly interchangeably, converting between them where appropriate. For types that don’t have an available sentinel value, Pandas automatically type-casts when NaN values are present. Notice the difference in type in the following pandas series. "
   ]
  },
  {
   "cell_type": "code",
   "execution_count": 14,
   "id": "63eb7a32-8426-419d-8901-3d39e8d59952",
   "metadata": {},
   "outputs": [
    {
     "data": {
      "text/plain": [
       "0    0\n",
       "1    1\n",
       "2    2\n",
       "dtype: int64"
      ]
     },
     "metadata": {},
     "output_type": "display_data"
    },
    {
     "data": {
      "text/plain": [
       "0    a\n",
       "1    b\n",
       "2    c\n",
       "dtype: object"
      ]
     },
     "metadata": {},
     "output_type": "display_data"
    }
   ],
   "source": [
    "iseries = pd.Series([0, 1, 2])\n",
    "aseries = pd.Series([\"a\", \"b\", \"c\"])\n",
    "display(iseries)\n",
    "display(aseries)"
   ]
  },
  {
   "cell_type": "code",
   "execution_count": 15,
   "id": "5945deb7-7fab-4136-b176-d72b63af1638",
   "metadata": {},
   "outputs": [
    {
     "data": {
      "text/plain": [
       "0    0.0\n",
       "1    NaN\n",
       "2    2.0\n",
       "dtype: float64"
      ]
     },
     "metadata": {},
     "output_type": "display_data"
    },
    {
     "data": {
      "text/plain": [
       "0       a\n",
       "1    None\n",
       "2       c\n",
       "dtype: object"
      ]
     },
     "metadata": {},
     "output_type": "display_data"
    }
   ],
   "source": [
    "iseries[1]= None\n",
    "aseries[1]= None\n",
    "display(iseries)\n",
    "display(aseries)"
   ]
  },
  {
   "cell_type": "code",
   "execution_count": 16,
   "id": "9ba24899-3d9d-42ce-8edb-f76a323616be",
   "metadata": {},
   "outputs": [
    {
     "data": {
      "text/plain": [
       "0    0.0\n",
       "1    NaN\n",
       "2    NaN\n",
       "dtype: float64"
      ]
     },
     "metadata": {},
     "output_type": "display_data"
    },
    {
     "data": {
      "text/plain": [
       "0       a\n",
       "1    None\n",
       "2     NaN\n",
       "dtype: object"
      ]
     },
     "metadata": {},
     "output_type": "display_data"
    }
   ],
   "source": [
    "iseries[2]= np.nan\n",
    "aseries[2]= np.nan\n",
    "display(iseries)\n",
    "display(aseries)"
   ]
  },
  {
   "cell_type": "markdown",
   "id": "363fa2ff-dd33-4f37-a8c1-eb7b2a005eb7",
   "metadata": {},
   "source": [
    "Often missing values don't come in nice and clean with None or np.nan values. If we know what kind of characters used as missing values in the dataset, we can handle them while creating the DataFrame using na_values parameter `df = pd.read_csv(\"source.csv\", na_values = ['?', '&'])`\n",
    "\n",
    "However, since we already have the data loaded we will have to edit the dataframe ourselves. In our case we need to replace the '?' characters used to indicate missing data in the arff file with None. Pandas will atutomatically type-cast to NaNs for the numeric variables while keeping None for the categorical variables. This can be accomplished with the pandas replace() function."
   ]
  },
  {
   "cell_type": "code",
   "execution_count": 17,
   "id": "0758dff1-25a7-4fcf-8a82-4ff9bf347a0d",
   "metadata": {},
   "outputs": [],
   "source": [
    "#replace all \"?\" with None objects\n",
    "df = df.replace({ \"?\": None })   "
   ]
  },
  {
   "cell_type": "code",
   "execution_count": 18,
   "id": "5892d3ac-1aa5-4a7a-a03d-570107fe0bf7",
   "metadata": {},
   "outputs": [
    {
     "data": {
      "text/plain": [
       "'--------------'"
      ]
     },
     "metadata": {},
     "output_type": "display_data"
    },
    {
     "data": {
      "text/html": [
       "<div>\n",
       "<style scoped>\n",
       "    .dataframe tbody tr th:only-of-type {\n",
       "        vertical-align: middle;\n",
       "    }\n",
       "\n",
       "    .dataframe tbody tr th {\n",
       "        vertical-align: top;\n",
       "    }\n",
       "\n",
       "    .dataframe thead th {\n",
       "        text-align: right;\n",
       "    }\n",
       "</style>\n",
       "<table border=\"1\" class=\"dataframe\">\n",
       "  <thead>\n",
       "    <tr style=\"text-align: right;\">\n",
       "      <th></th>\n",
       "      <th>A1_Score</th>\n",
       "    </tr>\n",
       "  </thead>\n",
       "  <tbody>\n",
       "    <tr>\n",
       "      <th>count</th>\n",
       "      <td>292</td>\n",
       "    </tr>\n",
       "    <tr>\n",
       "      <th>unique</th>\n",
       "      <td>2</td>\n",
       "    </tr>\n",
       "    <tr>\n",
       "      <th>top</th>\n",
       "      <td>1</td>\n",
       "    </tr>\n",
       "    <tr>\n",
       "      <th>freq</th>\n",
       "      <td>185</td>\n",
       "    </tr>\n",
       "  </tbody>\n",
       "</table>\n",
       "</div>"
      ],
      "text/plain": [
       "       A1_Score\n",
       "count       292\n",
       "unique        2\n",
       "top           1\n",
       "freq        185"
      ]
     },
     "metadata": {},
     "output_type": "display_data"
    },
    {
     "data": {
      "text/plain": [
       "A1_Score\n",
       "1           185\n",
       "0           107\n",
       "dtype: int64"
      ]
     },
     "metadata": {},
     "output_type": "display_data"
    },
    {
     "data": {
      "text/plain": [
       "'--------------'"
      ]
     },
     "metadata": {},
     "output_type": "display_data"
    },
    {
     "data": {
      "text/html": [
       "<div>\n",
       "<style scoped>\n",
       "    .dataframe tbody tr th:only-of-type {\n",
       "        vertical-align: middle;\n",
       "    }\n",
       "\n",
       "    .dataframe tbody tr th {\n",
       "        vertical-align: top;\n",
       "    }\n",
       "\n",
       "    .dataframe thead th {\n",
       "        text-align: right;\n",
       "    }\n",
       "</style>\n",
       "<table border=\"1\" class=\"dataframe\">\n",
       "  <thead>\n",
       "    <tr style=\"text-align: right;\">\n",
       "      <th></th>\n",
       "      <th>A2_Score</th>\n",
       "    </tr>\n",
       "  </thead>\n",
       "  <tbody>\n",
       "    <tr>\n",
       "      <th>count</th>\n",
       "      <td>292</td>\n",
       "    </tr>\n",
       "    <tr>\n",
       "      <th>unique</th>\n",
       "      <td>2</td>\n",
       "    </tr>\n",
       "    <tr>\n",
       "      <th>top</th>\n",
       "      <td>1</td>\n",
       "    </tr>\n",
       "    <tr>\n",
       "      <th>freq</th>\n",
       "      <td>156</td>\n",
       "    </tr>\n",
       "  </tbody>\n",
       "</table>\n",
       "</div>"
      ],
      "text/plain": [
       "       A2_Score\n",
       "count       292\n",
       "unique        2\n",
       "top           1\n",
       "freq        156"
      ]
     },
     "metadata": {},
     "output_type": "display_data"
    },
    {
     "data": {
      "text/plain": [
       "A2_Score\n",
       "1           156\n",
       "0           136\n",
       "dtype: int64"
      ]
     },
     "metadata": {},
     "output_type": "display_data"
    },
    {
     "data": {
      "text/plain": [
       "'--------------'"
      ]
     },
     "metadata": {},
     "output_type": "display_data"
    },
    {
     "data": {
      "text/html": [
       "<div>\n",
       "<style scoped>\n",
       "    .dataframe tbody tr th:only-of-type {\n",
       "        vertical-align: middle;\n",
       "    }\n",
       "\n",
       "    .dataframe tbody tr th {\n",
       "        vertical-align: top;\n",
       "    }\n",
       "\n",
       "    .dataframe thead th {\n",
       "        text-align: right;\n",
       "    }\n",
       "</style>\n",
       "<table border=\"1\" class=\"dataframe\">\n",
       "  <thead>\n",
       "    <tr style=\"text-align: right;\">\n",
       "      <th></th>\n",
       "      <th>A3_Score</th>\n",
       "    </tr>\n",
       "  </thead>\n",
       "  <tbody>\n",
       "    <tr>\n",
       "      <th>count</th>\n",
       "      <td>292</td>\n",
       "    </tr>\n",
       "    <tr>\n",
       "      <th>unique</th>\n",
       "      <td>2</td>\n",
       "    </tr>\n",
       "    <tr>\n",
       "      <th>top</th>\n",
       "      <td>1</td>\n",
       "    </tr>\n",
       "    <tr>\n",
       "      <th>freq</th>\n",
       "      <td>217</td>\n",
       "    </tr>\n",
       "  </tbody>\n",
       "</table>\n",
       "</div>"
      ],
      "text/plain": [
       "       A3_Score\n",
       "count       292\n",
       "unique        2\n",
       "top           1\n",
       "freq        217"
      ]
     },
     "metadata": {},
     "output_type": "display_data"
    },
    {
     "data": {
      "text/plain": [
       "A3_Score\n",
       "1           217\n",
       "0            75\n",
       "dtype: int64"
      ]
     },
     "metadata": {},
     "output_type": "display_data"
    },
    {
     "data": {
      "text/plain": [
       "'--------------'"
      ]
     },
     "metadata": {},
     "output_type": "display_data"
    },
    {
     "data": {
      "text/html": [
       "<div>\n",
       "<style scoped>\n",
       "    .dataframe tbody tr th:only-of-type {\n",
       "        vertical-align: middle;\n",
       "    }\n",
       "\n",
       "    .dataframe tbody tr th {\n",
       "        vertical-align: top;\n",
       "    }\n",
       "\n",
       "    .dataframe thead th {\n",
       "        text-align: right;\n",
       "    }\n",
       "</style>\n",
       "<table border=\"1\" class=\"dataframe\">\n",
       "  <thead>\n",
       "    <tr style=\"text-align: right;\">\n",
       "      <th></th>\n",
       "      <th>A4_Score</th>\n",
       "    </tr>\n",
       "  </thead>\n",
       "  <tbody>\n",
       "    <tr>\n",
       "      <th>count</th>\n",
       "      <td>292</td>\n",
       "    </tr>\n",
       "    <tr>\n",
       "      <th>unique</th>\n",
       "      <td>2</td>\n",
       "    </tr>\n",
       "    <tr>\n",
       "      <th>top</th>\n",
       "      <td>1</td>\n",
       "    </tr>\n",
       "    <tr>\n",
       "      <th>freq</th>\n",
       "      <td>161</td>\n",
       "    </tr>\n",
       "  </tbody>\n",
       "</table>\n",
       "</div>"
      ],
      "text/plain": [
       "       A4_Score\n",
       "count       292\n",
       "unique        2\n",
       "top           1\n",
       "freq        161"
      ]
     },
     "metadata": {},
     "output_type": "display_data"
    },
    {
     "data": {
      "text/plain": [
       "A4_Score\n",
       "1           161\n",
       "0           131\n",
       "dtype: int64"
      ]
     },
     "metadata": {},
     "output_type": "display_data"
    },
    {
     "data": {
      "text/plain": [
       "'--------------'"
      ]
     },
     "metadata": {},
     "output_type": "display_data"
    },
    {
     "data": {
      "text/html": [
       "<div>\n",
       "<style scoped>\n",
       "    .dataframe tbody tr th:only-of-type {\n",
       "        vertical-align: middle;\n",
       "    }\n",
       "\n",
       "    .dataframe tbody tr th {\n",
       "        vertical-align: top;\n",
       "    }\n",
       "\n",
       "    .dataframe thead th {\n",
       "        text-align: right;\n",
       "    }\n",
       "</style>\n",
       "<table border=\"1\" class=\"dataframe\">\n",
       "  <thead>\n",
       "    <tr style=\"text-align: right;\">\n",
       "      <th></th>\n",
       "      <th>A5_Score</th>\n",
       "    </tr>\n",
       "  </thead>\n",
       "  <tbody>\n",
       "    <tr>\n",
       "      <th>count</th>\n",
       "      <td>292</td>\n",
       "    </tr>\n",
       "    <tr>\n",
       "      <th>unique</th>\n",
       "      <td>2</td>\n",
       "    </tr>\n",
       "    <tr>\n",
       "      <th>top</th>\n",
       "      <td>1</td>\n",
       "    </tr>\n",
       "    <tr>\n",
       "      <th>freq</th>\n",
       "      <td>217</td>\n",
       "    </tr>\n",
       "  </tbody>\n",
       "</table>\n",
       "</div>"
      ],
      "text/plain": [
       "       A5_Score\n",
       "count       292\n",
       "unique        2\n",
       "top           1\n",
       "freq        217"
      ]
     },
     "metadata": {},
     "output_type": "display_data"
    },
    {
     "data": {
      "text/plain": [
       "A5_Score\n",
       "1           217\n",
       "0            75\n",
       "dtype: int64"
      ]
     },
     "metadata": {},
     "output_type": "display_data"
    },
    {
     "data": {
      "text/plain": [
       "'--------------'"
      ]
     },
     "metadata": {},
     "output_type": "display_data"
    },
    {
     "data": {
      "text/html": [
       "<div>\n",
       "<style scoped>\n",
       "    .dataframe tbody tr th:only-of-type {\n",
       "        vertical-align: middle;\n",
       "    }\n",
       "\n",
       "    .dataframe tbody tr th {\n",
       "        vertical-align: top;\n",
       "    }\n",
       "\n",
       "    .dataframe thead th {\n",
       "        text-align: right;\n",
       "    }\n",
       "</style>\n",
       "<table border=\"1\" class=\"dataframe\">\n",
       "  <thead>\n",
       "    <tr style=\"text-align: right;\">\n",
       "      <th></th>\n",
       "      <th>A6_Score</th>\n",
       "    </tr>\n",
       "  </thead>\n",
       "  <tbody>\n",
       "    <tr>\n",
       "      <th>count</th>\n",
       "      <td>292</td>\n",
       "    </tr>\n",
       "    <tr>\n",
       "      <th>unique</th>\n",
       "      <td>2</td>\n",
       "    </tr>\n",
       "    <tr>\n",
       "      <th>top</th>\n",
       "      <td>1</td>\n",
       "    </tr>\n",
       "    <tr>\n",
       "      <th>freq</th>\n",
       "      <td>208</td>\n",
       "    </tr>\n",
       "  </tbody>\n",
       "</table>\n",
       "</div>"
      ],
      "text/plain": [
       "       A6_Score\n",
       "count       292\n",
       "unique        2\n",
       "top           1\n",
       "freq        208"
      ]
     },
     "metadata": {},
     "output_type": "display_data"
    },
    {
     "data": {
      "text/plain": [
       "A6_Score\n",
       "1           208\n",
       "0            84\n",
       "dtype: int64"
      ]
     },
     "metadata": {},
     "output_type": "display_data"
    },
    {
     "data": {
      "text/plain": [
       "'--------------'"
      ]
     },
     "metadata": {},
     "output_type": "display_data"
    },
    {
     "data": {
      "text/html": [
       "<div>\n",
       "<style scoped>\n",
       "    .dataframe tbody tr th:only-of-type {\n",
       "        vertical-align: middle;\n",
       "    }\n",
       "\n",
       "    .dataframe tbody tr th {\n",
       "        vertical-align: top;\n",
       "    }\n",
       "\n",
       "    .dataframe thead th {\n",
       "        text-align: right;\n",
       "    }\n",
       "</style>\n",
       "<table border=\"1\" class=\"dataframe\">\n",
       "  <thead>\n",
       "    <tr style=\"text-align: right;\">\n",
       "      <th></th>\n",
       "      <th>A7_Score</th>\n",
       "    </tr>\n",
       "  </thead>\n",
       "  <tbody>\n",
       "    <tr>\n",
       "      <th>count</th>\n",
       "      <td>292</td>\n",
       "    </tr>\n",
       "    <tr>\n",
       "      <th>unique</th>\n",
       "      <td>2</td>\n",
       "    </tr>\n",
       "    <tr>\n",
       "      <th>top</th>\n",
       "      <td>1</td>\n",
       "    </tr>\n",
       "    <tr>\n",
       "      <th>freq</th>\n",
       "      <td>177</td>\n",
       "    </tr>\n",
       "  </tbody>\n",
       "</table>\n",
       "</div>"
      ],
      "text/plain": [
       "       A7_Score\n",
       "count       292\n",
       "unique        2\n",
       "top           1\n",
       "freq        177"
      ]
     },
     "metadata": {},
     "output_type": "display_data"
    },
    {
     "data": {
      "text/plain": [
       "A7_Score\n",
       "1           177\n",
       "0           115\n",
       "dtype: int64"
      ]
     },
     "metadata": {},
     "output_type": "display_data"
    },
    {
     "data": {
      "text/plain": [
       "'--------------'"
      ]
     },
     "metadata": {},
     "output_type": "display_data"
    },
    {
     "data": {
      "text/html": [
       "<div>\n",
       "<style scoped>\n",
       "    .dataframe tbody tr th:only-of-type {\n",
       "        vertical-align: middle;\n",
       "    }\n",
       "\n",
       "    .dataframe tbody tr th {\n",
       "        vertical-align: top;\n",
       "    }\n",
       "\n",
       "    .dataframe thead th {\n",
       "        text-align: right;\n",
       "    }\n",
       "</style>\n",
       "<table border=\"1\" class=\"dataframe\">\n",
       "  <thead>\n",
       "    <tr style=\"text-align: right;\">\n",
       "      <th></th>\n",
       "      <th>A8_Score</th>\n",
       "    </tr>\n",
       "  </thead>\n",
       "  <tbody>\n",
       "    <tr>\n",
       "      <th>count</th>\n",
       "      <td>292</td>\n",
       "    </tr>\n",
       "    <tr>\n",
       "      <th>unique</th>\n",
       "      <td>2</td>\n",
       "    </tr>\n",
       "    <tr>\n",
       "      <th>top</th>\n",
       "      <td>0</td>\n",
       "    </tr>\n",
       "    <tr>\n",
       "      <th>freq</th>\n",
       "      <td>147</td>\n",
       "    </tr>\n",
       "  </tbody>\n",
       "</table>\n",
       "</div>"
      ],
      "text/plain": [
       "       A8_Score\n",
       "count       292\n",
       "unique        2\n",
       "top           0\n",
       "freq        147"
      ]
     },
     "metadata": {},
     "output_type": "display_data"
    },
    {
     "data": {
      "text/plain": [
       "A8_Score\n",
       "0           147\n",
       "1           145\n",
       "dtype: int64"
      ]
     },
     "metadata": {},
     "output_type": "display_data"
    },
    {
     "data": {
      "text/plain": [
       "'--------------'"
      ]
     },
     "metadata": {},
     "output_type": "display_data"
    },
    {
     "data": {
      "text/html": [
       "<div>\n",
       "<style scoped>\n",
       "    .dataframe tbody tr th:only-of-type {\n",
       "        vertical-align: middle;\n",
       "    }\n",
       "\n",
       "    .dataframe tbody tr th {\n",
       "        vertical-align: top;\n",
       "    }\n",
       "\n",
       "    .dataframe thead th {\n",
       "        text-align: right;\n",
       "    }\n",
       "</style>\n",
       "<table border=\"1\" class=\"dataframe\">\n",
       "  <thead>\n",
       "    <tr style=\"text-align: right;\">\n",
       "      <th></th>\n",
       "      <th>A9_Score</th>\n",
       "    </tr>\n",
       "  </thead>\n",
       "  <tbody>\n",
       "    <tr>\n",
       "      <th>count</th>\n",
       "      <td>292</td>\n",
       "    </tr>\n",
       "    <tr>\n",
       "      <th>unique</th>\n",
       "      <td>2</td>\n",
       "    </tr>\n",
       "    <tr>\n",
       "      <th>top</th>\n",
       "      <td>0</td>\n",
       "    </tr>\n",
       "    <tr>\n",
       "      <th>freq</th>\n",
       "      <td>148</td>\n",
       "    </tr>\n",
       "  </tbody>\n",
       "</table>\n",
       "</div>"
      ],
      "text/plain": [
       "       A9_Score\n",
       "count       292\n",
       "unique        2\n",
       "top           0\n",
       "freq        148"
      ]
     },
     "metadata": {},
     "output_type": "display_data"
    },
    {
     "data": {
      "text/plain": [
       "A9_Score\n",
       "0           148\n",
       "1           144\n",
       "dtype: int64"
      ]
     },
     "metadata": {},
     "output_type": "display_data"
    },
    {
     "data": {
      "text/plain": [
       "'--------------'"
      ]
     },
     "metadata": {},
     "output_type": "display_data"
    },
    {
     "data": {
      "text/html": [
       "<div>\n",
       "<style scoped>\n",
       "    .dataframe tbody tr th:only-of-type {\n",
       "        vertical-align: middle;\n",
       "    }\n",
       "\n",
       "    .dataframe tbody tr th {\n",
       "        vertical-align: top;\n",
       "    }\n",
       "\n",
       "    .dataframe thead th {\n",
       "        text-align: right;\n",
       "    }\n",
       "</style>\n",
       "<table border=\"1\" class=\"dataframe\">\n",
       "  <thead>\n",
       "    <tr style=\"text-align: right;\">\n",
       "      <th></th>\n",
       "      <th>A10_Score</th>\n",
       "    </tr>\n",
       "  </thead>\n",
       "  <tbody>\n",
       "    <tr>\n",
       "      <th>count</th>\n",
       "      <td>292</td>\n",
       "    </tr>\n",
       "    <tr>\n",
       "      <th>unique</th>\n",
       "      <td>2</td>\n",
       "    </tr>\n",
       "    <tr>\n",
       "      <th>top</th>\n",
       "      <td>1</td>\n",
       "    </tr>\n",
       "    <tr>\n",
       "      <th>freq</th>\n",
       "      <td>212</td>\n",
       "    </tr>\n",
       "  </tbody>\n",
       "</table>\n",
       "</div>"
      ],
      "text/plain": [
       "       A10_Score\n",
       "count        292\n",
       "unique         2\n",
       "top            1\n",
       "freq         212"
      ]
     },
     "metadata": {},
     "output_type": "display_data"
    },
    {
     "data": {
      "text/plain": [
       "A10_Score\n",
       "1            212\n",
       "0             80\n",
       "dtype: int64"
      ]
     },
     "metadata": {},
     "output_type": "display_data"
    },
    {
     "data": {
      "text/plain": [
       "'--------------'"
      ]
     },
     "metadata": {},
     "output_type": "display_data"
    },
    {
     "data": {
      "text/html": [
       "<div>\n",
       "<style scoped>\n",
       "    .dataframe tbody tr th:only-of-type {\n",
       "        vertical-align: middle;\n",
       "    }\n",
       "\n",
       "    .dataframe tbody tr th {\n",
       "        vertical-align: top;\n",
       "    }\n",
       "\n",
       "    .dataframe thead th {\n",
       "        text-align: right;\n",
       "    }\n",
       "</style>\n",
       "<table border=\"1\" class=\"dataframe\">\n",
       "  <thead>\n",
       "    <tr style=\"text-align: right;\">\n",
       "      <th></th>\n",
       "      <th>age</th>\n",
       "    </tr>\n",
       "  </thead>\n",
       "  <tbody>\n",
       "    <tr>\n",
       "      <th>count</th>\n",
       "      <td>288.000000</td>\n",
       "    </tr>\n",
       "    <tr>\n",
       "      <th>mean</th>\n",
       "      <td>6.354167</td>\n",
       "    </tr>\n",
       "    <tr>\n",
       "      <th>std</th>\n",
       "      <td>2.365456</td>\n",
       "    </tr>\n",
       "    <tr>\n",
       "      <th>min</th>\n",
       "      <td>4.000000</td>\n",
       "    </tr>\n",
       "    <tr>\n",
       "      <th>25%</th>\n",
       "      <td>4.000000</td>\n",
       "    </tr>\n",
       "    <tr>\n",
       "      <th>50%</th>\n",
       "      <td>6.000000</td>\n",
       "    </tr>\n",
       "    <tr>\n",
       "      <th>75%</th>\n",
       "      <td>8.000000</td>\n",
       "    </tr>\n",
       "    <tr>\n",
       "      <th>max</th>\n",
       "      <td>11.000000</td>\n",
       "    </tr>\n",
       "  </tbody>\n",
       "</table>\n",
       "</div>"
      ],
      "text/plain": [
       "              age\n",
       "count  288.000000\n",
       "mean     6.354167\n",
       "std      2.365456\n",
       "min      4.000000\n",
       "25%      4.000000\n",
       "50%      6.000000\n",
       "75%      8.000000\n",
       "max     11.000000"
      ]
     },
     "metadata": {},
     "output_type": "display_data"
    },
    {
     "data": {
      "text/plain": [
       "age \n",
       "4.0     92\n",
       "5.0     45\n",
       "6.0     39\n",
       "7.0     27\n",
       "11.0    26\n",
       "8.0     21\n",
       "9.0     20\n",
       "10.0    18\n",
       "dtype: int64"
      ]
     },
     "metadata": {},
     "output_type": "display_data"
    },
    {
     "data": {
      "text/plain": [
       "'--------------'"
      ]
     },
     "metadata": {},
     "output_type": "display_data"
    },
    {
     "data": {
      "text/html": [
       "<div>\n",
       "<style scoped>\n",
       "    .dataframe tbody tr th:only-of-type {\n",
       "        vertical-align: middle;\n",
       "    }\n",
       "\n",
       "    .dataframe tbody tr th {\n",
       "        vertical-align: top;\n",
       "    }\n",
       "\n",
       "    .dataframe thead th {\n",
       "        text-align: right;\n",
       "    }\n",
       "</style>\n",
       "<table border=\"1\" class=\"dataframe\">\n",
       "  <thead>\n",
       "    <tr style=\"text-align: right;\">\n",
       "      <th></th>\n",
       "      <th>gender</th>\n",
       "    </tr>\n",
       "  </thead>\n",
       "  <tbody>\n",
       "    <tr>\n",
       "      <th>count</th>\n",
       "      <td>292</td>\n",
       "    </tr>\n",
       "    <tr>\n",
       "      <th>unique</th>\n",
       "      <td>2</td>\n",
       "    </tr>\n",
       "    <tr>\n",
       "      <th>top</th>\n",
       "      <td>m</td>\n",
       "    </tr>\n",
       "    <tr>\n",
       "      <th>freq</th>\n",
       "      <td>208</td>\n",
       "    </tr>\n",
       "  </tbody>\n",
       "</table>\n",
       "</div>"
      ],
      "text/plain": [
       "       gender\n",
       "count     292\n",
       "unique      2\n",
       "top         m\n",
       "freq      208"
      ]
     },
     "metadata": {},
     "output_type": "display_data"
    },
    {
     "data": {
      "text/plain": [
       "gender\n",
       "m         208\n",
       "f          84\n",
       "dtype: int64"
      ]
     },
     "metadata": {},
     "output_type": "display_data"
    },
    {
     "data": {
      "text/plain": [
       "'--------------'"
      ]
     },
     "metadata": {},
     "output_type": "display_data"
    },
    {
     "data": {
      "text/html": [
       "<div>\n",
       "<style scoped>\n",
       "    .dataframe tbody tr th:only-of-type {\n",
       "        vertical-align: middle;\n",
       "    }\n",
       "\n",
       "    .dataframe tbody tr th {\n",
       "        vertical-align: top;\n",
       "    }\n",
       "\n",
       "    .dataframe thead th {\n",
       "        text-align: right;\n",
       "    }\n",
       "</style>\n",
       "<table border=\"1\" class=\"dataframe\">\n",
       "  <thead>\n",
       "    <tr style=\"text-align: right;\">\n",
       "      <th></th>\n",
       "      <th>ethnicity</th>\n",
       "    </tr>\n",
       "  </thead>\n",
       "  <tbody>\n",
       "    <tr>\n",
       "      <th>count</th>\n",
       "      <td>249</td>\n",
       "    </tr>\n",
       "    <tr>\n",
       "      <th>unique</th>\n",
       "      <td>10</td>\n",
       "    </tr>\n",
       "    <tr>\n",
       "      <th>top</th>\n",
       "      <td>white-european</td>\n",
       "    </tr>\n",
       "    <tr>\n",
       "      <th>freq</th>\n",
       "      <td>108</td>\n",
       "    </tr>\n",
       "  </tbody>\n",
       "</table>\n",
       "</div>"
      ],
      "text/plain": [
       "             ethnicity\n",
       "count              249\n",
       "unique              10\n",
       "top     white-european\n",
       "freq               108"
      ]
     },
     "metadata": {},
     "output_type": "display_data"
    },
    {
     "data": {
      "text/plain": [
       "ethnicity      \n",
       "white-european     108\n",
       "asian               46\n",
       "middle eastern      27\n",
       "south asian         21\n",
       "black               14\n",
       "others              14\n",
       "latino               8\n",
       "hispanic             7\n",
       "pasifika             2\n",
       "turkish              2\n",
       "dtype: int64"
      ]
     },
     "metadata": {},
     "output_type": "display_data"
    },
    {
     "data": {
      "text/plain": [
       "'--------------'"
      ]
     },
     "metadata": {},
     "output_type": "display_data"
    },
    {
     "data": {
      "text/html": [
       "<div>\n",
       "<style scoped>\n",
       "    .dataframe tbody tr th:only-of-type {\n",
       "        vertical-align: middle;\n",
       "    }\n",
       "\n",
       "    .dataframe tbody tr th {\n",
       "        vertical-align: top;\n",
       "    }\n",
       "\n",
       "    .dataframe thead th {\n",
       "        text-align: right;\n",
       "    }\n",
       "</style>\n",
       "<table border=\"1\" class=\"dataframe\">\n",
       "  <thead>\n",
       "    <tr style=\"text-align: right;\">\n",
       "      <th></th>\n",
       "      <th>jundice</th>\n",
       "    </tr>\n",
       "  </thead>\n",
       "  <tbody>\n",
       "    <tr>\n",
       "      <th>count</th>\n",
       "      <td>292</td>\n",
       "    </tr>\n",
       "    <tr>\n",
       "      <th>unique</th>\n",
       "      <td>2</td>\n",
       "    </tr>\n",
       "    <tr>\n",
       "      <th>top</th>\n",
       "      <td>no</td>\n",
       "    </tr>\n",
       "    <tr>\n",
       "      <th>freq</th>\n",
       "      <td>212</td>\n",
       "    </tr>\n",
       "  </tbody>\n",
       "</table>\n",
       "</div>"
      ],
      "text/plain": [
       "       jundice\n",
       "count      292\n",
       "unique       2\n",
       "top         no\n",
       "freq       212"
      ]
     },
     "metadata": {},
     "output_type": "display_data"
    },
    {
     "data": {
      "text/plain": [
       "jundice\n",
       "no         212\n",
       "yes         80\n",
       "dtype: int64"
      ]
     },
     "metadata": {},
     "output_type": "display_data"
    },
    {
     "data": {
      "text/plain": [
       "'--------------'"
      ]
     },
     "metadata": {},
     "output_type": "display_data"
    },
    {
     "data": {
      "text/html": [
       "<div>\n",
       "<style scoped>\n",
       "    .dataframe tbody tr th:only-of-type {\n",
       "        vertical-align: middle;\n",
       "    }\n",
       "\n",
       "    .dataframe tbody tr th {\n",
       "        vertical-align: top;\n",
       "    }\n",
       "\n",
       "    .dataframe thead th {\n",
       "        text-align: right;\n",
       "    }\n",
       "</style>\n",
       "<table border=\"1\" class=\"dataframe\">\n",
       "  <thead>\n",
       "    <tr style=\"text-align: right;\">\n",
       "      <th></th>\n",
       "      <th>austim</th>\n",
       "    </tr>\n",
       "  </thead>\n",
       "  <tbody>\n",
       "    <tr>\n",
       "      <th>count</th>\n",
       "      <td>292</td>\n",
       "    </tr>\n",
       "    <tr>\n",
       "      <th>unique</th>\n",
       "      <td>2</td>\n",
       "    </tr>\n",
       "    <tr>\n",
       "      <th>top</th>\n",
       "      <td>no</td>\n",
       "    </tr>\n",
       "    <tr>\n",
       "      <th>freq</th>\n",
       "      <td>243</td>\n",
       "    </tr>\n",
       "  </tbody>\n",
       "</table>\n",
       "</div>"
      ],
      "text/plain": [
       "       austim\n",
       "count     292\n",
       "unique      2\n",
       "top        no\n",
       "freq      243"
      ]
     },
     "metadata": {},
     "output_type": "display_data"
    },
    {
     "data": {
      "text/plain": [
       "austim\n",
       "no        243\n",
       "yes        49\n",
       "dtype: int64"
      ]
     },
     "metadata": {},
     "output_type": "display_data"
    },
    {
     "data": {
      "text/plain": [
       "'--------------'"
      ]
     },
     "metadata": {},
     "output_type": "display_data"
    },
    {
     "data": {
      "text/html": [
       "<div>\n",
       "<style scoped>\n",
       "    .dataframe tbody tr th:only-of-type {\n",
       "        vertical-align: middle;\n",
       "    }\n",
       "\n",
       "    .dataframe tbody tr th {\n",
       "        vertical-align: top;\n",
       "    }\n",
       "\n",
       "    .dataframe thead th {\n",
       "        text-align: right;\n",
       "    }\n",
       "</style>\n",
       "<table border=\"1\" class=\"dataframe\">\n",
       "  <thead>\n",
       "    <tr style=\"text-align: right;\">\n",
       "      <th></th>\n",
       "      <th>contry_of_res</th>\n",
       "    </tr>\n",
       "  </thead>\n",
       "  <tbody>\n",
       "    <tr>\n",
       "      <th>count</th>\n",
       "      <td>292</td>\n",
       "    </tr>\n",
       "    <tr>\n",
       "      <th>unique</th>\n",
       "      <td>52</td>\n",
       "    </tr>\n",
       "    <tr>\n",
       "      <th>top</th>\n",
       "      <td>united kingdom</td>\n",
       "    </tr>\n",
       "    <tr>\n",
       "      <th>freq</th>\n",
       "      <td>49</td>\n",
       "    </tr>\n",
       "  </tbody>\n",
       "</table>\n",
       "</div>"
      ],
      "text/plain": [
       "         contry_of_res\n",
       "count              292\n",
       "unique              52\n",
       "top     united kingdom\n",
       "freq                49"
      ]
     },
     "metadata": {},
     "output_type": "display_data"
    },
    {
     "data": {
      "text/plain": [
       "contry_of_res        \n",
       "united kingdom           49\n",
       "united states            42\n",
       "india                    42\n",
       "australia                23\n",
       "jordan                   20\n",
       "new zealand              13\n",
       "egypt                     9\n",
       "united arab emirates      7\n",
       "canada                    7\n",
       "bangladesh                6\n",
       "philippines               4\n",
       "saudi arabia              4\n",
       "pakistan                  4\n",
       "libya                     3\n",
       "iraq                      3\n",
       "russia                    3\n",
       "qatar                     3\n",
       "syria                     3\n",
       "armenia                   3\n",
       "south africa              2\n",
       "turkey                    2\n",
       "mexico                    2\n",
       "malaysia                  2\n",
       "lebanon                   2\n",
       "afghanistan               2\n",
       "georgia                   2\n",
       "austria                   2\n",
       "italy                     2\n",
       "bahrain                   2\n",
       "brazil                    2\n",
       "europe                    1\n",
       "u.s. outlying islands     1\n",
       "bhutan                    1\n",
       "sweden                    1\n",
       "south korea               1\n",
       "bulgaria                  1\n",
       "china                     1\n",
       "costa rica                1\n",
       "romania                   1\n",
       "kuwait                    1\n",
       "argentina                 1\n",
       "germany                   1\n",
       "oman                      1\n",
       "nigeria                   1\n",
       "ghana                     1\n",
       "netherlands               1\n",
       "nepal                     1\n",
       "ireland                   1\n",
       "malta                     1\n",
       "isle of man               1\n",
       "japan                     1\n",
       "latvia                    1\n",
       "dtype: int64"
      ]
     },
     "metadata": {},
     "output_type": "display_data"
    },
    {
     "data": {
      "text/plain": [
       "'--------------'"
      ]
     },
     "metadata": {},
     "output_type": "display_data"
    },
    {
     "data": {
      "text/html": [
       "<div>\n",
       "<style scoped>\n",
       "    .dataframe tbody tr th:only-of-type {\n",
       "        vertical-align: middle;\n",
       "    }\n",
       "\n",
       "    .dataframe tbody tr th {\n",
       "        vertical-align: top;\n",
       "    }\n",
       "\n",
       "    .dataframe thead th {\n",
       "        text-align: right;\n",
       "    }\n",
       "</style>\n",
       "<table border=\"1\" class=\"dataframe\">\n",
       "  <thead>\n",
       "    <tr style=\"text-align: right;\">\n",
       "      <th></th>\n",
       "      <th>used_app_before</th>\n",
       "    </tr>\n",
       "  </thead>\n",
       "  <tbody>\n",
       "    <tr>\n",
       "      <th>count</th>\n",
       "      <td>292</td>\n",
       "    </tr>\n",
       "    <tr>\n",
       "      <th>unique</th>\n",
       "      <td>2</td>\n",
       "    </tr>\n",
       "    <tr>\n",
       "      <th>top</th>\n",
       "      <td>no</td>\n",
       "    </tr>\n",
       "    <tr>\n",
       "      <th>freq</th>\n",
       "      <td>281</td>\n",
       "    </tr>\n",
       "  </tbody>\n",
       "</table>\n",
       "</div>"
      ],
      "text/plain": [
       "       used_app_before\n",
       "count              292\n",
       "unique               2\n",
       "top                 no\n",
       "freq               281"
      ]
     },
     "metadata": {},
     "output_type": "display_data"
    },
    {
     "data": {
      "text/plain": [
       "used_app_before\n",
       "no                 281\n",
       "yes                 11\n",
       "dtype: int64"
      ]
     },
     "metadata": {},
     "output_type": "display_data"
    },
    {
     "data": {
      "text/plain": [
       "'--------------'"
      ]
     },
     "metadata": {},
     "output_type": "display_data"
    },
    {
     "data": {
      "text/html": [
       "<div>\n",
       "<style scoped>\n",
       "    .dataframe tbody tr th:only-of-type {\n",
       "        vertical-align: middle;\n",
       "    }\n",
       "\n",
       "    .dataframe tbody tr th {\n",
       "        vertical-align: top;\n",
       "    }\n",
       "\n",
       "    .dataframe thead th {\n",
       "        text-align: right;\n",
       "    }\n",
       "</style>\n",
       "<table border=\"1\" class=\"dataframe\">\n",
       "  <thead>\n",
       "    <tr style=\"text-align: right;\">\n",
       "      <th></th>\n",
       "      <th>result</th>\n",
       "    </tr>\n",
       "  </thead>\n",
       "  <tbody>\n",
       "    <tr>\n",
       "      <th>count</th>\n",
       "      <td>292.000000</td>\n",
       "    </tr>\n",
       "    <tr>\n",
       "      <th>mean</th>\n",
       "      <td>6.239726</td>\n",
       "    </tr>\n",
       "    <tr>\n",
       "      <th>std</th>\n",
       "      <td>2.284882</td>\n",
       "    </tr>\n",
       "    <tr>\n",
       "      <th>min</th>\n",
       "      <td>0.000000</td>\n",
       "    </tr>\n",
       "    <tr>\n",
       "      <th>25%</th>\n",
       "      <td>5.000000</td>\n",
       "    </tr>\n",
       "    <tr>\n",
       "      <th>50%</th>\n",
       "      <td>6.000000</td>\n",
       "    </tr>\n",
       "    <tr>\n",
       "      <th>75%</th>\n",
       "      <td>8.000000</td>\n",
       "    </tr>\n",
       "    <tr>\n",
       "      <th>max</th>\n",
       "      <td>10.000000</td>\n",
       "    </tr>\n",
       "  </tbody>\n",
       "</table>\n",
       "</div>"
      ],
      "text/plain": [
       "           result\n",
       "count  292.000000\n",
       "mean     6.239726\n",
       "std      2.284882\n",
       "min      0.000000\n",
       "25%      5.000000\n",
       "50%      6.000000\n",
       "75%      8.000000\n",
       "max     10.000000"
      ]
     },
     "metadata": {},
     "output_type": "display_data"
    },
    {
     "data": {
      "text/plain": [
       "result\n",
       "7.0       44\n",
       "8.0       44\n",
       "5.0       41\n",
       "6.0       40\n",
       "4.0       33\n",
       "9.0       32\n",
       "3.0       21\n",
       "10.0      21\n",
       "2.0        9\n",
       "1.0        6\n",
       "0.0        1\n",
       "dtype: int64"
      ]
     },
     "metadata": {},
     "output_type": "display_data"
    },
    {
     "data": {
      "text/plain": [
       "'--------------'"
      ]
     },
     "metadata": {},
     "output_type": "display_data"
    },
    {
     "data": {
      "text/html": [
       "<div>\n",
       "<style scoped>\n",
       "    .dataframe tbody tr th:only-of-type {\n",
       "        vertical-align: middle;\n",
       "    }\n",
       "\n",
       "    .dataframe tbody tr th {\n",
       "        vertical-align: top;\n",
       "    }\n",
       "\n",
       "    .dataframe thead th {\n",
       "        text-align: right;\n",
       "    }\n",
       "</style>\n",
       "<table border=\"1\" class=\"dataframe\">\n",
       "  <thead>\n",
       "    <tr style=\"text-align: right;\">\n",
       "      <th></th>\n",
       "      <th>age_desc</th>\n",
       "    </tr>\n",
       "  </thead>\n",
       "  <tbody>\n",
       "    <tr>\n",
       "      <th>count</th>\n",
       "      <td>292</td>\n",
       "    </tr>\n",
       "    <tr>\n",
       "      <th>unique</th>\n",
       "      <td>1</td>\n",
       "    </tr>\n",
       "    <tr>\n",
       "      <th>top</th>\n",
       "      <td>4-11 years</td>\n",
       "    </tr>\n",
       "    <tr>\n",
       "      <th>freq</th>\n",
       "      <td>292</td>\n",
       "    </tr>\n",
       "  </tbody>\n",
       "</table>\n",
       "</div>"
      ],
      "text/plain": [
       "          age_desc\n",
       "count          292\n",
       "unique           1\n",
       "top     4-11 years\n",
       "freq           292"
      ]
     },
     "metadata": {},
     "output_type": "display_data"
    },
    {
     "data": {
      "text/plain": [
       "age_desc  \n",
       "4-11 years    292\n",
       "dtype: int64"
      ]
     },
     "metadata": {},
     "output_type": "display_data"
    },
    {
     "data": {
      "text/plain": [
       "'--------------'"
      ]
     },
     "metadata": {},
     "output_type": "display_data"
    },
    {
     "data": {
      "text/html": [
       "<div>\n",
       "<style scoped>\n",
       "    .dataframe tbody tr th:only-of-type {\n",
       "        vertical-align: middle;\n",
       "    }\n",
       "\n",
       "    .dataframe tbody tr th {\n",
       "        vertical-align: top;\n",
       "    }\n",
       "\n",
       "    .dataframe thead th {\n",
       "        text-align: right;\n",
       "    }\n",
       "</style>\n",
       "<table border=\"1\" class=\"dataframe\">\n",
       "  <thead>\n",
       "    <tr style=\"text-align: right;\">\n",
       "      <th></th>\n",
       "      <th>relation</th>\n",
       "    </tr>\n",
       "  </thead>\n",
       "  <tbody>\n",
       "    <tr>\n",
       "      <th>count</th>\n",
       "      <td>249</td>\n",
       "    </tr>\n",
       "    <tr>\n",
       "      <th>unique</th>\n",
       "      <td>4</td>\n",
       "    </tr>\n",
       "    <tr>\n",
       "      <th>top</th>\n",
       "      <td>parent</td>\n",
       "    </tr>\n",
       "    <tr>\n",
       "      <th>freq</th>\n",
       "      <td>214</td>\n",
       "    </tr>\n",
       "  </tbody>\n",
       "</table>\n",
       "</div>"
      ],
      "text/plain": [
       "       relation\n",
       "count       249\n",
       "unique        4\n",
       "top      parent\n",
       "freq        214"
      ]
     },
     "metadata": {},
     "output_type": "display_data"
    },
    {
     "data": {
      "text/plain": [
       "relation                \n",
       "parent                      214\n",
       "relative                     17\n",
       "health care professional     13\n",
       "self                          5\n",
       "dtype: int64"
      ]
     },
     "metadata": {},
     "output_type": "display_data"
    },
    {
     "data": {
      "text/plain": [
       "'--------------'"
      ]
     },
     "metadata": {},
     "output_type": "display_data"
    },
    {
     "data": {
      "text/html": [
       "<div>\n",
       "<style scoped>\n",
       "    .dataframe tbody tr th:only-of-type {\n",
       "        vertical-align: middle;\n",
       "    }\n",
       "\n",
       "    .dataframe tbody tr th {\n",
       "        vertical-align: top;\n",
       "    }\n",
       "\n",
       "    .dataframe thead th {\n",
       "        text-align: right;\n",
       "    }\n",
       "</style>\n",
       "<table border=\"1\" class=\"dataframe\">\n",
       "  <thead>\n",
       "    <tr style=\"text-align: right;\">\n",
       "      <th></th>\n",
       "      <th>Class/ASD</th>\n",
       "    </tr>\n",
       "  </thead>\n",
       "  <tbody>\n",
       "    <tr>\n",
       "      <th>count</th>\n",
       "      <td>292</td>\n",
       "    </tr>\n",
       "    <tr>\n",
       "      <th>unique</th>\n",
       "      <td>2</td>\n",
       "    </tr>\n",
       "    <tr>\n",
       "      <th>top</th>\n",
       "      <td>no</td>\n",
       "    </tr>\n",
       "    <tr>\n",
       "      <th>freq</th>\n",
       "      <td>151</td>\n",
       "    </tr>\n",
       "  </tbody>\n",
       "</table>\n",
       "</div>"
      ],
      "text/plain": [
       "       Class/ASD\n",
       "count        292\n",
       "unique         2\n",
       "top           no\n",
       "freq         151"
      ]
     },
     "metadata": {},
     "output_type": "display_data"
    },
    {
     "data": {
      "text/plain": [
       "Class/ASD\n",
       "no           151\n",
       "yes          141\n",
       "dtype: int64"
      ]
     },
     "metadata": {},
     "output_type": "display_data"
    }
   ],
   "source": [
    "#Now show summary stats for each feature\n",
    "for i in range(len(meta.types())):\n",
    "    display(\"--------------\")\n",
    "    display(df[[meta.names()[i]]].describe())\n",
    "    display(df[[meta.names()[i]]].value_counts()) "
   ]
  },
  {
   "cell_type": "markdown",
   "id": "3e3ddfb8-5ba6-42f3-8d56-6352c46e89e6",
   "metadata": {},
   "source": [
    "### Counting the missing values\n",
    "Pandas has two useful methods for detecting missing values: isnull() and notnull() . Either one will return a Boolean mask over the data. For example:\n",
    "df.isnull() returns a Boolean same-sized DataFrame indicating if values are missing"
   ]
  },
  {
   "cell_type": "code",
   "execution_count": 19,
   "id": "a9378401-25a1-495c-a363-2fbca51b03bb",
   "metadata": {},
   "outputs": [
    {
     "data": {
      "text/plain": [
       "A1_Score            0\n",
       "A2_Score            0\n",
       "A3_Score            0\n",
       "A4_Score            0\n",
       "A5_Score            0\n",
       "A6_Score            0\n",
       "A7_Score            0\n",
       "A8_Score            0\n",
       "A9_Score            0\n",
       "A10_Score           0\n",
       "age                 4\n",
       "gender              0\n",
       "ethnicity          43\n",
       "jundice             0\n",
       "austim              0\n",
       "contry_of_res       0\n",
       "used_app_before     0\n",
       "result              0\n",
       "age_desc            0\n",
       "relation           43\n",
       "Class/ASD           0\n",
       "dtype: int64"
      ]
     },
     "metadata": {},
     "output_type": "display_data"
    }
   ],
   "source": [
    "#display the sum of missing values for each feature\n",
    "display(df.isnull().sum())"
   ]
  },
  {
   "cell_type": "markdown",
   "id": "fc83efed-7896-41a7-97f8-d9db9c3acffc",
   "metadata": {},
   "source": [
    "### Brutal approach\n",
    "You can use dropna() to remove missing values. You can specify to drop either rows or columns with missing data by specifying the axis."
   ]
  },
  {
   "cell_type": "code",
   "execution_count": 20,
   "id": "52a6f324-9eea-45d4-8aba-6a3ea7dffc92",
   "metadata": {},
   "outputs": [
    {
     "data": {
      "text/plain": [
       "(292, 21)"
      ]
     },
     "metadata": {},
     "output_type": "display_data"
    },
    {
     "data": {
      "text/plain": [
       "(248, 21)"
      ]
     },
     "metadata": {},
     "output_type": "display_data"
    },
    {
     "data": {
      "text/plain": [
       "(292, 18)"
      ]
     },
     "metadata": {},
     "output_type": "display_data"
    }
   ],
   "source": [
    "display(df.shape)\n",
    "display(df.dropna(axis=0, inplace=False).shape)\n",
    "display(df.dropna(axis=1, inplace=False).shape)"
   ]
  },
  {
   "cell_type": "markdown",
   "id": "28764d9f-40b5-4ffd-8263-d6697f7d5a18",
   "metadata": {},
   "source": [
    "### OK approach\n",
    "You can use fillna()to fill in missing values. It has extra arugments\n",
    "+ value: value to use to replace NaN\n",
    "+ method: method to use for replacing NaN. method='ffill' does the forward replacement. method='bfill' does the backword replacement."
   ]
  },
  {
   "cell_type": "code",
   "execution_count": 21,
   "id": "da66b165-8d36-4418-a520-58592e05ccee",
   "metadata": {},
   "outputs": [
    {
     "data": {
      "text/plain": [
       "(292, 21)"
      ]
     },
     "metadata": {},
     "output_type": "display_data"
    },
    {
     "data": {
      "text/plain": [
       "(292, 21)"
      ]
     },
     "metadata": {},
     "output_type": "display_data"
    }
   ],
   "source": [
    "# replaces missing values with values in the previous row\n",
    "display(df.fillna(axis=0, method='ffill', inplace=False).shape)\n",
    "# replaces missing values with a constant\n",
    "display(df.fillna(axis=0, value=0, inplace=False).shape)"
   ]
  },
  {
   "cell_type": "markdown",
   "id": "53ebed40-c955-4a4a-8944-48747b0342e4",
   "metadata": {},
   "source": [
    "### Better approach\n",
    "The other common replacement is to replace missing values with the mean for continuous variables or median for categorical ones. Median works for both so let's just go with that."
   ]
  },
  {
   "cell_type": "code",
   "execution_count": 22,
   "id": "35237b4c-5564-4656-8a33-2263cf5b14a4",
   "metadata": {},
   "outputs": [],
   "source": [
    "df.fillna(value=df.median(axis=1, skipna=True), inplace=True)"
   ]
  },
  {
   "cell_type": "markdown",
   "id": "2f965015-4c91-4dcf-8529-cca2a7c63658",
   "metadata": {},
   "source": [
    "## Remove uninformative variables\n",
    " If all observations have the same value for a particular feature then that feature cannot help discriminate among the observations. These variables should be removed. In later modules we will elaborate on this idea of informative variables when we discuss feature selection."
   ]
  },
  {
   "cell_type": "code",
   "execution_count": 23,
   "id": "904b92ba-85da-477a-b4d3-8633081a3f37",
   "metadata": {},
   "outputs": [
    {
     "data": {
      "text/plain": [
       "'A1_Score has 2'"
      ]
     },
     "metadata": {},
     "output_type": "display_data"
    },
    {
     "data": {
      "text/plain": [
       "'A2_Score has 2'"
      ]
     },
     "metadata": {},
     "output_type": "display_data"
    },
    {
     "data": {
      "text/plain": [
       "'A3_Score has 2'"
      ]
     },
     "metadata": {},
     "output_type": "display_data"
    },
    {
     "data": {
      "text/plain": [
       "'A4_Score has 2'"
      ]
     },
     "metadata": {},
     "output_type": "display_data"
    },
    {
     "data": {
      "text/plain": [
       "'A5_Score has 2'"
      ]
     },
     "metadata": {},
     "output_type": "display_data"
    },
    {
     "data": {
      "text/plain": [
       "'A6_Score has 2'"
      ]
     },
     "metadata": {},
     "output_type": "display_data"
    },
    {
     "data": {
      "text/plain": [
       "'A7_Score has 2'"
      ]
     },
     "metadata": {},
     "output_type": "display_data"
    },
    {
     "data": {
      "text/plain": [
       "'A8_Score has 2'"
      ]
     },
     "metadata": {},
     "output_type": "display_data"
    },
    {
     "data": {
      "text/plain": [
       "'A9_Score has 2'"
      ]
     },
     "metadata": {},
     "output_type": "display_data"
    },
    {
     "data": {
      "text/plain": [
       "'A10_Score has 2'"
      ]
     },
     "metadata": {},
     "output_type": "display_data"
    },
    {
     "data": {
      "text/plain": [
       "'age has 8'"
      ]
     },
     "metadata": {},
     "output_type": "display_data"
    },
    {
     "data": {
      "text/plain": [
       "'gender has 2'"
      ]
     },
     "metadata": {},
     "output_type": "display_data"
    },
    {
     "data": {
      "text/plain": [
       "'ethnicity has 10'"
      ]
     },
     "metadata": {},
     "output_type": "display_data"
    },
    {
     "data": {
      "text/plain": [
       "'jundice has 2'"
      ]
     },
     "metadata": {},
     "output_type": "display_data"
    },
    {
     "data": {
      "text/plain": [
       "'austim has 2'"
      ]
     },
     "metadata": {},
     "output_type": "display_data"
    },
    {
     "data": {
      "text/plain": [
       "'contry_of_res has 52'"
      ]
     },
     "metadata": {},
     "output_type": "display_data"
    },
    {
     "data": {
      "text/plain": [
       "'used_app_before has 2'"
      ]
     },
     "metadata": {},
     "output_type": "display_data"
    },
    {
     "data": {
      "text/plain": [
       "'result has 11'"
      ]
     },
     "metadata": {},
     "output_type": "display_data"
    },
    {
     "data": {
      "text/plain": [
       "'age_desc has 1'"
      ]
     },
     "metadata": {},
     "output_type": "display_data"
    },
    {
     "data": {
      "text/plain": [
       "'relation has 4'"
      ]
     },
     "metadata": {},
     "output_type": "display_data"
    },
    {
     "data": {
      "text/plain": [
       "'Class/ASD has 2'"
      ]
     },
     "metadata": {},
     "output_type": "display_data"
    }
   ],
   "source": [
    "#print the number of unique values per feature\n",
    "for i in range(len(meta.names())):\n",
    "    display(meta.names()[i] +\" has \"+str(df[meta.names()[i]].nunique()))"
   ]
  },
  {
   "cell_type": "markdown",
   "id": "dfb1342e-9246-4a9f-bebb-dc55fe728fe9",
   "metadata": {},
   "source": [
    "Looks like 'age_desc' has only one value. Let's remove it."
   ]
  },
  {
   "cell_type": "code",
   "execution_count": 24,
   "id": "524118ed-4bd0-41ac-a684-9afd2bfca1e3",
   "metadata": {},
   "outputs": [
    {
     "name": "stdout",
     "output_type": "stream",
     "text": [
      "age_desc\n"
     ]
    },
    {
     "data": {
      "text/plain": [
       "Index(['A1_Score', 'A2_Score', 'A3_Score', 'A4_Score', 'A5_Score', 'A6_Score',\n",
       "       'A7_Score', 'A8_Score', 'A9_Score', 'A10_Score', 'age', 'gender',\n",
       "       'ethnicity', 'jundice', 'austim', 'contry_of_res', 'used_app_before',\n",
       "       'result', 'relation', 'Class/ASD'],\n",
       "      dtype='object')"
      ]
     },
     "metadata": {},
     "output_type": "display_data"
    }
   ],
   "source": [
    "#remove variables with one unique value\n",
    "for col in df.columns:\n",
    "    if df[col].nunique() == 1:\n",
    "        #drop the column\n",
    "        print(col)\n",
    "        df.drop([col], axis=1, inplace=True)\n",
    "\n",
    "#display the remaining columns\n",
    "display(df.columns)"
   ]
  },
  {
   "cell_type": "markdown",
   "id": "eb30bae3-5071-4c05-804d-89b4b23bbbcc",
   "metadata": {},
   "source": [
    "Finally, we should remove the 'result' variable provided by the authors. We can't use this data to predict.\n",
    "\n",
    "**Challenge: Remove the 'result' column from the dataframe.**"
   ]
  },
  {
   "cell_type": "code",
   "execution_count": 25,
   "id": "d8358419-7cba-409b-a071-dfa4bd27901d",
   "metadata": {},
   "outputs": [
    {
     "data": {
      "text/plain": [
       "Index(['A1_Score', 'A2_Score', 'A3_Score', 'A4_Score', 'A5_Score', 'A6_Score',\n",
       "       'A7_Score', 'A8_Score', 'A9_Score', 'A10_Score', 'age', 'gender',\n",
       "       'ethnicity', 'jundice', 'austim', 'contry_of_res', 'used_app_before',\n",
       "       'result', 'relation', 'Class/ASD'],\n",
       "      dtype='object')"
      ]
     },
     "metadata": {},
     "output_type": "display_data"
    }
   ],
   "source": [
    "#write code here\n",
    "\n",
    "#this line should confirm the column has been removed \n",
    "display(df.columns)"
   ]
  },
  {
   "cell_type": "markdown",
   "id": "ec309370-b258-4b4c-8a2f-69f50507708c",
   "metadata": {},
   "source": [
    "## Generating a Table 1\n",
    "Often in a biomedical paper the first table is a summary of the study population characteristics. Not only will your reviewers expect it, generating it is actually very useful to distill your understanding of the problem you propose to tackle. Fortunately there are many packages out there that will generate a table 1 for you. Here we will use the cleverly named 'tableone' package and stratify our summary based on the autism outcome."
   ]
  },
  {
   "cell_type": "code",
   "execution_count": 26,
   "id": "481bc205-8620-498a-a062-0b3173a0501e",
   "metadata": {},
   "outputs": [
    {
     "data": {
      "text/html": [
       "<div>\n",
       "<style scoped>\n",
       "    .dataframe tbody tr th:only-of-type {\n",
       "        vertical-align: middle;\n",
       "    }\n",
       "\n",
       "    .dataframe tbody tr th {\n",
       "        vertical-align: top;\n",
       "    }\n",
       "\n",
       "    .dataframe thead tr th {\n",
       "        text-align: left;\n",
       "    }\n",
       "</style>\n",
       "<table border=\"1\" class=\"dataframe\">\n",
       "  <thead>\n",
       "    <tr>\n",
       "      <th></th>\n",
       "      <th></th>\n",
       "      <th colspan=\"5\" halign=\"left\">Grouped by Class/ASD</th>\n",
       "    </tr>\n",
       "    <tr>\n",
       "      <th></th>\n",
       "      <th></th>\n",
       "      <th>Missing</th>\n",
       "      <th>Overall</th>\n",
       "      <th>no</th>\n",
       "      <th>yes</th>\n",
       "      <th>P-Value</th>\n",
       "    </tr>\n",
       "  </thead>\n",
       "  <tbody>\n",
       "    <tr>\n",
       "      <th>n</th>\n",
       "      <th></th>\n",
       "      <td></td>\n",
       "      <td>292</td>\n",
       "      <td>151</td>\n",
       "      <td>141</td>\n",
       "      <td></td>\n",
       "    </tr>\n",
       "    <tr>\n",
       "      <th rowspan=\"2\" valign=\"top\">A1_Score, n (%)</th>\n",
       "      <th>0</th>\n",
       "      <td>0</td>\n",
       "      <td>107 (36.6)</td>\n",
       "      <td>83 (55.0)</td>\n",
       "      <td>24 (17.0)</td>\n",
       "      <td>&lt;0.001</td>\n",
       "    </tr>\n",
       "    <tr>\n",
       "      <th>1</th>\n",
       "      <td></td>\n",
       "      <td>185 (63.4)</td>\n",
       "      <td>68 (45.0)</td>\n",
       "      <td>117 (83.0)</td>\n",
       "      <td></td>\n",
       "    </tr>\n",
       "    <tr>\n",
       "      <th rowspan=\"2\" valign=\"top\">A2_Score, n (%)</th>\n",
       "      <th>0</th>\n",
       "      <td>0</td>\n",
       "      <td>136 (46.6)</td>\n",
       "      <td>87 (57.6)</td>\n",
       "      <td>49 (34.8)</td>\n",
       "      <td>&lt;0.001</td>\n",
       "    </tr>\n",
       "    <tr>\n",
       "      <th>1</th>\n",
       "      <td></td>\n",
       "      <td>156 (53.4)</td>\n",
       "      <td>64 (42.4)</td>\n",
       "      <td>92 (65.2)</td>\n",
       "      <td></td>\n",
       "    </tr>\n",
       "    <tr>\n",
       "      <th>...</th>\n",
       "      <th>...</th>\n",
       "      <td>...</td>\n",
       "      <td>...</td>\n",
       "      <td>...</td>\n",
       "      <td>...</td>\n",
       "      <td>...</td>\n",
       "    </tr>\n",
       "    <tr>\n",
       "      <th>result, mean (SD)</th>\n",
       "      <th></th>\n",
       "      <td>0</td>\n",
       "      <td>6.2 (2.3)</td>\n",
       "      <td>4.4 (1.4)</td>\n",
       "      <td>8.2 (1.0)</td>\n",
       "      <td>&lt;0.001</td>\n",
       "    </tr>\n",
       "    <tr>\n",
       "      <th rowspan=\"4\" valign=\"top\">relation, n (%)</th>\n",
       "      <th>health care professional</th>\n",
       "      <td>43</td>\n",
       "      <td>13 (5.2)</td>\n",
       "      <td>6 (4.9)</td>\n",
       "      <td>7 (5.6)</td>\n",
       "      <td>0.309</td>\n",
       "    </tr>\n",
       "    <tr>\n",
       "      <th>parent</th>\n",
       "      <td></td>\n",
       "      <td>214 (85.9)</td>\n",
       "      <td>102 (82.9)</td>\n",
       "      <td>112 (88.9)</td>\n",
       "      <td></td>\n",
       "    </tr>\n",
       "    <tr>\n",
       "      <th>relative</th>\n",
       "      <td></td>\n",
       "      <td>17 (6.8)</td>\n",
       "      <td>12 (9.8)</td>\n",
       "      <td>5 (4.0)</td>\n",
       "      <td></td>\n",
       "    </tr>\n",
       "    <tr>\n",
       "      <th>self</th>\n",
       "      <td></td>\n",
       "      <td>5 (2.0)</td>\n",
       "      <td>3 (2.4)</td>\n",
       "      <td>2 (1.6)</td>\n",
       "      <td></td>\n",
       "    </tr>\n",
       "  </tbody>\n",
       "</table>\n",
       "<p>97 rows × 5 columns</p>\n",
       "</div><br />[1] Chi-squared tests for the following variables may be invalid due to the low number of observations: contry_of_res, ethnicity, relation.<br />[2] Hartigan's Dip Test reports possible\n",
       "                                  multimodal distributions for: age, result.<br />[3] Normality test reports non-normal\n",
       "                                  distributions for: age, result.<br />"
      ],
      "text/plain": [
       "                                                Grouped by Class/ASD                                            \n",
       "                                                             Missing     Overall          no         yes P-Value\n",
       "n                                                                            292         151         141        \n",
       "A1_Score, n (%)        0                                           0  107 (36.6)   83 (55.0)   24 (17.0)  <0.001\n",
       "                       1                                              185 (63.4)   68 (45.0)  117 (83.0)        \n",
       "A2_Score, n (%)        0                                           0  136 (46.6)   87 (57.6)   49 (34.8)  <0.001\n",
       "                       1                                              156 (53.4)   64 (42.4)   92 (65.2)        \n",
       "A3_Score, n (%)        0                                           0   75 (25.7)   64 (42.4)    11 (7.8)  <0.001\n",
       "                       1                                              217 (74.3)   87 (57.6)  130 (92.2)        \n",
       "A4_Score, n (%)        0                                           0  131 (44.9)  109 (72.2)   22 (15.6)  <0.001\n",
       "                       1                                              161 (55.1)   42 (27.8)  119 (84.4)        \n",
       "A5_Score, n (%)        0                                           0   75 (25.7)   63 (41.7)    12 (8.5)  <0.001\n",
       "                       1                                              217 (74.3)   88 (58.3)  129 (91.5)        \n",
       "A6_Score, n (%)        0                                           0   84 (28.8)   71 (47.0)    13 (9.2)  <0.001\n",
       "                       1                                              208 (71.2)   80 (53.0)  128 (90.8)        \n",
       "A7_Score, n (%)        0                                           0  115 (39.4)   79 (52.3)   36 (25.5)  <0.001\n",
       "                       1                                              177 (60.6)   72 (47.7)  105 (74.5)        \n",
       "A8_Score, n (%)        0                                           0  147 (50.3)  108 (71.5)   39 (27.7)  <0.001\n",
       "                       1                                              145 (49.7)   43 (28.5)  102 (72.3)        \n",
       "A9_Score, n (%)        0                                           0  148 (50.7)  112 (74.2)   36 (25.5)  <0.001\n",
       "                       1                                              144 (49.3)   39 (25.8)  105 (74.5)        \n",
       "A10_Score, n (%)       0                                           0   80 (27.4)   70 (46.4)    10 (7.1)  <0.001\n",
       "                       1                                              212 (72.6)   81 (53.6)  131 (92.9)        \n",
       "age, mean (SD)                                                     4   6.4 (2.4)   6.2 (2.2)   6.5 (2.5)   0.201\n",
       "gender, n (%)          f                                           0   84 (28.8)   46 (30.5)   38 (27.0)   0.594\n",
       "                       m                                              208 (71.2)  105 (69.5)  103 (73.0)        \n",
       "ethnicity, n (%)       asian                                      43   46 (18.5)   24 (19.5)   22 (17.5)   0.058\n",
       "                       black                                            14 (5.6)     5 (4.1)     9 (7.1)        \n",
       "                       hispanic                                          7 (2.8)     1 (0.8)     6 (4.8)        \n",
       "                       latino                                            8 (3.2)     3 (2.4)     5 (4.0)        \n",
       "                       middle eastern                                  27 (10.8)   19 (15.4)     8 (6.3)        \n",
       "                       others                                           14 (5.6)     9 (7.3)     5 (4.0)        \n",
       "                       pasifika                                          2 (0.8)     1 (0.8)     1 (0.8)        \n",
       "                       south asian                                      21 (8.4)   13 (10.6)     8 (6.3)        \n",
       "                       turkish                                           2 (0.8)     2 (1.6)                    \n",
       "                       white-european                                 108 (43.4)   46 (37.4)   62 (49.2)        \n",
       "jundice, n (%)         no                                          0  212 (72.6)  108 (71.5)  104 (73.8)   0.767\n",
       "                       yes                                             80 (27.4)   43 (28.5)   37 (26.2)        \n",
       "austim, n (%)          no                                          0  243 (83.2)  123 (81.5)  120 (85.1)   0.498\n",
       "                       yes                                             49 (16.8)   28 (18.5)   21 (14.9)        \n",
       "contry_of_res, n (%)   afghanistan                                 0     2 (0.7)     2 (1.3)               0.018\n",
       "                       argentina                                         1 (0.3)     1 (0.7)                    \n",
       "                       armenia                                           3 (1.0)                 3 (2.1)        \n",
       "                       australia                                        23 (7.9)    11 (7.3)    12 (8.5)        \n",
       "                       austria                                           2 (0.7)     1 (0.7)     1 (0.7)        \n",
       "                       bahrain                                           2 (0.7)                 2 (1.4)        \n",
       "                       bangladesh                                        6 (2.1)     4 (2.6)     2 (1.4)        \n",
       "                       bhutan                                            1 (0.3)                 1 (0.7)        \n",
       "                       brazil                                            2 (0.7)                 2 (1.4)        \n",
       "                       bulgaria                                          1 (0.3)                 1 (0.7)        \n",
       "                       canada                                            7 (2.4)     2 (1.3)     5 (3.5)        \n",
       "                       china                                             1 (0.3)                 1 (0.7)        \n",
       "                       costa rica                                        1 (0.3)     1 (0.7)                    \n",
       "                       egypt                                             9 (3.1)     3 (2.0)     6 (4.3)        \n",
       "                       europe                                            1 (0.3)                 1 (0.7)        \n",
       "                       georgia                                           2 (0.7)     1 (0.7)     1 (0.7)        \n",
       "                       germany                                           1 (0.3)                 1 (0.7)        \n",
       "                       ghana                                             1 (0.3)     1 (0.7)                    \n",
       "                       india                                           42 (14.4)   25 (16.6)   17 (12.1)        \n",
       "                       iraq                                              3 (1.0)     3 (2.0)                    \n",
       "                       ireland                                           1 (0.3)                 1 (0.7)        \n",
       "                       isle of man                                       1 (0.3)                 1 (0.7)        \n",
       "                       italy                                             2 (0.7)     2 (1.3)                    \n",
       "                       japan                                             1 (0.3)     1 (0.7)                    \n",
       "                       jordan                                           20 (6.8)    15 (9.9)     5 (3.5)        \n",
       "                       kuwait                                            1 (0.3)     1 (0.7)                    \n",
       "                       latvia                                            1 (0.3)     1 (0.7)                    \n",
       "                       lebanon                                           2 (0.7)     1 (0.7)     1 (0.7)        \n",
       "                       libya                                             3 (1.0)     2 (1.3)     1 (0.7)        \n",
       "                       malaysia                                          2 (0.7)     2 (1.3)                    \n",
       "                       malta                                             1 (0.3)                 1 (0.7)        \n",
       "                       mexico                                            2 (0.7)     1 (0.7)     1 (0.7)        \n",
       "                       nepal                                             1 (0.3)                 1 (0.7)        \n",
       "                       netherlands                                       1 (0.3)     1 (0.7)                    \n",
       "                       new zealand                                      13 (4.5)     8 (5.3)     5 (3.5)        \n",
       "                       nigeria                                           1 (0.3)                 1 (0.7)        \n",
       "                       oman                                              1 (0.3)     1 (0.7)                    \n",
       "                       pakistan                                          4 (1.4)     2 (1.3)     2 (1.4)        \n",
       "                       philippines                                       4 (1.4)     1 (0.7)     3 (2.1)        \n",
       "                       qatar                                             3 (1.0)     3 (2.0)                    \n",
       "                       romania                                           1 (0.3)     1 (0.7)                    \n",
       "                       russia                                            3 (1.0)     1 (0.7)     2 (1.4)        \n",
       "                       saudi arabia                                      4 (1.4)     3 (2.0)     1 (0.7)        \n",
       "                       south africa                                      2 (0.7)                 2 (1.4)        \n",
       "                       south korea                                       1 (0.3)     1 (0.7)                    \n",
       "                       sweden                                            1 (0.3)                 1 (0.7)        \n",
       "                       syria                                             3 (1.0)     2 (1.3)     1 (0.7)        \n",
       "                       turkey                                            2 (0.7)     2 (1.3)                    \n",
       "                       u.s. outlying islands                             1 (0.3)     1 (0.7)                    \n",
       "                       united arab emirates                              7 (2.4)     7 (4.6)                    \n",
       "                       united kingdom                                  49 (16.8)   25 (16.6)   24 (17.0)        \n",
       "                       united states                                   42 (14.4)    11 (7.3)   31 (22.0)        \n",
       "used_app_before, n (%) no                                          0  281 (96.2)  144 (95.4)  137 (97.2)   0.618\n",
       "                       yes                                              11 (3.8)     7 (4.6)     4 (2.8)        \n",
       "result, mean (SD)                                                  0   6.2 (2.3)   4.4 (1.4)   8.2 (1.0)  <0.001\n",
       "relation, n (%)        health care professional                   43    13 (5.2)     6 (4.9)     7 (5.6)   0.309\n",
       "                       parent                                         214 (85.9)  102 (82.9)  112 (88.9)        \n",
       "                       relative                                         17 (6.8)    12 (9.8)     5 (4.0)        \n",
       "                       self                                              5 (2.0)     3 (2.4)     2 (1.6)        \n",
       "[1] Chi-squared tests for the following variables may be invalid due to the low number of observations: contry_of_res, ethnicity, relation.\n",
       "[2] Hartigan's Dip Test reports possible\n",
       "                                  multimodal distributions for: age, result.\n",
       "[3] Normality test reports non-normal\n",
       "                                  distributions for: age, result."
      ]
     },
     "execution_count": 26,
     "metadata": {},
     "output_type": "execute_result"
    }
   ],
   "source": [
    "from tableone import TableOne\n",
    "TableOne(df, groupby=\"Class/ASD\", pval=True, dip_test=True, normal_test=True, tukey_test=True)"
   ]
  },
  {
   "cell_type": "markdown",
   "id": "3dcba1e1-2049-4061-975d-d6223a114c58",
   "metadata": {},
   "source": [
    "### Exploring the warnings\n",
    "Chi-squared test is used to see whether distributions of categorical variables differ from each another. Looks like the statistics for country, relation, and ethnicity variables are poor so we cannot say one way or another if the distributions are different.\n",
    "\n",
    "Normality test informs you which variables are not normally distributed. Often one would report the median and inter-quartile ranges instead of the mean and standard deviation for these variables.\n",
    "\n",
    "Tukey's rule is a method to find outliers among continuous variables. None were found here but we would visualize this this in a boxplot. To demonstrate, we'll create box plots for age.\n",
    "\n",
    "Hartigan's Dip Test is a test for multimodality. The test has suggested that the age  distribution may be multimodal. We'll plot the distributions too and have a look."
   ]
  },
  {
   "cell_type": "code",
   "execution_count": 27,
   "id": "3719fcfe-eca2-4c23-8975-30ed5a94e3f7",
   "metadata": {},
   "outputs": [
    {
     "name": "stderr",
     "output_type": "stream",
     "text": [
      "/Users/daniel00/miniconda3/envs/condasandbox/lib/python3.9/site-packages/ipykernel/ipkernel.py:283: DeprecationWarning: `should_run_async` will not call `transform_cell` automatically in the future. Please pass the result to `transformed_cell` argument and any exception that happen during thetransform in `preprocessing_exc_tuple` in IPython 7.17 and above.\n",
      "  and should_run_async(code)\n"
     ]
    }
   ],
   "source": [
    "import matplotlib.pyplot as plt"
   ]
  },
  {
   "cell_type": "code",
   "execution_count": 28,
   "id": "d4b13836-7273-444f-ad0d-bd0c6574eade",
   "metadata": {},
   "outputs": [
    {
     "name": "stderr",
     "output_type": "stream",
     "text": [
      "/Users/daniel00/miniconda3/envs/condasandbox/lib/python3.9/site-packages/ipykernel/ipkernel.py:283: DeprecationWarning: `should_run_async` will not call `transform_cell` automatically in the future. Please pass the result to `transformed_cell` argument and any exception that happen during thetransform in `preprocessing_exc_tuple` in IPython 7.17 and above.\n",
      "  and should_run_async(code)\n"
     ]
    },
    {
     "data": {
      "image/png": "[encoded data removed]",
      "text/plain": [
       "<Figure size 432x288 with 1 Axes>"
      ]
     },
     "metadata": {
      "needs_background": "light"
     },
     "output_type": "display_data"
    }
   ],
   "source": [
    "#box plots\n",
    "df[['age']].boxplot(whis=3)\n",
    "plt.show()"
   ]
  },
  {
   "cell_type": "code",
   "execution_count": 29,
   "id": "804deb0e-522b-43bd-bca4-5c28c19b3b52",
   "metadata": {},
   "outputs": [
    {
     "name": "stderr",
     "output_type": "stream",
     "text": [
      "/Users/daniel00/miniconda3/envs/condasandbox/lib/python3.9/site-packages/ipykernel/ipkernel.py:283: DeprecationWarning: `should_run_async` will not call `transform_cell` automatically in the future. Please pass the result to `transformed_cell` argument and any exception that happen during thetransform in `preprocessing_exc_tuple` in IPython 7.17 and above.\n",
      "  and should_run_async(code)\n"
     ]
    },
    {
     "data": {
      "text/plain": [
       "(0.0, 15.0)"
      ]
     },
     "execution_count": 29,
     "metadata": {},
     "output_type": "execute_result"
    },
    {
     "data": {
      "image/png": "[encoded data removed]",
      "text/plain": [
       "<Figure size 864x576 with 1 Axes>"
      ]
     },
     "metadata": {
      "needs_background": "light"
     },
     "output_type": "display_data"
    }
   ],
   "source": [
    "#distributions\n",
    "df[['age']].dropna().plot.kde(figsize=[12,8])\n",
    "plt.legend(['Age (years)', 'result(score)'])\n",
    "plt.xlim([0,15])"
   ]
  },
  {
   "cell_type": "markdown",
   "id": "500d9f49-b238-40dc-a167-0a7705b100a0",
   "metadata": {},
   "source": [
    "When the distribution has distinct humps like this then one might consider binning them to convert them into categorical features.\n",
    "\n",
    "**Challenge - Bin the age variable to categories 'child' and 'adolecent' with cut off at 8 years old and regenerate your Table 1** "
   ]
  },
  {
   "cell_type": "code",
   "execution_count": null,
   "id": "321a4bbe-f00e-4051-8acf-0606542adcbd",
   "metadata": {},
   "outputs": [],
   "source": []
  }
 ],
 "metadata": {
  "kernelspec": {
   "display_name": "Python 3",
   "language": "python",
   "name": "python3"
  },
  "language_info": {
   "codemirror_mode": {
    "name": "ipython",
    "version": 3
   },
   "file_extension": ".py",
   "mimetype": "text/x-python",
   "name": "python",
   "nbconvert_exporter": "python",
   "pygments_lexer": "ipython3",
   "version": "3.9.4"
  }
 },
 "nbformat": 4,
 "nbformat_minor": 5
}
