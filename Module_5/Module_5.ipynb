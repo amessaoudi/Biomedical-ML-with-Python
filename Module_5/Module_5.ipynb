{
 "cells": [
  {
   "cell_type": "markdown",
   "id": "1ace58e3-d3d7-4743-a14c-21a4f6e2aa21",
   "metadata": {},
   "source": [
    "# Module 5 - Getting to know your data"
   ]
  },
  {
   "cell_type": "markdown",
   "id": "2f3c5bdf-2ad0-4cd2-89e5-c9b4a01b141b",
   "metadata": {},
   "source": [
    "Hello, and welcome to this introductory course in Machine Learning for Biomedicine. To kick things off, I'd like to introduce you to [Weka](https://waikato.github.io/weka-wiki/downloading_weka/) one of the first Machine Learning platforms I used when I started out learning ML. Please take a minute and checkout [this great Weka video tutorial](https://waikato.github.io/weka-wiki/downloading_weka/)by Google. I think Weka is a great gateway platform that will undoubtedly take you a long way down these first steps into the ML ecosystem. In fact, Weka is still my goto platform for exploratory data analysis (EDA) which is the topic of today. Follow along the Weka example in the accompanying Lecture slides as we get to know the autism dataset distributed along with this notebook."
   ]
  },
  {
   "cell_type": "markdown",
   "id": "9c9c0e58-1d2a-4bf7-892a-dbc2f216828f",
   "metadata": {},
   "source": [
    " ## What did we learn about the autism dataset using Weka\n",
    " 1. We have 292 observations and 21 features\n",
    " 2. The authors have developed a model using Demographics and 10 yes/no questions to Score patients for autism.\n",
    " 3. Some features contain missing values.\n",
    " 4. Appears the \"relation\" categorical variable was filled in by hand and has typos.\n",
    " 5. Ethinicity for example is not uniformly sampled. Most patients are white.\n",
    " 6. Most patients are 4yrs old or 11 with few patients in between.\n",
    " 7. 2/3 of patients are Male.\n",
    " 8. We can train a model with 100% accuracy using only the 10 yes/no questions."
   ]
  },
  {
   "cell_type": "markdown",
   "id": "87be1a47-2f03-466e-85d3-1099f3bbd707",
   "metadata": {},
   "source": [
    "**Questions**\n",
    "+ How would you interpret the value of author's score metric? \n",
    "+ What is the precision and sensitivity of the author's model?\n",
    "+ In our trained model using only the 10 yes/no questions, What score does a patient start off with before we start considering the answers to the 10 yes/no questions?\n",
    "+ What score would a new patient get if they answers yes for all 10 question? "
   ]
  },
  {
   "cell_type": "markdown",
   "id": "790bd5b1-61c0-435a-b1ae-3047d3519bae",
   "metadata": {},
   "source": [
    "# Formatting"
   ]
  },
  {
   "cell_type": "markdown",
   "id": "d917f0f0-0106-405d-8825-4f40107a8c07",
   "metadata": {},
   "source": [
    "Why was the data collected? Think bout how the data was intended to be used.\n",
    "Who was the author? Can inform your understanding of the data’s purpose.\n",
    "What does the literature say? Cohorts and datasets are often well studied. (important features, clinical need)\n",
    "What do the values represent vs what are they trying to represent. \n",
    "Categorical VS continuous features – (African American, Caucasian, Hispanic ) vs (height, weight, age)\n",
    "\n",
    "Distribution/frequency/density – \n",
    "\tBoundaries\n",
    "\tAre there any holes\n",
    "\tWhat is distance between values/categories\n",
    "\tInfs and missing values\n",
    "\tNormally distributed\n",
    "\tPrevelance\n",
    "\n",
    "Ordered:\n",
    "Categorical on a scale of 1 to 5\n",
    "Words in a sentence like the pangram “The quick brown fox jumps over the lazy dog.”\n",
    "Amino acids in a protein sequence  \n",
    "Time-ordered like the in the molecular dynamics at the Newtonian level or the exciton transport at the quantum level\n",
    "Fluctuating stock prices \n"
   ]
  },
  {
   "cell_type": "markdown",
   "id": "f4977c81-11f2-4c46-8cc5-008a6994eca3",
   "metadata": {},
   "source": [
    "QA/QC issues:\n",
    "Was the data manually entered? – do features have values like “day1”, ”Day2”, day 3”\n",
    "What are limits of detection for measurements? 1 millimole , 1 centimeter, 1 K, 1 second\n",
    "Do measurements between days or sessions drift? Batch effects\n",
    "Where are the feature outliers?\n",
    "Do outliers in one feature tend to also be outliers in another?\n",
    "Are the mean, median, and mode similar?\n",
    "Are there any features with near zero variance?\n",
    "Are there any overwhelming categories?\n"
   ]
  },
  {
   "cell_type": "markdown",
   "id": "a6893555-a73e-4f71-bcdc-58f27c8ea995",
   "metadata": {},
   "source": [
    "Correlations\n",
    "How are features associated with the classes? Rsquared, t-tests\n",
    "Do categories have similar class distributions?\n",
    "Are  features correlated? Redundant data, Heatmaps, dimension reduction\n"
   ]
  },
  {
   "cell_type": "markdown",
   "id": "1c961c86-b71b-4dc4-9db5-fc1739272651",
   "metadata": {},
   "source": [
    "Formatting, treat missing, transformations, feature selection -> Tidy data\n"
   ]
  },
  {
   "cell_type": "code",
   "execution_count": null,
   "id": "321a4bbe-f00e-4051-8acf-0606542adcbd",
   "metadata": {},
   "outputs": [],
   "source": []
  }
 ],
 "metadata": {
  "kernelspec": {
   "display_name": "Python 3",
   "language": "python",
   "name": "python3"
  },
  "language_info": {
   "codemirror_mode": {
    "name": "ipython",
    "version": 3
   },
   "file_extension": ".py",
   "mimetype": "text/x-python",
   "name": "python",
   "nbconvert_exporter": "python",
   "pygments_lexer": "ipython3",
   "version": "3.8.2"
  }
 },
 "nbformat": 4,
 "nbformat_minor": 5
}
