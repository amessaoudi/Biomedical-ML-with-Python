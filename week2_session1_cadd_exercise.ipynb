{
  "cells": [
    {
      "cell_type": "markdown",
      "metadata": {
        "id": "qc1BWn_S_UWG"
      },
      "source": [
        "# AI in medicine - CADD exercise"
      ]
    },
    {
      "cell_type": "markdown",
      "metadata": {
        "id": "fMo1-uFp_UWI"
      },
      "source": [
        "- **Tutor:** David Schaller, AG Volkamer, Charité - Universitätsmedizin Berlin (david.schaller@charite.de)\n",
        "- **Target audience**: Medical students from Charité\n",
        "\n",
        "This notebook is based on [TeachOpenCADD](https://github.com/volkamerlab/TeachOpenCADD/) and the scikit-learn [intro](https://github.com/volkamerlab/ai_in_medicine) from week 1."
      ]
    },
    {
      "cell_type": "markdown",
      "metadata": {
        "id": "_dD0YTpr_UWK"
      },
      "source": [
        "## Aim\n",
        "\n",
        "In this notebook, the experience gained in the first week will be applied to perform a virtual screening experiment for inhibitors of the epidermal growth factor receptor ([EGFR](https://en.wikipedia.org/wiki/Epidermal_growth_factor_receptor)) via machine learning. First, computer-friendly molecular representations will be introduced, which allow the training of machine learning models. Next, a support vector machine will be trained to classify molecules as active or inactive. The trained model will be used to predict the activity of a small molecule set. Finally, successful participants can check their hits for potential activity against EGFR via online resources."
      ]
    },
    {
      "cell_type": "markdown",
      "metadata": {
        "id": "PocTw5hd_UWL"
      },
      "source": [
        "## Learning goals\n",
        "\n",
        "- apply knowledge from first week\n",
        "- represent molecules in a computer-friendly fashion\n",
        "- perform a virtual screening experiment\n",
        "- check online resources for potential activities"
      ]
    },
    {
      "cell_type": "markdown",
      "metadata": {
        "id": "zvylbWB-_UWL"
      },
      "source": [
        "## Theory\n",
        "The essential theory of machine learning algorithms was covered in the first week. The concept of virtual screening will be presented seperately via slides."
      ]
    },
    {
      "cell_type": "markdown",
      "metadata": {
        "id": "ZEI1lG4B_UWM"
      },
      "source": [
        "## References\n",
        "- [epidermal growth factor receptor](https://en.wikipedia.org/wiki/Epidermal_growth_factor_receptor)\n",
        "- [molecular fingerprints](http://infochim.u-strasbg.fr/CS3/program/material/Bajorath.pdf)\n",
        "- [support vector machine](https://en.wikipedia.org/wiki/Support_vector_machine)\n",
        "- [virtual screening](https://en.wikipedia.org/wiki/Virtual_screening)\n",
        "- [TeachOpenCADD](https://github.com/volkamerlab/TeachOpenCADD/)\n",
        "- [scikit-learn Intro from week 1](https://github.com/volkamerlab/ai_in_medicine)"
      ]
    },
    {
      "cell_type": "markdown",
      "metadata": {
        "id": "zAhTlFJl_UWM"
      },
      "source": [
        "## Python packages\n",
        "- [scikit-learn](https://scikit-learn.org/stable/)\n",
        "- [rdkit](https://www.rdkit.org/)\n",
        "- [pandas](https://pandas.pydata.org/)\n",
        "- [numpy](https://numpy.org/)\n",
        "- [matplotlib](https://matplotlib.org/)"
      ]
    },
    {
      "cell_type": "markdown",
      "metadata": {
        "id": "mPfOfrNv_UWN"
      },
      "source": [
        "## Practical"
      ]
    },
    {
      "cell_type": "markdown",
      "metadata": {
        "id": "nHrHV-cB_UWO"
      },
      "source": [
        "**Content**\n",
        "\n",
        "1. Install RDKit  \n",
        "2. Import modules  \n",
        "3. Data preparation  \n",
        " 3.1 Load data  \n",
        " 3.2 Interpret molecules  \n",
        "4. Classify data  \n",
        "5. Split data  \n",
        "6. Train a support vector classifier\n",
        "7. Assess performance\n",
        "8. Apply to unknown molecules"
      ]
    },
    {
      "cell_type": "markdown",
      "metadata": {
        "id": "7FP7E1H6_UWO"
      },
      "source": [
        "### 1. Install RDKit\n",
        "\n",
        "RDKit is not installed in Google Colab, and RDKit is only available via `conda` (a package manager), which is not available on Colab either. To provide RDKit, we will need to (1) Install conda (we will use `condacolab` for that) and (2) Install RDKit using `mamba`."
      ]
    },
    {
      "cell_type": "code",
      "execution_count": 1,
      "metadata": {
        "id": "rPPgBIPl_UWP",
        "outputId": "1287bb16-50b6-441a-dee2-a73e0dd09308",
        "colab": {
          "base_uri": "https://localhost:8080/"
        }
      },
      "outputs": [
        {
          "output_type": "stream",
          "name": "stdout",
          "text": [
            "Collecting condacolab\n",
            "  Using cached condacolab-0.1.9-py3-none-any.whl.metadata (5.6 kB)\n",
            "Using cached condacolab-0.1.9-py3-none-any.whl (7.2 kB)\n",
            "Installing collected packages: condacolab\n",
            "Successfully installed condacolab-0.1.9\n",
            "✨🍰✨ Everything looks OK!\n"
          ]
        }
      ],
      "source": [
        "!pip install condacolab\n",
        "import condacolab\n",
        "condacolab.install()"
      ]
    },
    {
      "cell_type": "code",
      "execution_count": 2,
      "metadata": {
        "id": "hE4n9rHd_UWQ",
        "outputId": "9edb609a-070d-425b-86fc-5a0ab898552c",
        "colab": {
          "base_uri": "https://localhost:8080/"
        }
      },
      "outputs": [
        {
          "output_type": "stream",
          "name": "stdout",
          "text": [
            "Preparing transaction: ...working... done\n",
            "Verifying transaction: ...working... done\n",
            "Executing transaction: ...working... done\n"
          ]
        }
      ],
      "source": [
        "!mamba install -yq rdkit"
      ]
    },
    {
      "cell_type": "markdown",
      "metadata": {
        "id": "d0Z_5YSd_UWQ"
      },
      "source": [
        "### 2. Import modules\n",
        "\n",
        "These modules are needed to perform all parts of this exercise. Feel free to add other modules, since there are multiple solutions to succeed."
      ]
    },
    {
      "cell_type": "code",
      "execution_count": 3,
      "metadata": {
        "id": "4hDDfJJs_UWQ"
      },
      "outputs": [],
      "source": [
        "#data handling\n",
        "import numpy as np\n",
        "import pandas as pd\n",
        "\n",
        "# chemistry\n",
        "from rdkit import Chem\n",
        "from rdkit.Chem import MACCSkeys\n",
        "from rdkit.Chem.Draw import IPythonConsole, rdMolDraw2D\n",
        "\n",
        "# machine learning\n",
        "from sklearn.svm import SVC\n",
        "from sklearn.metrics import roc_curve, roc_auc_score\n",
        "from sklearn.model_selection import train_test_split\n",
        "\n",
        "# plotting\n",
        "import matplotlib.pyplot as plt"
      ]
    },
    {
      "cell_type": "code",
      "source": [
        "from rdkit import Chem\n",
        "from rdkit.Chem import Draw\n",
        "\n",
        "# Créer une molécule à partir de la représentation SMILES\n",
        "smiles = \"C1CCCcC1\"  # Éthanol\n",
        "mol = Chem.MolFromSmiles(smiles)\n",
        "\n",
        "# Afficher la structure moléculaire\n",
        "Draw.MolToImage(mol)\n"
      ],
      "metadata": {
        "id": "dmnGVOfSAkB-",
        "outputId": "f43f79dd-272e-499d-b06b-9af9c795a465",
        "colab": {
          "base_uri": "https://localhost:8080/",
          "height": 317
        }
      },
      "execution_count": 11,
      "outputs": [
        {
          "output_type": "execute_result",
          "data": {
            "text/plain": [
              "<PIL.PngImagePlugin.PngImageFile image mode=RGB size=300x300>"
            ],
            "image/png": "[encoded data removed]",
            "image/jpeg": "[encoded data removed]"
          },
          "metadata": {},
          "execution_count": 11
        }
      ]
    },
    {
      "cell_type": "markdown",
      "metadata": {
        "id": "rFdE-hcK_UWR"
      },
      "source": [
        "### 3. Data preparation"
      ]
    },
    {
      "cell_type": "code",
      "source": [
        "from rdkit import Chem\n",
        "from rdkit.Chem import Descriptors\n",
        "\n",
        "# Exemple de SMILES pour un inhibiteur de l'EGFR (comme l'Erlotinib)\n",
        "smiles = 'CC1=NC2=C(C(=O)N1)C(=O)N2C3=CC=CC=C3'  # SMILES de l'Erlotinib\n",
        "\n",
        "# Créer l'objet molécule à partir de SMILES\n",
        "mol = Chem.MolFromSmiles(smiles)\n",
        "\n",
        "# Calculer des descripteurs moléculaires\n",
        "poids_molaire = Descriptors.MolWt(mol)  # Poids moléculaire\n",
        "logp = Descriptors.MolLogP(mol)  # LogP (lipophilie)\n",
        "nb_h_donneurs = Descriptors.NumHDonors(mol)  # Nombre de donneurs de liaisons hydrogène\n",
        "nb_h_accepteurs = Descriptors.NumHAcceptors(mol)  # Nombre d'accepteurs de liaisons hydrogène\n",
        "\n",
        "print(f'Poids moléculaire: {poids_molaire}')\n",
        "print(f'LogP: {logp}')\n",
        "print(f'Nombre de donneurs de liaisons hydrogène: {nb_h_donneurs}')\n",
        "print(f'Nombre d\\'accepteurs de liaisons hydrogène: {nb_h_accepteurs}')\n"
      ],
      "metadata": {
        "id": "S0JVxi1oDF-f",
        "outputId": "e1f2a698-71b3-4034-d495-1162d0137fbd",
        "colab": {
          "base_uri": "https://localhost:8080/"
        }
      },
      "execution_count": 12,
      "outputs": [
        {
          "output_type": "stream",
          "name": "stdout",
          "text": [
            "Poids moléculaire: 227.223\n",
            "LogP: 1.37022\n",
            "Nombre de donneurs de liaisons hydrogène: 1\n",
            "Nombre d'accepteurs de liaisons hydrogène: 3\n"
          ]
        }
      ]
    },
    {
      "cell_type": "markdown",
      "metadata": {
        "id": "2-0TMSPb_UWR"
      },
      "source": [
        "#### 3.1 Load data\n",
        "\n",
        "We will use a subset of molecules retrieved from the [ChEMBL](https://www.ebi.ac.uk/chembl/) database, which contains ~5k molecules with reported activity against EGFR. The whole ChEMBL database currently contains ~16 million datapoints for ~2 million compounds.\n",
        "\n",
        "***Insert code to load the data found in `data/egfr_chembl25.csv` into a pandas dataframe named 'df' and display the first few rows.***"
      ]
    },
    {
      "cell_type": "code",
      "execution_count": 13,
      "metadata": {
        "id": "9sKjc9B1_UWR",
        "outputId": "7903a8d5-8d5d-40b3-deec-7c8745ebb46f",
        "colab": {
          "base_uri": "https://localhost:8080/",
          "height": 206
        }
      },
      "outputs": [
        {
          "output_type": "execute_result",
          "data": {
            "text/plain": [
              "       chembl_id                                             smiles  IC50[nM]\n",
              "0   CHEMBL207869  Clc1c(OCc2cc(F)ccc2)ccc(Nc2c(C#Cc3ncccn3)cncn2)c1     77.00\n",
              "1  CHEMBL3940060  ClCC(=O)OCCN1C(=O)Oc2c1cc1c(Nc3cc(Cl)c(F)cc3)n...    330.00\n",
              "2  CHEMBL3678951  FC(F)(F)c1cc(Nc2n(C(C)C)c3nc(Nc4ccc(N5CC[NH+](...      1.00\n",
              "3   CHEMBL504034  Clc1c(OCc2cc(F)ccc2)ccc(Nc2ncnc3c2sc(C#C[C@H]2...     40.00\n",
              "4   CHEMBL158797  S(Sc1n(C)c2c(c1C(=O)NCC(O)CO)cccc2)c1n(C)c2c(c...  43000.01"
            ],
            "text/html": [
              "\n",
              "  <div id=\"df-9362c9e5-5bed-4612-bc04-fefc1f95b3b0\" class=\"colab-df-container\">\n",
              "    <div>\n",
              "<style scoped>\n",
              "    .dataframe tbody tr th:only-of-type {\n",
              "        vertical-align: middle;\n",
              "    }\n",
              "\n",
              "    .dataframe tbody tr th {\n",
              "        vertical-align: top;\n",
              "    }\n",
              "\n",
              "    .dataframe thead th {\n",
              "        text-align: right;\n",
              "    }\n",
              "</style>\n",
              "<table border=\"1\" class=\"dataframe\">\n",
              "  <thead>\n",
              "    <tr style=\"text-align: right;\">\n",
              "      <th></th>\n",
              "      <th>chembl_id</th>\n",
              "      <th>smiles</th>\n",
              "      <th>IC50[nM]</th>\n",
              "    </tr>\n",
              "  </thead>\n",
              "  <tbody>\n",
              "    <tr>\n",
              "      <th>0</th>\n",
              "      <td>CHEMBL207869</td>\n",
              "      <td>Clc1c(OCc2cc(F)ccc2)ccc(Nc2c(C#Cc3ncccn3)cncn2)c1</td>\n",
              "      <td>77.00</td>\n",
              "    </tr>\n",
              "    <tr>\n",
              "      <th>1</th>\n",
              "      <td>CHEMBL3940060</td>\n",
              "      <td>ClCC(=O)OCCN1C(=O)Oc2c1cc1c(Nc3cc(Cl)c(F)cc3)n...</td>\n",
              "      <td>330.00</td>\n",
              "    </tr>\n",
              "    <tr>\n",
              "      <th>2</th>\n",
              "      <td>CHEMBL3678951</td>\n",
              "      <td>FC(F)(F)c1cc(Nc2n(C(C)C)c3nc(Nc4ccc(N5CC[NH+](...</td>\n",
              "      <td>1.00</td>\n",
              "    </tr>\n",
              "    <tr>\n",
              "      <th>3</th>\n",
              "      <td>CHEMBL504034</td>\n",
              "      <td>Clc1c(OCc2cc(F)ccc2)ccc(Nc2ncnc3c2sc(C#C[C@H]2...</td>\n",
              "      <td>40.00</td>\n",
              "    </tr>\n",
              "    <tr>\n",
              "      <th>4</th>\n",
              "      <td>CHEMBL158797</td>\n",
              "      <td>S(Sc1n(C)c2c(c1C(=O)NCC(O)CO)cccc2)c1n(C)c2c(c...</td>\n",
              "      <td>43000.01</td>\n",
              "    </tr>\n",
              "  </tbody>\n",
              "</table>\n",
              "</div>\n",
              "    <div class=\"colab-df-buttons\">\n",
              "\n",
              "  <div class=\"colab-df-container\">\n",
              "    <button class=\"colab-df-convert\" onclick=\"convertToInteractive('df-9362c9e5-5bed-4612-bc04-fefc1f95b3b0')\"\n",
              "            title=\"Convert this dataframe to an interactive table.\"\n",
              "            style=\"display:none;\">\n",
              "\n",
              "  <svg xmlns=\"http://www.w3.org/2000/svg\" height=\"24px\" viewBox=\"0 -960 960 960\">\n",
              "    <path d=\"M120-120v-720h720v720H120Zm60-500h600v-160H180v160Zm220 220h160v-160H400v160Zm0 220h160v-160H400v160ZM180-400h160v-160H180v160Zm440 0h160v-160H620v160ZM180-180h160v-160H180v160Zm440 0h160v-160H620v160Z\"/>\n",
              "  </svg>\n",
              "    </button>\n",
              "\n",
              "  <style>\n",
              "    .colab-df-container {\n",
              "      display:flex;\n",
              "      gap: 12px;\n",
              "    }\n",
              "\n",
              "    .colab-df-convert {\n",
              "      background-color: #E8F0FE;\n",
              "      border: none;\n",
              "      border-radius: 50%;\n",
              "      cursor: pointer;\n",
              "      display: none;\n",
              "      fill: #1967D2;\n",
              "      height: 32px;\n",
              "      padding: 0 0 0 0;\n",
              "      width: 32px;\n",
              "    }\n",
              "\n",
              "    .colab-df-convert:hover {\n",
              "      background-color: #E2EBFA;\n",
              "      box-shadow: 0px 1px 2px rgba(60, 64, 67, 0.3), 0px 1px 3px 1px rgba(60, 64, 67, 0.15);\n",
              "      fill: #174EA6;\n",
              "    }\n",
              "\n",
              "    .colab-df-buttons div {\n",
              "      margin-bottom: 4px;\n",
              "    }\n",
              "\n",
              "    [theme=dark] .colab-df-convert {\n",
              "      background-color: #3B4455;\n",
              "      fill: #D2E3FC;\n",
              "    }\n",
              "\n",
              "    [theme=dark] .colab-df-convert:hover {\n",
              "      background-color: #434B5C;\n",
              "      box-shadow: 0px 1px 3px 1px rgba(0, 0, 0, 0.15);\n",
              "      filter: drop-shadow(0px 1px 2px rgba(0, 0, 0, 0.3));\n",
              "      fill: #FFFFFF;\n",
              "    }\n",
              "  </style>\n",
              "\n",
              "    <script>\n",
              "      const buttonEl =\n",
              "        document.querySelector('#df-9362c9e5-5bed-4612-bc04-fefc1f95b3b0 button.colab-df-convert');\n",
              "      buttonEl.style.display =\n",
              "        google.colab.kernel.accessAllowed ? 'block' : 'none';\n",
              "\n",
              "      async function convertToInteractive(key) {\n",
              "        const element = document.querySelector('#df-9362c9e5-5bed-4612-bc04-fefc1f95b3b0');\n",
              "        const dataTable =\n",
              "          await google.colab.kernel.invokeFunction('convertToInteractive',\n",
              "                                                    [key], {});\n",
              "        if (!dataTable) return;\n",
              "\n",
              "        const docLinkHtml = 'Like what you see? Visit the ' +\n",
              "          '<a target=\"_blank\" href=https://colab.research.google.com/notebooks/data_table.ipynb>data table notebook</a>'\n",
              "          + ' to learn more about interactive tables.';\n",
              "        element.innerHTML = '';\n",
              "        dataTable['output_type'] = 'display_data';\n",
              "        await google.colab.output.renderOutput(dataTable, element);\n",
              "        const docLink = document.createElement('div');\n",
              "        docLink.innerHTML = docLinkHtml;\n",
              "        element.appendChild(docLink);\n",
              "      }\n",
              "    </script>\n",
              "  </div>\n",
              "\n",
              "\n",
              "<div id=\"df-184e89c9-a543-46b0-b35e-3bb7437c0792\">\n",
              "  <button class=\"colab-df-quickchart\" onclick=\"quickchart('df-184e89c9-a543-46b0-b35e-3bb7437c0792')\"\n",
              "            title=\"Suggest charts\"\n",
              "            style=\"display:none;\">\n",
              "\n",
              "<svg xmlns=\"http://www.w3.org/2000/svg\" height=\"24px\"viewBox=\"0 0 24 24\"\n",
              "     width=\"24px\">\n",
              "    <g>\n",
              "        <path d=\"M19 3H5c-1.1 0-2 .9-2 2v14c0 1.1.9 2 2 2h14c1.1 0 2-.9 2-2V5c0-1.1-.9-2-2-2zM9 17H7v-7h2v7zm4 0h-2V7h2v10zm4 0h-2v-4h2v4z\"/>\n",
              "    </g>\n",
              "</svg>\n",
              "  </button>\n",
              "\n",
              "<style>\n",
              "  .colab-df-quickchart {\n",
              "      --bg-color: #E8F0FE;\n",
              "      --fill-color: #1967D2;\n",
              "      --hover-bg-color: #E2EBFA;\n",
              "      --hover-fill-color: #174EA6;\n",
              "      --disabled-fill-color: #AAA;\n",
              "      --disabled-bg-color: #DDD;\n",
              "  }\n",
              "\n",
              "  [theme=dark] .colab-df-quickchart {\n",
              "      --bg-color: #3B4455;\n",
              "      --fill-color: #D2E3FC;\n",
              "      --hover-bg-color: #434B5C;\n",
              "      --hover-fill-color: #FFFFFF;\n",
              "      --disabled-bg-color: #3B4455;\n",
              "      --disabled-fill-color: #666;\n",
              "  }\n",
              "\n",
              "  .colab-df-quickchart {\n",
              "    background-color: var(--bg-color);\n",
              "    border: none;\n",
              "    border-radius: 50%;\n",
              "    cursor: pointer;\n",
              "    display: none;\n",
              "    fill: var(--fill-color);\n",
              "    height: 32px;\n",
              "    padding: 0;\n",
              "    width: 32px;\n",
              "  }\n",
              "\n",
              "  .colab-df-quickchart:hover {\n",
              "    background-color: var(--hover-bg-color);\n",
              "    box-shadow: 0 1px 2px rgba(60, 64, 67, 0.3), 0 1px 3px 1px rgba(60, 64, 67, 0.15);\n",
              "    fill: var(--button-hover-fill-color);\n",
              "  }\n",
              "\n",
              "  .colab-df-quickchart-complete:disabled,\n",
              "  .colab-df-quickchart-complete:disabled:hover {\n",
              "    background-color: var(--disabled-bg-color);\n",
              "    fill: var(--disabled-fill-color);\n",
              "    box-shadow: none;\n",
              "  }\n",
              "\n",
              "  .colab-df-spinner {\n",
              "    border: 2px solid var(--fill-color);\n",
              "    border-color: transparent;\n",
              "    border-bottom-color: var(--fill-color);\n",
              "    animation:\n",
              "      spin 1s steps(1) infinite;\n",
              "  }\n",
              "\n",
              "  @keyframes spin {\n",
              "    0% {\n",
              "      border-color: transparent;\n",
              "      border-bottom-color: var(--fill-color);\n",
              "      border-left-color: var(--fill-color);\n",
              "    }\n",
              "    20% {\n",
              "      border-color: transparent;\n",
              "      border-left-color: var(--fill-color);\n",
              "      border-top-color: var(--fill-color);\n",
              "    }\n",
              "    30% {\n",
              "      border-color: transparent;\n",
              "      border-left-color: var(--fill-color);\n",
              "      border-top-color: var(--fill-color);\n",
              "      border-right-color: var(--fill-color);\n",
              "    }\n",
              "    40% {\n",
              "      border-color: transparent;\n",
              "      border-right-color: var(--fill-color);\n",
              "      border-top-color: var(--fill-color);\n",
              "    }\n",
              "    60% {\n",
              "      border-color: transparent;\n",
              "      border-right-color: var(--fill-color);\n",
              "    }\n",
              "    80% {\n",
              "      border-color: transparent;\n",
              "      border-right-color: var(--fill-color);\n",
              "      border-bottom-color: var(--fill-color);\n",
              "    }\n",
              "    90% {\n",
              "      border-color: transparent;\n",
              "      border-bottom-color: var(--fill-color);\n",
              "    }\n",
              "  }\n",
              "</style>\n",
              "\n",
              "  <script>\n",
              "    async function quickchart(key) {\n",
              "      const quickchartButtonEl =\n",
              "        document.querySelector('#' + key + ' button');\n",
              "      quickchartButtonEl.disabled = true;  // To prevent multiple clicks.\n",
              "      quickchartButtonEl.classList.add('colab-df-spinner');\n",
              "      try {\n",
              "        const charts = await google.colab.kernel.invokeFunction(\n",
              "            'suggestCharts', [key], {});\n",
              "      } catch (error) {\n",
              "        console.error('Error during call to suggestCharts:', error);\n",
              "      }\n",
              "      quickchartButtonEl.classList.remove('colab-df-spinner');\n",
              "      quickchartButtonEl.classList.add('colab-df-quickchart-complete');\n",
              "    }\n",
              "    (() => {\n",
              "      let quickchartButtonEl =\n",
              "        document.querySelector('#df-184e89c9-a543-46b0-b35e-3bb7437c0792 button');\n",
              "      quickchartButtonEl.style.display =\n",
              "        google.colab.kernel.accessAllowed ? 'block' : 'none';\n",
              "    })();\n",
              "  </script>\n",
              "</div>\n",
              "\n",
              "    </div>\n",
              "  </div>\n"
            ],
            "application/vnd.google.colaboratory.intrinsic+json": {
              "type": "dataframe",
              "variable_name": "df",
              "summary": "{\n  \"name\": \"df\",\n  \"rows\": 4909,\n  \"fields\": [\n    {\n      \"column\": \"chembl_id\",\n      \"properties\": {\n        \"dtype\": \"string\",\n        \"num_unique_values\": 4909,\n        \"samples\": [\n          \"CHEMBL2283248\",\n          \"CHEMBL3805236\",\n          \"CHEMBL3814812\"\n        ],\n        \"semantic_type\": \"\",\n        \"description\": \"\"\n      }\n    },\n    {\n      \"column\": \"smiles\",\n      \"properties\": {\n        \"dtype\": \"string\",\n        \"num_unique_values\": 4876,\n        \"samples\": [\n          \"O=C(Nc1ncc2c(NCc3ccccc3)ncnc2c1)C\",\n          \"O=C(NCc1ccc(O)cc1)/C(/C#N)=C/c1cc(O)c([O-])cc1\",\n          \"Clc1c(F)ccc(Nc2ncnc3c2cc2OCCOCCOCCOc2c3)c1\"\n        ],\n        \"semantic_type\": \"\",\n        \"description\": \"\"\n      }\n    },\n    {\n      \"column\": \"IC50[nM]\",\n      \"properties\": {\n        \"dtype\": \"number\",\n        \"std\": 577394.9257048378,\n        \"min\": 0.0,\n        \"max\": 24999999.5,\n        \"num_unique_values\": 2044,\n        \"samples\": [\n          46.0,\n          956.0,\n          7.9\n        ],\n        \"semantic_type\": \"\",\n        \"description\": \"\"\n      }\n    }\n  ]\n}"
            }
          },
          "metadata": {},
          "execution_count": 13
        }
      ],
      "source": [
        "# Read activity data for EGFR into a pandas dataframe named df\n",
        "egfr_chembl25_link = 'https://github.com/volkamerlab/ai_in_medicine/raw/master/data/egfr_chembl25.csv'\n",
        "# load the csv file as a pandas dataframe\n",
        "df = pd.read_csv(\"https://github.com/volkamerlab/ai_in_medicine/raw/master/data/egfr_chembl25.csv\")\n",
        "\n",
        "df.head()"
      ]
    },
    {
      "cell_type": "markdown",
      "metadata": {
        "id": "e3ULba6H_UWS"
      },
      "source": [
        "The dataframe contains information about the ChEMBL ID, which can be used to query the ChEMBL database, a molecule in the form of a SMILES string and an activity value in the form of IC50 in nM. The IC50 describes the molar concentration that will result in 50 percent of inhibition in-vitro."
      ]
    },
    {
      "cell_type": "markdown",
      "metadata": {
        "id": "MrsHTKlo_UWS"
      },
      "source": [
        "#### 3.2 Interpret molecules\n",
        "\n",
        "Next, we will interpret the molecules that are stored as SMILES strings and transform them in a format that a machine learning algorithm can handle. The [RDKit](https://www.rdkit.org/) library is a free open-source framework that can be used to work with molecular data. In the following cells you will learn a few basic functionalities from RDKit and how you can store substructures of molecules in computer-friendly bit vectors, that can be later used to train your model."
      ]
    },
    {
      "cell_type": "code",
      "execution_count": 14,
      "metadata": {
        "id": "0eaW8xTk_UWS",
        "outputId": "d1a70ada-aace-4d2c-cad0-c827dc064920",
        "colab": {
          "base_uri": "https://localhost:8080/",
          "height": 184
        }
      },
      "outputs": [
        {
          "output_type": "stream",
          "name": "stdout",
          "text": [
            "Clc1c(OCc2cc(F)ccc2)ccc(Nc2c(C#Cc3ncccn3)cncn2)c1\n"
          ]
        },
        {
          "output_type": "execute_result",
          "data": {
            "text/plain": [
              "<rdkit.Chem.rdchem.Mol at 0x7a6e4456eff0>"
            ],
            "image/png": "[encoded data removed]"
          },
          "metadata": {},
          "execution_count": 14
        }
      ],
      "source": [
        "# pick the first SMILES stored in the dataframe and display the molecule with RDKit\n",
        "print(df['smiles'][0])\n",
        "mol = Chem.MolFromSmiles(df['smiles'][0])\n",
        "mol"
      ]
    },
    {
      "cell_type": "markdown",
      "metadata": {
        "id": "yjxgHuzN_UWS"
      },
      "source": [
        "The SMILES (**S**implified **M**olecular **I**nput **L**ine **E**ntry **S**ystem) representation allows to store the types and connectivity of atoms in a single string.  \n",
        "**Atom types** are represented by their atomic symbols, upper case letters represent aliphatic atoms, lower case letters represented aromatic atoms, hydrogens are often stripped away, since those can be inferred from atom type and connectivity:  \n",
        "`C` - aliphatic (sp3) carbon  \n",
        "`n` - aromatic (sp2) nitrogen  \n",
        "**Bonds** are only represented if needed:  \n",
        "`-` - single bond (`CC` and `C-C` are the same, since single bonds are used by default)  \n",
        "`=` - double bond (`C=C-C=C` and `cccc` are the same)  \n",
        "`#` - triple bond  \n",
        "**Ring** opening and closures are represented with numbers:  \n",
        "`c1ccccc1` - benzene  \n",
        "**Substituents** leaving a chain or ring are represented with brackets:  \n",
        "`c1cc(C)ccc1` - methyl-substituted benzene.  \n",
        "`CC(F)(Br)Cl`  - ethane substituted with fluorine, chlorine and bromine"
      ]
    },
    {
      "cell_type": "markdown",
      "metadata": {
        "id": "qD7U0m_w_UWT"
      },
      "source": [
        "**With the rules from above, you should be able to create the SMILES for acetylsalicylic acid, the active ingredient of Aspirin.**\n",
        "\n",
        "<img src='https://github.com/volkamerlab/ai_in_medicine/blob/master/images/aspirin.png?raw=1'>\n",
        "\n",
        "2D representation of acetylsalicylic acid taken from [Wikipedia](https://en.wikipedia.org/wiki/Aspirin#/media/File:Aspirin-skeletal.svg)."
      ]
    },
    {
      "cell_type": "code",
      "execution_count": null,
      "metadata": {
        "id": "pY0Ws3By_UWT"
      },
      "outputs": [],
      "source": [
        "# Write the smiles for acetylsalicylic acid\n",
        "####################\n",
        "\n",
        "####################"
      ]
    },
    {
      "cell_type": "markdown",
      "metadata": {
        "id": "xCngwWoV_UWT"
      },
      "source": [
        "Molecules can be represented in form of [molecular fingerprints](http://infochim.u-strasbg.fr/CS3/program/material/Bajorath.pdf), which store the presence of substructures in a bit vector consisting of zeros and ones. Here we will use Molecular ACCess System (MACCS) keys, which are implemented in RDKit and record the presence of a predefined set of substructures."
      ]
    },
    {
      "cell_type": "code",
      "execution_count": 15,
      "metadata": {
        "id": "Eam8M6yz_UWU",
        "outputId": "6e045e93-1e28-4c15-f830-8efe96a701c6",
        "colab": {
          "base_uri": "https://localhost:8080/"
        }
      },
      "outputs": [
        {
          "output_type": "stream",
          "name": "stdout",
          "text": [
            "[0, 0, 0, 0, 0, 0, 0, 0, 0, 0, 0, 0, 0, 0, 0, 0, 0, 1, 0, 0, 0, 0, 0, 0, 0, 0, 0, 0, 0, 0, 0, 0, 0, 0, 0, 0, 0, 0, 1, 0, 0, 0, 1, 0, 0, 0, 0, 0, 0, 0, 0, 0, 0, 0, 0, 0, 0, 0, 0, 0, 0, 0, 0, 0, 0, 1, 0, 0, 0, 0, 0, 0, 0, 0, 0, 0, 0, 1, 0, 0, 1, 0, 0, 0, 0, 0, 0, 1, 0, 0, 0, 0, 0, 0, 0, 0, 0, 0, 1, 0, 0, 0, 0, 1, 0, 0, 0, 1, 0, 1, 0, 0, 0, 1, 0, 0, 0, 0, 0, 0, 1, 1, 0, 0, 0, 1, 1, 1, 0, 0, 0, 0, 0, 1, 1, 1, 0, 1, 0, 0, 0, 0, 1, 1, 1, 1, 0, 0, 0, 0, 1, 1, 1, 1, 0, 1, 1, 1, 1, 0, 0, 1, 1, 1, 1, 1, 0]\n",
            "Zeros: 129\n",
            "Ones: 38\n"
          ]
        }
      ],
      "source": [
        "maccs_keys = list(MACCSkeys.GenMACCSKeys(mol))\n",
        "print(maccs_keys)\n",
        "print('Zeros:', len(maccs_keys) - sum(maccs_keys))\n",
        "print('Ones:', sum(maccs_keys))"
      ]
    },
    {
      "cell_type": "markdown",
      "metadata": {
        "id": "oNfytX1E_UWU"
      },
      "source": [
        "Let's explore which substrucutres can be found in our sample molecule."
      ]
    },
    {
      "cell_type": "code",
      "execution_count": 16,
      "metadata": {
        "id": "kbB3DpU__UWV",
        "outputId": "583a3a4b-a93c-49cb-a984-bfb2759ead1d",
        "colab": {
          "base_uri": "https://localhost:8080/"
        }
      },
      "outputs": [
        {
          "output_type": "execute_result",
          "data": {
            "text/plain": [
              "Index([ 17,  38,  42,  65,  77,  80,  87,  98, 103, 107, 109, 113, 120, 121,\n",
              "       125, 126, 127, 133, 134, 135, 137, 142, 143, 144, 145, 150, 151, 152,\n",
              "       153, 155, 156, 157, 158, 161, 162, 163, 164, 165],\n",
              "      dtype='int64')"
            ]
          },
          "metadata": {},
          "execution_count": 16
        }
      ],
      "source": [
        "# Get indices of ones\n",
        "maccs_key_series = pd.Series(maccs_keys)\n",
        "maccs_key_series[maccs_key_series==1].index"
      ]
    },
    {
      "cell_type": "markdown",
      "metadata": {
        "id": "Mj254Yis_UWV"
      },
      "source": [
        "The underlying substructures are provided in RDKit via a dictionary and are represented as [SMARTS](https://www.daylight.com/dayhtml/doc/theory/theory.smarts.html), which is an extension of the SMILES language and especially useful for substructure searches. The SMARTS of bit 80 represents the substructure `[#7]~*~*~*~[#7]`.\n",
        "- `#7` - any nitrogen\n",
        "- `~` - any bond\n",
        "- `*` - any atom\n",
        "\n",
        "We can also visualize substructures with the following lines. Just replace the `bit_index` with any of the indices found above."
      ]
    },
    {
      "cell_type": "code",
      "execution_count": null,
      "metadata": {
        "id": "6TuCZjPf_UWV"
      },
      "outputs": [],
      "source": [
        "bit_index = 80\n",
        "smarts = MACCSkeys.smartsPatts[bit_index][0]\n",
        "Chem.MolFromSmarts(smarts)"
      ]
    },
    {
      "cell_type": "markdown",
      "metadata": {
        "id": "6HLyWh-H_UWW"
      },
      "source": [
        "Next, let's use the following function to add an RDKit representation and the MACCS keys for each of the SMILES in the data set."
      ]
    },
    {
      "cell_type": "code",
      "execution_count": 17,
      "metadata": {
        "id": "KaV6CufE_UWW"
      },
      "outputs": [],
      "source": [
        "def add_mols_and_maccs(df, smiles_column='smiles'):\n",
        "    \"\"\"\n",
        "    Generate rdkit molecule objects and MACCSkeys and add them to the given dataframe.\n",
        "\n",
        "    Parameters\n",
        "    ----------\n",
        "    df: pandas.DataFrame\n",
        "        A data frame containing a column with SMILES.\n",
        "    \"\"\"\n",
        "    df['mol'] = df[smiles_column].apply(Chem.MolFromSmiles)\n",
        "    df['maccs'] = df['mol'].apply(MACCSkeys.GenMACCSKeys)\n",
        "    return"
      ]
    },
    {
      "cell_type": "code",
      "execution_count": 18,
      "metadata": {
        "id": "Erl-aaob_UWW",
        "outputId": "8d0857fd-d919-4e39-9941-001adfcca071",
        "colab": {
          "base_uri": "https://localhost:8080/",
          "height": 206
        }
      },
      "outputs": [
        {
          "output_type": "display_data",
          "data": {
            "text/plain": [
              "       chembl_id                                             smiles  IC50[nM]  \\\n",
              "0   CHEMBL207869  Clc1c(OCc2cc(F)ccc2)ccc(Nc2c(C#Cc3ncccn3)cncn2)c1     77.00   \n",
              "1  CHEMBL3940060  ClCC(=O)OCCN1C(=O)Oc2c1cc1c(Nc3cc(Cl)c(F)cc3)n...    330.00   \n",
              "2  CHEMBL3678951  FC(F)(F)c1cc(Nc2n(C(C)C)c3nc(Nc4ccc(N5CC[NH+](...      1.00   \n",
              "3   CHEMBL504034  Clc1c(OCc2cc(F)ccc2)ccc(Nc2ncnc3c2sc(C#C[C@H]2...     40.00   \n",
              "4   CHEMBL158797  S(Sc1n(C)c2c(c1C(=O)NCC(O)CO)cccc2)c1n(C)c2c(c...  43000.01   \n",
              "\n",
              "                                                mol  \\\n",
              "0  <rdkit.Chem.rdchem.Mol object at 0x7a6e4456f3e0>   \n",
              "1  <rdkit.Chem.rdchem.Mol object at 0x7a6e4456fb50>   \n",
              "2  <rdkit.Chem.rdchem.Mol object at 0x7a6e4456f990>   \n",
              "3  <rdkit.Chem.rdchem.Mol object at 0x7a6e4456fc30>   \n",
              "4  <rdkit.Chem.rdchem.Mol object at 0x7a6e4456fca0>   \n",
              "\n",
              "                                               maccs  \n",
              "0  [0, 0, 0, 0, 0, 0, 0, 0, 0, 0, 0, 0, 0, 0, 0, ...  \n",
              "1  [0, 0, 0, 0, 0, 0, 0, 0, 0, 0, 0, 0, 0, 0, 0, ...  \n",
              "2  [0, 0, 0, 0, 0, 0, 0, 0, 0, 0, 0, 0, 0, 0, 0, ...  \n",
              "3  [0, 0, 0, 0, 0, 0, 0, 0, 0, 0, 0, 0, 0, 0, 0, ...  \n",
              "4  [0, 0, 0, 0, 0, 0, 0, 0, 0, 0, 0, 0, 0, 0, 1, ...  "
            ],
            "text/html": [
              "\n",
              "  <div id=\"df-a97dbda8-92dd-456d-9d51-f434652ddc2a\" class=\"colab-df-container\">\n",
              "    <div>\n",
              "<style scoped>\n",
              "    .dataframe tbody tr th:only-of-type {\n",
              "        vertical-align: middle;\n",
              "    }\n",
              "\n",
              "    .dataframe tbody tr th {\n",
              "        vertical-align: top;\n",
              "    }\n",
              "\n",
              "    .dataframe thead th {\n",
              "        text-align: right;\n",
              "    }\n",
              "</style>\n",
              "<table border=\"1\" class=\"dataframe\">\n",
              "  <thead>\n",
              "    <tr style=\"text-align: right;\">\n",
              "      <th></th>\n",
              "      <th>chembl_id</th>\n",
              "      <th>smiles</th>\n",
              "      <th>IC50[nM]</th>\n",
              "      <th>mol</th>\n",
              "      <th>maccs</th>\n",
              "    </tr>\n",
              "  </thead>\n",
              "  <tbody>\n",
              "    <tr>\n",
              "      <th>0</th>\n",
              "      <td>CHEMBL207869</td>\n",
              "      <td>Clc1c(OCc2cc(F)ccc2)ccc(Nc2c(C#Cc3ncccn3)cncn2)c1</td>\n",
              "      <td>77.00</td>\n",
              "      <td>&lt;rdkit.Chem.rdchem.Mol object at 0x7a6e4456f3e0&gt;</td>\n",
              "      <td>[0, 0, 0, 0, 0, 0, 0, 0, 0, 0, 0, 0, 0, 0, 0, ...</td>\n",
              "    </tr>\n",
              "    <tr>\n",
              "      <th>1</th>\n",
              "      <td>CHEMBL3940060</td>\n",
              "      <td>ClCC(=O)OCCN1C(=O)Oc2c1cc1c(Nc3cc(Cl)c(F)cc3)n...</td>\n",
              "      <td>330.00</td>\n",
              "      <td>&lt;rdkit.Chem.rdchem.Mol object at 0x7a6e4456fb50&gt;</td>\n",
              "      <td>[0, 0, 0, 0, 0, 0, 0, 0, 0, 0, 0, 0, 0, 0, 0, ...</td>\n",
              "    </tr>\n",
              "    <tr>\n",
              "      <th>2</th>\n",
              "      <td>CHEMBL3678951</td>\n",
              "      <td>FC(F)(F)c1cc(Nc2n(C(C)C)c3nc(Nc4ccc(N5CC[NH+](...</td>\n",
              "      <td>1.00</td>\n",
              "      <td>&lt;rdkit.Chem.rdchem.Mol object at 0x7a6e4456f990&gt;</td>\n",
              "      <td>[0, 0, 0, 0, 0, 0, 0, 0, 0, 0, 0, 0, 0, 0, 0, ...</td>\n",
              "    </tr>\n",
              "    <tr>\n",
              "      <th>3</th>\n",
              "      <td>CHEMBL504034</td>\n",
              "      <td>Clc1c(OCc2cc(F)ccc2)ccc(Nc2ncnc3c2sc(C#C[C@H]2...</td>\n",
              "      <td>40.00</td>\n",
              "      <td>&lt;rdkit.Chem.rdchem.Mol object at 0x7a6e4456fc30&gt;</td>\n",
              "      <td>[0, 0, 0, 0, 0, 0, 0, 0, 0, 0, 0, 0, 0, 0, 0, ...</td>\n",
              "    </tr>\n",
              "    <tr>\n",
              "      <th>4</th>\n",
              "      <td>CHEMBL158797</td>\n",
              "      <td>S(Sc1n(C)c2c(c1C(=O)NCC(O)CO)cccc2)c1n(C)c2c(c...</td>\n",
              "      <td>43000.01</td>\n",
              "      <td>&lt;rdkit.Chem.rdchem.Mol object at 0x7a6e4456fca0&gt;</td>\n",
              "      <td>[0, 0, 0, 0, 0, 0, 0, 0, 0, 0, 0, 0, 0, 0, 1, ...</td>\n",
              "    </tr>\n",
              "  </tbody>\n",
              "</table>\n",
              "</div>\n",
              "    <div class=\"colab-df-buttons\">\n",
              "\n",
              "  <div class=\"colab-df-container\">\n",
              "    <button class=\"colab-df-convert\" onclick=\"convertToInteractive('df-a97dbda8-92dd-456d-9d51-f434652ddc2a')\"\n",
              "            title=\"Convert this dataframe to an interactive table.\"\n",
              "            style=\"display:none;\">\n",
              "\n",
              "  <svg xmlns=\"http://www.w3.org/2000/svg\" height=\"24px\" viewBox=\"0 -960 960 960\">\n",
              "    <path d=\"M120-120v-720h720v720H120Zm60-500h600v-160H180v160Zm220 220h160v-160H400v160Zm0 220h160v-160H400v160ZM180-400h160v-160H180v160Zm440 0h160v-160H620v160ZM180-180h160v-160H180v160Zm440 0h160v-160H620v160Z\"/>\n",
              "  </svg>\n",
              "    </button>\n",
              "\n",
              "  <style>\n",
              "    .colab-df-container {\n",
              "      display:flex;\n",
              "      gap: 12px;\n",
              "    }\n",
              "\n",
              "    .colab-df-convert {\n",
              "      background-color: #E8F0FE;\n",
              "      border: none;\n",
              "      border-radius: 50%;\n",
              "      cursor: pointer;\n",
              "      display: none;\n",
              "      fill: #1967D2;\n",
              "      height: 32px;\n",
              "      padding: 0 0 0 0;\n",
              "      width: 32px;\n",
              "    }\n",
              "\n",
              "    .colab-df-convert:hover {\n",
              "      background-color: #E2EBFA;\n",
              "      box-shadow: 0px 1px 2px rgba(60, 64, 67, 0.3), 0px 1px 3px 1px rgba(60, 64, 67, 0.15);\n",
              "      fill: #174EA6;\n",
              "    }\n",
              "\n",
              "    .colab-df-buttons div {\n",
              "      margin-bottom: 4px;\n",
              "    }\n",
              "\n",
              "    [theme=dark] .colab-df-convert {\n",
              "      background-color: #3B4455;\n",
              "      fill: #D2E3FC;\n",
              "    }\n",
              "\n",
              "    [theme=dark] .colab-df-convert:hover {\n",
              "      background-color: #434B5C;\n",
              "      box-shadow: 0px 1px 3px 1px rgba(0, 0, 0, 0.15);\n",
              "      filter: drop-shadow(0px 1px 2px rgba(0, 0, 0, 0.3));\n",
              "      fill: #FFFFFF;\n",
              "    }\n",
              "  </style>\n",
              "\n",
              "    <script>\n",
              "      const buttonEl =\n",
              "        document.querySelector('#df-a97dbda8-92dd-456d-9d51-f434652ddc2a button.colab-df-convert');\n",
              "      buttonEl.style.display =\n",
              "        google.colab.kernel.accessAllowed ? 'block' : 'none';\n",
              "\n",
              "      async function convertToInteractive(key) {\n",
              "        const element = document.querySelector('#df-a97dbda8-92dd-456d-9d51-f434652ddc2a');\n",
              "        const dataTable =\n",
              "          await google.colab.kernel.invokeFunction('convertToInteractive',\n",
              "                                                    [key], {});\n",
              "        if (!dataTable) return;\n",
              "\n",
              "        const docLinkHtml = 'Like what you see? Visit the ' +\n",
              "          '<a target=\"_blank\" href=https://colab.research.google.com/notebooks/data_table.ipynb>data table notebook</a>'\n",
              "          + ' to learn more about interactive tables.';\n",
              "        element.innerHTML = '';\n",
              "        dataTable['output_type'] = 'display_data';\n",
              "        await google.colab.output.renderOutput(dataTable, element);\n",
              "        const docLink = document.createElement('div');\n",
              "        docLink.innerHTML = docLinkHtml;\n",
              "        element.appendChild(docLink);\n",
              "      }\n",
              "    </script>\n",
              "  </div>\n",
              "\n",
              "\n",
              "<div id=\"df-8fb31ef9-a4df-4b48-9cb5-2bef910cf1f3\">\n",
              "  <button class=\"colab-df-quickchart\" onclick=\"quickchart('df-8fb31ef9-a4df-4b48-9cb5-2bef910cf1f3')\"\n",
              "            title=\"Suggest charts\"\n",
              "            style=\"display:none;\">\n",
              "\n",
              "<svg xmlns=\"http://www.w3.org/2000/svg\" height=\"24px\"viewBox=\"0 0 24 24\"\n",
              "     width=\"24px\">\n",
              "    <g>\n",
              "        <path d=\"M19 3H5c-1.1 0-2 .9-2 2v14c0 1.1.9 2 2 2h14c1.1 0 2-.9 2-2V5c0-1.1-.9-2-2-2zM9 17H7v-7h2v7zm4 0h-2V7h2v10zm4 0h-2v-4h2v4z\"/>\n",
              "    </g>\n",
              "</svg>\n",
              "  </button>\n",
              "\n",
              "<style>\n",
              "  .colab-df-quickchart {\n",
              "      --bg-color: #E8F0FE;\n",
              "      --fill-color: #1967D2;\n",
              "      --hover-bg-color: #E2EBFA;\n",
              "      --hover-fill-color: #174EA6;\n",
              "      --disabled-fill-color: #AAA;\n",
              "      --disabled-bg-color: #DDD;\n",
              "  }\n",
              "\n",
              "  [theme=dark] .colab-df-quickchart {\n",
              "      --bg-color: #3B4455;\n",
              "      --fill-color: #D2E3FC;\n",
              "      --hover-bg-color: #434B5C;\n",
              "      --hover-fill-color: #FFFFFF;\n",
              "      --disabled-bg-color: #3B4455;\n",
              "      --disabled-fill-color: #666;\n",
              "  }\n",
              "\n",
              "  .colab-df-quickchart {\n",
              "    background-color: var(--bg-color);\n",
              "    border: none;\n",
              "    border-radius: 50%;\n",
              "    cursor: pointer;\n",
              "    display: none;\n",
              "    fill: var(--fill-color);\n",
              "    height: 32px;\n",
              "    padding: 0;\n",
              "    width: 32px;\n",
              "  }\n",
              "\n",
              "  .colab-df-quickchart:hover {\n",
              "    background-color: var(--hover-bg-color);\n",
              "    box-shadow: 0 1px 2px rgba(60, 64, 67, 0.3), 0 1px 3px 1px rgba(60, 64, 67, 0.15);\n",
              "    fill: var(--button-hover-fill-color);\n",
              "  }\n",
              "\n",
              "  .colab-df-quickchart-complete:disabled,\n",
              "  .colab-df-quickchart-complete:disabled:hover {\n",
              "    background-color: var(--disabled-bg-color);\n",
              "    fill: var(--disabled-fill-color);\n",
              "    box-shadow: none;\n",
              "  }\n",
              "\n",
              "  .colab-df-spinner {\n",
              "    border: 2px solid var(--fill-color);\n",
              "    border-color: transparent;\n",
              "    border-bottom-color: var(--fill-color);\n",
              "    animation:\n",
              "      spin 1s steps(1) infinite;\n",
              "  }\n",
              "\n",
              "  @keyframes spin {\n",
              "    0% {\n",
              "      border-color: transparent;\n",
              "      border-bottom-color: var(--fill-color);\n",
              "      border-left-color: var(--fill-color);\n",
              "    }\n",
              "    20% {\n",
              "      border-color: transparent;\n",
              "      border-left-color: var(--fill-color);\n",
              "      border-top-color: var(--fill-color);\n",
              "    }\n",
              "    30% {\n",
              "      border-color: transparent;\n",
              "      border-left-color: var(--fill-color);\n",
              "      border-top-color: var(--fill-color);\n",
              "      border-right-color: var(--fill-color);\n",
              "    }\n",
              "    40% {\n",
              "      border-color: transparent;\n",
              "      border-right-color: var(--fill-color);\n",
              "      border-top-color: var(--fill-color);\n",
              "    }\n",
              "    60% {\n",
              "      border-color: transparent;\n",
              "      border-right-color: var(--fill-color);\n",
              "    }\n",
              "    80% {\n",
              "      border-color: transparent;\n",
              "      border-right-color: var(--fill-color);\n",
              "      border-bottom-color: var(--fill-color);\n",
              "    }\n",
              "    90% {\n",
              "      border-color: transparent;\n",
              "      border-bottom-color: var(--fill-color);\n",
              "    }\n",
              "  }\n",
              "</style>\n",
              "\n",
              "  <script>\n",
              "    async function quickchart(key) {\n",
              "      const quickchartButtonEl =\n",
              "        document.querySelector('#' + key + ' button');\n",
              "      quickchartButtonEl.disabled = true;  // To prevent multiple clicks.\n",
              "      quickchartButtonEl.classList.add('colab-df-spinner');\n",
              "      try {\n",
              "        const charts = await google.colab.kernel.invokeFunction(\n",
              "            'suggestCharts', [key], {});\n",
              "      } catch (error) {\n",
              "        console.error('Error during call to suggestCharts:', error);\n",
              "      }\n",
              "      quickchartButtonEl.classList.remove('colab-df-spinner');\n",
              "      quickchartButtonEl.classList.add('colab-df-quickchart-complete');\n",
              "    }\n",
              "    (() => {\n",
              "      let quickchartButtonEl =\n",
              "        document.querySelector('#df-8fb31ef9-a4df-4b48-9cb5-2bef910cf1f3 button');\n",
              "      quickchartButtonEl.style.display =\n",
              "        google.colab.kernel.accessAllowed ? 'block' : 'none';\n",
              "    })();\n",
              "  </script>\n",
              "</div>\n",
              "\n",
              "    </div>\n",
              "  </div>\n"
            ],
            "application/vnd.google.colaboratory.intrinsic+json": {
              "type": "dataframe",
              "summary": "{\n  \"name\": \"display(df\",\n  \"rows\": 5,\n  \"fields\": [\n    {\n      \"column\": \"chembl_id\",\n      \"properties\": {\n        \"dtype\": \"string\",\n        \"num_unique_values\": 5,\n        \"samples\": [\n          \"CHEMBL3940060\",\n          \"CHEMBL158797\",\n          \"CHEMBL3678951\"\n        ],\n        \"semantic_type\": \"\",\n        \"description\": \"\"\n      }\n    },\n    {\n      \"column\": \"smiles\",\n      \"properties\": {\n        \"dtype\": \"string\",\n        \"num_unique_values\": 5,\n        \"samples\": [\n          \"ClCC(=O)OCCN1C(=O)Oc2c1cc1c(Nc3cc(Cl)c(F)cc3)ncnc1c2\",\n          \"S(Sc1n(C)c2c(c1C(=O)NCC(O)CO)cccc2)c1n(C)c2c(c1C(=O)NCC(O)CO)cccc2\",\n          \"FC(F)(F)c1cc(Nc2n(C(C)C)c3nc(Nc4ccc(N5CC[NH+](C)CC5)cc4)ncc3n2)ccc1\"\n        ],\n        \"semantic_type\": \"\",\n        \"description\": \"\"\n      }\n    },\n    {\n      \"column\": \"IC50[nM]\",\n      \"properties\": {\n        \"dtype\": \"number\",\n        \"std\": 19180.53293972876,\n        \"min\": 1.0,\n        \"max\": 43000.01,\n        \"num_unique_values\": 5,\n        \"samples\": [\n          330.0,\n          43000.01,\n          1.0\n        ],\n        \"semantic_type\": \"\",\n        \"description\": \"\"\n      }\n    },\n    {\n      \"column\": \"mol\",\n      \"properties\": {\n        \"dtype\": \"string\",\n        \"num_unique_values\": 5,\n        \"samples\": [\n          \"<rdkit.Chem.rdchem.Mol object at 0x7a6e4456fb50>\",\n          \"<rdkit.Chem.rdchem.Mol object at 0x7a6e4456fca0>\",\n          \"<rdkit.Chem.rdchem.Mol object at 0x7a6e4456f990>\"\n        ],\n        \"semantic_type\": \"\",\n        \"description\": \"\"\n      }\n    },\n    {\n      \"column\": \"maccs\",\n      \"properties\": {\n        \"dtype\": \"string\",\n        \"num_unique_values\": 5,\n        \"samples\": [\n          \"<rdkit.DataStructs.cDataStructs.ExplicitBitVect object at 0x7a6e4442b3e0>\",\n          \"<rdkit.DataStructs.cDataStructs.ExplicitBitVect object at 0x7a6e4442b530>\",\n          \"<rdkit.DataStructs.cDataStructs.ExplicitBitVect object at 0x7a6e4442b450>\"\n        ],\n        \"semantic_type\": \"\",\n        \"description\": \"\"\n      }\n    }\n  ]\n}"
            }
          },
          "metadata": {}
        }
      ],
      "source": [
        "# add columns for rdkit molecules and maccs keys\n",
        "add_mols_and_maccs(df)\n",
        "display(df.head())"
      ]
    },
    {
      "cell_type": "markdown",
      "metadata": {
        "id": "sI8yIi1L_UWW"
      },
      "source": [
        "### 4. Classify data\n",
        "\n",
        "To train a machine learning model to classify molecules as active or inactive, we need to add an activity label to our data set.\n",
        "\n",
        "***Insert code below that adds a column named 'active' to the dataframe that holds the value 1.0 if the IC50 is lower than 500 and otherwise 0.0.***"
      ]
    },
    {
      "cell_type": "code",
      "execution_count": 20,
      "metadata": {
        "id": "R6mlhqAO_UWX"
      },
      "outputs": [],
      "source": [
        "# Mark every molecule as active with an IC50 < 500\n",
        "df['active'] = df['IC50[nM]'].apply(lambda x: 1.0 if x < 500 else 0.0)\n",
        "\n",
        "####################"
      ]
    },
    {
      "cell_type": "markdown",
      "metadata": {
        "id": "EovmtzqH_UWX"
      },
      "source": [
        "The following lines should find 2762 actives and 2147 inactives."
      ]
    },
    {
      "cell_type": "code",
      "execution_count": 21,
      "metadata": {
        "id": "1HWocj0N_UWX",
        "outputId": "9373a9e9-ca30-4aca-ab40-e8c0a6a1945a",
        "colab": {
          "base_uri": "https://localhost:8080/"
        }
      },
      "outputs": [
        {
          "output_type": "stream",
          "name": "stdout",
          "text": [
            "Actives: 2762\n",
            "Inactives: 2147\n"
          ]
        }
      ],
      "source": [
        "print('Actives:', int(df['active'].sum()))\n",
        "print('Inactives:', int(len(df)-df['active'].sum()))"
      ]
    },
    {
      "cell_type": "markdown",
      "metadata": {
        "id": "dM7OV04i_UWX"
      },
      "source": [
        "### 5. Split data\n",
        "\n",
        "***Split the data into training and test set by using the [train_test_split](https://scikit-learn.org/stable/modules/generated/sklearn.model_selection.train_test_split.html) function.***"
      ]
    },
    {
      "cell_type": "code",
      "execution_count": 24,
      "metadata": {
        "colab": {
          "base_uri": "https://localhost:8080/"
        },
        "id": "cB27uFkq_UWY",
        "outputId": "1ded806c-6f89-49bd-804f-740d96929e41"
      },
      "outputs": [
        {
          "output_type": "stream",
          "name": "stdout",
          "text": [
            "Dimensions de x: (4909, 167)\n",
            "Dimensions de y: (4909,)\n",
            "Longueur de x: 4909\n",
            "Longueur de y: 4909\n"
          ]
        }
      ],
      "source": [
        "import numpy as np\n",
        "\n",
        "# Convertir en tableaux NumPy (facultatif, mais permet d'utiliser .shape)\n",
        "x = np.array(df['maccs'].to_list())\n",
        "y = np.array(df['active'].to_list())\n",
        "\n",
        "# Afficher les dimensions (formes) des tableaux\n",
        "print(\"Dimensions de x:\", x.shape)\n",
        "print(\"Dimensions de y:\", y.shape)\n",
        "\n",
        "# Alternativement, vous pouvez utiliser len() si vous travaillez avec des listes :\n",
        "print(\"Longueur de x:\", len(x))\n",
        "print(\"Longueur de y:\", len(y))\n"
      ]
    },
    {
      "cell_type": "code",
      "source": [
        "from sklearn.model_selection import train_test_split\n",
        "\n",
        "# Diviser les données en ensembles d'entraînement et de test (80% / 20%)\n",
        "x_train, x_test, y_train, y_test = train_test_split(x, y, test_size=0.2, random_state=42)\n",
        "\n",
        "# Afficher les dimensions des ensembles d'entraînement et de test\n",
        "print(f\"Taille du jeu d'entraînement x: {x_train.shape}, y: {y_train.shape}\")\n",
        "print(f\"Taille du jeu de test x: {x_test.shape}, y: {y_test.shape}\")\n"
      ],
      "metadata": {
        "id": "2jvlnNkZKIJS",
        "outputId": "b874d96f-53ce-4199-da7c-0ceddc3ca02e",
        "colab": {
          "base_uri": "https://localhost:8080/"
        }
      },
      "execution_count": 25,
      "outputs": [
        {
          "output_type": "stream",
          "name": "stdout",
          "text": [
            "Taille du jeu d'entraînement x: (3927, 167), y: (3927,)\n",
            "Taille du jeu de test x: (982, 167), y: (982,)\n"
          ]
        }
      ]
    },
    {
      "cell_type": "markdown",
      "metadata": {
        "id": "KH0MQ8Qf_UWY"
      },
      "source": [
        "### 6. Train a support vector classifier\n",
        "\n",
        "***Train a [support vector classifier](https://scikit-learn.org/stable/modules/generated/sklearn.svm.SVC.html).***"
      ]
    },
    {
      "cell_type": "code",
      "execution_count": 28,
      "metadata": {
        "id": "KDIg_pO1_UWg",
        "outputId": "bdeb24a8-f320-4921-a810-e484a2b2e418",
        "colab": {
          "base_uri": "https://localhost:8080/"
        }
      },
      "outputs": [
        {
          "output_type": "stream",
          "name": "stdout",
          "text": [
            "Ensemble d'entraînement x: (3927, 167), y: (3927,)\n",
            "Ensemble de test x: (982, 167), y: (982,)\n"
          ]
        }
      ],
      "source": [
        "from sklearn.svm import SVC  # Support Vector Classifier\n",
        "from sklearn.model_selection import train_test_split\n",
        "from sklearn.metrics import accuracy_score, classification_report, confusion_matrix\n",
        "import numpy as np\n",
        "import pandas as pd\n",
        "import matplotlib.pyplot as plt\n",
        "# Préparer les caractéristiques (features) et les étiquettes (labels)\n",
        "x = np.array(df['maccs'].to_list())  # Liste des empreintes moléculaires\n",
        "y = np.array(df['active'].to_list())  # Liste des étiquettes (actif/inactif)\n",
        "\n",
        "# Diviser les données en ensembles d'entraînement et de test (80% pour l'entraînement, 20% pour le test)\n",
        "x_train, x_test, y_train, y_test = train_test_split(x, y, test_size=0.2, random_state=42)\n",
        "\n",
        "# Vérification des formes des ensembles\n",
        "print(f\"Ensemble d'entraînement x: {x_train.shape}, y: {y_train.shape}\")\n",
        "print(f\"Ensemble de test x: {x_test.shape}, y: {y_test.shape}\")\n",
        "\n",
        "# Créer une instance du classificateur SVC\n",
        "svc = SVC(kernel='linear', random_state=42)  # Vous pouvez changer le kernel selon le type de SVC (linéaire, RBF, etc.)\n",
        "\n",
        "# Entraîner le modèle sur les données d'entraînement\n",
        "svc.fit(x_train, y_train)\n",
        "\n",
        "# Faire des prédictions sur l'ensemble de test\n",
        "y_pred = svc.predict(x_test)\n"
      ]
    },
    {
      "cell_type": "markdown",
      "metadata": {
        "id": "CccD_D_Y_UWg"
      },
      "source": [
        "### 7. Assess performance\n",
        "\n",
        "- ***[predict](https://scikit-learn.org/stable/modules/generated/sklearn.svm.SVC.html#sklearn.svm.SVC.predict) the activity of the test set***  \n",
        "- ***assess the performance of your model by plotting a [ROC curve](https://scikit-learn.org/stable/modules/generated/sklearn.metrics.roc_curve.html) and calcuation of the [AUC](https://scikit-learn.org/stable/modules/generated/sklearn.metrics.roc_auc_score.html)***"
      ]
    },
    {
      "cell_type": "code",
      "execution_count": 29,
      "metadata": {
        "id": "jkhOyPu4_UWg"
      },
      "outputs": [],
      "source": [
        "# predict the activity of the test set\n",
        "y_pred = svc.predict(x_test)\n",
        "\n",
        "####################"
      ]
    },
    {
      "cell_type": "code",
      "execution_count": 30,
      "metadata": {
        "id": "JDLU5RrA_UWh",
        "outputId": "c7c2db78-2f41-42fb-b06c-6b7008d26b69",
        "colab": {
          "base_uri": "https://localhost:8080/"
        }
      },
      "outputs": [
        {
          "output_type": "stream",
          "name": "stdout",
          "text": [
            "AUC : 0.8468\n"
          ]
        }
      ],
      "source": [
        "# calculate AUC\n",
        "# Calculer les scores de décision (plutôt que les classes) pour l'AUC\n",
        "y_scores = svc.decision_function(x_test)  # Pour SVC, on utilise decision_function pour obtenir les scores\n",
        "\n",
        "# Calcul de l'AUC\n",
        "auc = roc_auc_score(y_test, y_scores)\n",
        "print(f\"AUC : {auc:.4f}\")\n",
        "\n",
        "####################"
      ]
    },
    {
      "cell_type": "code",
      "execution_count": 31,
      "metadata": {
        "id": "U3DPJffp_UWh",
        "outputId": "8ddcb00d-2069-4bb5-9b7c-6656e8609f58",
        "colab": {
          "base_uri": "https://localhost:8080/",
          "height": 564
        }
      },
      "outputs": [
        {
          "output_type": "display_data",
          "data": {
            "text/plain": [
              "<Figure size 800x600 with 1 Axes>"
            ],
            "image/png": "[encoded data removed]"
          },
          "metadata": {}
        }
      ],
      "source": [
        "# plot the ROC curve\n",
        "# Calculer les taux de vrais positifs et de faux positifs pour la courbe ROC\n",
        "fpr, tpr, thresholds = roc_curve(y_test, y_scores)\n",
        "\n",
        "# Tracer la courbe ROC\n",
        "plt.figure(figsize=(8, 6))\n",
        "plt.plot(fpr, tpr, color='blue', label=f'AUC = {auc:.4f}')\n",
        "plt.plot([0, 1], [0, 1], color='gray', linestyle='--')  # Diagonale aléatoire (auc = 0.5)\n",
        "plt.title('Courbe ROC')\n",
        "plt.xlabel('Taux de faux positifs (FPR)')\n",
        "plt.ylabel('Taux de vrais positifs (TPR)')\n",
        "plt.legend(loc='lower right')\n",
        "plt.show()\n",
        "\n",
        "\n",
        "####################"
      ]
    },
    {
      "cell_type": "markdown",
      "metadata": {
        "id": "Zq3qHifQ_UWh"
      },
      "source": [
        "### 8. Apply to unknown molecules\n",
        "\n",
        "***Use your model and predict the activity of a set of unknown molecules located at*** `data/egfr_candidates.csv`***.***"
      ]
    },
    {
      "cell_type": "code",
      "execution_count": 33,
      "metadata": {
        "id": "b9P9TR06_UWh",
        "outputId": "cbc274a9-d0d3-4d10-f28c-1f1f3c7e9e02",
        "colab": {
          "base_uri": "https://localhost:8080/"
        }
      },
      "outputs": [
        {
          "output_type": "stream",
          "name": "stdout",
          "text": [
            "                                              smiles\n",
            "0  COC1=C(OCCC[NH+]2CCOCC2)C=C2C(NC3=CC(Cl)=C(F)C...\n",
            "1  COCCOC1=CC2=C(C=C1OCCOC)C(NC1=CC(=CC=C1)C#C)=N...\n",
            "2  C[NH+](C)C\\C=C\\C(=O)NC1=C(OC2CCOC2)C=C2N=CN=C(...\n",
            "3  CS(=O)(=O)CCNCC1=CC=C(O1)C1=CC2=C(C=C1)N=CN=C2...\n",
            "4  CCOC1=C(NC(=O)C=CC[NH+](C)C)C=C2C(NC3=CC(Cl)=C...\n",
            "                                              smiles  \\\n",
            "0  COC1=C(OCCC[NH+]2CCOCC2)C=C2C(NC3=CC(Cl)=C(F)C...   \n",
            "1  COCCOC1=CC2=C(C=C1OCCOC)C(NC1=CC(=CC=C1)C#C)=N...   \n",
            "2  C[NH+](C)C\\C=C\\C(=O)NC1=C(OC2CCOC2)C=C2N=CN=C(...   \n",
            "3  CS(=O)(=O)CCNCC1=CC=C(O1)C1=CC2=C(C=C1)N=CN=C2...   \n",
            "4  CCOC1=C(NC(=O)C=CC[NH+](C)C)C=C2C(NC3=CC(Cl)=C...   \n",
            "\n",
            "                                          maccs_keys  \n",
            "0  [0, 0, 0, 0, 0, 0, 0, 0, 0, 0, 0, 0, 0, 0, 0, ...  \n",
            "1  [0, 0, 0, 0, 0, 0, 0, 0, 0, 0, 0, 0, 0, 0, 0, ...  \n",
            "2  [0, 0, 0, 0, 0, 0, 0, 0, 0, 0, 0, 0, 0, 0, 0, ...  \n",
            "3  [0, 0, 0, 0, 0, 0, 0, 0, 0, 0, 0, 0, 0, 0, 0, ...  \n",
            "4  [0, 0, 0, 0, 0, 0, 0, 0, 0, 0, 0, 0, 0, 0, 0, ...  \n"
          ]
        }
      ],
      "source": [
        "# load data and assign maccs keys\n",
        "egfr_candidates_link = 'https://github.com/volkamerlab/ai_in_medicine/raw/master/data/egfr_candidates.csv'\n",
        "# Load data from the URL\n",
        "egfr_candidates_link = 'https://github.com/volkamerlab/ai_in_medicine/raw/master/data/egfr_candidates.csv'\n",
        "data = pd.read_csv(egfr_candidates_link)\n",
        "\n",
        "# Check the first few rows of the data\n",
        "print(data.head())\n",
        "\n",
        "def calculate_maccs(smiles):\n",
        "    mol = Chem.MolFromSmiles(smiles)\n",
        "    if mol is not None:\n",
        "        return list(MACCSkeys.GenMACCSKeys(mol))\n",
        "    else:\n",
        "        return None\n",
        "\n",
        "# Create a new column for MACCS keys\n",
        "data['maccs_keys'] = data['smiles'].apply(calculate_maccs)\n",
        "\n",
        "# Display the data with the new column\n",
        "print(data.head())"
      ]
    },
    {
      "cell_type": "code",
      "execution_count": 38,
      "metadata": {
        "id": "AzEQQSlb_UWi",
        "outputId": "a73b3539-cdf5-4236-8116-764acd139e53",
        "colab": {
          "base_uri": "https://localhost:8080/"
        }
      },
      "outputs": [
        {
          "output_type": "stream",
          "name": "stdout",
          "text": [
            "Résultats des prédictions :\n",
            "                                              smiles  predicted_activity\n",
            "0  COC1=C(OCCC[NH+]2CCOCC2)C=C2C(NC3=CC(Cl)=C(F)C...                 1.0\n",
            "1  COCCOC1=CC2=C(C=C1OCCOC)C(NC1=CC(=CC=C1)C#C)=N...                 1.0\n",
            "2  C[NH+](C)C\\C=C\\C(=O)NC1=C(OC2CCOC2)C=C2N=CN=C(...                 1.0\n",
            "3  CS(=O)(=O)CCNCC1=CC=C(O1)C1=CC2=C(C=C1)N=CN=C2...                 1.0\n",
            "4  CCOC1=C(NC(=O)C=CC[NH+](C)C)C=C2C(NC3=CC(Cl)=C...                 1.0\n",
            "5  COC1=C(NC2=NC=C(Cl)C(NC3=CC=CC=C3P(C)(C)=O)=N2...                 1.0\n",
            "6  C#CC1=CC(=CC=C1)NC2=NC=NC3=CC4=C(C=C32)OCCOCCO...                 1.0\n",
            "7  COC1=C(NC2=NC=CC(=N2)C2=CN(C)C3=CC=CC=C23)C=C(...                 1.0\n",
            "Résultats sauvegardés dans 'egfr_candidates_predictions.csv'.\n"
          ]
        }
      ],
      "source": [
        "# predict the activity\n",
        "x_new = np.array(data['maccs_keys'].to_list())\n",
        "predictions = svc.predict(x_new)\n",
        "\n",
        "# Ajouter les prédictions au DataFrame\n",
        "data['predicted_activity'] = predictions\n",
        "\n",
        "# Afficher les résultats\n",
        "print(\"Résultats des prédictions :\")\n",
        "print(data[['smiles', 'predicted_activity']])\n",
        "\n",
        "# Sauvegarder les résultats dans un fichier CSV\n",
        "data.to_csv('egfr_candidates_predictions.csv', index=False)\n",
        "print(\"Résultats sauvegardés dans 'egfr_candidates_predictions.csv'.\")"
      ]
    },
    {
      "cell_type": "code",
      "source": [
        "import pandas as pd\n",
        "from google.colab import files\n",
        "\n",
        "# Sauvegarder le fichier dans un format Excel\n",
        "excel_filename = 'egfr_candidates_predictions.xlsx'\n",
        "data.to_excel(excel_filename, index=False, engine='openpyxl')\n",
        "\n",
        "# Télécharger le fichier Excel\n",
        "files.download(excel_filename)\n"
      ],
      "metadata": {
        "id": "U73auY0gPApV",
        "outputId": "cbe1b197-4fb4-4b3d-a673-fc0e3fcd03da",
        "colab": {
          "base_uri": "https://localhost:8080/",
          "height": 17
        }
      },
      "execution_count": 40,
      "outputs": [
        {
          "output_type": "display_data",
          "data": {
            "text/plain": [
              "<IPython.core.display.Javascript object>"
            ],
            "application/javascript": [
              "\n",
              "    async function download(id, filename, size) {\n",
              "      if (!google.colab.kernel.accessAllowed) {\n",
              "        return;\n",
              "      }\n",
              "      const div = document.createElement('div');\n",
              "      const label = document.createElement('label');\n",
              "      label.textContent = `Downloading \"${filename}\": `;\n",
              "      div.appendChild(label);\n",
              "      const progress = document.createElement('progress');\n",
              "      progress.max = size;\n",
              "      div.appendChild(progress);\n",
              "      document.body.appendChild(div);\n",
              "\n",
              "      const buffers = [];\n",
              "      let downloaded = 0;\n",
              "\n",
              "      const channel = await google.colab.kernel.comms.open(id);\n",
              "      // Send a message to notify the kernel that we're ready.\n",
              "      channel.send({})\n",
              "\n",
              "      for await (const message of channel.messages) {\n",
              "        // Send a message to notify the kernel that we're ready.\n",
              "        channel.send({})\n",
              "        if (message.buffers) {\n",
              "          for (const buffer of message.buffers) {\n",
              "            buffers.push(buffer);\n",
              "            downloaded += buffer.byteLength;\n",
              "            progress.value = downloaded;\n",
              "          }\n",
              "        }\n",
              "      }\n",
              "      const blob = new Blob(buffers, {type: 'application/binary'});\n",
              "      const a = document.createElement('a');\n",
              "      a.href = window.URL.createObjectURL(blob);\n",
              "      a.download = filename;\n",
              "      div.appendChild(a);\n",
              "      a.click();\n",
              "      div.remove();\n",
              "    }\n",
              "  "
            ]
          },
          "metadata": {}
        },
        {
          "output_type": "display_data",
          "data": {
            "text/plain": [
              "<IPython.core.display.Javascript object>"
            ],
            "application/javascript": [
              "download(\"download_fc6f43df-8122-4b69-956a-cabd11a59b9e\", \"egfr_candidates_predictions.xlsx\", 5616)"
            ]
          },
          "metadata": {}
        }
      ]
    },
    {
      "cell_type": "code",
      "source": [
        "from google.colab import files\n",
        "\n",
        "# Sauvegarder le fichier localement\n",
        "data.to_csv('egfr_candidates_predictions.csv', index=False)\n",
        "\n",
        "# Télécharger le fichier sur votre machine locale\n",
        "files.download('egfr_candidates_predictions.csv')\n"
      ],
      "metadata": {
        "id": "DzgrJd-HOpLA",
        "outputId": "ee353048-b475-44b8-ebf2-f42e11fe8fab",
        "colab": {
          "base_uri": "https://localhost:8080/",
          "height": 17
        }
      },
      "execution_count": 39,
      "outputs": [
        {
          "output_type": "display_data",
          "data": {
            "text/plain": [
              "<IPython.core.display.Javascript object>"
            ],
            "application/javascript": [
              "\n",
              "    async function download(id, filename, size) {\n",
              "      if (!google.colab.kernel.accessAllowed) {\n",
              "        return;\n",
              "      }\n",
              "      const div = document.createElement('div');\n",
              "      const label = document.createElement('label');\n",
              "      label.textContent = `Downloading \"${filename}\": `;\n",
              "      div.appendChild(label);\n",
              "      const progress = document.createElement('progress');\n",
              "      progress.max = size;\n",
              "      div.appendChild(progress);\n",
              "      document.body.appendChild(div);\n",
              "\n",
              "      const buffers = [];\n",
              "      let downloaded = 0;\n",
              "\n",
              "      const channel = await google.colab.kernel.comms.open(id);\n",
              "      // Send a message to notify the kernel that we're ready.\n",
              "      channel.send({})\n",
              "\n",
              "      for await (const message of channel.messages) {\n",
              "        // Send a message to notify the kernel that we're ready.\n",
              "        channel.send({})\n",
              "        if (message.buffers) {\n",
              "          for (const buffer of message.buffers) {\n",
              "            buffers.push(buffer);\n",
              "            downloaded += buffer.byteLength;\n",
              "            progress.value = downloaded;\n",
              "          }\n",
              "        }\n",
              "      }\n",
              "      const blob = new Blob(buffers, {type: 'application/binary'});\n",
              "      const a = document.createElement('a');\n",
              "      a.href = window.URL.createObjectURL(blob);\n",
              "      a.download = filename;\n",
              "      div.appendChild(a);\n",
              "      a.click();\n",
              "      div.remove();\n",
              "    }\n",
              "  "
            ]
          },
          "metadata": {}
        },
        {
          "output_type": "display_data",
          "data": {
            "text/plain": [
              "<IPython.core.display.Javascript object>"
            ],
            "application/javascript": [
              "download(\"download_194f8332-0cf9-4803-9b57-df4e8d70e935\", \"egfr_candidates_predictions.csv\", 4659)"
            ]
          },
          "metadata": {}
        }
      ]
    },
    {
      "cell_type": "markdown",
      "metadata": {
        "id": "wG-fAls1_UWi"
      },
      "source": [
        "***Visit [PubChem](https://pubchem.ncbi.nlm.nih.gov/), an online resource for chemical information, and query the database with a SMILES of a predicted active and predicted inactive. What can you find out about the molecules?***"
      ]
    }
  ],
  "metadata": {
    "kernelspec": {
      "display_name": "Python 3",
      "language": "python",
      "name": "python3"
    },
    "language_info": {
      "codemirror_mode": {
        "name": "ipython",
        "version": 3
      },
      "file_extension": ".py",
      "mimetype": "text/x-python",
      "name": "python",
      "nbconvert_exporter": "python",
      "pygments_lexer": "ipython3",
      "version": "3.8.10"
    },
    "colab": {
      "provenance": []
    }
  },
  "nbformat": 4,
  "nbformat_minor": 0
}