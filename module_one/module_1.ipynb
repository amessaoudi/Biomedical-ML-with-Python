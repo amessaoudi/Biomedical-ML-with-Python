{
 "cells": [
  {
   "cell_type": "markdown",
   "id": "accompanied-experiment",
   "metadata": {},
   "source": [
    "# Header"
   ]
  },
  {
   "cell_type": "code",
   "execution_count": 7,
   "id": "revolutionary-institution",
   "metadata": {},
   "outputs": [
    {
     "name": "stdout",
     "output_type": "stream",
     "text": [
      "/opt/jupyterhub/bin/python\n"
     ]
    }
   ],
   "source": [
    "!which python"
   ]
  },
  {
   "cell_type": "code",
   "execution_count": 4,
   "id": "swiss-video",
   "metadata": {},
   "outputs": [
    {
     "name": "stdout",
     "output_type": "stream",
     "text": [
      "Defaulting to user installation because normal site-packages is not writeable\n",
      "Requirement already satisfied: scipy in /home/millerh1/.local/lib/python3.9/site-packages (from -r requirements.txt (line 1)) (1.6.1)\n",
      "Collecting sklearn\n",
      "  Downloading sklearn-0.0.tar.gz (1.1 kB)\n",
      "Requirement already satisfied: pandas in /home/millerh1/.local/lib/python3.9/site-packages (from -r requirements.txt (line 3)) (1.2.2)\n",
      "Requirement already satisfied: numpy>=1.16.5 in /home/millerh1/.local/lib/python3.9/site-packages (from pandas->-r requirements.txt (line 3)) (1.20.1)\n",
      "Requirement already satisfied: python-dateutil>=2.7.3 in /usr/lib/python3/dist-packages (from pandas->-r requirements.txt (line 3)) (2.7.3)\n",
      "Requirement already satisfied: pytz>=2017.3 in /usr/lib/python3/dist-packages (from pandas->-r requirements.txt (line 3)) (2019.3)\n",
      "Requirement already satisfied: scikit-learn in /home/millerh1/.local/lib/python3.9/site-packages (from sklearn->-r requirements.txt (line 2)) (0.24.1)\n",
      "Requirement already satisfied: joblib>=0.11 in /home/millerh1/.local/lib/python3.9/site-packages (from scikit-learn->sklearn->-r requirements.txt (line 2)) (1.0.1)\n",
      "Requirement already satisfied: threadpoolctl>=2.0.0 in /home/millerh1/.local/lib/python3.9/site-packages (from scikit-learn->sklearn->-r requirements.txt (line 2)) (2.1.0)\n",
      "Building wheels for collected packages: sklearn\n",
      "\u001b[33m  WARNING: Building wheel for sklearn failed: [Errno 13] Permission denied: '/home/millerh1/.cache/pip/wheels/e4'\u001b[0m\n",
      "Failed to build sklearn\n",
      "Installing collected packages: sklearn\n",
      "    Running setup.py install for sklearn ... \u001b[?25ldone\n",
      "\u001b[33m  DEPRECATION: sklearn was installed using the legacy 'setup.py install' method, because a wheel could not be built for it. A possible replacement is to fix the wheel build issue reported above. You can find discussion regarding this at https://github.com/pypa/pip/issues/8368.\u001b[0m\n",
      "\u001b[?25hSuccessfully installed sklearn-0.0\n",
      "\u001b[33mWARNING: You are using pip version 21.0.1; however, version 21.1.1 is available.\n",
      "You should consider upgrading via the '/usr/bin/python3.9 -m pip install --upgrade pip' command.\u001b[0m\n"
     ]
    }
   ],
   "source": [
    "!pip install -r requirements.txt"
   ]
  },
  {
   "cell_type": "code",
   "execution_count": 1,
   "id": "french-wages",
   "metadata": {},
   "outputs": [
    {
     "name": "stdout",
     "output_type": "stream",
     "text": [
      "Hello world!\n"
     ]
    }
   ],
   "source": [
    "print(\"Hello world!\")"
   ]
  }
 ],
 "metadata": {
  "kernelspec": {
   "display_name": "Python 3",
   "language": "python",
   "name": "python3"
  },
  "language_info": {
   "codemirror_mode": {
    "name": "ipython",
    "version": 3
   },
   "file_extension": ".py",
   "mimetype": "text/x-python",
   "name": "python",
   "nbconvert_exporter": "python",
   "pygments_lexer": "ipython3",
   "version": "3.8.5"
  }
 },
 "nbformat": 4,
 "nbformat_minor": 5
}
