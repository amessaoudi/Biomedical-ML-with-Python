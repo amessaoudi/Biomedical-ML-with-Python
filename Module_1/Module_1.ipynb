{
 "cells": [
  {
   "cell_type": "markdown",
   "id": "554dc169",
   "metadata": {},
   "source": [
    "# Module \\#1 - Orientation and Introductory Python\n",
    "\n",
    "## Starting from scratch with Python & Jupyter\n",
    "\n",
    "`Python` is a general-purpose programming language used widely in machine learning and data science. To begin working with `Python`, we will use **Jupyter Notebook**. Jupyter Notebook is an IDE (Integrated Development Environment) which allows you to write and run `Python` code and `markdown` text inside of **blocks**. \n",
    "\n",
    "To execute a block, click it and press \"Run\" or, press ctrl+enter (Windows) or cmd+enter (macOS).\n",
    "\n",
    "### Hello world!\n",
    "\n",
    "To begin, we will follow in the time-honored tradition of showing you how to print \"Hello world!\" in python. **Execute the block below** (ctr-enter, Widows; shift-return, MacOS) to print \"Hello world!\"."
   ]
  },
  {
   "cell_type": "code",
   "execution_count": null,
   "id": "39d7f19e",
   "metadata": {},
   "outputs": [],
   "source": [
    "print(\"Hello world!\")"
   ]
  },
  {
   "cell_type": "markdown",
   "id": "fcb7b2b8",
   "metadata": {},
   "source": [
    "**Challenge**: Can you modify the block below to print \"Hello Python!\"?"
   ]
  },
  {
   "cell_type": "code",
   "execution_count": null,
   "id": "f2df76a9",
   "metadata": {},
   "outputs": [],
   "source": [
    "print()"
   ]
  },
  {
   "cell_type": "markdown",
   "id": "ce3c0386",
   "metadata": {},
   "source": [
    "### Markdown\n",
    "\n",
    "Jupyter notebook allows you to write code in `R`, `Python`, `Julia` in code blocks. **Jupyter** actually stands for **Ju**lia, **Pyt**hon, and **R**. \n",
    "\n",
    "Jupyter notebooks also allow you to write markdown in markdown blocks. \n",
    "\n",
    "Markdown blocks are converted to formatted text when executed. **Execute the block below** to display \"Hello world!\""
   ]
  },
  {
   "cell_type": "markdown",
   "id": "4da89aea",
   "metadata": {},
   "source": [
    "\"Hello world!\""
   ]
  },
  {
   "cell_type": "markdown",
   "id": "bb8cb3be",
   "metadata": {},
   "source": [
    "#### Formatting in markdown\n",
    "\n",
    "Markdown is very powerful and used ubiquitously throughout the computing universe. You can easily style your markdown to display it the way you want. **Execute the block below** to reveal how markdown is converted to styled text. \n",
    "\n",
    "This example is borrowed from [markdownguide.org](https://www.markdownguide.org/cheat-sheet/)"
   ]
  },
  {
   "cell_type": "markdown",
   "id": "f10156c2",
   "metadata": {},
   "source": [
    "# H1\n",
    "## H2\n",
    "### H3\n",
    "#### H4\n",
    "\n",
    "**bold text**\n",
    "\n",
    "*italicized text*\n",
    "\n",
    "> blockquote\n",
    "\n",
    "1. First item\n",
    "2. Second item\n",
    "3. Third item\n",
    "\n",
    "\t- First item\n",
    "- Second item\n",
    "- Third item\n",
    "\n",
    "`code`\n",
    "\n",
    "---\n",
    "\n",
    "[link](https://www.example.com)\n",
    "\n",
    "\n",
    "| Syntax | Description |\n",
    "| ----------- | ----------- |\n",
    "| Header | Title |\n",
    "| Paragraph | Text |\n",
    "\n",
    "\n",
    "```\n",
    "print(\"Hello world!\")\n",
    "print(\"This is a multi-line code snippet\")\n",
    "```\n",
    "\n",
    "term\n",
    ": definition\n",
    "\n",
    "~~The world is flat.~~\n",
    "\n",
    "- [x] Write the press release\n",
    "- [ ] Update the website\n",
    "- [ ] Contact the media\n",
    "\n",
    "![alt text](https://cdn0.iconfinder.com/data/icons/octicons/1024/markdown-512.png)\n"
   ]
  },
  {
   "cell_type": "markdown",
   "id": "95bde508",
   "metadata": {},
   "source": [
    "### Efficient Jupyter Notebook\n",
    "\n",
    "Finally, Jupyter notebook is used most-efficiently when using keyboard shortcuts and built-in tools. A full cheatsheet can be found [here](https://www.edureka.co/blog/wp-content/uploads/2018/10/Jupyter_Notebook_CheatSheet_Edureka.pdf).\n",
    "\n",
    "For now, a couple key concepts:\n",
    "\n",
    "In Jupyter, you can be in either **Edit mode** or **Command mode**\n",
    "\n",
    "**Edit mode** allows you edit blocks. You can enter it by double-clicking on a block or by using the arrow keys to select a block and pressing enter. In this mode, you can write markdown or code blocks.\n",
    "\n",
    "**Command mode** allows you to modify blocks without editing their contents directly. You can enter command mode by pressing the escape key. Here is a shortlist of command mode shortcuts:\n",
    "\n",
    "Hit **Escape** to enter command mode, and then:\n",
    "- Add a new block below: **b**\n",
    "- Convert a block to markdown: **m**\n",
    "- Convert a block to code: **y**\n",
    "- Delete a block: **d + d**\n",
    "\n",
    "**Challenge:** Can you add a new block below, convert it to a markdown block, and then use it to print \"Hello Jupyter!\" in bold?"
   ]
  },
  {
   "cell_type": "markdown",
   "id": "c65e0706",
   "metadata": {},
   "source": [
    "<hr>\n",
    "\n",
    "# Simple objects in python\n",
    "\n",
    "Python is an object-oriented programming language. This means that **everything in python is an object**. Objects have (1) a class (aka \"type\"), (2) properties, and (3) methods. Let's look at some simple object types in python and their associated methods:"
   ]
  },
  {
   "cell_type": "markdown",
   "id": "ff2770cb",
   "metadata": {},
   "source": [
    "## Booleans and comparisons\n",
    "\n",
    "Booleans (logicals) are a simple object type in python. They are binary because they can be only `True` or `False`."
   ]
  },
  {
   "cell_type": "code",
   "execution_count": null,
   "id": "2f1e9f77",
   "metadata": {},
   "outputs": [],
   "source": [
    "True"
   ]
  },
  {
   "cell_type": "code",
   "execution_count": null,
   "id": "b8f80bab",
   "metadata": {},
   "outputs": [],
   "source": [
    "False"
   ]
  },
  {
   "cell_type": "markdown",
   "id": "d7446459",
   "metadata": {},
   "source": [
    "We can also verify this is a `bool` object with the type method. This method can be used on any type of object in python and it returns the class of that object."
   ]
  },
  {
   "cell_type": "code",
   "execution_count": 13,
   "id": "b9874312",
   "metadata": {},
   "outputs": [
    {
     "data": {
      "text/plain": [
       "bool"
      ]
     },
     "execution_count": 13,
     "metadata": {},
     "output_type": "execute_result"
    }
   ],
   "source": [
    "type(True)"
   ]
  },
  {
   "cell_type": "markdown",
   "id": "529a473e",
   "metadata": {},
   "source": [
    "### Logical operations\n",
    "\n",
    "Python makes logical operations easy and allows us to determine whether some logical condition is met. For example, we can use the `and` operator. This operator will evaluate to `True` if both left and right sides are `True`"
   ]
  },
  {
   "cell_type": "code",
   "execution_count": null,
   "id": "f835c766",
   "metadata": {},
   "outputs": [],
   "source": [
    "# And (both left and right are True)\n",
    "True and True"
   ]
  },
  {
   "cell_type": "code",
   "execution_count": null,
   "id": "ddb8d322",
   "metadata": {},
   "outputs": [],
   "source": [
    "# And (one side isn't true)\n",
    "True and False"
   ]
  },
  {
   "cell_type": "markdown",
   "id": "e41cceac",
   "metadata": {},
   "source": [
    "There is also the `or` operator, which evaluates to `True` if at least one side is `True`."
   ]
  },
  {
   "cell_type": "code",
   "execution_count": null,
   "id": "3661b68b",
   "metadata": {},
   "outputs": [],
   "source": [
    "# Or (only one side has to be True)\n",
    "True or False"
   ]
  },
  {
   "cell_type": "markdown",
   "id": "23982a96",
   "metadata": {},
   "source": [
    "Finally, the `not` (not) operator. This negates a logical's value:"
   ]
  },
  {
   "cell_type": "code",
   "execution_count": null,
   "id": "7c99bb48",
   "metadata": {},
   "outputs": [],
   "source": [
    "not True"
   ]
  },
  {
   "cell_type": "markdown",
   "id": "4e805a72",
   "metadata": {},
   "source": [
    "Logical operators can be easily combined to make more complex statements. They also follow an order of operations, just like mathematical expressions. The order is:\n",
    "\n",
    "1. `()`\n",
    "2. `not`\n",
    "3. `and`\n",
    "4. `or`"
   ]
  },
  {
   "cell_type": "code",
   "execution_count": null,
   "id": "26bf8348",
   "metadata": {},
   "outputs": [],
   "source": [
    "not False and True"
   ]
  },
  {
   "cell_type": "code",
   "execution_count": null,
   "id": "ab980d42",
   "metadata": {},
   "outputs": [],
   "source": [
    "not False and not True"
   ]
  },
  {
   "cell_type": "code",
   "execution_count": 3,
   "id": "79ad6ab2",
   "metadata": {},
   "outputs": [
    {
     "data": {
      "text/plain": [
       "True"
      ]
     },
     "execution_count": 3,
     "metadata": {},
     "output_type": "execute_result"
    }
   ],
   "source": [
    "not False and not False"
   ]
  },
  {
   "cell_type": "code",
   "execution_count": 10,
   "id": "f2213f84",
   "metadata": {},
   "outputs": [
    {
     "data": {
      "text/plain": [
       "False"
      ]
     },
     "execution_count": 10,
     "metadata": {},
     "output_type": "execute_result"
    }
   ],
   "source": [
    "not False and False"
   ]
  },
  {
   "cell_type": "code",
   "execution_count": 11,
   "id": "ce683b50",
   "metadata": {},
   "outputs": [
    {
     "data": {
      "text/plain": [
       "True"
      ]
     },
     "execution_count": 11,
     "metadata": {},
     "output_type": "execute_result"
    }
   ],
   "source": [
    "not (False and False)"
   ]
  },
  {
   "cell_type": "code",
   "execution_count": null,
   "id": "f7669e35",
   "metadata": {},
   "outputs": [],
   "source": [
    "not False or not (True or not True)"
   ]
  },
  {
   "cell_type": "markdown",
   "id": "034ac238",
   "metadata": {},
   "source": [
    "**Challenge question**: What is the output for the following (without running it yourself):\n",
    "\n",
    "```python\n",
    "False and True or True and (not False or False)\n",
    "```"
   ]
  },
  {
   "cell_type": "markdown",
   "id": "9c76534f",
   "metadata": {},
   "source": [
    "## Numerics and mathematics\n",
    "\n",
    "There are three main types of numerical objects in python:\n",
    "\n",
    "1. `int` -- includes whole numbers\n",
    "2. `float` -- includes decimals\n",
    "3. `complex` -- includes imaginary numbers\n",
    "\n",
    "Let's explore the `int` type first. We can create an instance of `int` by simply typing any whole number into the code block:"
   ]
  },
  {
   "cell_type": "markdown",
   "id": "8c955d09",
   "metadata": {},
   "source": [
    "#### `int` "
   ]
  },
  {
   "cell_type": "code",
   "execution_count": null,
   "id": "603b6bfa",
   "metadata": {},
   "outputs": [],
   "source": [
    "1"
   ]
  },
  {
   "cell_type": "markdown",
   "id": "b754813b",
   "metadata": {},
   "source": [
    "We can also verify this is an `int` object with the `type` method. This method can be used on any type of object in python and it returns the class of that object."
   ]
  },
  {
   "cell_type": "code",
   "execution_count": null,
   "id": "789f7ed2",
   "metadata": {},
   "outputs": [],
   "source": [
    "type(1)"
   ]
  },
  {
   "cell_type": "markdown",
   "id": "00c02e73",
   "metadata": {},
   "source": [
    "Instances of any class can also be created by using the name of that class as a method. For example, we can create (aka \"instantiate\") an empty integer, by calling the `int()` method."
   ]
  },
  {
   "cell_type": "code",
   "execution_count": null,
   "id": "b42db1e0",
   "metadata": {},
   "outputs": [],
   "source": [
    "int()"
   ]
  },
  {
   "cell_type": "markdown",
   "id": "2364a5bb",
   "metadata": {},
   "source": [
    "#### `float`"
   ]
  },
  {
   "cell_type": "markdown",
   "id": "87b79473",
   "metadata": {},
   "source": [
    "`floats` are numerical objects which have a decimal place. For example:"
   ]
  },
  {
   "cell_type": "code",
   "execution_count": null,
   "id": "b7181325",
   "metadata": {},
   "outputs": [],
   "source": [
    "1.01"
   ]
  },
  {
   "cell_type": "code",
   "execution_count": null,
   "id": "0ddccea0",
   "metadata": {},
   "outputs": [],
   "source": [
    "type(1.01)"
   ]
  },
  {
   "cell_type": "markdown",
   "id": "f24d00b4",
   "metadata": {},
   "source": [
    "#### `complex`"
   ]
  },
  {
   "cell_type": "markdown",
   "id": "a8882c39",
   "metadata": {},
   "source": [
    "`complex` are numerical objects which have imaginary numbers. For example:"
   ]
  },
  {
   "cell_type": "code",
   "execution_count": null,
   "id": "87dd2d52",
   "metadata": {},
   "outputs": [],
   "source": [
    "2 + 2j"
   ]
  },
  {
   "cell_type": "code",
   "execution_count": null,
   "id": "11e5ad5d",
   "metadata": {},
   "outputs": [],
   "source": [
    "type(2+2j)"
   ]
  },
  {
   "cell_type": "markdown",
   "id": "1e84f02b",
   "metadata": {},
   "source": [
    "### Numerical methods: Math operations\n",
    "\n",
    "We can perform simple mathematical operations with numerical objects."
   ]
  },
  {
   "cell_type": "code",
   "execution_count": null,
   "id": "82a0964e",
   "metadata": {},
   "outputs": [],
   "source": [
    "# Addition\n",
    "1 + 1"
   ]
  },
  {
   "cell_type": "code",
   "execution_count": null,
   "id": "1b7e6e20",
   "metadata": {},
   "outputs": [],
   "source": [
    "# Subtraction\n",
    "4 - 2"
   ]
  },
  {
   "cell_type": "code",
   "execution_count": null,
   "id": "94e6f601",
   "metadata": {},
   "outputs": [],
   "source": [
    "# Multiplication \n",
    "2 * 3"
   ]
  },
  {
   "cell_type": "code",
   "execution_count": null,
   "id": "73270776",
   "metadata": {},
   "outputs": [],
   "source": [
    "# Division\n",
    "16 / 3"
   ]
  },
  {
   "cell_type": "code",
   "execution_count": null,
   "id": "2ae6fdef",
   "metadata": {},
   "outputs": [],
   "source": [
    "# Floored Division\n",
    "16 // 3"
   ]
  },
  {
   "cell_type": "code",
   "execution_count": null,
   "id": "a3d330f1",
   "metadata": {},
   "outputs": [],
   "source": [
    "# Modulo (remainder)\n",
    "16 % 3"
   ]
  },
  {
   "cell_type": "code",
   "execution_count": null,
   "id": "3b9a680f",
   "metadata": {},
   "outputs": [],
   "source": [
    "# Exponentiation\n",
    "2**5"
   ]
  },
  {
   "cell_type": "code",
   "execution_count": null,
   "id": "f42d31e4",
   "metadata": {},
   "outputs": [],
   "source": [
    "# Negation\n",
    "-1"
   ]
  },
  {
   "cell_type": "code",
   "execution_count": null,
   "id": "661b3fbe",
   "metadata": {},
   "outputs": [],
   "source": [
    "# Absolute value\n",
    "abs(-1)"
   ]
  },
  {
   "cell_type": "markdown",
   "id": "9e883c2c",
   "metadata": {},
   "source": [
    "**Challenge question**: What is the `type` of `22 / 2`?"
   ]
  },
  {
   "cell_type": "markdown",
   "id": "89819260",
   "metadata": {},
   "source": [
    "#### Order of operations\n",
    "\n",
    "Python obeys PEMDAS (parentheses, exponent, multiplication, division, addition, subtraction) to determine the order in which to evaluate a mathematical operation. For example:"
   ]
  },
  {
   "cell_type": "code",
   "execution_count": null,
   "id": "3d892cf8",
   "metadata": {},
   "outputs": [],
   "source": [
    "3 + 5 * 2  # It is not 16 because the multiplication comes first"
   ]
  },
  {
   "cell_type": "markdown",
   "id": "206f91ca",
   "metadata": {},
   "source": [
    "**Challenge question:** What is the result of this operation (without running it yourself): \n",
    "\n",
    "```\n",
    "2 + 3 * (2 + 25 / 5 ** 2) \n",
    "```"
   ]
  },
  {
   "cell_type": "markdown",
   "id": "e0756591",
   "metadata": {},
   "source": [
    "### Logical comparisons of numerics\n",
    "\n",
    "We can use comparison operators in python to check the relationship between any two numerics. "
   ]
  },
  {
   "cell_type": "code",
   "execution_count": null,
   "id": "42a79439",
   "metadata": {},
   "outputs": [],
   "source": [
    "# Greater-than\n",
    "9 > 8"
   ]
  },
  {
   "cell_type": "code",
   "execution_count": null,
   "id": "b1962d67",
   "metadata": {},
   "outputs": [],
   "source": [
    "# Less-than\n",
    "8 < 10"
   ]
  },
  {
   "cell_type": "code",
   "execution_count": null,
   "id": "69e26660",
   "metadata": {},
   "outputs": [],
   "source": [
    "# Equal to\n",
    "1 == 2"
   ]
  },
  {
   "cell_type": "code",
   "execution_count": null,
   "id": "71f065dc",
   "metadata": {},
   "outputs": [],
   "source": [
    "# Not equal to\n",
    "1 != 2"
   ]
  },
  {
   "cell_type": "code",
   "execution_count": null,
   "id": "73b5cded",
   "metadata": {},
   "outputs": [],
   "source": [
    "# less-than or equal-to\n",
    "2 <= 2"
   ]
  },
  {
   "cell_type": "code",
   "execution_count": null,
   "id": "9f4c2d6a",
   "metadata": {},
   "outputs": [],
   "source": [
    "# Greater-than or equal-to\n",
    "10 >= 12"
   ]
  },
  {
   "cell_type": "markdown",
   "id": "83266ef4",
   "metadata": {},
   "source": [
    "#### Complex comparisons\n",
    "\n",
    "We can add in arthimetic to perform more mathematically complex operations"
   ]
  },
  {
   "cell_type": "code",
   "execution_count": null,
   "id": "9b6442aa",
   "metadata": {},
   "outputs": [],
   "source": [
    "5 ** 2 + 1 == 52 / 2"
   ]
  },
  {
   "cell_type": "code",
   "execution_count": null,
   "id": "3f50c544",
   "metadata": {},
   "outputs": [],
   "source": [
    "1j**2 == -1"
   ]
  },
  {
   "cell_type": "markdown",
   "id": "31a1c6af",
   "metadata": {},
   "source": [
    "TODO: Add another challenge here"
   ]
  },
  {
   "cell_type": "markdown",
   "id": "dc31a20e",
   "metadata": {},
   "source": [
    "## Strings\n",
    "\n",
    "Strings hold text data, such as names or addresses. They are constructed by using quotations (double or single):"
   ]
  },
  {
   "cell_type": "code",
   "execution_count": null,
   "id": "2bafef7e",
   "metadata": {},
   "outputs": [],
   "source": [
    "'Hello world!'  # Single quotes"
   ]
  },
  {
   "cell_type": "code",
   "execution_count": null,
   "id": "a0e64088",
   "metadata": {},
   "outputs": [],
   "source": [
    "\"Hello world!\"  # Double quotes"
   ]
  },
  {
   "cell_type": "code",
   "execution_count": null,
   "id": "90e6e729",
   "metadata": {},
   "outputs": [],
   "source": [
    "type(\"Hello world!\")"
   ]
  },
  {
   "cell_type": "markdown",
   "id": "ad530054",
   "metadata": {},
   "source": [
    "### String methods\n",
    "\n",
    "There are several basic methods for string objects. Many more exist and they will be covered later in the course. For a list of string methods please see the W3 schools guide [here](https://www.w3schools.com/python/python_ref_string.asp)."
   ]
  },
  {
   "cell_type": "code",
   "execution_count": null,
   "id": "10cdb25b",
   "metadata": {},
   "outputs": [],
   "source": [
    "# Print\n",
    "print(\"Hello world!\")"
   ]
  },
  {
   "cell_type": "code",
   "execution_count": null,
   "id": "80ae4c90",
   "metadata": {},
   "outputs": [],
   "source": [
    "# Concatenate\n",
    "\"Hello \" + \"world!\""
   ]
  },
  {
   "cell_type": "code",
   "execution_count": null,
   "id": "b63d6033",
   "metadata": {},
   "outputs": [],
   "source": [
    "# Upper-case\n",
    "\"Hello world!\".upper()"
   ]
  },
  {
   "cell_type": "markdown",
   "id": "fd480d68",
   "metadata": {},
   "source": [
    "#### Logical comparisons with strings\n",
    "\n",
    "Just like numerics, logical comparisons work with strings as well"
   ]
  },
  {
   "cell_type": "code",
   "execution_count": null,
   "id": "257f15c5",
   "metadata": {},
   "outputs": [],
   "source": [
    "\"Hello\" == \"Hello\""
   ]
  },
  {
   "cell_type": "code",
   "execution_count": null,
   "id": "71441b86",
   "metadata": {},
   "outputs": [],
   "source": [
    "\"Hello\" == \"World\""
   ]
  },
  {
   "cell_type": "code",
   "execution_count": null,
   "id": "b893a438",
   "metadata": {},
   "outputs": [],
   "source": [
    "\"Hello\" != \"World\""
   ]
  },
  {
   "cell_type": "markdown",
   "id": "7ee2db30",
   "metadata": {},
   "source": [
    "## Type conversion\n",
    "\n",
    "Some types of obejcts in `python` can be converted. This is necessary when performing certain operations, such as adding `str` and `int` objects to make a phrase such as the following:\n",
    "\n",
    "```python\n",
    "\"I am \" + 26 + \" years old!\"\n",
    "```\n",
    "\n",
    "If we attempt to run this code, we should see an error because the `+` method only works with strings or numerics, but not both. \n",
    "\n",
    "Now, **try it yourself by executing the block below!**"
   ]
  },
  {
   "cell_type": "code",
   "execution_count": 37,
   "id": "3c9ca6c4",
   "metadata": {},
   "outputs": [
    {
     "ename": "TypeError",
     "evalue": "can only concatenate str (not \"int\") to str",
     "output_type": "error",
     "traceback": [
      "\u001b[1;31m---------------------------------------------------------------------------\u001b[0m",
      "\u001b[1;31mTypeError\u001b[0m                                 Traceback (most recent call last)",
      "\u001b[1;32m<ipython-input-37-6b05c433632a>\u001b[0m in \u001b[0;36m<module>\u001b[1;34m\u001b[0m\n\u001b[1;32m----> 1\u001b[1;33m \u001b[1;34m\"I am \"\u001b[0m \u001b[1;33m+\u001b[0m \u001b[1;36m26\u001b[0m \u001b[1;33m+\u001b[0m \u001b[1;34m\" years old!\"\u001b[0m\u001b[1;33m\u001b[0m\u001b[1;33m\u001b[0m\u001b[0m\n\u001b[0m",
      "\u001b[1;31mTypeError\u001b[0m: can only concatenate str (not \"int\") to str"
     ]
    }
   ],
   "source": [
    "\"I am \" + 26 + \" years old!\""
   ]
  },
  {
   "cell_type": "markdown",
   "id": "b8d936e7",
   "metadata": {},
   "source": [
    "How can we interpret this error? When looking at an error in `python`, you can usually skip right to the last line, in this case: `TypeError: can only concatenate str (not \"int\") to str`. This line indicates a `TypeError` which arises when an operation is performed on incompatible object types. The text of the error says `can only concatenate str (not \"int\") to str`, indicating that the user has attempted to `concatenate` (`+`) a `str` with an `int` object, which is not allowed. \n",
    "\n",
    "To understand how to fix this, let's fix look at the ways `python` handles type conversion:\n",
    "\n",
    "1. `int` to `float`"
   ]
  },
  {
   "cell_type": "code",
   "execution_count": 23,
   "id": "ac60913b",
   "metadata": {},
   "outputs": [
    {
     "data": {
      "text/plain": [
       "int"
      ]
     },
     "execution_count": 23,
     "metadata": {},
     "output_type": "execute_result"
    }
   ],
   "source": [
    "# Let's look at the int 1\n",
    "type(1)"
   ]
  },
  {
   "cell_type": "code",
   "execution_count": 24,
   "id": "9d52d88b",
   "metadata": {},
   "outputs": [
    {
     "data": {
      "text/plain": [
       "1.0"
      ]
     },
     "execution_count": 24,
     "metadata": {},
     "output_type": "execute_result"
    }
   ],
   "source": [
    "# Convert int: 1 to a float.\n",
    "float(1)"
   ]
  },
  {
   "cell_type": "code",
   "execution_count": 25,
   "id": "12acd5e0",
   "metadata": {},
   "outputs": [
    {
     "data": {
      "text/plain": [
       "float"
      ]
     },
     "execution_count": 25,
     "metadata": {},
     "output_type": "execute_result"
    }
   ],
   "source": [
    "# Confirm that float(1) is a float\n",
    "type(float(1))"
   ]
  },
  {
   "cell_type": "markdown",
   "id": "d9d56122",
   "metadata": {},
   "source": [
    "2. `bool` to `int`"
   ]
  },
  {
   "cell_type": "code",
   "execution_count": 28,
   "id": "9243799e",
   "metadata": {},
   "outputs": [
    {
     "data": {
      "text/plain": [
       "bool"
      ]
     },
     "execution_count": 28,
     "metadata": {},
     "output_type": "execute_result"
    }
   ],
   "source": [
    "# Let's look at True\n",
    "type(True)"
   ]
  },
  {
   "cell_type": "code",
   "execution_count": 29,
   "id": "8b76054a",
   "metadata": {},
   "outputs": [
    {
     "data": {
      "text/plain": [
       "1"
      ]
     },
     "execution_count": 29,
     "metadata": {},
     "output_type": "execute_result"
    }
   ],
   "source": [
    "# Convert True to int\n",
    "int(True)"
   ]
  },
  {
   "cell_type": "markdown",
   "id": "ddacc34b",
   "metadata": {},
   "source": [
    "**Challenge:** What error results from `2 ** 2 / int(False)` ? and why?"
   ]
  },
  {
   "cell_type": "markdown",
   "id": "103e5063",
   "metadata": {},
   "source": [
    "3. `str` to `int`"
   ]
  },
  {
   "cell_type": "code",
   "execution_count": 31,
   "id": "16edaea1",
   "metadata": {},
   "outputs": [
    {
     "data": {
      "text/plain": [
       "str"
      ]
     },
     "execution_count": 31,
     "metadata": {},
     "output_type": "execute_result"
    }
   ],
   "source": [
    "# Look at the type of \"5\"\n",
    "type(\"5\")"
   ]
  },
  {
   "cell_type": "code",
   "execution_count": 32,
   "id": "f1fb6255",
   "metadata": {},
   "outputs": [
    {
     "data": {
      "text/plain": [
       "5"
      ]
     },
     "execution_count": 32,
     "metadata": {},
     "output_type": "execute_result"
    }
   ],
   "source": [
    "# Convert \"5\" to int\n",
    "int(\"5\")"
   ]
  },
  {
   "cell_type": "code",
   "execution_count": 33,
   "id": "d997cd0f",
   "metadata": {},
   "outputs": [
    {
     "data": {
      "text/plain": [
       "False"
      ]
     },
     "execution_count": 33,
     "metadata": {},
     "output_type": "execute_result"
    }
   ],
   "source": [
    "# 1 is not the same as \"1\"\n",
    "1 == \"1\""
   ]
  },
  {
   "cell_type": "code",
   "execution_count": 34,
   "id": "ee14b4b7",
   "metadata": {},
   "outputs": [
    {
     "data": {
      "text/plain": [
       "True"
      ]
     },
     "execution_count": 34,
     "metadata": {},
     "output_type": "execute_result"
    }
   ],
   "source": [
    "# str(1) is equivalent to \"1\"\n",
    "1 == int(\"1\")"
   ]
  },
  {
   "cell_type": "markdown",
   "id": "78447f8a",
   "metadata": {},
   "source": [
    "**Challenge:** Modify the code from earlier so that it doesn't produce a `TypeError`:\n",
    "\n",
    "```python\n",
    "\"I am \" + 26 + \" years old!\"\n",
    "```"
   ]
  },
  {
   "cell_type": "markdown",
   "id": "f13f73d4",
   "metadata": {},
   "source": [
    "### Cross-type comparison\n",
    "\n",
    "Additionally, there is no requirement that logical comparisons involve only one data type. For example:"
   ]
  },
  {
   "cell_type": "code",
   "execution_count": null,
   "id": "d22e3565",
   "metadata": {},
   "outputs": [],
   "source": [
    "# 1 is not equivalent to \"Hello world!\"\n",
    "1 != \"Hello world!\""
   ]
  },
  {
   "cell_type": "code",
   "execution_count": null,
   "id": "a4df0bdd",
   "metadata": {},
   "outputs": [],
   "source": [
    "# Both sides generate booleans which can be compared using \"and\"\n",
    "\"Hello\" != \"world\" and 1 < 2"
   ]
  },
  {
   "cell_type": "markdown",
   "id": "7f9c0538",
   "metadata": {},
   "source": [
    "**Challenge questions**: Please take this opportunity to figure out the results of each line (be prepared to explain your answers):\n",
    "\n",
    "```python\n",
    "\n",
    "# Question 1\n",
    "\"Hello\" == False or 1 * 2 <= 2\n",
    "\n",
    "# Question 2\n",
    "\"Hello\" + \"World\" == \"Hello world\"\n",
    "\n",
    "# Question 3\n",
    "not \"A\" != \"B\" or not True == False and 3**2 == 9 \n",
    "\n",
    "```"
   ]
  },
  {
   "cell_type": "markdown",
   "id": "3b935a01",
   "metadata": {},
   "source": [
    "## Variables\n",
    "\n",
    "Variables are names (aka 'aliases' or 'references') given to an object in python. Any object in python can be assigned a variable. Rather than calling the object directly, you can use the variable name instead. This enables complicated code to be written and understood by humans.\n",
    "\n",
    "To create a variable, use the `=` sign:"
   ]
  },
  {
   "cell_type": "code",
   "execution_count": null,
   "id": "98182ecd",
   "metadata": {},
   "outputs": [],
   "source": [
    "a = 1"
   ]
  },
  {
   "cell_type": "markdown",
   "id": "c738f9c9",
   "metadata": {},
   "source": [
    "Now that we have created the variable `a` to hold the integer `1`, we can perform operations on `a` directly."
   ]
  },
  {
   "cell_type": "code",
   "execution_count": null,
   "id": "b8accf92",
   "metadata": {},
   "outputs": [],
   "source": [
    "# Use a for arithmetic\n",
    "a + 2"
   ]
  },
  {
   "cell_type": "code",
   "execution_count": null,
   "id": "f8793613",
   "metadata": {},
   "outputs": [],
   "source": [
    "# Use a for logical comparisons\n",
    "a != \"Hello world!\""
   ]
  },
  {
   "cell_type": "markdown",
   "id": "96512755",
   "metadata": {},
   "source": [
    "In python, any variable can reference any object, including the results of computations."
   ]
  },
  {
   "cell_type": "code",
   "execution_count": null,
   "id": "01caaed7",
   "metadata": {},
   "outputs": [],
   "source": [
    "result_1 = 1 + 2 < 3  # Variable to reference numeric comparison\n",
    "result_2 = \"Hello \" + \"world\" == \"Hello world\"  # Variable to reference string comparison"
   ]
  },
  {
   "cell_type": "code",
   "execution_count": null,
   "id": "1e474d5a",
   "metadata": {},
   "outputs": [],
   "source": [
    "result_1 or result_2"
   ]
  },
  {
   "cell_type": "markdown",
   "id": "5b3e9de6",
   "metadata": {},
   "source": [
    "### `is` and `==`\n",
    "\n",
    "In python, two methods exist for testing equivalence:\n",
    "\n",
    "1. `==` (equivalent values)\n",
    "2. `is` (identical objects)\n",
    "\n",
    "While the distinction is subtle, it is crucial to remember that `is` tests whether two objects are literally the same where as `==` only tests whether two objects are equal to eachother. \n"
   ]
  },
  {
   "cell_type": "markdown",
   "id": "e73db222",
   "metadata": {},
   "source": [
    "For example, we can assign the numerical object `1` to the variable `a`, and then assign `a` to `b`. Both `a` and `b` refer to the same object of the numeric class holding the value `257`. Therefore, they are equivalent and the same."
   ]
  },
  {
   "cell_type": "code",
   "execution_count": null,
   "id": "f226dd6d",
   "metadata": {},
   "outputs": [],
   "source": [
    "a = 257\n",
    "b = a"
   ]
  },
  {
   "cell_type": "code",
   "execution_count": null,
   "id": "fd7c60f2",
   "metadata": {},
   "outputs": [],
   "source": [
    "a == b"
   ]
  },
  {
   "cell_type": "code",
   "execution_count": null,
   "id": "747456e6",
   "metadata": {},
   "outputs": [],
   "source": [
    "a is b"
   ]
  },
  {
   "cell_type": "markdown",
   "id": "5bc1f47b",
   "metadata": {},
   "source": [
    "Conversly, if we assign `a` and `b` to `257` separately, we see that they do not refer to the same object:"
   ]
  },
  {
   "cell_type": "code",
   "execution_count": null,
   "id": "62c27a8e",
   "metadata": {},
   "outputs": [],
   "source": [
    "a = 257\n",
    "b = 257"
   ]
  },
  {
   "cell_type": "code",
   "execution_count": null,
   "id": "4e800392",
   "metadata": {},
   "outputs": [],
   "source": [
    "a == b"
   ]
  },
  {
   "cell_type": "code",
   "execution_count": null,
   "id": "b66a8990",
   "metadata": {},
   "outputs": [],
   "source": [
    "a is b"
   ]
  },
  {
   "cell_type": "markdown",
   "id": "ed631650",
   "metadata": {},
   "source": [
    "**EXTREME Challenge question**:\n",
    "\n",
    "What happens when I repeat the above example using `256` instead of `257`? Why does the result change? \n",
    "\n",
    "*Hint*: See [this article](https://codeburst.io/the-unseen-pitfalls-of-python-7ca57f021d08) for additional guidance."
   ]
  },
  {
   "cell_type": "markdown",
   "id": "02ac5012",
   "metadata": {},
   "source": [
    "<hr>\n",
    "\n",
    "# Complex objects in python\n",
    "\n",
    "Now that we have discussed simple python objects, lets explore the wide world of complex objects. These objects provide powerful methods for the storage and manipulation of data. They are essential tools for the data scientist to wield.\n",
    "\n",
    "Object types:\n",
    "1. Lists\n",
    "2. Dictionaries\n",
    "3. Tuples\n",
    "4. Sets\n",
    "5. Numpy arrays\n",
    "6. Pandas DataFrames"
   ]
  },
  {
   "cell_type": "markdown",
   "id": "226b9279",
   "metadata": {},
   "source": [
    "## Lists\n",
    "\n",
    "Lists are a python object type which can store any arbitrary number of any type of object. "
   ]
  },
  {
   "cell_type": "code",
   "execution_count": 40,
   "id": "1f55285d",
   "metadata": {},
   "outputs": [
    {
     "data": {
      "text/plain": [
       "['Hello', 'World']"
      ]
     },
     "execution_count": 40,
     "metadata": {},
     "output_type": "execute_result"
    }
   ],
   "source": [
    "# List of strings\n",
    "words = [\"Hello\", \"World\"]\n",
    "words"
   ]
  },
  {
   "cell_type": "code",
   "execution_count": null,
   "id": "1f3afd54",
   "metadata": {},
   "outputs": [],
   "source": [
    "# List of numbers\n",
    "numbers = [1, 2, 3]\n",
    "numbers"
   ]
  },
  {
   "cell_type": "code",
   "execution_count": null,
   "id": "2e868f62",
   "metadata": {},
   "outputs": [],
   "source": [
    "# List of booleans\n",
    "bools = [True, False, False]\n",
    "bools"
   ]
  },
  {
   "cell_type": "code",
   "execution_count": null,
   "id": "abbd6925",
   "metadata": {},
   "outputs": [],
   "source": [
    "# Mixed list\n",
    "mix = [1, True, \"Hello\"]\n",
    "mix"
   ]
  },
  {
   "cell_type": "markdown",
   "id": "486769a4",
   "metadata": {},
   "source": [
    "### List methods\n",
    "\n",
    "Lists have a wide variety of methods associated with them. For a more exhaustive reference, please refer to the W3 schools guide [here](https://www.w3schools.com/python/python_ref_list.asp).\n",
    "\n",
    "For now, we will discuss:\n",
    "1. Construction\n",
    "2. Indices\n",
    "3. Appending\n",
    "4. Length\n",
    "5. Sort"
   ]
  },
  {
   "cell_type": "markdown",
   "id": "568bb292",
   "metadata": {},
   "source": [
    "#### Construction\n",
    "\n",
    "Lists can be constructed using the `list()` function:"
   ]
  },
  {
   "cell_type": "code",
   "execution_count": null,
   "id": "0785f82d",
   "metadata": {},
   "outputs": [],
   "source": [
    "# Just like other python object, there is a constructor function for lists\n",
    "my_list = list()\n",
    "my_list"
   ]
  },
  {
   "cell_type": "markdown",
   "id": "fb836f70",
   "metadata": {},
   "source": [
    "More commonly, lists are defined by using `[]` and providing the objects to include:"
   ]
  },
  {
   "cell_type": "code",
   "execution_count": null,
   "id": "7a72672c",
   "metadata": {},
   "outputs": [],
   "source": [
    "my_list = [1, 2, 3, 'a', 'b']\n",
    "my_list"
   ]
  },
  {
   "cell_type": "code",
   "execution_count": null,
   "id": "6105b97c",
   "metadata": {},
   "outputs": [],
   "source": [
    "# Lists can even contain lists\n",
    "lst_list = [1, 2, 3, [4, 5, 6]]\n",
    "print(lst_list)"
   ]
  },
  {
   "cell_type": "markdown",
   "id": "073af3bf",
   "metadata": {},
   "source": [
    "#### Indices\n",
    "\n",
    "Lists hold data and have a specific order. To access the objects in a list, one can use the object's index. **NOTE**: unlike `R`, indices start at `0` in python."
   ]
  },
  {
   "cell_type": "code",
   "execution_count": null,
   "id": "efb7486b",
   "metadata": {},
   "outputs": [],
   "source": [
    "# Retrieve first element from list\n",
    "my_list[0]"
   ]
  },
  {
   "cell_type": "code",
   "execution_count": null,
   "id": "8aa57e81",
   "metadata": {},
   "outputs": [],
   "source": [
    "# Retrieve fourth element from list\n",
    "my_list[3]"
   ]
  },
  {
   "cell_type": "code",
   "execution_count": null,
   "id": "ce4c4579",
   "metadata": {},
   "outputs": [],
   "source": [
    "# Retrieve the last element from list\n",
    "my_list[-1]"
   ]
  },
  {
   "cell_type": "markdown",
   "id": "fa56ea40",
   "metadata": {},
   "source": [
    "Indices can also be accessed using a slice (`start:stop`). The slice indicates the range of indices to retrieve. If either `start` or `stop` is blank all elements will be included up until an element (former) or after an element (latter). "
   ]
  },
  {
   "cell_type": "code",
   "execution_count": null,
   "id": "977d67bd",
   "metadata": {},
   "outputs": [],
   "source": [
    "# Retrieve the values from the 2nd to the 5th element\n",
    "my_list[1:4]"
   ]
  },
  {
   "cell_type": "code",
   "execution_count": null,
   "id": "16fa727e",
   "metadata": {},
   "outputs": [],
   "source": [
    "# Retrieve all values from the 3rd element to the end of the list\n",
    "my_list[2:]"
   ]
  },
  {
   "cell_type": "code",
   "execution_count": null,
   "id": "1bc823fb",
   "metadata": {},
   "outputs": [],
   "source": [
    "# Retrieve all values until the 4th element\n",
    "my_list[:3]"
   ]
  },
  {
   "cell_type": "markdown",
   "id": "833a1abb",
   "metadata": {},
   "source": [
    "TODO: Add step as well"
   ]
  },
  {
   "cell_type": "markdown",
   "id": "2dfb2bad",
   "metadata": {},
   "source": [
    "#### Appending\n",
    "\n",
    "New elements can be added to the end of a list using the `append()` method:"
   ]
  },
  {
   "cell_type": "code",
   "execution_count": null,
   "id": "4fbec9dc",
   "metadata": {},
   "outputs": [],
   "source": [
    "# Append 1 to a list\n",
    "my_list.append(1)\n",
    "my_list"
   ]
  },
  {
   "cell_type": "code",
   "execution_count": null,
   "id": "67272702",
   "metadata": {},
   "outputs": [],
   "source": [
    "# NOTE: This overwrites the list object. \n",
    "my_list.append(2)\n",
    "my_list.append(\"a\")\n",
    "my_list"
   ]
  },
  {
   "cell_type": "markdown",
   "id": "b42f25c9",
   "metadata": {},
   "source": [
    "TODO: Also stuff that references this object will also be modified"
   ]
  },
  {
   "cell_type": "markdown",
   "id": "55805b5e",
   "metadata": {},
   "source": [
    "#### Length\n",
    "\n",
    "It may be helpful to know the length of a list. You can get that information with the `len()` function:"
   ]
  },
  {
   "cell_type": "code",
   "execution_count": null,
   "id": "0e7eaa70",
   "metadata": {},
   "outputs": [],
   "source": [
    "len(my_list)"
   ]
  },
  {
   "cell_type": "markdown",
   "id": "5c9c71d0",
   "metadata": {},
   "source": [
    "#### Sorting\n",
    "\n",
    "It may be helpful to sort the elements of a list. This can be accomplished with the `sort()` function."
   ]
  },
  {
   "cell_type": "code",
   "execution_count": null,
   "id": "547ce9b0",
   "metadata": {},
   "outputs": [],
   "source": [
    "my_list2 = [1, 2, 5, 3]\n",
    "my_list2.sort()\n",
    "print(my_list2)"
   ]
  },
  {
   "cell_type": "markdown",
   "id": "2a3802a5",
   "metadata": {},
   "source": [
    "TODO: Challenge problem for lists"
   ]
  },
  {
   "cell_type": "markdown",
   "id": "fefe2800",
   "metadata": {},
   "source": [
    "<hr>\n",
    "\n",
    "# Other programming concepts in Python\n",
    "\n",
    "We will also briefly discuss control flow and functions in python. While these are useful techniques for python programming, they are not necessary for most typical data science activities in python. These are the topics which we will now summarize:\n",
    "\n",
    "1. If...elif...else\n",
    "2. Loops\n",
    "3. Function definitions"
   ]
  },
  {
   "cell_type": "markdown",
   "id": "c16ff4b6",
   "metadata": {},
   "source": [
    "## If...elif...else\n",
    "\n",
    "These statements indicate code blocks that will only be executed given that a logical condition is met."
   ]
  },
  {
   "cell_type": "markdown",
   "id": "11944b52",
   "metadata": {},
   "source": [
    "### If statements\n",
    "\n",
    "`if` statements in python create a logic gate, such that some code will only execute if a logical condition is met. See an example here:"
   ]
  },
  {
   "cell_type": "code",
   "execution_count": null,
   "id": "f97306f4",
   "metadata": {},
   "outputs": [],
   "source": [
    "a = 1\n",
    "b = 1\n",
    "\n",
    "if a == b:\n",
    "    # Execute this code only if a == b is True\n",
    "    print(\"a is equal to b!\")"
   ]
  },
  {
   "cell_type": "markdown",
   "id": "3c8d3e1b",
   "metadata": {},
   "source": [
    "The above example shows an `if` statement. The code in this statement only executes which the condition (`a == b`) is `True`. **Challenge:** Can you modify the above block so that the code will not execute?"
   ]
  },
  {
   "cell_type": "markdown",
   "id": "728638aa",
   "metadata": {},
   "source": [
    "### If...else statements\n",
    "\n",
    "`else` statements are executed if no previous conditions are satisfied. In other words, if not of the `if` statements execute, only then will the `else` statement execute."
   ]
  },
  {
   "cell_type": "code",
   "execution_count": null,
   "id": "90cb0174",
   "metadata": {},
   "outputs": [],
   "source": [
    "a = 1\n",
    "b = 2\n",
    "\n",
    "if a == b:\n",
    "    print(\"a is equal to b!\")\n",
    "else:\n",
    "    print(\"a is NOT equal to b!\")"
   ]
  },
  {
   "cell_type": "markdown",
   "id": "85c5983d",
   "metadata": {},
   "source": [
    "### If...elif...else statements\n",
    "\n",
    "`elif` is a phrase that means \"else if\". This means that if the preceeding logical conditions are not satisfied, only then is this statement tested. "
   ]
  },
  {
   "cell_type": "code",
   "execution_count": null,
   "id": "83401bda",
   "metadata": {},
   "outputs": [],
   "source": [
    "grade = 68\n",
    "\n",
    "if grade > 90:\n",
    "    # Only executes if grade > 90\n",
    "    letter_grade = \"A\"\n",
    "elif grade > 80:\n",
    "    # Only executes if grade > 80 and grade <= 90\n",
    "    letter_grade = \"B\"\n",
    "elif grade > 70:\n",
    "    # Only executes if grade > 70 and grade <= 80\n",
    "    letter_grade = \"C\"\n",
    "elif grade >= 60:\n",
    "    # Only executes if grade > 60 and grade <= 70\n",
    "    letter_grade = \"D\"\n",
    "else:\n",
    "    # Only executes if grade < 60\n",
    "    letter_grade = \"F\"\n",
    "    \n",
    "print(\"Student earned a grade of \" + letter_grade)"
   ]
  },
  {
   "cell_type": "markdown",
   "id": "e13cadfd",
   "metadata": {},
   "source": [
    "In the above example, each logical condition is tested in sequence. Only when a condition is not met is the next one tested. If a student has a grade of `68`, then every `elif` statement will be tested. If the student had a `96`, then no `elif` statements would have been tested."
   ]
  },
  {
   "cell_type": "markdown",
   "id": "84d99504",
   "metadata": {},
   "source": [
    "## Loops\n",
    "\n",
    "Loops allow for some code to be applied to every element of an iterable object, such as a list. "
   ]
  },
  {
   "cell_type": "markdown",
   "id": "26c54846",
   "metadata": {},
   "source": [
    "### For loops\n",
    "\n",
    "For loops are a type of finite loop in python (as opposed to `while` loops which we will not discuss here). A for loop iterates over an iterable object, such as a `list` or `tuple`. For every element of the object, code will be executed in succession. Here is an example:"
   ]
  },
  {
   "cell_type": "code",
   "execution_count": null,
   "id": "3d552d2c",
   "metadata": {},
   "outputs": [],
   "source": [
    "grades = [85, 98, 45, 73]\n",
    "\n",
    "# Loop over list of grades and print letter grade\n",
    "for grade in grades:\n",
    "    if grade > 90:\n",
    "        # Only executes if grade > 90\n",
    "        letter_grade = \"A\"\n",
    "    elif grade > 80:\n",
    "        # Only executes if grade > 80 and grade <= 90\n",
    "        letter_grade = \"B\"\n",
    "    elif grade > 70:\n",
    "        # Only executes if grade > 70 and grade <= 80\n",
    "        letter_grade = \"C\"\n",
    "    elif grade >= 60:\n",
    "        # Only executes if grade > 60 and grade <= 70\n",
    "        letter_grade = \"D\"\n",
    "    else:\n",
    "        # Only executes if grade < 60\n",
    "        letter_grade = \"F\"\n",
    "\n",
    "    print(\"Student earned a grade of \" + letter_grade)\n"
   ]
  },
  {
   "cell_type": "markdown",
   "id": "840d5538",
   "metadata": {},
   "source": [
    "Rather than using the list of grades directly, it may be useful to use the numerical indices of list elements. For example:"
   ]
  },
  {
   "cell_type": "code",
   "execution_count": null,
   "id": "9d4bb046",
   "metadata": {},
   "outputs": [],
   "source": [
    "students = ['alice', 'kevin', 'sara', 'tim']\n",
    "grades = [85, 98, 45, 73]\n",
    "\n",
    "for i in range(len(grades)):\n",
    "    \n",
    "    grade = grades[i]\n",
    "    student = students[i]\n",
    "    \n",
    "    if grade > 90:\n",
    "        # Only executes if grade > 90\n",
    "        letter_grade = \"A\"\n",
    "    elif grade > 80:\n",
    "        # Only executes if grade > 80 and grade <= 90\n",
    "        letter_grade = \"B\"\n",
    "    elif grade > 70:\n",
    "        # Only executes if grade > 70 and grade <= 80\n",
    "        letter_grade = \"C\"\n",
    "    elif grade >= 60:\n",
    "        # Only executes if grade > 60 and grade <= 70\n",
    "        letter_grade = \"D\"\n",
    "    else:\n",
    "        # Only executes if grade < 60\n",
    "        letter_grade = \"F\"\n",
    "\n",
    "    print(student + \" earned a grade of \" + letter_grade)\n"
   ]
  },
  {
   "cell_type": "markdown",
   "id": "af690417",
   "metadata": {},
   "source": [
    "## Functions\n",
    "\n",
    "Functions (aka \"methods\") are objects in python which take an input, perform computations, and return an output. Functions have arguments that help the function operate correctly"
   ]
  },
  {
   "cell_type": "code",
   "execution_count": null,
   "id": "fbc75efb",
   "metadata": {},
   "outputs": [],
   "source": [
    "def square_it(x):\n",
    "    print(x ** 2)\n",
    "    \n",
    "square_it(5)"
   ]
  },
  {
   "cell_type": "markdown",
   "id": "2dfc1773",
   "metadata": {},
   "source": [
    "Functions can also return a value. This is more common in python programming than simply printing the value:"
   ]
  },
  {
   "cell_type": "code",
   "execution_count": null,
   "id": "ae02142e",
   "metadata": {},
   "outputs": [],
   "source": [
    "def square_it(x):\n",
    "    return x ** 2\n",
    "    \n",
    "result = square_it(5)\n",
    "print(result)"
   ]
  },
  {
   "cell_type": "markdown",
   "id": "e117cc2b",
   "metadata": {},
   "source": [
    "**Challenge problem:** create a function with one argument, `grade`. The argument should convert `grade` to a letter grade and return this to the user. Then, use this function to simplify the for loop from earlier. "
   ]
  },
  {
   "cell_type": "markdown",
   "id": "44843f22",
   "metadata": {},
   "source": [
    "**Challenge problem 2** create a function with one argument, `grades`, that is a list of numerical grades. The argument should convert all elements of `grades` to letter grades and return this to the user.  "
   ]
  },
  {
   "cell_type": "markdown",
   "id": "01932628",
   "metadata": {},
   "source": [
    "TODO: Maybe list comprehension goes here"
   ]
  }
 ],
 "metadata": {
  "kernelspec": {
   "display_name": "Python 3",
   "language": "python",
   "name": "python3"
  },
  "language_info": {
   "codemirror_mode": {
    "name": "ipython",
    "version": 3
   },
   "file_extension": ".py",
   "mimetype": "text/x-python",
   "name": "python",
   "nbconvert_exporter": "python",
   "pygments_lexer": "ipython3",
   "version": "3.8.8"
  }
 },
 "nbformat": 4,
 "nbformat_minor": 5
}
