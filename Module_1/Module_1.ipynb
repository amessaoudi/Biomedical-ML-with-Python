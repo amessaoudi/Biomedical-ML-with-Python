{
 "cells": [
  {
   "cell_type": "markdown",
   "id": "554dc169",
   "metadata": {},
   "source": [
    "# Module \\#1 - Orientation and Introductory Python\n",
    "\n",
    "## Starting from scratch with Python & Jupyter\n",
    "\n",
    "Python is a general-purpose programming language used widely in machine learning and data science. To begin working with Python, we will use Jupyter Notebook. This program allows you to write and run python code inside of blocks. \n",
    "\n",
    "To execute and code in a block, simply press \"Run\" or, press ctrl+enter (Windows) or cmd+enter (macOS).\n",
    "\n",
    "### Hello world!\n",
    "\n",
    "To begin, we will follow in the time-honored tradition of showing you how to print \"Hello world!\" in python. **Execute the block below** to print \"Hello world!\"."
   ]
  },
  {
   "cell_type": "code",
   "execution_count": 1,
   "id": "39d7f19e",
   "metadata": {},
   "outputs": [
    {
     "name": "stdout",
     "output_type": "stream",
     "text": [
      "Hello world!\n"
     ]
    }
   ],
   "source": [
    "print(\"Hello world!\")"
   ]
  },
  {
   "cell_type": "markdown",
   "id": "fcb7b2b8",
   "metadata": {},
   "source": [
    "**Challenge**: Can you modify the block below to print \"Hello Python!\"?"
   ]
  },
  {
   "cell_type": "code",
   "execution_count": 2,
   "id": "f2df76a9",
   "metadata": {},
   "outputs": [
    {
     "name": "stdout",
     "output_type": "stream",
     "text": [
      "\n"
     ]
    }
   ],
   "source": [
    "print()"
   ]
  },
  {
   "cell_type": "markdown",
   "id": "ce3c0386",
   "metadata": {},
   "source": [
    "### Markdown\n",
    "\n",
    "Jupyter notebook allows you to write code in R, python, julia in code blocks. It also allows you to write markdown in markdown blocks. \n",
    "\n",
    "Markdown blocks are converted to formatted text when executed. **Execute the block below** to display \"Hello world!\""
   ]
  },
  {
   "cell_type": "markdown",
   "id": "4da89aea",
   "metadata": {},
   "source": [
    "\"Hello world!\""
   ]
  },
  {
   "cell_type": "markdown",
   "id": "bb8cb3be",
   "metadata": {},
   "source": [
    "#### Formatting in markdown\n",
    "\n",
    "Markdown is very powerful and used ubiquitously throughout the computing universe. You can easily style your markdown to display it the way you want. **Execute the block below** to reveal how markdown is converted to styled text. \n",
    "\n",
    "This example is borrowed from [markdownguide.org](https://www.markdownguide.org/cheat-sheet/)"
   ]
  },
  {
   "cell_type": "markdown",
   "id": "f10156c2",
   "metadata": {},
   "source": [
    "# H1\n",
    "## H2\n",
    "### H3\n",
    "#### H4\n",
    "\n",
    "**bold text**\n",
    "\n",
    "*italicized text*\n",
    "\n",
    "> blockquote\n",
    "\n",
    "1. First item\n",
    "2. Second item\n",
    "3. Third item\n",
    "\n",
    "\t- First item\n",
    "- Second item\n",
    "- Third item\n",
    "\n",
    "`code`\n",
    "\n",
    "---\n",
    "\n",
    "[link](https://www.example.com)\n",
    "\n",
    "\n",
    "| Syntax | Description |\n",
    "| ----------- | ----------- |\n",
    "| Header | Title |\n",
    "| Paragraph | Text |\n",
    "\n",
    "\n",
    "```\n",
    "print(\"Hello world!\")\n",
    "print(\"This is a multi-line code snippet\")\n",
    "```\n",
    "\n",
    "term\n",
    ": definition\n",
    "\n",
    "~~The world is flat.~~\n",
    "\n",
    "- [x] Write the press release\n",
    "- [ ] Update the website\n",
    "- [ ] Contact the media\n",
    "\n",
    "![alt text](https://cdn0.iconfinder.com/data/icons/octicons/1024/markdown-512.png)\n"
   ]
  },
  {
   "cell_type": "markdown",
   "id": "95bde508",
   "metadata": {},
   "source": [
    "### Efficient Jupyter Notebook\n",
    "\n",
    "Finally, Jupyter notebook is used most-efficiently when making full use of keyboard shortcuts and built-in tools. A full cheatsheet can be found [here](https://www.edureka.co/blog/wp-content/uploads/2018/10/Jupyter_Notebook_CheatSheet_Edureka.pdf).\n",
    "\n",
    "For now, a couple key concepts:\n",
    "\n",
    "In Jupyter, you can be in either **Edit mode** or **Command mode**\n",
    "\n",
    "**Edit mode** allows you edit blocks. You can enter it by double-clicking on a block or by using the arrow keys to select a block and pressing enter. In this mode, you can write markdown or code blocks.\n",
    "\n",
    "**Command mode** allows you to modify blocks without editing their contents directly. You can enter command mode by pressing the escape key. Here is a shortlist of command mode shortcuts:\n",
    "\n",
    "Hit **Escape** to enter command mode, and then:\n",
    "- Add a new block below: **b**\n",
    "- Convert a block to markdown: **m**\n",
    "- Convert a block to code: **y**\n",
    "- Delete a block: **d + d**\n",
    "\n",
    "**Challenge:** Can you add a new block below, convert it to a markdown block, and then use it to print \"Hello Jupyter!\" in bold?"
   ]
  },
  {
   "cell_type": "code",
   "execution_count": null,
   "id": "3f4074e6",
   "metadata": {},
   "outputs": [],
   "source": []
  },
  {
   "cell_type": "markdown",
   "id": "c65e0706",
   "metadata": {},
   "source": [
    "<hr>\n",
    "\n",
    "# Simple objects in python\n",
    "\n",
    "Python is an object-oriented programming language. This means that **everything in python is an object**. Objects have (1) a class (aka \"type\"), (2) properties, and (3) methods. Let's look at some simple object types in python and their associated methods:"
   ]
  },
  {
   "cell_type": "markdown",
   "id": "ff2770cb",
   "metadata": {},
   "source": [
    "## Booleans and comparisons\n",
    "\n",
    "Booleans (logicals) are a simple object type in python. They are binary because they can be only `True` or `False`."
   ]
  },
  {
   "cell_type": "code",
   "execution_count": 25,
   "id": "2f1e9f77",
   "metadata": {},
   "outputs": [
    {
     "data": {
      "text/plain": [
       "True"
      ]
     },
     "execution_count": 25,
     "metadata": {},
     "output_type": "execute_result"
    }
   ],
   "source": [
    "True"
   ]
  },
  {
   "cell_type": "code",
   "execution_count": 27,
   "id": "b8f80bab",
   "metadata": {},
   "outputs": [
    {
     "data": {
      "text/plain": [
       "False"
      ]
     },
     "execution_count": 27,
     "metadata": {},
     "output_type": "execute_result"
    }
   ],
   "source": [
    "False"
   ]
  },
  {
   "cell_type": "code",
   "execution_count": 26,
   "id": "b9874312",
   "metadata": {},
   "outputs": [
    {
     "data": {
      "text/plain": [
       "bool"
      ]
     },
     "execution_count": 26,
     "metadata": {},
     "output_type": "execute_result"
    }
   ],
   "source": [
    "type(True)"
   ]
  },
  {
   "cell_type": "markdown",
   "id": "529a473e",
   "metadata": {},
   "source": [
    "### Logical operations\n",
    "\n",
    "Python makes logical operations easy and allows us to determine whether some logical condition is met. For example, we can use the `and` operator. This operator will evaluate to `True` if both left and right sides are `True`"
   ]
  },
  {
   "cell_type": "code",
   "execution_count": 49,
   "id": "f835c766",
   "metadata": {},
   "outputs": [
    {
     "data": {
      "text/plain": [
       "False"
      ]
     },
     "execution_count": 49,
     "metadata": {},
     "output_type": "execute_result"
    }
   ],
   "source": [
    "# And (both left and right are True)\n",
    "True and False"
   ]
  },
  {
   "cell_type": "code",
   "execution_count": 50,
   "id": "ddb8d322",
   "metadata": {},
   "outputs": [
    {
     "data": {
      "text/plain": [
       "False"
      ]
     },
     "execution_count": 50,
     "metadata": {},
     "output_type": "execute_result"
    }
   ],
   "source": [
    "# And (one side isn't true)\n",
    "True and False"
   ]
  },
  {
   "cell_type": "markdown",
   "id": "e41cceac",
   "metadata": {},
   "source": [
    "There is also the `or` operator, which evaluates to `True` if at least one side is `True`."
   ]
  },
  {
   "cell_type": "code",
   "execution_count": 51,
   "id": "3661b68b",
   "metadata": {},
   "outputs": [
    {
     "data": {
      "text/plain": [
       "True"
      ]
     },
     "execution_count": 51,
     "metadata": {},
     "output_type": "execute_result"
    }
   ],
   "source": [
    "# Or (only one side has to be True)\n",
    "True or False"
   ]
  },
  {
   "cell_type": "markdown",
   "id": "23982a96",
   "metadata": {},
   "source": [
    "Finally, the `not` (not) operator. This negates a logical's value:"
   ]
  },
  {
   "cell_type": "code",
   "execution_count": 52,
   "id": "7c99bb48",
   "metadata": {},
   "outputs": [
    {
     "data": {
      "text/plain": [
       "False"
      ]
     },
     "execution_count": 52,
     "metadata": {},
     "output_type": "execute_result"
    }
   ],
   "source": [
    "not True"
   ]
  },
  {
   "cell_type": "markdown",
   "id": "4e805a72",
   "metadata": {},
   "source": [
    "Logical operators can be easily combined to make more complex statements. They also follow an order of operations, just like mathematical expressions. The order is:\n",
    "\n",
    "1. `()`\n",
    "2. `not`\n",
    "3. `and`\n",
    "4. `or`"
   ]
  },
  {
   "cell_type": "code",
   "execution_count": 55,
   "id": "26bf8348",
   "metadata": {},
   "outputs": [
    {
     "data": {
      "text/plain": [
       "True"
      ]
     },
     "execution_count": 55,
     "metadata": {},
     "output_type": "execute_result"
    }
   ],
   "source": [
    "not False and True"
   ]
  },
  {
   "cell_type": "code",
   "execution_count": 65,
   "id": "ab980d42",
   "metadata": {},
   "outputs": [
    {
     "data": {
      "text/plain": [
       "False"
      ]
     },
     "execution_count": 65,
     "metadata": {},
     "output_type": "execute_result"
    }
   ],
   "source": [
    "not False and not True"
   ]
  },
  {
   "cell_type": "code",
   "execution_count": 57,
   "id": "79ad6ab2",
   "metadata": {},
   "outputs": [
    {
     "data": {
      "text/plain": [
       "False"
      ]
     },
     "execution_count": 57,
     "metadata": {},
     "output_type": "execute_result"
    }
   ],
   "source": [
    "not (True and True)"
   ]
  },
  {
   "cell_type": "code",
   "execution_count": 66,
   "id": "f7669e35",
   "metadata": {},
   "outputs": [
    {
     "data": {
      "text/plain": [
       "True"
      ]
     },
     "execution_count": 66,
     "metadata": {},
     "output_type": "execute_result"
    }
   ],
   "source": [
    "not False or not (True or not True)"
   ]
  },
  {
   "cell_type": "markdown",
   "id": "034ac238",
   "metadata": {},
   "source": [
    "**Challenge question**: What is the output for the following (without running it yourself):\n",
    "\n",
    "```python\n",
    "False and True or True and (not False or False)\n",
    "```"
   ]
  },
  {
   "cell_type": "code",
   "execution_count": 62,
   "id": "8ad34444",
   "metadata": {},
   "outputs": [
    {
     "data": {
      "text/plain": [
       "True"
      ]
     },
     "execution_count": 62,
     "metadata": {},
     "output_type": "execute_result"
    }
   ],
   "source": [
    "False and True or True and (not False or False)"
   ]
  },
  {
   "cell_type": "markdown",
   "id": "9c76534f",
   "metadata": {},
   "source": [
    "## Numerics and mathematics\n",
    "\n",
    "There are three main types of numerical objects in python:\n",
    "\n",
    "1. `int` -- includes whole numbers\n",
    "2. `float` -- includes decimals\n",
    "3. `complex` -- includes imaginary numbers\n",
    "\n",
    "Let's explore the `int` type first. We can create an instance of `int` by simply typing any whole number into the code block:"
   ]
  },
  {
   "cell_type": "markdown",
   "id": "8c955d09",
   "metadata": {},
   "source": [
    "#### `int` "
   ]
  },
  {
   "cell_type": "code",
   "execution_count": 6,
   "id": "603b6bfa",
   "metadata": {},
   "outputs": [
    {
     "data": {
      "text/plain": [
       "1"
      ]
     },
     "execution_count": 6,
     "metadata": {},
     "output_type": "execute_result"
    }
   ],
   "source": [
    "1"
   ]
  },
  {
   "cell_type": "markdown",
   "id": "b754813b",
   "metadata": {},
   "source": [
    "We can also verify this is an `int` object with the `type` method. This method can be used on any type of object in python and it returns the class of that object."
   ]
  },
  {
   "cell_type": "code",
   "execution_count": 7,
   "id": "789f7ed2",
   "metadata": {},
   "outputs": [
    {
     "data": {
      "text/plain": [
       "int"
      ]
     },
     "execution_count": 7,
     "metadata": {},
     "output_type": "execute_result"
    }
   ],
   "source": [
    "type(1)"
   ]
  },
  {
   "cell_type": "markdown",
   "id": "00c02e73",
   "metadata": {},
   "source": [
    "Instances of any class can also be created by using the name of that class as a method. For example, we can create (aka \"instantiate\") an empty integer, by calling the `int()` method."
   ]
  },
  {
   "cell_type": "code",
   "execution_count": 9,
   "id": "b42db1e0",
   "metadata": {},
   "outputs": [
    {
     "data": {
      "text/plain": [
       "0"
      ]
     },
     "execution_count": 9,
     "metadata": {},
     "output_type": "execute_result"
    }
   ],
   "source": [
    "int()"
   ]
  },
  {
   "cell_type": "markdown",
   "id": "2364a5bb",
   "metadata": {},
   "source": [
    "#### `float`"
   ]
  },
  {
   "cell_type": "markdown",
   "id": "87b79473",
   "metadata": {},
   "source": [
    "`floats` are numerical objects which have a decimal place. For example:"
   ]
  },
  {
   "cell_type": "code",
   "execution_count": 6,
   "id": "b7181325",
   "metadata": {},
   "outputs": [
    {
     "data": {
      "text/plain": [
       "1.01"
      ]
     },
     "execution_count": 6,
     "metadata": {},
     "output_type": "execute_result"
    }
   ],
   "source": [
    "1.01"
   ]
  },
  {
   "cell_type": "code",
   "execution_count": 7,
   "id": "0ddccea0",
   "metadata": {},
   "outputs": [
    {
     "data": {
      "text/plain": [
       "float"
      ]
     },
     "execution_count": 7,
     "metadata": {},
     "output_type": "execute_result"
    }
   ],
   "source": [
    "type(1.01)"
   ]
  },
  {
   "cell_type": "markdown",
   "id": "f24d00b4",
   "metadata": {},
   "source": [
    "#### `complex`"
   ]
  },
  {
   "cell_type": "markdown",
   "id": "a8882c39",
   "metadata": {},
   "source": [
    "`complex` are numerical objects which have imaginary numbers. For example:"
   ]
  },
  {
   "cell_type": "code",
   "execution_count": 10,
   "id": "87dd2d52",
   "metadata": {},
   "outputs": [
    {
     "data": {
      "text/plain": [
       "(2+2j)"
      ]
     },
     "execution_count": 10,
     "metadata": {},
     "output_type": "execute_result"
    }
   ],
   "source": [
    "2 + 2j"
   ]
  },
  {
   "cell_type": "code",
   "execution_count": 11,
   "id": "11e5ad5d",
   "metadata": {},
   "outputs": [
    {
     "data": {
      "text/plain": [
       "complex"
      ]
     },
     "execution_count": 11,
     "metadata": {},
     "output_type": "execute_result"
    }
   ],
   "source": [
    "type(2+2j)"
   ]
  },
  {
   "cell_type": "markdown",
   "id": "1e84f02b",
   "metadata": {},
   "source": [
    "### Numerical methods: Math operations\n",
    "\n",
    "We can perform simple mathematical operations with numerical objects."
   ]
  },
  {
   "cell_type": "code",
   "execution_count": 12,
   "id": "82a0964e",
   "metadata": {},
   "outputs": [
    {
     "data": {
      "text/plain": [
       "2"
      ]
     },
     "execution_count": 12,
     "metadata": {},
     "output_type": "execute_result"
    }
   ],
   "source": [
    "# Addition\n",
    "1 + 1"
   ]
  },
  {
   "cell_type": "code",
   "execution_count": 13,
   "id": "1b7e6e20",
   "metadata": {},
   "outputs": [
    {
     "data": {
      "text/plain": [
       "2"
      ]
     },
     "execution_count": 13,
     "metadata": {},
     "output_type": "execute_result"
    }
   ],
   "source": [
    "# Subtraction\n",
    "4 - 2"
   ]
  },
  {
   "cell_type": "code",
   "execution_count": 14,
   "id": "94e6f601",
   "metadata": {},
   "outputs": [
    {
     "data": {
      "text/plain": [
       "6"
      ]
     },
     "execution_count": 14,
     "metadata": {},
     "output_type": "execute_result"
    }
   ],
   "source": [
    "# Multiplication \n",
    "2 * 3"
   ]
  },
  {
   "cell_type": "code",
   "execution_count": 15,
   "id": "73270776",
   "metadata": {},
   "outputs": [
    {
     "data": {
      "text/plain": [
       "5.333333333333333"
      ]
     },
     "execution_count": 15,
     "metadata": {},
     "output_type": "execute_result"
    }
   ],
   "source": [
    "# Division\n",
    "16 / 3"
   ]
  },
  {
   "cell_type": "code",
   "execution_count": 16,
   "id": "2ae6fdef",
   "metadata": {},
   "outputs": [
    {
     "data": {
      "text/plain": [
       "5"
      ]
     },
     "execution_count": 16,
     "metadata": {},
     "output_type": "execute_result"
    }
   ],
   "source": [
    "# Floored Division\n",
    "16 // 3"
   ]
  },
  {
   "cell_type": "code",
   "execution_count": 17,
   "id": "a3d330f1",
   "metadata": {},
   "outputs": [
    {
     "data": {
      "text/plain": [
       "1"
      ]
     },
     "execution_count": 17,
     "metadata": {},
     "output_type": "execute_result"
    }
   ],
   "source": [
    "# Modulo (remainder)\n",
    "16 % 3"
   ]
  },
  {
   "cell_type": "code",
   "execution_count": 18,
   "id": "3b9a680f",
   "metadata": {},
   "outputs": [
    {
     "data": {
      "text/plain": [
       "32"
      ]
     },
     "execution_count": 18,
     "metadata": {},
     "output_type": "execute_result"
    }
   ],
   "source": [
    "# Exponentiation\n",
    "2**5"
   ]
  },
  {
   "cell_type": "code",
   "execution_count": 19,
   "id": "f42d31e4",
   "metadata": {},
   "outputs": [
    {
     "data": {
      "text/plain": [
       "-1"
      ]
     },
     "execution_count": 19,
     "metadata": {},
     "output_type": "execute_result"
    }
   ],
   "source": [
    "# Negation\n",
    "-1"
   ]
  },
  {
   "cell_type": "code",
   "execution_count": 20,
   "id": "661b3fbe",
   "metadata": {},
   "outputs": [
    {
     "data": {
      "text/plain": [
       "1"
      ]
     },
     "execution_count": 20,
     "metadata": {},
     "output_type": "execute_result"
    }
   ],
   "source": [
    "# Absolute value\n",
    "abs(-1)"
   ]
  },
  {
   "cell_type": "markdown",
   "id": "9e883c2c",
   "metadata": {},
   "source": [
    "**Challenge question**: What is the `type` of `22 / 2`?"
   ]
  },
  {
   "cell_type": "markdown",
   "id": "89819260",
   "metadata": {},
   "source": [
    "#### Order of operations\n",
    "\n",
    "Python obeys PEMDAS (parentheses, exponent, multiplication, division, addition, subtraction) to determine the order in which to evaluate a mathematical operation. For example:"
   ]
  },
  {
   "cell_type": "code",
   "execution_count": 21,
   "id": "3d892cf8",
   "metadata": {},
   "outputs": [
    {
     "data": {
      "text/plain": [
       "13"
      ]
     },
     "execution_count": 21,
     "metadata": {},
     "output_type": "execute_result"
    }
   ],
   "source": [
    "3 + 5 * 2  # It is not 16 because the multiplication comes first"
   ]
  },
  {
   "cell_type": "markdown",
   "id": "206f91ca",
   "metadata": {},
   "source": [
    "**Challenge question:** What is the result of this operation (without running it yourself): \n",
    "\n",
    "```\n",
    "2 + 3 * (2 + 25 / 5 ** 2) \n",
    "```"
   ]
  },
  {
   "cell_type": "markdown",
   "id": "e0756591",
   "metadata": {},
   "source": [
    "### Logical comparisons of numerics\n",
    "\n",
    "We can use comparison operators in python to check the relationship between any two numerics. "
   ]
  },
  {
   "cell_type": "code",
   "execution_count": 67,
   "id": "42a79439",
   "metadata": {},
   "outputs": [
    {
     "data": {
      "text/plain": [
       "True"
      ]
     },
     "execution_count": 67,
     "metadata": {},
     "output_type": "execute_result"
    }
   ],
   "source": [
    "# Greater-than\n",
    "9 > 8"
   ]
  },
  {
   "cell_type": "code",
   "execution_count": 68,
   "id": "b1962d67",
   "metadata": {},
   "outputs": [
    {
     "data": {
      "text/plain": [
       "True"
      ]
     },
     "execution_count": 68,
     "metadata": {},
     "output_type": "execute_result"
    }
   ],
   "source": [
    "# Less-than\n",
    "8 < 10"
   ]
  },
  {
   "cell_type": "code",
   "execution_count": 69,
   "id": "69e26660",
   "metadata": {},
   "outputs": [
    {
     "data": {
      "text/plain": [
       "False"
      ]
     },
     "execution_count": 69,
     "metadata": {},
     "output_type": "execute_result"
    }
   ],
   "source": [
    "# Equal to\n",
    "1 == 2"
   ]
  },
  {
   "cell_type": "code",
   "execution_count": 93,
   "id": "71f065dc",
   "metadata": {},
   "outputs": [
    {
     "data": {
      "text/plain": [
       "True"
      ]
     },
     "execution_count": 93,
     "metadata": {},
     "output_type": "execute_result"
    }
   ],
   "source": [
    "# Not equal to\n",
    "1 != 2"
   ]
  },
  {
   "cell_type": "code",
   "execution_count": 70,
   "id": "73b5cded",
   "metadata": {},
   "outputs": [
    {
     "data": {
      "text/plain": [
       "True"
      ]
     },
     "execution_count": 70,
     "metadata": {},
     "output_type": "execute_result"
    }
   ],
   "source": [
    "# less-than or equal-to\n",
    "2 <= 2"
   ]
  },
  {
   "cell_type": "code",
   "execution_count": 71,
   "id": "9f4c2d6a",
   "metadata": {},
   "outputs": [
    {
     "data": {
      "text/plain": [
       "False"
      ]
     },
     "execution_count": 71,
     "metadata": {},
     "output_type": "execute_result"
    }
   ],
   "source": [
    "# Greater-than or equal-to\n",
    "10 >= 12"
   ]
  },
  {
   "cell_type": "markdown",
   "id": "83266ef4",
   "metadata": {},
   "source": [
    "#### Complex comparisons\n",
    "\n",
    "We can add in arthimetic to perform more mathematically complex operations"
   ]
  },
  {
   "cell_type": "code",
   "execution_count": 96,
   "id": "9b6442aa",
   "metadata": {},
   "outputs": [
    {
     "data": {
      "text/plain": [
       "True"
      ]
     },
     "execution_count": 96,
     "metadata": {},
     "output_type": "execute_result"
    }
   ],
   "source": [
    "5 ** 2 + 1 == 52 / 2"
   ]
  },
  {
   "cell_type": "code",
   "execution_count": 82,
   "id": "3f50c544",
   "metadata": {},
   "outputs": [
    {
     "data": {
      "text/plain": [
       "True"
      ]
     },
     "execution_count": 82,
     "metadata": {},
     "output_type": "execute_result"
    }
   ],
   "source": [
    "1j**2 == -1"
   ]
  },
  {
   "cell_type": "markdown",
   "id": "dc31a20e",
   "metadata": {},
   "source": [
    "## Strings\n",
    "\n",
    "Strings hold text data, such as names or addresses. They are constructed by using quotations (double or single):"
   ]
  },
  {
   "cell_type": "code",
   "execution_count": 17,
   "id": "2bafef7e",
   "metadata": {},
   "outputs": [
    {
     "data": {
      "text/plain": [
       "'Hello world!'"
      ]
     },
     "execution_count": 17,
     "metadata": {},
     "output_type": "execute_result"
    }
   ],
   "source": [
    "'Hello world!'  # Single quotes"
   ]
  },
  {
   "cell_type": "code",
   "execution_count": 18,
   "id": "a0e64088",
   "metadata": {},
   "outputs": [
    {
     "data": {
      "text/plain": [
       "'Hello world!'"
      ]
     },
     "execution_count": 18,
     "metadata": {},
     "output_type": "execute_result"
    }
   ],
   "source": [
    "\"Hello world!\"  # Double quotes"
   ]
  },
  {
   "cell_type": "code",
   "execution_count": 24,
   "id": "90e6e729",
   "metadata": {},
   "outputs": [
    {
     "data": {
      "text/plain": [
       "str"
      ]
     },
     "execution_count": 24,
     "metadata": {},
     "output_type": "execute_result"
    }
   ],
   "source": [
    "type(\"Hello world!\")"
   ]
  },
  {
   "cell_type": "markdown",
   "id": "ad530054",
   "metadata": {},
   "source": [
    "### String methods\n",
    "\n",
    "There are several basic methods for string objects. Many more exist and they will be covered later in the course. For a list of string methods please see the W3 schools guide [here](https://www.w3schools.com/python/python_ref_string.asp)."
   ]
  },
  {
   "cell_type": "code",
   "execution_count": 19,
   "id": "10cdb25b",
   "metadata": {},
   "outputs": [
    {
     "name": "stdout",
     "output_type": "stream",
     "text": [
      "Hello world!\n"
     ]
    }
   ],
   "source": [
    "# Print\n",
    "print(\"Hello world!\")"
   ]
  },
  {
   "cell_type": "code",
   "execution_count": 88,
   "id": "80ae4c90",
   "metadata": {},
   "outputs": [
    {
     "data": {
      "text/plain": [
       "'Hello world!'"
      ]
     },
     "execution_count": 88,
     "metadata": {},
     "output_type": "execute_result"
    }
   ],
   "source": [
    "# Concatenate\n",
    "\"Hello \" + \"world!\""
   ]
  },
  {
   "cell_type": "code",
   "execution_count": 89,
   "id": "b63d6033",
   "metadata": {},
   "outputs": [
    {
     "data": {
      "text/plain": [
       "'HELLO WORLD!'"
      ]
     },
     "execution_count": 89,
     "metadata": {},
     "output_type": "execute_result"
    }
   ],
   "source": [
    "# Upper-case\n",
    "\"Hello world!\".upper()"
   ]
  },
  {
   "cell_type": "markdown",
   "id": "fd480d68",
   "metadata": {},
   "source": [
    "#### Logical comparisons with strings\n",
    "\n",
    "Just like numerics, logical comparisons work with strings as well"
   ]
  },
  {
   "cell_type": "code",
   "execution_count": 90,
   "id": "257f15c5",
   "metadata": {},
   "outputs": [
    {
     "data": {
      "text/plain": [
       "True"
      ]
     },
     "execution_count": 90,
     "metadata": {},
     "output_type": "execute_result"
    }
   ],
   "source": [
    "\"Hello\" == \"Hello\""
   ]
  },
  {
   "cell_type": "code",
   "execution_count": 91,
   "id": "71441b86",
   "metadata": {},
   "outputs": [
    {
     "data": {
      "text/plain": [
       "False"
      ]
     },
     "execution_count": 91,
     "metadata": {},
     "output_type": "execute_result"
    }
   ],
   "source": [
    "\"Hello\" == \"World\""
   ]
  },
  {
   "cell_type": "code",
   "execution_count": 92,
   "id": "b893a438",
   "metadata": {},
   "outputs": [
    {
     "data": {
      "text/plain": [
       "True"
      ]
     },
     "execution_count": 92,
     "metadata": {},
     "output_type": "execute_result"
    }
   ],
   "source": [
    "\"Hello\" != \"World\""
   ]
  },
  {
   "cell_type": "markdown",
   "id": "f13f73d4",
   "metadata": {},
   "source": [
    "## Cross-type comparison challenge\n",
    "\n",
    "There is no requirement that logical comparisons involve only one data type. For example:"
   ]
  },
  {
   "cell_type": "code",
   "execution_count": 112,
   "id": "d22e3565",
   "metadata": {},
   "outputs": [
    {
     "data": {
      "text/plain": [
       "True"
      ]
     },
     "execution_count": 112,
     "metadata": {},
     "output_type": "execute_result"
    }
   ],
   "source": [
    "# 1 is not equivalent to \"Hello world!\"\n",
    "1 != \"Hello world!\""
   ]
  },
  {
   "cell_type": "code",
   "execution_count": 114,
   "id": "a4df0bdd",
   "metadata": {},
   "outputs": [
    {
     "data": {
      "text/plain": [
       "True"
      ]
     },
     "execution_count": 114,
     "metadata": {},
     "output_type": "execute_result"
    }
   ],
   "source": [
    "# Both sides generate booleans which can be compared using \"and\"\n",
    "\"Hello\" != \"world\" and 1 < 2"
   ]
  },
  {
   "cell_type": "markdown",
   "id": "7f9c0538",
   "metadata": {},
   "source": [
    "**Challenge questions**: Please take this opportunity to figure out the results of each line (be prepared to explain your answers):\n",
    "\n",
    "```python\n",
    "\n",
    "# Question 1\n",
    "\"Hello\" == False or 1 * 2 <= 2\n",
    "\n",
    "# Question 2\n",
    "\"Hello\" + \"World\" == \"Hello world\"\n",
    "\n",
    "# Question 3\n",
    "not \"A\" != \"B\" or not True == False and 3**2 == 9 \n",
    "\n",
    "```"
   ]
  },
  {
   "cell_type": "markdown",
   "id": "3b935a01",
   "metadata": {},
   "source": [
    "## Variables\n",
    "\n",
    "Variables are names (aka 'aliases' or 'references') given to an object in python. Any object in python can be aliased as a variable. Rather than calling the object directly, you can use the variable name instead. This enables complicated code to be written and understood by humans.\n",
    "\n",
    "To create a variable, use the `=` sign:"
   ]
  },
  {
   "cell_type": "code",
   "execution_count": 120,
   "id": "98182ecd",
   "metadata": {},
   "outputs": [],
   "source": [
    "a = 1"
   ]
  },
  {
   "cell_type": "markdown",
   "id": "c738f9c9",
   "metadata": {},
   "source": [
    "Now that we have created the variable `a` to hold the integer `1`, we can perform operations on `a` directly."
   ]
  },
  {
   "cell_type": "code",
   "execution_count": 108,
   "id": "b8accf92",
   "metadata": {},
   "outputs": [
    {
     "data": {
      "text/plain": [
       "3"
      ]
     },
     "execution_count": 108,
     "metadata": {},
     "output_type": "execute_result"
    }
   ],
   "source": [
    "# Use a for arithmetic\n",
    "a + 2"
   ]
  },
  {
   "cell_type": "code",
   "execution_count": 122,
   "id": "f8793613",
   "metadata": {},
   "outputs": [
    {
     "data": {
      "text/plain": [
       "True"
      ]
     },
     "execution_count": 122,
     "metadata": {},
     "output_type": "execute_result"
    }
   ],
   "source": [
    "# Use a for logical comparisons\n",
    "a != \"Hello world!\""
   ]
  },
  {
   "cell_type": "markdown",
   "id": "96512755",
   "metadata": {},
   "source": [
    "In python, any variable can reference any object, including the results of computations."
   ]
  },
  {
   "cell_type": "code",
   "execution_count": 130,
   "id": "01caaed7",
   "metadata": {},
   "outputs": [],
   "source": [
    "result_1 = 1 + 2 < 3  # Variable to reference numeric comparison\n",
    "result_2 = \"Hello \" + \"world\" == \"Hello world\"  # Variable to reference string comparison"
   ]
  },
  {
   "cell_type": "code",
   "execution_count": 131,
   "id": "1e474d5a",
   "metadata": {},
   "outputs": [
    {
     "data": {
      "text/plain": [
       "True"
      ]
     },
     "execution_count": 131,
     "metadata": {},
     "output_type": "execute_result"
    }
   ],
   "source": [
    "result_1 or result_2"
   ]
  },
  {
   "cell_type": "markdown",
   "id": "5b3e9de6",
   "metadata": {},
   "source": [
    "### `is` and `==`\n",
    "\n",
    "In python, two methods exist for testing equivalence:\n",
    "\n",
    "1. `==` (equivalent values)\n",
    "2. `is` (identical objects)\n",
    "\n",
    "While the distinction is subtle, it is crucial to remember that `is` tests whether two objects are literally the same where as `==` only tests whether two objects are equal to eachother. \n"
   ]
  },
  {
   "cell_type": "markdown",
   "id": "e73db222",
   "metadata": {},
   "source": [
    "For example, we can assign the numerical object `1` to the variable `a`, and then assign `a` to `b`. Both `a` and `b` refer to the same object of the numeric class holding the value `257`. Therefore, they are equivalent and the same."
   ]
  },
  {
   "cell_type": "code",
   "execution_count": 163,
   "id": "f226dd6d",
   "metadata": {},
   "outputs": [],
   "source": [
    "a = 257\n",
    "b = a"
   ]
  },
  {
   "cell_type": "code",
   "execution_count": 164,
   "id": "fd7c60f2",
   "metadata": {},
   "outputs": [
    {
     "data": {
      "text/plain": [
       "True"
      ]
     },
     "execution_count": 164,
     "metadata": {},
     "output_type": "execute_result"
    }
   ],
   "source": [
    "a == b"
   ]
  },
  {
   "cell_type": "code",
   "execution_count": 165,
   "id": "747456e6",
   "metadata": {},
   "outputs": [
    {
     "data": {
      "text/plain": [
       "True"
      ]
     },
     "execution_count": 165,
     "metadata": {},
     "output_type": "execute_result"
    }
   ],
   "source": [
    "a is b"
   ]
  },
  {
   "cell_type": "markdown",
   "id": "5bc1f47b",
   "metadata": {},
   "source": [
    "Conversly, if we assign `a` and `b` to `500` separately, we see that they do not refer to the same object:"
   ]
  },
  {
   "cell_type": "code",
   "execution_count": 160,
   "id": "62c27a8e",
   "metadata": {},
   "outputs": [],
   "source": [
    "a = 257\n",
    "b = 257"
   ]
  },
  {
   "cell_type": "code",
   "execution_count": 161,
   "id": "4e800392",
   "metadata": {},
   "outputs": [
    {
     "data": {
      "text/plain": [
       "True"
      ]
     },
     "execution_count": 161,
     "metadata": {},
     "output_type": "execute_result"
    }
   ],
   "source": [
    "a == b"
   ]
  },
  {
   "cell_type": "code",
   "execution_count": 162,
   "id": "b66a8990",
   "metadata": {},
   "outputs": [
    {
     "data": {
      "text/plain": [
       "False"
      ]
     },
     "execution_count": 162,
     "metadata": {},
     "output_type": "execute_result"
    }
   ],
   "source": [
    "a is b"
   ]
  },
  {
   "cell_type": "markdown",
   "id": "ed631650",
   "metadata": {},
   "source": [
    "**EXTREME Challenge question**:\n",
    "\n",
    "What happens when I repeat the above example using `256` instead of `257`? Why does the result change? \n",
    "\n",
    "*Hint*: See [this SO post](https://stackoverflow.com/a/1085656) for additional guidance."
   ]
  },
  {
   "cell_type": "markdown",
   "id": "02ac5012",
   "metadata": {},
   "source": [
    "<hr>\n",
    "\n",
    "# Complex objects in python\n",
    "\n",
    "Now that we have discussed simple python objects, lets explore the wide world of complex objects. These objects provide powerful methods for the storage and manipulation of data. They are essential tools for the data scientist to wield.\n",
    "\n",
    "Object types:\n",
    "1. Lists\n",
    "2. Dictionaries\n",
    "3. Tuples\n",
    "4. Sets\n",
    "5. Numpy arrays\n",
    "6. Pandas DataFrames"
   ]
  },
  {
   "cell_type": "markdown",
   "id": "226b9279",
   "metadata": {},
   "source": [
    "## Lists\n",
    "\n",
    "Lists are a python object type which can store any arbitrary number of any type of object. "
   ]
  },
  {
   "cell_type": "code",
   "execution_count": 174,
   "id": "1f55285d",
   "metadata": {},
   "outputs": [
    {
     "data": {
      "text/plain": [
       "['Hello', 'World']"
      ]
     },
     "execution_count": 174,
     "metadata": {},
     "output_type": "execute_result"
    }
   ],
   "source": [
    "# List of strings\n",
    "words = [\"Hello\", \"World\"]\n",
    "words"
   ]
  },
  {
   "cell_type": "code",
   "execution_count": 175,
   "id": "1f3afd54",
   "metadata": {},
   "outputs": [
    {
     "data": {
      "text/plain": [
       "[1, 2, 3]"
      ]
     },
     "execution_count": 175,
     "metadata": {},
     "output_type": "execute_result"
    }
   ],
   "source": [
    "# List of numbers\n",
    "numbers = [1, 2, 3]\n",
    "numbers"
   ]
  },
  {
   "cell_type": "code",
   "execution_count": 177,
   "id": "2e868f62",
   "metadata": {},
   "outputs": [
    {
     "data": {
      "text/plain": [
       "[True, False, False]"
      ]
     },
     "execution_count": 177,
     "metadata": {},
     "output_type": "execute_result"
    }
   ],
   "source": [
    "# List of booleans\n",
    "bools = [True, False, False]\n",
    "bools"
   ]
  },
  {
   "cell_type": "code",
   "execution_count": 176,
   "id": "abbd6925",
   "metadata": {},
   "outputs": [
    {
     "data": {
      "text/plain": [
       "[1, True, 'Hello']"
      ]
     },
     "execution_count": 176,
     "metadata": {},
     "output_type": "execute_result"
    }
   ],
   "source": [
    "# Mixed list\n",
    "mix = [1, True, \"Hello\"]\n",
    "mix"
   ]
  },
  {
   "cell_type": "markdown",
   "id": "486769a4",
   "metadata": {},
   "source": [
    "### List methods\n",
    "\n",
    "Lists have a wide variety of methods associated with them. For a more exhaustive reference, please refer to the W3 schools guide [here](https://www.w3schools.com/python/python_ref_list.asp).\n",
    "\n",
    "For now, we will discuss:\n",
    "1. Construction\n",
    "2. Indices\n",
    "3. Appending\n",
    "4. Length\n",
    "5. Sort"
   ]
  },
  {
   "cell_type": "markdown",
   "id": "568bb292",
   "metadata": {},
   "source": [
    "#### Construction\n",
    "\n",
    "Lists can be constructed using the `list()` function:"
   ]
  },
  {
   "cell_type": "code",
   "execution_count": 182,
   "id": "0785f82d",
   "metadata": {},
   "outputs": [
    {
     "data": {
      "text/plain": [
       "[]"
      ]
     },
     "execution_count": 182,
     "metadata": {},
     "output_type": "execute_result"
    }
   ],
   "source": [
    "# Just like other python object, there is a constructor function for lists\n",
    "my_list = list()\n",
    "my_list"
   ]
  },
  {
   "cell_type": "markdown",
   "id": "fb836f70",
   "metadata": {},
   "source": [
    "More commonly, lists are defined by using `[]` and providing the objects to include:"
   ]
  },
  {
   "cell_type": "code",
   "execution_count": 183,
   "id": "7a72672c",
   "metadata": {},
   "outputs": [
    {
     "data": {
      "text/plain": [
       "[1, 2, 3, 'a', 'b']"
      ]
     },
     "execution_count": 183,
     "metadata": {},
     "output_type": "execute_result"
    }
   ],
   "source": [
    "my_list = [1, 2, 3, 'a', 'b']\n",
    "my_list"
   ]
  },
  {
   "cell_type": "code",
   "execution_count": 223,
   "id": "6105b97c",
   "metadata": {},
   "outputs": [
    {
     "name": "stdout",
     "output_type": "stream",
     "text": [
      "[1, 2, 3, [4, 5, 6]]\n"
     ]
    }
   ],
   "source": [
    "# Lists can even contain lists\n",
    "lst_list = [1, 2, 3, [4, 5, 6]]\n",
    "print(lst_list)"
   ]
  },
  {
   "cell_type": "markdown",
   "id": "073af3bf",
   "metadata": {},
   "source": [
    "#### Indices\n",
    "\n",
    "Lists hold data and have a specific order. To access the objects in a list, one can use the object's index. **NOTE**: unlike `R`, indices start at `0` in python."
   ]
  },
  {
   "cell_type": "code",
   "execution_count": 184,
   "id": "efb7486b",
   "metadata": {},
   "outputs": [
    {
     "data": {
      "text/plain": [
       "1"
      ]
     },
     "execution_count": 184,
     "metadata": {},
     "output_type": "execute_result"
    }
   ],
   "source": [
    "# Retrieve first element from list\n",
    "my_list[0]"
   ]
  },
  {
   "cell_type": "code",
   "execution_count": 186,
   "id": "8aa57e81",
   "metadata": {},
   "outputs": [
    {
     "data": {
      "text/plain": [
       "'a'"
      ]
     },
     "execution_count": 186,
     "metadata": {},
     "output_type": "execute_result"
    }
   ],
   "source": [
    "# Retrieve fourth element from list\n",
    "my_list[3]"
   ]
  },
  {
   "cell_type": "code",
   "execution_count": 187,
   "id": "ce4c4579",
   "metadata": {},
   "outputs": [
    {
     "data": {
      "text/plain": [
       "'b'"
      ]
     },
     "execution_count": 187,
     "metadata": {},
     "output_type": "execute_result"
    }
   ],
   "source": [
    "# Retrieve the last element from list\n",
    "my_list[-1]"
   ]
  },
  {
   "cell_type": "markdown",
   "id": "fa56ea40",
   "metadata": {},
   "source": [
    "Indices can also be accessed using a slice (`start:stop`). The slice indicates the range of indices to retrieve. If either `start` or `stop` is blank all elements will be included up until an element (former) or after an element (latter). "
   ]
  },
  {
   "cell_type": "code",
   "execution_count": 192,
   "id": "977d67bd",
   "metadata": {},
   "outputs": [
    {
     "data": {
      "text/plain": [
       "[2, 3, 'a']"
      ]
     },
     "execution_count": 192,
     "metadata": {},
     "output_type": "execute_result"
    }
   ],
   "source": [
    "# Retrieve the values from the 2nd to the 5th element\n",
    "my_list[1:4]"
   ]
  },
  {
   "cell_type": "code",
   "execution_count": 193,
   "id": "16fa727e",
   "metadata": {},
   "outputs": [
    {
     "data": {
      "text/plain": [
       "[3, 'a', 'b']"
      ]
     },
     "execution_count": 193,
     "metadata": {},
     "output_type": "execute_result"
    }
   ],
   "source": [
    "# Retrieve all values from the 3rd element to the end of the list\n",
    "my_list[2:]"
   ]
  },
  {
   "cell_type": "code",
   "execution_count": 194,
   "id": "1bc823fb",
   "metadata": {},
   "outputs": [
    {
     "data": {
      "text/plain": [
       "[1, 2, 3]"
      ]
     },
     "execution_count": 194,
     "metadata": {},
     "output_type": "execute_result"
    }
   ],
   "source": [
    "# Retrieve all values until the 4th element\n",
    "my_list[:3]"
   ]
  },
  {
   "cell_type": "markdown",
   "id": "2dfb2bad",
   "metadata": {},
   "source": [
    "#### Appending\n",
    "\n",
    "New elements can be added to the end of a list using the `append()` method:"
   ]
  },
  {
   "cell_type": "code",
   "execution_count": 197,
   "id": "4fbec9dc",
   "metadata": {},
   "outputs": [
    {
     "data": {
      "text/plain": [
       "[1, 2, 3, 'a', 'b', 1, 1, 1]"
      ]
     },
     "execution_count": 197,
     "metadata": {},
     "output_type": "execute_result"
    }
   ],
   "source": [
    "# Append 1 to a list\n",
    "my_list.append(1)\n",
    "my_list"
   ]
  },
  {
   "cell_type": "code",
   "execution_count": 202,
   "id": "67272702",
   "metadata": {},
   "outputs": [
    {
     "data": {
      "text/plain": [
       "[1, 2, 3, 'a', 'b', 1, 1, 1, 1, 1, 1, 1, 2, 'a']"
      ]
     },
     "execution_count": 202,
     "metadata": {},
     "output_type": "execute_result"
    }
   ],
   "source": [
    "# NOTE: This overwrites the list object. \n",
    "my_list.append(2)\n",
    "my_list.append(\"a\")\n",
    "my_list"
   ]
  },
  {
   "cell_type": "markdown",
   "id": "55805b5e",
   "metadata": {},
   "source": [
    "#### Length\n",
    "\n",
    "It may be helpful to know the length of a list. You can get that information with the `len()` function:"
   ]
  },
  {
   "cell_type": "code",
   "execution_count": 205,
   "id": "0e7eaa70",
   "metadata": {},
   "outputs": [
    {
     "data": {
      "text/plain": [
       "14"
      ]
     },
     "execution_count": 205,
     "metadata": {},
     "output_type": "execute_result"
    }
   ],
   "source": [
    "len(my_list)"
   ]
  },
  {
   "cell_type": "markdown",
   "id": "5c9c71d0",
   "metadata": {},
   "source": [
    "#### Sorting\n",
    "\n",
    "It may be helpful to sort the elements of a list. This can be accomplished with the `sort()` function."
   ]
  },
  {
   "cell_type": "code",
   "execution_count": 210,
   "id": "547ce9b0",
   "metadata": {},
   "outputs": [
    {
     "name": "stdout",
     "output_type": "stream",
     "text": [
      "[1, 2, 3, 5]\n"
     ]
    }
   ],
   "source": [
    "my_list2 = [1, 2, 5, 3]\n",
    "my_list2.sort()\n",
    "print(my_list2)"
   ]
  },
  {
   "cell_type": "markdown",
   "id": "60502a15",
   "metadata": {},
   "source": [
    "## Dictionaries\n",
    "\n",
    "Dictionaries are the core data type of the python language. Unlike lists, dictionaries are **unordered** and accessed using keys rather than using numerical indices. This workshop will not describe dictionaries in detail, but you can refer to the W3 schools guide [here](https://www.w3schools.com/python/python_dictionaries.asp) for more info. "
   ]
  },
  {
   "cell_type": "code",
   "execution_count": 242,
   "id": "ef5675d8",
   "metadata": {},
   "outputs": [
    {
     "data": {
      "text/plain": [
       "{'hello': 1}"
      ]
     },
     "execution_count": 242,
     "metadata": {},
     "output_type": "execute_result"
    }
   ],
   "source": [
    "# Create a dict using key-value pairs between {}\n",
    "my_dict = {\n",
    "    'hello': 1\n",
    "}\n",
    "my_dict"
   ]
  },
  {
   "cell_type": "code",
   "execution_count": 243,
   "id": "af09d5c1",
   "metadata": {},
   "outputs": [
    {
     "data": {
      "text/plain": [
       "1"
      ]
     },
     "execution_count": 243,
     "metadata": {},
     "output_type": "execute_result"
    }
   ],
   "source": [
    "# Access the value in a dict using keys\n",
    "my_dict['hello']"
   ]
  },
  {
   "cell_type": "code",
   "execution_count": 244,
   "id": "9318faa0",
   "metadata": {},
   "outputs": [
    {
     "data": {
      "text/plain": [
       "{'hello': 1, 'world': True, 123: [1, 2, ['Hello world']], True: {'New': True}}"
      ]
     },
     "execution_count": 244,
     "metadata": {},
     "output_type": "execute_result"
    }
   ],
   "source": [
    "# Dictionaries can have numerical, string, and boolean keys. They can hold any number of arbitrary object types.\n",
    "my_dict = {\n",
    "    'hello': 1,\n",
    "    'world': True,\n",
    "    123: [1, 2, [\"Hello world\"]],\n",
    "    True: {\n",
    "        \"New\": True\n",
    "    }\n",
    "}\n",
    "my_dict"
   ]
  },
  {
   "cell_type": "code",
   "execution_count": 245,
   "id": "75b22e97",
   "metadata": {},
   "outputs": [
    {
     "data": {
      "text/plain": [
       "{'New': True}"
      ]
     },
     "execution_count": 245,
     "metadata": {},
     "output_type": "execute_result"
    }
   ],
   "source": [
    "my_dict[True]"
   ]
  },
  {
   "cell_type": "markdown",
   "id": "09d90bd3",
   "metadata": {},
   "source": [
    "## Sets and Tuples\n",
    "\n",
    "Sets and tuples are also used in python. Discussing them is outside the scope of this workshop. For more information please refer to the following:\n",
    "\n",
    "1. Sets - [here](https://www.w3schools.com/python/python_sets.asp)\n",
    "2. Tuples - [here]()"
   ]
  },
  {
   "cell_type": "markdown",
   "id": "e89f7e36",
   "metadata": {},
   "source": [
    "## Numpy arrays\n",
    "\n",
    "`numpy` is a python package that provides complex data types for performing mathematical operations. In particular, numpy provides the `array` data type which is similar to the `matrix` in R. \n",
    "\n",
    "Before arrays can be constructed it is necessary to load the numpy library in Python. We can accomplish this using an import statement (below). This loads the `numpy` library as an object called `np` into python. "
   ]
  },
  {
   "cell_type": "code",
   "execution_count": 247,
   "id": "30cc9861",
   "metadata": {},
   "outputs": [],
   "source": [
    "import numpy as np"
   ]
  },
  {
   "cell_type": "markdown",
   "id": "e2bcf008",
   "metadata": {},
   "source": [
    "Libraries (aka \"packages\") in python are actually a type of object called a `module`."
   ]
  },
  {
   "cell_type": "code",
   "execution_count": 248,
   "id": "04249eff",
   "metadata": {},
   "outputs": [
    {
     "data": {
      "text/plain": [
       "module"
      ]
     },
     "execution_count": 248,
     "metadata": {},
     "output_type": "execute_result"
    }
   ],
   "source": [
    "type(np)"
   ]
  },
  {
   "cell_type": "markdown",
   "id": "d4baa02e",
   "metadata": {},
   "source": [
    "Just like other objects, they have properties and methods. We typically load modules into python because we want to use the methods they contain. As a reminder, you can access an object's methods using the `<object>.<method>()` notation. For the `numpy` module, the method we are most interested is the `array()` method -- this is what we can use to construct an `array` object."
   ]
  },
  {
   "cell_type": "code",
   "execution_count": 251,
   "id": "3f992f4b",
   "metadata": {},
   "outputs": [
    {
     "data": {
      "text/plain": [
       "array([1, 2, 3])"
      ]
     },
     "execution_count": 251,
     "metadata": {},
     "output_type": "execute_result"
    }
   ],
   "source": [
    "# Create a 1-dimensional (1d) array holding the values 1, 2, and 3\n",
    "np.array([1, 2, 3])"
   ]
  },
  {
   "cell_type": "markdown",
   "id": "9990e327",
   "metadata": {},
   "source": [
    "We can create 2-dimensional arrays by adding lists of lists:"
   ]
  },
  {
   "cell_type": "code",
   "execution_count": 256,
   "id": "8a42af0b",
   "metadata": {},
   "outputs": [
    {
     "data": {
      "text/plain": [
       "array([[1, 2, 3],\n",
       "       [4, 5, 6]])"
      ]
     },
     "execution_count": 256,
     "metadata": {},
     "output_type": "execute_result"
    }
   ],
   "source": [
    "# Construct a 2d array\n",
    "np.array([\n",
    "    [1, 2, 3],\n",
    "    [4, 5, 6]\n",
    "])"
   ]
  },
  {
   "cell_type": "markdown",
   "id": "e2a3fff4",
   "metadata": {},
   "source": [
    "We can even create a 3-dimension array (and beyond) using lists of lists of lists (etc). "
   ]
  },
  {
   "cell_type": "code",
   "execution_count": 260,
   "id": "617d4702",
   "metadata": {},
   "outputs": [
    {
     "data": {
      "text/plain": [
       "array([[[ 1,  2,  3],\n",
       "        [ 4,  5,  6]],\n",
       "\n",
       "       [[ 7,  8,  9],\n",
       "        [10, 11, 12]]])"
      ]
     },
     "execution_count": 260,
     "metadata": {},
     "output_type": "execute_result"
    }
   ],
   "source": [
    "# Construct a 3d array\n",
    "np.array([\n",
    "    [\n",
    "        [1, 2, 3],\n",
    "        [4, 5, 6]\n",
    "    ],\n",
    "    [\n",
    "        [7, 8, 9],\n",
    "        [10, 11, 12]\n",
    "    ]\n",
    "])"
   ]
  },
  {
   "cell_type": "markdown",
   "id": "f0cc2850",
   "metadata": {},
   "source": [
    "### Numpy array methods\n",
    "\n",
    "Many methods are available for `array` objects. An exhaustive reference is available [here](https://numpy.org/doc/stable/reference/index.html). For now, we will discuss a few key methods:\n",
    "\n",
    "1. Creation\n",
    "2. Shape and dimensions\n",
    "3. Accessing elements\n",
    "4. Setting elements\n",
    "5. any / all \n",
    "6. Mathematical operations"
   ]
  },
  {
   "cell_type": "markdown",
   "id": "4130dd53",
   "metadata": {},
   "source": [
    "#### Creation\n",
    "\n",
    "Numpy arrays are created in multiple ways. The simplest invovles the use of lists (shown above):"
   ]
  },
  {
   "cell_type": "code",
   "execution_count": 276,
   "id": "05317312",
   "metadata": {},
   "outputs": [
    {
     "data": {
      "text/plain": [
       "array([[ True, False, False],\n",
       "       [False,  True, False]])"
      ]
     },
     "execution_count": 276,
     "metadata": {},
     "output_type": "execute_result"
    }
   ],
   "source": [
    "my_arr = np.array([\n",
    "    [True, False, False],\n",
    "    [False, True, False]\n",
    "])\n",
    "my_arr"
   ]
  },
  {
   "cell_type": "markdown",
   "id": "13ee0484",
   "metadata": {},
   "source": [
    "Arrays can also be created using the `arrange()` method. This method creates a sequential `array` given the max element specified:"
   ]
  },
  {
   "cell_type": "code",
   "execution_count": 277,
   "id": "2e02a26c",
   "metadata": {},
   "outputs": [
    {
     "data": {
      "text/plain": [
       "array([0, 1, 2, 3, 4, 5, 6, 7, 8, 9])"
      ]
     },
     "execution_count": 277,
     "metadata": {},
     "output_type": "execute_result"
    }
   ],
   "source": [
    "# Create a 1d integer array from 0-9\n",
    "my_arr = np.arange(10)\n",
    "my_arr"
   ]
  },
  {
   "cell_type": "code",
   "execution_count": 278,
   "id": "231db9ba",
   "metadata": {},
   "outputs": [
    {
     "data": {
      "text/plain": [
       "array([0., 1., 2., 3., 4., 5., 6., 7., 8., 9.])"
      ]
     },
     "execution_count": 278,
     "metadata": {},
     "output_type": "execute_result"
    }
   ],
   "source": [
    "# Create a 1d float array from 0.0-9.0\n",
    "my_arr = np.arange(10.0)\n",
    "my_arr"
   ]
  },
  {
   "cell_type": "markdown",
   "id": "038f59f8",
   "metadata": {},
   "source": [
    "#### Shape and dimensions\n",
    "\n",
    "`numpy` arrays have a number of dimensions and a shape. Note that these are properties, not methods. They are accessed using this pattern: `<object>.<property_name>` as follows:"
   ]
  },
  {
   "cell_type": "code",
   "execution_count": 291,
   "id": "8110c782",
   "metadata": {},
   "outputs": [],
   "source": [
    "# Construct 2d array\n",
    "my_arr = np.array([\n",
    "    [True, False, False],\n",
    "    [False, True, False]\n",
    "])"
   ]
  },
  {
   "cell_type": "code",
   "execution_count": 285,
   "id": "3d591455",
   "metadata": {},
   "outputs": [
    {
     "data": {
      "text/plain": [
       "2"
      ]
     },
     "execution_count": 285,
     "metadata": {},
     "output_type": "execute_result"
    }
   ],
   "source": [
    "# Get number of dimensions property\n",
    "my_arr.ndim"
   ]
  },
  {
   "cell_type": "code",
   "execution_count": 288,
   "id": "63f04958",
   "metadata": {},
   "outputs": [
    {
     "data": {
      "text/plain": [
       "(2, 3)"
      ]
     },
     "execution_count": 288,
     "metadata": {},
     "output_type": "execute_result"
    }
   ],
   "source": [
    "# Get the shape property (number of rows, number of columns)\n",
    "my_arr.shape"
   ]
  },
  {
   "cell_type": "code",
   "execution_count": 290,
   "id": "299a1009",
   "metadata": {},
   "outputs": [
    {
     "data": {
      "text/plain": [
       "(2, 2, 3)"
      ]
     },
     "execution_count": 290,
     "metadata": {},
     "output_type": "execute_result"
    }
   ],
   "source": [
    "# Construct a 3d array\n",
    "arr_3d = np.array([\n",
    "    [\n",
    "        [1, 2, 3],\n",
    "        [4, 5, 6]\n",
    "    ],\n",
    "    [\n",
    "        [7, 8, 9],\n",
    "        [10, 11, 12]\n",
    "    ]\n",
    "])\n",
    "\n",
    "# Get the shape (number of 2d arrays, number of rows, number of columns)\n",
    "arr_3d.shape"
   ]
  },
  {
   "cell_type": "markdown",
   "id": "1ec20a86",
   "metadata": {},
   "source": [
    "Finally, the shape of an array can be altered using the `reshape()` method. This is particularly useful for quickly constructing arrays of a desired shape:"
   ]
  },
  {
   "cell_type": "code",
   "execution_count": 295,
   "id": "17474d7d",
   "metadata": {},
   "outputs": [],
   "source": [
    "my_arr = np.arange(15)\n",
    "my_arr = my_arr.reshape((5, 3))  # Note that this does NOT overwrite the my_arr object until you re-assign using '='"
   ]
  },
  {
   "cell_type": "code",
   "execution_count": 296,
   "id": "92116fa0",
   "metadata": {},
   "outputs": [
    {
     "data": {
      "text/plain": [
       "array([[ 0,  1,  2],\n",
       "       [ 3,  4,  5],\n",
       "       [ 6,  7,  8],\n",
       "       [ 9, 10, 11],\n",
       "       [12, 13, 14]])"
      ]
     },
     "execution_count": 296,
     "metadata": {},
     "output_type": "execute_result"
    }
   ],
   "source": [
    "my_arr"
   ]
  },
  {
   "cell_type": "markdown",
   "id": "8962b07d",
   "metadata": {},
   "source": [
    "The above can be simplified in 1 line of code:"
   ]
  },
  {
   "cell_type": "code",
   "execution_count": 297,
   "id": "938d4e6b",
   "metadata": {},
   "outputs": [
    {
     "data": {
      "text/plain": [
       "array([[ 0,  1,  2],\n",
       "       [ 3,  4,  5],\n",
       "       [ 6,  7,  8],\n",
       "       [ 9, 10, 11],\n",
       "       [12, 13, 14]])"
      ]
     },
     "execution_count": 297,
     "metadata": {},
     "output_type": "execute_result"
    }
   ],
   "source": [
    "my_arr = np.arange(15).reshape((5, 3))\n",
    "my_arr"
   ]
  },
  {
   "cell_type": "markdown",
   "id": "73aa7989",
   "metadata": {},
   "source": [
    "#### Accessing elements\n",
    "\n",
    "Elements can be accessed using several approaches. \n",
    "\n",
    "1. Numerical\n",
    "2. Logical\n",
    "\n",
    "For the **Numerical** approach, numerical indices are utilized using the pattern suited to their shape:"
   ]
  },
  {
   "cell_type": "code",
   "execution_count": 312,
   "id": "070ef544",
   "metadata": {},
   "outputs": [
    {
     "name": "stdout",
     "output_type": "stream",
     "text": [
      "[3 8 1 5]\n"
     ]
    },
    {
     "data": {
      "text/plain": [
       "8"
      ]
     },
     "execution_count": 312,
     "metadata": {},
     "output_type": "execute_result"
    }
   ],
   "source": [
    "# For a 1D array, similar to list\n",
    "my_arr = np.array([3, 8, 1, 5])\n",
    "print(my_arr)\n",
    "my_arr[1]  # Get the 2nd element of the first (and only) dimension"
   ]
  },
  {
   "cell_type": "code",
   "execution_count": 311,
   "id": "5ab90f62",
   "metadata": {},
   "outputs": [
    {
     "name": "stdout",
     "output_type": "stream",
     "text": [
      "[[5 7 4 6]\n",
      " [2 1 9 8]]\n"
     ]
    },
    {
     "data": {
      "text/plain": [
       "7"
      ]
     },
     "execution_count": 311,
     "metadata": {},
     "output_type": "execute_result"
    }
   ],
   "source": [
    "# For a 2D array, the pattern is array[dim2_index, dim1_index]\n",
    "my_arr = np.array([\n",
    "    [5, 7, 4, 6],\n",
    "    [2, 1, 9, 8]\n",
    "])\n",
    "print(my_arr)\n",
    "my_arr[0, 1]  # First element in dim 2 (row 0) and second element in dim 1 (column 2)"
   ]
  },
  {
   "cell_type": "code",
   "execution_count": 316,
   "id": "759d0ae8",
   "metadata": {},
   "outputs": [
    {
     "name": "stdout",
     "output_type": "stream",
     "text": [
      "[[[  0   1   2   3   4]\n",
      "  [  5   6   7   8   9]\n",
      "  [ 10  11  12  13  14]\n",
      "  [ 15  16  17  18  19]\n",
      "  [ 20  21  22  23  24]]\n",
      "\n",
      " [[ 25  26  27  28  29]\n",
      "  [ 30  31  32  33  34]\n",
      "  [ 35  36  37  38  39]\n",
      "  [ 40  41  42  43  44]\n",
      "  [ 45  46  47  48  49]]\n",
      "\n",
      " [[ 50  51  52  53  54]\n",
      "  [ 55  56  57  58  59]\n",
      "  [ 60  61  62  63  64]\n",
      "  [ 65  66  67  68  69]\n",
      "  [ 70  71  72  73  74]]\n",
      "\n",
      " [[ 75  76  77  78  79]\n",
      "  [ 80  81  82  83  84]\n",
      "  [ 85  86  87  88  89]\n",
      "  [ 90  91  92  93  94]\n",
      "  [ 95  96  97  98  99]]\n",
      "\n",
      " [[100 101 102 103 104]\n",
      "  [105 106 107 108 109]\n",
      "  [110 111 112 113 114]\n",
      "  [115 116 117 118 119]\n",
      "  [120 121 122 123 124]]]\n"
     ]
    },
    {
     "data": {
      "text/plain": [
       "66"
      ]
     },
     "execution_count": 316,
     "metadata": {},
     "output_type": "execute_result"
    }
   ],
   "source": [
    "# For an n-dimensional array, the pattern is the same: array[dimN_index, dimN-1_index, dimN-2_index..., dim1_index]\n",
    "my_arr = np.arange(125).reshape((5, 5, 5))\n",
    "print(my_arr)\n",
    "my_arr[2, 3, 1]  # 3rd element in dim 1 (matrix 3), 4th element in dim 2 (row 4), 2nd element in dim 3 (column 2)"
   ]
  },
  {
   "cell_type": "markdown",
   "id": "287898c0",
   "metadata": {},
   "source": [
    "For the **Logical** approach, we can use a boolean array to extract the element(s) of interest:"
   ]
  },
  {
   "cell_type": "code",
   "execution_count": 318,
   "id": "aefcc306",
   "metadata": {},
   "outputs": [
    {
     "data": {
      "text/plain": [
       "array([3])"
      ]
     },
     "execution_count": 318,
     "metadata": {},
     "output_type": "execute_result"
    }
   ],
   "source": [
    "num_arr = np.array([1, 2, 3])\n",
    "bool_arr = np.array([False, False, True])\n",
    "num_arr[bool_arr]  #  We access the element of num_arr for which bool_arr is True"
   ]
  },
  {
   "cell_type": "markdown",
   "id": "b355c75a",
   "metadata": {},
   "source": [
    "This approach is extremely powerful when you can use logical operations to create a boolean array:"
   ]
  },
  {
   "cell_type": "code",
   "execution_count": 328,
   "id": "878ce2e2",
   "metadata": {},
   "outputs": [
    {
     "name": "stdout",
     "output_type": "stream",
     "text": [
      "[[ 1  2  3  4  5]\n",
      " [ 6  7  8  9 10]]\n"
     ]
    }
   ],
   "source": [
    "# Create a 2D matrix\n",
    "dataset = np.array([\n",
    "    [1, 2, 3, 4, 5],\n",
    "    [6, 7, 8, 9, 10]\n",
    "])\n",
    "print(dataset)"
   ]
  },
  {
   "cell_type": "code",
   "execution_count": 351,
   "id": "e7e3f0c9",
   "metadata": {},
   "outputs": [
    {
     "name": "stdout",
     "output_type": "stream",
     "text": [
      "[[False False False  True  True]\n",
      " [ True  True  True  True  True]]\n"
     ]
    }
   ],
   "source": [
    "# Create a boolean matrix for this dataset to test where values are greater than 3\n",
    "bools = dataset > 3\n",
    "print(bools)"
   ]
  },
  {
   "cell_type": "code",
   "execution_count": 349,
   "id": "d59e12ef",
   "metadata": {},
   "outputs": [
    {
     "data": {
      "text/plain": [
       "array([ 4,  5,  6,  7,  8,  9, 10])"
      ]
     },
     "execution_count": 349,
     "metadata": {},
     "output_type": "execute_result"
    }
   ],
   "source": [
    "# Extract the value(s) which satisfy this logical operation\n",
    "dataset[bools]"
   ]
  },
  {
   "cell_type": "code",
   "execution_count": 343,
   "id": "3bf20a35",
   "metadata": {},
   "outputs": [
    {
     "name": "stdout",
     "output_type": "stream",
     "text": [
      "[[False False False False  True]\n",
      " [False False False False False]]\n"
     ]
    }
   ],
   "source": [
    "# Create a boolean matrix for this dataset to test where values are equal to 5 using np.equals()\n",
    "bools = np.equal(dataset, 5)\n",
    "print(bools)"
   ]
  },
  {
   "cell_type": "code",
   "execution_count": 344,
   "id": "f0b9b1d3",
   "metadata": {},
   "outputs": [
    {
     "data": {
      "text/plain": [
       "array([5])"
      ]
     },
     "execution_count": 344,
     "metadata": {},
     "output_type": "execute_result"
    }
   ],
   "source": [
    "# Extract the value(s) which satisfy this logical operation\n",
    "dataset[bools]"
   ]
  },
  {
   "cell_type": "code",
   "execution_count": 354,
   "id": "936f80a3",
   "metadata": {},
   "outputs": [
    {
     "name": "stdout",
     "output_type": "stream",
     "text": [
      "[[ True  True False False False]\n",
      " [False False False  True  True]]\n"
     ]
    },
    {
     "data": {
      "text/plain": [
       "array([ 1,  2,  9, 10])"
      ]
     },
     "execution_count": 354,
     "metadata": {},
     "output_type": "execute_result"
    }
   ],
   "source": [
    "# Create a boolean matrix for this dataset to test where values are > 8 or < 3\n",
    "bools = np.logical_or(dataset > 8, dataset < 3)\n",
    "print(bools)\n",
    "# Subset the data using these booleans\n",
    "dataset[bools]"
   ]
  },
  {
   "cell_type": "markdown",
   "id": "8c53e524",
   "metadata": {},
   "source": [
    "Finally, we can use the **where** approach that is a hybrid of these two methods. "
   ]
  },
  {
   "cell_type": "code",
   "execution_count": 408,
   "id": "dd5e4651",
   "metadata": {},
   "outputs": [
    {
     "name": "stdout",
     "output_type": "stream",
     "text": [
      "(array([1, 1, 1, 1], dtype=int64), array([1, 2, 3, 4], dtype=int64))\n"
     ]
    },
    {
     "data": {
      "text/plain": [
       "array([ 7,  8,  9, 10])"
      ]
     },
     "execution_count": 408,
     "metadata": {},
     "output_type": "execute_result"
    }
   ],
   "source": [
    "# Find the numerical indices for values in the dataset > 6\n",
    "indices = np.where(dataset > 6)\n",
    "print(indices)\n",
    "# Subset the data using these indices\n",
    "dataset[indices]"
   ]
  },
  {
   "cell_type": "markdown",
   "id": "0b0ee513",
   "metadata": {},
   "source": [
    "#### Setting elements\n",
    "\n",
    "Just as you can access elements of an array, you can also set them. This can be done with integer and logical indexing. \n",
    "\n",
    "Here is an example with simple integer indexing:"
   ]
  },
  {
   "cell_type": "code",
   "execution_count": 355,
   "id": "a991b6ac",
   "metadata": {},
   "outputs": [
    {
     "name": "stdout",
     "output_type": "stream",
     "text": [
      "[[ 1  2  3  4  5]\n",
      " [ 6  7  8  9 10]]\n"
     ]
    }
   ],
   "source": [
    "# Create a 2D matrix\n",
    "dataset = np.array([\n",
    "    [1, 2, 3, 4, 5],\n",
    "    [6, 7, 8, 9, 10]\n",
    "])\n",
    "print(dataset)"
   ]
  },
  {
   "cell_type": "code",
   "execution_count": 358,
   "id": "179451c0",
   "metadata": {},
   "outputs": [
    {
     "data": {
      "text/plain": [
       "array([[  1,   2,   3,   4,   5],\n",
       "       [  6,   7,   8,   9, 100]])"
      ]
     },
     "execution_count": 358,
     "metadata": {},
     "output_type": "execute_result"
    }
   ],
   "source": [
    "# Change row 2, column 5 to the value 100\n",
    "dataset[1, 4] = 100\n",
    "dataset"
   ]
  },
  {
   "cell_type": "markdown",
   "id": "3afb71ef",
   "metadata": {},
   "source": [
    "You can also use logical indexing to set array values:"
   ]
  },
  {
   "cell_type": "code",
   "execution_count": 364,
   "id": "b94ab152",
   "metadata": {},
   "outputs": [
    {
     "data": {
      "text/plain": [
       "array([[1, 2, 3, 0, 0],\n",
       "       [0, 0, 0, 0, 0]])"
      ]
     },
     "execution_count": 364,
     "metadata": {},
     "output_type": "execute_result"
    }
   ],
   "source": [
    "# Set every value > 3 to 0\n",
    "dataset = np.array([\n",
    "    [1, 2, 3, 4, 5],\n",
    "    [6, 7, 8, 9, 10]\n",
    "])\n",
    "dataset[dataset > 3] = 0 \n",
    "dataset"
   ]
  },
  {
   "cell_type": "markdown",
   "id": "51b0158e",
   "metadata": {},
   "source": [
    "And, finally, you can use the `where()` method:"
   ]
  },
  {
   "cell_type": "code",
   "execution_count": 368,
   "id": "670f37bd",
   "metadata": {},
   "outputs": [
    {
     "data": {
      "text/plain": [
       "array([[-1, -1, -1, -1, -1],\n",
       "       [-1,  7,  8,  9, 10]])"
      ]
     },
     "execution_count": 368,
     "metadata": {},
     "output_type": "execute_result"
    }
   ],
   "source": [
    "# Set all value < 7 to -1\n",
    "dataset = np.array([\n",
    "    [1, 2, 3, 4, 5],\n",
    "    [6, 7, 8, 9, 10]\n",
    "])\n",
    "dataset[np.where(dataset < 7)] = -1\n",
    "dataset"
   ]
  },
  {
   "cell_type": "markdown",
   "id": "f1dae061",
   "metadata": {},
   "source": [
    "#### Any / All\n",
    "\n",
    "`any()` and `all()` are two methods which determine whether an array satisfies a logical condition. `any()` is `True` if any element in the array satisfies the condition. `all()` is `True` if all elements of the array satisfy the condition. Examples:"
   ]
  },
  {
   "cell_type": "code",
   "execution_count": 372,
   "id": "5f9c430e",
   "metadata": {},
   "outputs": [],
   "source": [
    "dataset = np.array([\n",
    "    [1, 2, 3, 4, 5],\n",
    "    [6, 7, 8, 9, 10]\n",
    "])"
   ]
  },
  {
   "cell_type": "code",
   "execution_count": 373,
   "id": "45f6efbb",
   "metadata": {},
   "outputs": [
    {
     "data": {
      "text/plain": [
       "False"
      ]
     },
     "execution_count": 373,
     "metadata": {},
     "output_type": "execute_result"
    }
   ],
   "source": [
    "# Any values equal to 0?\n",
    "np.any(dataset == 0)"
   ]
  },
  {
   "cell_type": "code",
   "execution_count": 375,
   "id": "6fc339db",
   "metadata": {},
   "outputs": [
    {
     "data": {
      "text/plain": [
       "True"
      ]
     },
     "execution_count": 375,
     "metadata": {},
     "output_type": "execute_result"
    }
   ],
   "source": [
    "# All values NOT equal to 0?\n",
    "np.all(dataset != 0)"
   ]
  },
  {
   "cell_type": "markdown",
   "id": "ef5a33cf",
   "metadata": {},
   "source": [
    "#### Mathematical methods\n",
    "\n",
    "Arrays have a large number of built-in mathematic methods. Examples include `sum()` and `mean()`. They can also be used for multi-dimensional algebraic operations, such as matrix multiplication and dot products. Here are a small number of examples:"
   ]
  },
  {
   "cell_type": "code",
   "execution_count": 384,
   "id": "e6853d0c",
   "metadata": {},
   "outputs": [
    {
     "data": {
      "text/plain": [
       "array([[0, 1, 2],\n",
       "       [3, 4, 5],\n",
       "       [6, 7, 8]])"
      ]
     },
     "execution_count": 384,
     "metadata": {},
     "output_type": "execute_result"
    }
   ],
   "source": [
    "my_data = np.arange(9).reshape((3,3))\n",
    "my_data"
   ]
  },
  {
   "cell_type": "code",
   "execution_count": 383,
   "id": "566a37fb",
   "metadata": {},
   "outputs": [
    {
     "data": {
      "text/plain": [
       "array([[ 0,  3,  6],\n",
       "       [ 9, 12, 15],\n",
       "       [18, 21, 24]])"
      ]
     },
     "execution_count": 383,
     "metadata": {},
     "output_type": "execute_result"
    }
   ],
   "source": [
    "# Multiplication by scalar\n",
    "my_data * 3"
   ]
  },
  {
   "cell_type": "code",
   "execution_count": 380,
   "id": "3a11c5c7",
   "metadata": {},
   "outputs": [
    {
     "data": {
      "text/plain": [
       "array([[ 5, 11, 22],\n",
       "       [ 8, 14, 25],\n",
       "       [11, 17, 28]])"
      ]
     },
     "execution_count": 380,
     "metadata": {},
     "output_type": "execute_result"
    }
   ],
   "source": [
    "# Addition by vector\n",
    "my_vector = np.array([5, 10, 20])\n",
    "my_data + my_vector"
   ]
  },
  {
   "cell_type": "code",
   "execution_count": 407,
   "id": "ea004b86",
   "metadata": {},
   "outputs": [
    {
     "data": {
      "text/plain": [
       "36"
      ]
     },
     "execution_count": 407,
     "metadata": {},
     "output_type": "execute_result"
    }
   ],
   "source": [
    "# Sum of values\n",
    "my_data.sum()"
   ]
  },
  {
   "cell_type": "code",
   "execution_count": 406,
   "id": "a68da23f",
   "metadata": {},
   "outputs": [
    {
     "data": {
      "text/plain": [
       "array([1., 4., 7.])"
      ]
     },
     "execution_count": 406,
     "metadata": {},
     "output_type": "execute_result"
    }
   ],
   "source": [
    "# Mean of values within dimension 2 (rows) -- \"axis\" specificies the dimension index\n",
    "my_data.mean(axis=1)"
   ]
  },
  {
   "cell_type": "code",
   "execution_count": 405,
   "id": "09f3bdd2",
   "metadata": {},
   "outputs": [
    {
     "data": {
      "text/plain": [
       "array([6, 7, 8])"
      ]
     },
     "execution_count": 405,
     "metadata": {},
     "output_type": "execute_result"
    }
   ],
   "source": [
    "# Max values within dimension 1 (columns)\n",
    "my_data.max(axis=0)"
   ]
  },
  {
   "cell_type": "code",
   "execution_count": 404,
   "id": "1600b82c",
   "metadata": {},
   "outputs": [
    {
     "data": {
      "text/plain": [
       "array([[0, 3, 6],\n",
       "       [1, 4, 7],\n",
       "       [2, 5, 8]])"
      ]
     },
     "execution_count": 404,
     "metadata": {},
     "output_type": "execute_result"
    }
   ],
   "source": [
    "# Transposition\n",
    "my_data.transpose()"
   ]
  },
  {
   "cell_type": "code",
   "execution_count": 403,
   "id": "530170ab",
   "metadata": {},
   "outputs": [
    {
     "data": {
      "text/plain": [
       "array([[ 315,  318,  321],\n",
       "       [1242, 1254, 1266],\n",
       "       [2169, 2190, 2211]])"
      ]
     },
     "execution_count": 403,
     "metadata": {},
     "output_type": "execute_result"
    }
   ],
   "source": [
    "# Make new dataset\n",
    "my_data2 = np.arange(100, 109).reshape((3,3))  # 3x3 matrix of 100:109\n",
    "\n",
    "# Compute dot product\n",
    "dot_prod = np.dot(my_data, my_data2)\n",
    "dot_prod"
   ]
  },
  {
   "cell_type": "code",
   "execution_count": 402,
   "id": "7b46041a",
   "metadata": {},
   "outputs": [
    {
     "data": {
      "text/plain": [
       "array([[1.        , 0.80873372],\n",
       "       [0.80873372, 1.        ]])"
      ]
     },
     "execution_count": 402,
     "metadata": {},
     "output_type": "execute_result"
    }
   ],
   "source": [
    "# Compute the pearson correlation of two 1d arrays\n",
    "arr1 = np.array([1, 5, 6, 6, 7, 10])\n",
    "arr2 = np.array([3, 3, 4, 3, 6, 9])\n",
    "np.corrcoef(arr1, arr2)  # Correlation is ~.809"
   ]
  },
  {
   "cell_type": "markdown",
   "id": "855b0eb9",
   "metadata": {},
   "source": [
    "## Pandas Series and DataFrame\n",
    "\n",
    "`pandas` is arguably the most important library for data science in python. It provides both the `Series` and `DataFrame` objects, along with a large number of methods for working with them. Under the hood, it uses `numpy` so many `array` methods work with `pandas` objects. In this section, we will discuss the `Series` object and the `DataFrame` object, then introduce some core methods for working with them.\n",
    "\n",
    "### Pandas `Series`"
   ]
  },
  {
   "cell_type": "markdown",
   "id": "0111d1ea",
   "metadata": {},
   "source": [
    "Similar to the 1D array, a pandas `Series` is an array where every element can have a name. See this example:"
   ]
  },
  {
   "cell_type": "code",
   "execution_count": 411,
   "id": "ffde400e",
   "metadata": {},
   "outputs": [
    {
     "data": {
      "text/plain": [
       "one      1\n",
       "two      2\n",
       "three    3\n",
       "dtype: int64"
      ]
     },
     "execution_count": 411,
     "metadata": {},
     "output_type": "execute_result"
    }
   ],
   "source": [
    "my_data = pd.Series(data={\n",
    "    'one': 1,\n",
    "    'two': 2,\n",
    "    'three': 3\n",
    "})\n",
    "my_data"
   ]
  },
  {
   "cell_type": "markdown",
   "id": "e6bbc220",
   "metadata": {},
   "source": [
    "Similar to a dictionary, the values can be accessed using the names:"
   ]
  },
  {
   "cell_type": "code",
   "execution_count": 412,
   "id": "3f4ba4f4",
   "metadata": {},
   "outputs": [
    {
     "data": {
      "text/plain": [
       "2"
      ]
     },
     "execution_count": 412,
     "metadata": {},
     "output_type": "execute_result"
    }
   ],
   "source": [
    "my_data['two']"
   ]
  },
  {
   "cell_type": "markdown",
   "id": "dfa9c82a",
   "metadata": {},
   "source": [
    "And similar to an `array`, the values can also be accessed using numbers and booleans:"
   ]
  },
  {
   "cell_type": "code",
   "execution_count": 413,
   "id": "8c28465e",
   "metadata": {},
   "outputs": [
    {
     "data": {
      "text/plain": [
       "1"
      ]
     },
     "execution_count": 413,
     "metadata": {},
     "output_type": "execute_result"
    }
   ],
   "source": [
    "# Access element 1\n",
    "my_data[0]"
   ]
  },
  {
   "cell_type": "code",
   "execution_count": 415,
   "id": "8e4cce0a",
   "metadata": {},
   "outputs": [
    {
     "data": {
      "text/plain": [
       "three    3\n",
       "dtype: int64"
      ]
     },
     "execution_count": 415,
     "metadata": {},
     "output_type": "execute_result"
    }
   ],
   "source": [
    "# Access the element(s) which equals 3\n",
    "my_data[my_data == 3]"
   ]
  },
  {
   "cell_type": "markdown",
   "id": "d8aee21e",
   "metadata": {},
   "source": [
    "### Pandas `DataFrame`\n",
    "\n",
    "The `DataFrame` is an extremely powerful datatype in python, and it is used ubiquitously throughout pythonic data science. A `DataFrame` is always a 2-dimensional `array` which contains named columns and rows. "
   ]
  },
  {
   "cell_type": "code",
   "execution_count": 429,
   "id": "423f52f6",
   "metadata": {},
   "outputs": [
    {
     "data": {
      "text/html": [
       "<div>\n",
       "<style scoped>\n",
       "    .dataframe tbody tr th:only-of-type {\n",
       "        vertical-align: middle;\n",
       "    }\n",
       "\n",
       "    .dataframe tbody tr th {\n",
       "        vertical-align: top;\n",
       "    }\n",
       "\n",
       "    .dataframe thead th {\n",
       "        text-align: right;\n",
       "    }\n",
       "</style>\n",
       "<table border=\"1\" class=\"dataframe\">\n",
       "  <thead>\n",
       "    <tr style=\"text-align: right;\">\n",
       "      <th></th>\n",
       "      <th>col_one</th>\n",
       "      <th>col_two</th>\n",
       "      <th>col_three</th>\n",
       "    </tr>\n",
       "  </thead>\n",
       "  <tbody>\n",
       "    <tr>\n",
       "      <th>row_one</th>\n",
       "      <td>1</td>\n",
       "      <td>11</td>\n",
       "      <td>21</td>\n",
       "    </tr>\n",
       "    <tr>\n",
       "      <th>row_two</th>\n",
       "      <td>2</td>\n",
       "      <td>12</td>\n",
       "      <td>22</td>\n",
       "    </tr>\n",
       "    <tr>\n",
       "      <th>row_three</th>\n",
       "      <td>3</td>\n",
       "      <td>13</td>\n",
       "      <td>23</td>\n",
       "    </tr>\n",
       "    <tr>\n",
       "      <th>row_four</th>\n",
       "      <td>4</td>\n",
       "      <td>14</td>\n",
       "      <td>24</td>\n",
       "    </tr>\n",
       "  </tbody>\n",
       "</table>\n",
       "</div>"
      ],
      "text/plain": [
       "           col_one  col_two  col_three\n",
       "row_one          1       11         21\n",
       "row_two          2       12         22\n",
       "row_three        3       13         23\n",
       "row_four         4       14         24"
      ]
     },
     "execution_count": 429,
     "metadata": {},
     "output_type": "execute_result"
    }
   ],
   "source": [
    "my_df = pd.DataFrame(data={\n",
    "    'col_one': range(1, 5),\n",
    "    'col_two': range(11, 15),\n",
    "    'col_three': range(21, 25)\n",
    "}, index = [\n",
    "    'row_one', 'row_two', 'row_three', 'row_four'\n",
    "])\n",
    "my_df"
   ]
  },
  {
   "cell_type": "markdown",
   "id": "9ffbe538",
   "metadata": {},
   "source": [
    "Methods for `DataFrame` objects are numerous and can be found [here](https://pandas.pydata.org/pandas-docs/stable/reference/frame.html). In this module, we will only discuss the following:\n",
    "\n",
    "1. Accessing data / setting data\n",
    "2. "
   ]
  },
  {
   "cell_type": "markdown",
   "id": "fefe2800",
   "metadata": {},
   "source": [
    "<hr>\n",
    "\n",
    "# Other programming concepts in Python\n",
    "\n",
    "We will also briefly discuss control flow and functions in python. While these are useful techniques for python programming, they are not necessary for most typical data science activities in python. These are the topics which we will now summarize:\n",
    "\n",
    "1. If...elif...else\n",
    "2. Loops\n",
    "3. Function definitions"
   ]
  },
  {
   "cell_type": "markdown",
   "id": "c16ff4b6",
   "metadata": {},
   "source": [
    "## If...elif...else\n",
    "\n",
    "These statements indicate code blocks that will only be executed given that a logical condition is met."
   ]
  },
  {
   "cell_type": "markdown",
   "id": "11944b52",
   "metadata": {},
   "source": [
    "### If statements\n",
    "\n",
    "`if` statements in python create a logic gate, such that some code will only execute if a logical condition is met. See an example here:"
   ]
  },
  {
   "cell_type": "code",
   "execution_count": 434,
   "id": "f97306f4",
   "metadata": {},
   "outputs": [
    {
     "name": "stdout",
     "output_type": "stream",
     "text": [
      "a is equal to b!\n"
     ]
    }
   ],
   "source": [
    "a = 1\n",
    "b = 1\n",
    "\n",
    "if a == b:\n",
    "    # Execute this code only if a == b is True\n",
    "    print(\"a is equal to b!\")"
   ]
  },
  {
   "cell_type": "markdown",
   "id": "3c8d3e1b",
   "metadata": {},
   "source": [
    "The above example shows an `if` statement. The code in this statement only executes which the condition (`a == b`) is `True`. **Challenge:** Can you modify the above block so that the code will not execute?"
   ]
  },
  {
   "cell_type": "markdown",
   "id": "728638aa",
   "metadata": {},
   "source": [
    "### If...else statements\n",
    "\n",
    "`else` statements are executed if no previous conditions are satisfied. In other words, if not of the `if` statements execute, only then will the `else` statement execute."
   ]
  },
  {
   "cell_type": "code",
   "execution_count": 436,
   "id": "90cb0174",
   "metadata": {},
   "outputs": [
    {
     "name": "stdout",
     "output_type": "stream",
     "text": [
      "a is NOT equal to b!\n"
     ]
    }
   ],
   "source": [
    "a = 1\n",
    "b = 2\n",
    "\n",
    "if a == b:\n",
    "    print(\"a is equal to b!\")\n",
    "else:\n",
    "    print(\"a is NOT equal to b!\")"
   ]
  },
  {
   "cell_type": "markdown",
   "id": "85c5983d",
   "metadata": {},
   "source": [
    "### If...elif...else statements\n",
    "\n",
    "`elif` is a phrase that means \"else if\". This means that if the preceeding logical conditions are not satisfied, only then is this statement tested. "
   ]
  },
  {
   "cell_type": "code",
   "execution_count": 440,
   "id": "83401bda",
   "metadata": {},
   "outputs": [
    {
     "name": "stdout",
     "output_type": "stream",
     "text": [
      "Student earned a grade of D\n"
     ]
    }
   ],
   "source": [
    "grade = 68\n",
    "\n",
    "if grade > 90:\n",
    "    # Only executes if grade > 90\n",
    "    letter_grade = \"A\"\n",
    "elif grade > 80:\n",
    "    # Only executes if grade > 80 and grade <= 90\n",
    "    letter_grade = \"B\"\n",
    "elif grade > 70:\n",
    "    # Only executes if grade > 70 and grade <= 80\n",
    "    letter_grade = \"C\"\n",
    "elif grade >= 60:\n",
    "    # Only executes if grade > 60 and grade <= 70\n",
    "    letter_grade = \"D\"\n",
    "else:\n",
    "    # Only executes if grade < 60\n",
    "    letter_grade = \"F\"\n",
    "    \n",
    "print(\"Student earned a grade of \" + letter_grade)"
   ]
  },
  {
   "cell_type": "markdown",
   "id": "e13cadfd",
   "metadata": {},
   "source": [
    "In the above example, each logical condition is tested in sequence. Only when a condition is not met is the next one tested. If a student has a grade of `68`, then every `elif` statement will be tested. If the student had a `96`, then no `elif` statements would have been tested."
   ]
  },
  {
   "cell_type": "markdown",
   "id": "84d99504",
   "metadata": {},
   "source": [
    "## Loops\n",
    "\n",
    "Loops allow for some code to be applied to every element of an iterable object, such as a list. "
   ]
  },
  {
   "cell_type": "markdown",
   "id": "26c54846",
   "metadata": {},
   "source": [
    "### For loops\n",
    "\n",
    "For loops are a type of finite loop in python (as opposed to `while` loops which we will not discuss here). A for loop iterates over an iterable object, such as a `list` or `tuple`. For every element of the object, code will be executed in succession. Here is an example:"
   ]
  },
  {
   "cell_type": "code",
   "execution_count": 447,
   "id": "3d552d2c",
   "metadata": {},
   "outputs": [
    {
     "name": "stdout",
     "output_type": "stream",
     "text": [
      "Student earned a grade of B\n",
      "Student earned a grade of A\n",
      "Student earned a grade of F\n",
      "Student earned a grade of C\n"
     ]
    }
   ],
   "source": [
    "grades = [85, 98, 45, 73]\n",
    "\n",
    "# Loop over list of grades and print letter grade\n",
    "for grade in grades:\n",
    "    if grade > 90:\n",
    "        # Only executes if grade > 90\n",
    "        letter_grade = \"A\"\n",
    "    elif grade > 80:\n",
    "        # Only executes if grade > 80 and grade <= 90\n",
    "        letter_grade = \"B\"\n",
    "    elif grade > 70:\n",
    "        # Only executes if grade > 70 and grade <= 80\n",
    "        letter_grade = \"C\"\n",
    "    elif grade >= 60:\n",
    "        # Only executes if grade > 60 and grade <= 70\n",
    "        letter_grade = \"D\"\n",
    "    else:\n",
    "        # Only executes if grade < 60\n",
    "        letter_grade = \"F\"\n",
    "\n",
    "    print(\"Student earned a grade of \" + letter_grade)\n"
   ]
  },
  {
   "cell_type": "markdown",
   "id": "840d5538",
   "metadata": {},
   "source": [
    "Rather than using the list of grades directly, it may be useful to use the numerical indices of list elements. For example:"
   ]
  },
  {
   "cell_type": "code",
   "execution_count": 446,
   "id": "9d4bb046",
   "metadata": {},
   "outputs": [
    {
     "name": "stdout",
     "output_type": "stream",
     "text": [
      "alice earned a grade of B\n",
      "kevin earned a grade of A\n",
      "sara earned a grade of F\n",
      "tim earned a grade of C\n"
     ]
    }
   ],
   "source": [
    "students = ['alice', 'kevin', 'sara', 'tim']\n",
    "grades = [85, 98, 45, 73]\n",
    "\n",
    "for i in range(len(grades)):\n",
    "    \n",
    "    grade = grades[i]\n",
    "    student = students[i]\n",
    "    \n",
    "    if grade > 90:\n",
    "        # Only executes if grade > 90\n",
    "        letter_grade = \"A\"\n",
    "    elif grade > 80:\n",
    "        # Only executes if grade > 80 and grade <= 90\n",
    "        letter_grade = \"B\"\n",
    "    elif grade > 70:\n",
    "        # Only executes if grade > 70 and grade <= 80\n",
    "        letter_grade = \"C\"\n",
    "    elif grade >= 60:\n",
    "        # Only executes if grade > 60 and grade <= 70\n",
    "        letter_grade = \"D\"\n",
    "    else:\n",
    "        # Only executes if grade < 60\n",
    "        letter_grade = \"F\"\n",
    "\n",
    "    print(student + \" earned a grade of \" + letter_grade)\n"
   ]
  },
  {
   "cell_type": "markdown",
   "id": "af690417",
   "metadata": {},
   "source": [
    "## Functions\n",
    "\n",
    "Functions (aka \"methods\") are objects in python which take an input, perform computations, and return an output. Functions have arguments that help the function operate correctly"
   ]
  },
  {
   "cell_type": "code",
   "execution_count": 450,
   "id": "fbc75efb",
   "metadata": {},
   "outputs": [
    {
     "name": "stdout",
     "output_type": "stream",
     "text": [
      "25\n"
     ]
    }
   ],
   "source": [
    "def square_it(x):\n",
    "    print(x ** 2)\n",
    "    \n",
    "square_it(5)"
   ]
  },
  {
   "cell_type": "markdown",
   "id": "2dfc1773",
   "metadata": {},
   "source": [
    "Functions can also return a value. This is more common in python programming than simply printing the value:"
   ]
  },
  {
   "cell_type": "code",
   "execution_count": 452,
   "id": "ae02142e",
   "metadata": {},
   "outputs": [
    {
     "name": "stdout",
     "output_type": "stream",
     "text": [
      "25\n"
     ]
    }
   ],
   "source": [
    "def square_it(x):\n",
    "    return x ** 2\n",
    "    \n",
    "result = square_it(5)\n",
    "print(result)"
   ]
  },
  {
   "cell_type": "markdown",
   "id": "e117cc2b",
   "metadata": {},
   "source": [
    "**Challenge problem:** create a function with one argument, `grade`. The argument should convert `grade` to a letter grade and return this to the user. Then, use this function to simplify the for loop from earlier. "
   ]
  },
  {
   "cell_type": "code",
   "execution_count": null,
   "id": "c423244c",
   "metadata": {},
   "outputs": [],
   "source": []
  }
 ],
 "metadata": {
  "kernelspec": {
   "display_name": "Python 3",
   "language": "python",
   "name": "python3"
  },
  "language_info": {
   "codemirror_mode": {
    "name": "ipython",
    "version": 3
   },
   "file_extension": ".py",
   "mimetype": "text/x-python",
   "name": "python",
   "nbconvert_exporter": "python",
   "pygments_lexer": "ipython3",
   "version": "3.8.8"
  }
 },
 "nbformat": 4,
 "nbformat_minor": 5
}
